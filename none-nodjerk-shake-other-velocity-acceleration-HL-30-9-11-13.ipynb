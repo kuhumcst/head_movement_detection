{
 "cells": [
  {
   "cell_type": "markdown",
   "metadata": {},
   "source": [
    "## Real experiments for head movements"
   ]
  },
  {
   "cell_type": "code",
   "execution_count": 33,
   "metadata": {},
   "outputs": [],
   "source": [
    "import pandas as pd\n",
    "import numpy as np\n",
    "import matplotlib.pyplot as plt\n",
    "from sklearn.preprocessing import MinMaxScaler\n",
    "%matplotlib inline"
   ]
  },
  {
   "cell_type": "code",
   "execution_count": 34,
   "metadata": {},
   "outputs": [],
   "source": [
    "from sklearn.model_selection import StratifiedKFold\n",
    "from sklearn.model_selection import KFold\n",
    "from sklearn.linear_model import LogisticRegression\n",
    "from sklearn.metrics import confusion_matrix, accuracy_score,f1_score\n",
    "from sklearn.neural_network import MLPClassifier\n",
    "from sklearn.svm import SVC,LinearSVC\n",
    "from sklearn.dummy import DummyClassifier\n",
    "from seqlearn.perceptron import StructuredPerceptron\n",
    "import sklearn_crfsuite\n",
    "from sklearn_crfsuite import metrics as skcrfmetrics\n",
    "from scipy.stats import pearsonr,spearmanr"
   ]
  },
  {
   "cell_type": "code",
   "execution_count": 35,
   "metadata": {},
   "outputs": [],
   "source": [
    "import glob"
   ]
  },
  {
   "cell_type": "code",
   "execution_count": 36,
   "metadata": {},
   "outputs": [
    {
     "data": {
      "text/plain": [
       "'C:\\\\Users\\\\zgk261\\\\nomco\\\\9-11-13\\\\middle\\\\'"
      ]
     },
     "execution_count": 36,
     "metadata": {},
     "output_type": "execute_result"
    }
   ],
   "source": [
    "windowsize=\"9-11-13\"\n",
    "memory=\"middle\"\n",
    "\n",
    "PATH = \"C:\\\\Users\\\\zgk261\\\\nomco\\\\\"+windowsize+\"\\\\\"+memory+\"\\\\\"\n",
    "PATH"
   ]
  },
  {
   "cell_type": "code",
   "execution_count": 37,
   "metadata": {},
   "outputs": [
    {
     "name": "stdout",
     "output_type": "stream",
     "text": [
      "F2_M4-all-final2_primary_F2.T-Tilt-ST-SideTurn-HO-HeadOther-S-Shake-W-Waggle-N-Nod-J-Jerk-HB-HeadBackward-HF-HeadForward--rdXY.svm.9-11-13-middle.tab\n",
      "F2_M4-all-final2_primary_M4.T-Tilt-ST-SideTurn-HO-HeadOther-S-Shake-W-Waggle-N-Nod-J-Jerk-HB-HeadBackward-HF-HeadForward--rdXY.svm.9-11-13-middle.tab\n",
      "F3_F6-all-final2_primary_F3.T-Tilt-ST-SideTurn-HO-HeadOther-S-Shake-W-Waggle-N-Nod-J-Jerk-HB-HeadBackward-HF-HeadForward--rdXY.svm.9-11-13-middle.tab\n",
      "F3_F6-all-final2_primary_F6.T-Tilt-ST-SideTurn-HO-HeadOther-S-Shake-W-Waggle-N-Nod-J-Jerk-HB-HeadBackward-HF-HeadForward--rdXY.svm.9-11-13-middle.tab\n",
      "F4_F1-all-final2_primary_F1.T-Tilt-ST-SideTurn-HO-HeadOther-S-Shake-W-Waggle-N-Nod-J-Jerk-HB-HeadBackward-HF-HeadForward--rdXY.svm.9-11-13-middle.tab\n",
      "F4_F1-all-final2_primary_F4.T-Tilt-ST-SideTurn-HO-HeadOther-S-Shake-W-Waggle-N-Nod-J-Jerk-HB-HeadBackward-HF-HeadForward--rdXY.svm.9-11-13-middle.tab\n",
      "F5_F2-all-final2_primary_F2.T-Tilt-ST-SideTurn-HO-HeadOther-S-Shake-W-Waggle-N-Nod-J-Jerk-HB-HeadBackward-HF-HeadForward--rdXY.svm.9-11-13-middle.tab\n",
      "F5_F2-all-final2_primary_F5.T-Tilt-ST-SideTurn-HO-HeadOther-S-Shake-W-Waggle-N-Nod-J-Jerk-HB-HeadBackward-HF-HeadForward--rdXY.svm.9-11-13-middle.tab\n",
      "F5_M3-all-final2_primary_F5.T-Tilt-ST-SideTurn-HO-HeadOther-S-Shake-W-Waggle-N-Nod-J-Jerk-HB-HeadBackward-HF-HeadForward--rdXY.svm.9-11-13-middle.tab\n",
      "F5_M3-all-final2_primary_M3.T-Tilt-ST-SideTurn-HO-HeadOther-S-Shake-W-Waggle-N-Nod-J-Jerk-HB-HeadBackward-HF-HeadForward--rdXY.svm.9-11-13-middle.tab\n",
      "F6_M2-all-final2_primary_F6.T-Tilt-ST-SideTurn-HO-HeadOther-S-Shake-W-Waggle-N-Nod-J-Jerk-HB-HeadBackward-HF-HeadForward--rdXY.svm.9-11-13-middle.tab\n",
      "F6_M2-all-final2_primary_M2.T-Tilt-ST-SideTurn-HO-HeadOther-S-Shake-W-Waggle-N-Nod-J-Jerk-HB-HeadBackward-HF-HeadForward--rdXY.svm.9-11-13-middle.tab\n",
      "M1_F4-all-final2_primary_F4.T-Tilt-ST-SideTurn-HO-HeadOther-S-Shake-W-Waggle-N-Nod-J-Jerk-HB-HeadBackward-HF-HeadForward--rdXY.svm.9-11-13-middle.tab\n",
      "M1_F4-all-final2_primary_M1.T-Tilt-ST-SideTurn-HO-HeadOther-S-Shake-W-Waggle-N-Nod-J-Jerk-HB-HeadBackward-HF-HeadForward--rdXY.svm.9-11-13-middle.tab\n",
      "M1_M5-all-final2_primary_M1.T-Tilt-ST-SideTurn-HO-HeadOther-S-Shake-W-Waggle-N-Nod-J-Jerk-HB-HeadBackward-HF-HeadForward--rdXY.svm.9-11-13-middle.tab\n",
      "M1_M5-all-final2_primary_M5.T-Tilt-ST-SideTurn-HO-HeadOther-S-Shake-W-Waggle-N-Nod-J-Jerk-HB-HeadBackward-HF-HeadForward--rdXY.svm.9-11-13-middle.tab\n",
      "M2_M4-all-final2_primary_M2.T-Tilt-ST-SideTurn-HO-HeadOther-S-Shake-W-Waggle-N-Nod-J-Jerk-HB-HeadBackward-HF-HeadForward--rdXY.svm.9-11-13-middle.tab\n",
      "M2_M4-all-final2_primary_M4.T-Tilt-ST-SideTurn-HO-HeadOther-S-Shake-W-Waggle-N-Nod-J-Jerk-HB-HeadBackward-HF-HeadForward--rdXY.svm.9-11-13-middle.tab\n",
      "M3_M6-all-final2_primary_M3.T-Tilt-ST-SideTurn-HO-HeadOther-S-Shake-W-Waggle-N-Nod-J-Jerk-HB-HeadBackward-HF-HeadForward--rdXY.svm.9-11-13-middle.tab\n",
      "M3_M6-all-final2_primary_M6.T-Tilt-ST-SideTurn-HO-HeadOther-S-Shake-W-Waggle-N-Nod-J-Jerk-HB-HeadBackward-HF-HeadForward--rdXY.svm.9-11-13-middle.tab\n",
      "M5_F3-all-final2_primary_F3.T-Tilt-ST-SideTurn-HO-HeadOther-S-Shake-W-Waggle-N-Nod-J-Jerk-HB-HeadBackward-HF-HeadForward--rdXY.svm.9-11-13-middle.tab\n",
      "M5_F3-all-final2_primary_M5.T-Tilt-ST-SideTurn-HO-HeadOther-S-Shake-W-Waggle-N-Nod-J-Jerk-HB-HeadBackward-HF-HeadForward--rdXY.svm.9-11-13-middle.tab\n",
      "M6_F1-all-final2_primary_F1.T-Tilt-ST-SideTurn-HO-HeadOther-S-Shake-W-Waggle-N-Nod-J-Jerk-HB-HeadBackward-HF-HeadForward--rdXY.svm.9-11-13-middle.tab\n",
      "M6_F1-all-final2_primary_M6.T-Tilt-ST-SideTurn-HO-HeadOther-S-Shake-W-Waggle-N-Nod-J-Jerk-HB-HeadBackward-HF-HeadForward--rdXY.svm.9-11-13-middle.tab\n"
     ]
    }
   ],
   "source": [
    "!dir /B C:\\Users\\zgk261\\nomco\\9-11-13\\middle\\"
   ]
  },
  {
   "cell_type": "markdown",
   "metadata": {},
   "source": [
    "### SKELETON TO READ FILES, SPEAKERS and PRIMARY SPEAKERS\n"
   ]
  },
  {
   "cell_type": "code",
   "execution_count": 38,
   "metadata": {},
   "outputs": [],
   "source": [
    "speaker_set = set()\n",
    "\n",
    "for each_file in glob.glob(PATH+\"*.tab\"):\n",
    "    filename=each_file.split(\"\\\\\")[-1]\n",
    "    fileinfo=filename.split(\"-\")\n",
    "    \n",
    "    primary_speaker = fileinfo[2].split(\"_\")[-1][:-2] #fileinfo[2] = final2_primary_M1.T\n",
    "    speakers = fileinfo[0]\n",
    "    l_speaker,r_speaker = speakers.split(\"_\")\n",
    "\n",
    "    speaker_set.add(primary_speaker)"
   ]
  },
  {
   "cell_type": "code",
   "execution_count": 39,
   "metadata": {},
   "outputs": [
    {
     "data": {
      "text/plain": [
       "{'F1', 'F2', 'F3', 'F4', 'F5', 'F6', 'M1', 'M2', 'M3', 'M4', 'M5', 'M6'}"
      ]
     },
     "execution_count": 39,
     "metadata": {},
     "output_type": "execute_result"
    }
   ],
   "source": [
    "speaker_set"
   ]
  },
  {
   "cell_type": "markdown",
   "metadata": {},
   "source": [
    "### SKELETON TO READ FILES AND COSS_VALIDATE\n",
    "\n",
    "In the following way: In each iteration, we will leave one speaker out (two files), train a model and test on those two files."
   ]
  },
  {
   "cell_type": "code",
   "execution_count": 40,
   "metadata": {
    "scrolled": true
   },
   "outputs": [
    {
     "name": "stdout",
     "output_type": "stream",
     "text": [
      "Speaker on focus: F5\n",
      "Training data size: (181647, 28)\n",
      "Testing data size: (16413, 28)\n",
      "\n",
      "Speaker on focus: F6\n",
      "Training data size: (182822, 28)\n",
      "Testing data size: (15238, 28)\n",
      "\n",
      "Speaker on focus: M2\n",
      "Training data size: (182715, 28)\n",
      "Testing data size: (15345, 28)\n",
      "\n",
      "Speaker on focus: M4\n",
      "Training data size: (181548, 28)\n",
      "Testing data size: (16512, 28)\n",
      "\n",
      "Speaker on focus: F1\n",
      "Training data size: (181919, 28)\n",
      "Testing data size: (16141, 28)\n",
      "\n",
      "Speaker on focus: F3\n",
      "Training data size: (181651, 28)\n",
      "Testing data size: (16409, 28)\n",
      "\n",
      "Speaker on focus: M3\n",
      "Training data size: (181426, 28)\n",
      "Testing data size: (16634, 28)\n",
      "\n",
      "Speaker on focus: M5\n",
      "Training data size: (180649, 28)\n",
      "Testing data size: (17411, 28)\n",
      "\n",
      "Speaker on focus: M1\n",
      "Training data size: (180025, 28)\n",
      "Testing data size: (18035, 28)\n",
      "\n",
      "Speaker on focus: F2\n",
      "Training data size: (181593, 28)\n",
      "Testing data size: (16467, 28)\n",
      "\n",
      "Speaker on focus: F4\n",
      "Training data size: (181137, 28)\n",
      "Testing data size: (16923, 28)\n",
      "\n",
      "Speaker on focus: M6\n",
      "Training data size: (181528, 28)\n",
      "Testing data size: (16532, 28)\n",
      "\n"
     ]
    }
   ],
   "source": [
    "\n",
    "for speaker_on_focus in speaker_set:\n",
    "    train_files = []\n",
    "    test_files  = []\n",
    "    \n",
    "    for each_file in glob.glob(PATH+\"*.tab\"):\n",
    "        filename=each_file.split(\"\\\\\")[-1]\n",
    "        fileinfo=filename.split(\"-\")\n",
    "\n",
    "        primary_speaker = fileinfo[2].split(\"_\")[-1][:-2] #fileinfo[2] = final2_primary_M1.T\n",
    "        speakers = fileinfo[0]\n",
    "        l_speaker,r_speaker = speakers.split(\"_\")\n",
    "        if primary_speaker == l_speaker:\n",
    "            secondary_speaker = r_speaker\n",
    "        else:\n",
    "            secondary_speaker = l_speaker\n",
    "\n",
    "        #print (primary_speaker,l_speaker,r_speaker,speaker_on_focus)\n",
    "\n",
    "        file_df = pd.read_csv(each_file,sep=\"\\t\")\n",
    "        file_df.columns = [el.replace(primary_speaker, \"PRIMA\").replace(secondary_speaker, \"SECON\") for el in file_df.columns]\n",
    "\n",
    "        if primary_speaker != speaker_on_focus:\n",
    "            #FILES TO TRAIN!\n",
    "            train_files.append(file_df)\n",
    "        else:\n",
    "            #FILES TO TEST!\n",
    "            test_files.append(file_df)\n",
    "            \n",
    "        \n",
    "        \n",
    "    training_data = pd.concat(train_files, ignore_index=True)\n",
    "    testing_data = pd.concat(test_files, ignore_index=True)\n",
    "    print (\"Speaker on focus:\",speaker_on_focus)\n",
    "    print (\"Training data size:\",training_data.shape)\n",
    "    print (\"Testing data size:\",testing_data.shape)\n",
    "    print ()\n"
   ]
  },
  {
   "cell_type": "markdown",
   "metadata": {},
   "source": [
    "### Experiments:\n",
    "\n",
    "It seems that in the 3-6-9 experiments considering both the past and future of frames, the MLP was not the best model, but the Logistic Regression. I think, though, that the MLP will show good performance when cross-validating with the whole data.\n",
    "\n",
    "I will, then, try 3 classifiers:\n",
    "\n",
    "  * SVM, because it is the default classifier that is commonly used\n",
    "  * Logistic Regression, because it seems to perform the best in our initial experiments with two dialogue data\n",
    "  * MLP, because when including more data, I expect to estimate a more general (and thus, better) model"
   ]
  },
  {
   "cell_type": "code",
   "execution_count": 41,
   "metadata": {},
   "outputs": [
    {
     "data": {
      "text/html": [
       "<div>\n",
       "<style scoped>\n",
       "    .dataframe tbody tr th:only-of-type {\n",
       "        vertical-align: middle;\n",
       "    }\n",
       "\n",
       "    .dataframe tbody tr th {\n",
       "        vertical-align: top;\n",
       "    }\n",
       "\n",
       "    .dataframe thead th {\n",
       "        text-align: right;\n",
       "    }\n",
       "</style>\n",
       "<table border=\"1\" class=\"dataframe\">\n",
       "  <thead>\n",
       "    <tr style=\"text-align: right;\">\n",
       "      <th></th>\n",
       "      <th>F5</th>\n",
       "      <th>F6</th>\n",
       "      <th>M2</th>\n",
       "      <th>M4</th>\n",
       "      <th>F1</th>\n",
       "      <th>F3</th>\n",
       "      <th>M3</th>\n",
       "      <th>M5</th>\n",
       "      <th>M1</th>\n",
       "      <th>F2</th>\n",
       "      <th>F4</th>\n",
       "      <th>M6</th>\n",
       "    </tr>\n",
       "  </thead>\n",
       "  <tbody>\n",
       "    <tr>\n",
       "      <td>MF</td>\n",
       "      <td>0</td>\n",
       "      <td>0</td>\n",
       "      <td>0</td>\n",
       "      <td>0</td>\n",
       "      <td>0</td>\n",
       "      <td>0</td>\n",
       "      <td>0</td>\n",
       "      <td>0</td>\n",
       "      <td>0</td>\n",
       "      <td>0</td>\n",
       "      <td>0</td>\n",
       "      <td>0</td>\n",
       "    </tr>\n",
       "  </tbody>\n",
       "</table>\n",
       "</div>"
      ],
      "text/plain": [
       "    F5  F6  M2  M4  F1  F3  M3  M5  M1  F2  F4  M6\n",
       "MF   0   0   0   0   0   0   0   0   0   0   0   0"
      ]
     },
     "execution_count": 41,
     "metadata": {},
     "output_type": "execute_result"
    }
   ],
   "source": [
    "accuracy_results = pd.DataFrame(0,columns=speaker_set,index=[\"MF\"])\n",
    "accuracy_results"
   ]
  },
  {
   "cell_type": "code",
   "execution_count": 42,
   "metadata": {},
   "outputs": [],
   "source": [
    "import math\n",
    "\n",
    "def map_movements(mov_class):\n",
    "    if mov_class == \"Nod\" or mov_class == \"Jerk\":\n",
    "        return 1\n",
    "    elif mov_class == \"Shake\":\n",
    "        return 2\n",
    "    elif mov_class!=mov_class: #This returns True if the value is NAN, and it works. It might be source of errors.\n",
    "        return 0\n",
    "    else:\n",
    "        return 3\n",
    "\n"
   ]
  },
  {
   "cell_type": "code",
   "execution_count": 43,
   "metadata": {
    "scrolled": true
   },
   "outputs": [
    {
     "name": "stdout",
     "output_type": "stream",
     "text": [
      "Speaker on focus: F5\n",
      "Training data size: (181647, 28)\n",
      "Testing data size: (16413, 28)\n",
      "\n",
      "Trying classifier  MF F5\n"
     ]
    },
    {
     "name": "stderr",
     "output_type": "stream",
     "text": [
      "C:\\ProgramData\\Anaconda3\\lib\\site-packages\\sklearn\\metrics\\classification.py:1437: UndefinedMetricWarning: F-score is ill-defined and being set to 0.0 in labels with no predicted samples.\n",
      "  'precision', 'predicted', average, warn_for)\n"
     ]
    },
    {
     "name": "stdout",
     "output_type": "stream",
     "text": [
      "[[12154     0     0     0]\n",
      " [ 1330     0     0     0]\n",
      " [  914     0     0     0]\n",
      " [ 2015     0     0     0]]\n",
      "0.7405105708889295\n",
      "0.21272797283578954\n",
      "0.6301092504347008\n",
      "\n",
      "Trying classifier  LR F5\n"
     ]
    },
    {
     "name": "stderr",
     "output_type": "stream",
     "text": [
      "C:\\ProgramData\\Anaconda3\\lib\\site-packages\\sklearn\\linear_model\\logistic.py:469: FutureWarning: Default multi_class will be changed to 'auto' in 0.22. Specify the multi_class option to silence this warning.\n",
      "  \"this warning.\", FutureWarning)\n",
      "C:\\ProgramData\\Anaconda3\\lib\\site-packages\\sklearn\\metrics\\classification.py:1437: UndefinedMetricWarning: F-score is ill-defined and being set to 0.0 in labels with no predicted samples.\n",
      "  'precision', 'predicted', average, warn_for)\n"
     ]
    },
    {
     "name": "stdout",
     "output_type": "stream",
     "text": [
      "[[11842     0     0   312]\n",
      " [ 1201     1     0   128]\n",
      " [  807     3     0   104]\n",
      " [ 1692     1     0   322]]\n",
      "0.7411807713397917\n",
      "0.2700432898347372\n",
      "0.6608056259841936\n",
      "\n",
      "Trying classifier  LINEARSVC F5\n"
     ]
    },
    {
     "name": "stderr",
     "output_type": "stream",
     "text": [
      "C:\\ProgramData\\Anaconda3\\lib\\site-packages\\sklearn\\metrics\\classification.py:1437: UndefinedMetricWarning: F-score is ill-defined and being set to 0.0 in labels with no predicted samples.\n",
      "  'precision', 'predicted', average, warn_for)\n"
     ]
    },
    {
     "name": "stdout",
     "output_type": "stream",
     "text": [
      "[[11898     0     0   256]\n",
      " [ 1216     0     0   114]\n",
      " [  817     0     0    97]\n",
      " [ 1745     0     0   270]]\n",
      "0.7413635532809358\n",
      "0.2628173597590019\n",
      "0.6572622159517291\n",
      "\n",
      "Trying classifier  MLP F5\n",
      "[[11164   111     7   872]\n",
      " [ 1056    81     1   192]\n",
      " [  731     5    11   167]\n",
      " [ 1253    85     1   676]]\n",
      "0.7269847072442576\n",
      "0.3289695513827708\n",
      "0.6790666590892508\n",
      "\n",
      "Speaker on focus: F6\n",
      "Training data size: (182822, 28)\n",
      "Testing data size: (15238, 28)\n",
      "\n",
      "Trying classifier  MF F6\n"
     ]
    },
    {
     "name": "stderr",
     "output_type": "stream",
     "text": [
      "C:\\ProgramData\\Anaconda3\\lib\\site-packages\\sklearn\\metrics\\classification.py:1437: UndefinedMetricWarning: F-score is ill-defined and being set to 0.0 in labels with no predicted samples.\n",
      "  'precision', 'predicted', average, warn_for)\n"
     ]
    },
    {
     "name": "stdout",
     "output_type": "stream",
     "text": [
      "[[7718    0    0    0]\n",
      " [3393    0    0    0]\n",
      " [ 435    0    0    0]\n",
      " [3692    0    0    0]]\n",
      "0.5064969156057225\n",
      "0.16810419933786372\n",
      "0.34057703385999005\n",
      "\n",
      "Trying classifier  LR F6\n"
     ]
    },
    {
     "name": "stderr",
     "output_type": "stream",
     "text": [
      "C:\\ProgramData\\Anaconda3\\lib\\site-packages\\sklearn\\linear_model\\logistic.py:469: FutureWarning: Default multi_class will be changed to 'auto' in 0.22. Specify the multi_class option to silence this warning.\n",
      "  \"this warning.\", FutureWarning)\n",
      "C:\\ProgramData\\Anaconda3\\lib\\site-packages\\sklearn\\metrics\\classification.py:1437: UndefinedMetricWarning: F-score is ill-defined and being set to 0.0 in labels with no predicted samples.\n",
      "  'precision', 'predicted', average, warn_for)\n"
     ]
    },
    {
     "name": "stdout",
     "output_type": "stream",
     "text": [
      "[[7054    0    0  664]\n",
      " [2158    0    0 1235]\n",
      " [ 283    0    0  152]\n",
      " [2343    0    0 1349]]\n",
      "0.5514503215645098\n",
      "0.275461018594755\n",
      "0.45756836941174667\n",
      "\n",
      "Trying classifier  LINEARSVC F6\n"
     ]
    },
    {
     "name": "stderr",
     "output_type": "stream",
     "text": [
      "C:\\ProgramData\\Anaconda3\\lib\\site-packages\\sklearn\\metrics\\classification.py:1437: UndefinedMetricWarning: F-score is ill-defined and being set to 0.0 in labels with no predicted samples.\n",
      "  'precision', 'predicted', average, warn_for)\n"
     ]
    },
    {
     "name": "stdout",
     "output_type": "stream",
     "text": [
      "[[7133    0    0  585]\n",
      " [2265    0    0 1128]\n",
      " [ 304    0    0  131]\n",
      " [2478    0    0 1214]]\n",
      "0.5477752985956162\n",
      "0.26916504543542435\n",
      "0.45028850056249564\n",
      "\n",
      "Trying classifier  MLP F6\n",
      "[[6068  314   13 1323]\n",
      " [1356  798    4 1235]\n",
      " [ 187   15    9  224]\n",
      " [1507  289   24 1872]]\n",
      "0.5740254626591417\n",
      "0.3846063913301287\n",
      "0.5487494652921369\n",
      "\n",
      "Speaker on focus: M2\n",
      "Training data size: (182715, 28)\n",
      "Testing data size: (15345, 28)\n",
      "\n",
      "Trying classifier  MF M2\n"
     ]
    },
    {
     "name": "stderr",
     "output_type": "stream",
     "text": [
      "C:\\ProgramData\\Anaconda3\\lib\\site-packages\\sklearn\\metrics\\classification.py:1437: UndefinedMetricWarning: F-score is ill-defined and being set to 0.0 in labels with no predicted samples.\n",
      "  'precision', 'predicted', average, warn_for)\n"
     ]
    },
    {
     "name": "stdout",
     "output_type": "stream",
     "text": [
      "[[10965     0     0     0]\n",
      " [ 1608     0     0     0]\n",
      " [  156     0     0     0]\n",
      " [ 2616     0     0     0]]\n",
      "0.7145650048875856\n",
      "0.20838084378563285\n",
      "0.5956066346326397\n",
      "\n",
      "Trying classifier  LR M2\n"
     ]
    },
    {
     "name": "stderr",
     "output_type": "stream",
     "text": [
      "C:\\ProgramData\\Anaconda3\\lib\\site-packages\\sklearn\\linear_model\\logistic.py:469: FutureWarning: Default multi_class will be changed to 'auto' in 0.22. Specify the multi_class option to silence this warning.\n",
      "  \"this warning.\", FutureWarning)\n",
      "C:\\ProgramData\\Anaconda3\\lib\\site-packages\\sklearn\\metrics\\classification.py:1437: UndefinedMetricWarning: F-score is ill-defined and being set to 0.0 in labels with no predicted samples.\n",
      "  'precision', 'predicted', average, warn_for)\n"
     ]
    },
    {
     "name": "stdout",
     "output_type": "stream",
     "text": [
      "[[10838     1     0   126]\n",
      " [ 1504     2     0   102]\n",
      " [  148     0     0     8]\n",
      " [ 2298     0     0   318]]\n",
      "0.7271423916585207\n",
      "0.26120054791810754\n",
      "0.6359045779815996\n",
      "\n",
      "Trying classifier  LINEARSVC M2\n"
     ]
    },
    {
     "name": "stderr",
     "output_type": "stream",
     "text": [
      "C:\\ProgramData\\Anaconda3\\lib\\site-packages\\sklearn\\metrics\\classification.py:1437: UndefinedMetricWarning: F-score is ill-defined and being set to 0.0 in labels with no predicted samples.\n",
      "  'precision', 'predicted', average, warn_for)\n"
     ]
    },
    {
     "name": "stdout",
     "output_type": "stream",
     "text": [
      "[[10861     0     0   104]\n",
      " [ 1519     0     0    89]\n",
      " [  149     0     0     7]\n",
      " [ 2345     0     0   271]]\n",
      "0.7254480286738352\n",
      "0.25406055009620576\n",
      "0.6306432140654138\n",
      "\n",
      "Trying classifier  MLP M2\n",
      "[[10542    30     1   392]\n",
      " [ 1344   111     0   153]\n",
      " [  125     0     0    31]\n",
      " [ 1848    65     0   703]]\n",
      "0.7400456174649723\n",
      "0.3331741090427983\n",
      "0.6812712657380414\n",
      "\n",
      "Speaker on focus: M4\n",
      "Training data size: (181548, 28)\n",
      "Testing data size: (16512, 28)\n",
      "\n",
      "Trying classifier  MF M4\n"
     ]
    },
    {
     "name": "stderr",
     "output_type": "stream",
     "text": [
      "C:\\ProgramData\\Anaconda3\\lib\\site-packages\\sklearn\\metrics\\classification.py:1437: UndefinedMetricWarning: F-score is ill-defined and being set to 0.0 in labels with no predicted samples.\n",
      "  'precision', 'predicted', average, warn_for)\n"
     ]
    },
    {
     "name": "stdout",
     "output_type": "stream",
     "text": [
      "[[10705     0     0     0]\n",
      " [ 1702     0     0     0]\n",
      " [  539     0     0     0]\n",
      " [ 3566     0     0     0]]\n",
      "0.6483163759689923\n",
      "0.19666017562552818\n",
      "0.509992049435872\n",
      "\n",
      "Trying classifier  LR M4\n"
     ]
    },
    {
     "name": "stderr",
     "output_type": "stream",
     "text": [
      "C:\\ProgramData\\Anaconda3\\lib\\site-packages\\sklearn\\linear_model\\logistic.py:469: FutureWarning: Default multi_class will be changed to 'auto' in 0.22. Specify the multi_class option to silence this warning.\n",
      "  \"this warning.\", FutureWarning)\n",
      "C:\\ProgramData\\Anaconda3\\lib\\site-packages\\sklearn\\metrics\\classification.py:1437: UndefinedMetricWarning: F-score is ill-defined and being set to 0.0 in labels with no predicted samples.\n",
      "  'precision', 'predicted', average, warn_for)\n"
     ]
    },
    {
     "name": "stdout",
     "output_type": "stream",
     "text": [
      "[[10249     0     0   456]\n",
      " [ 1454     3     0   245]\n",
      " [  471     0     0    68]\n",
      " [ 3051     2     0   513]]\n",
      "0.6519500968992248\n",
      "0.25141538031332333\n",
      "0.5585700624413501\n",
      "\n",
      "Trying classifier  LINEARSVC M4\n"
     ]
    },
    {
     "name": "stderr",
     "output_type": "stream",
     "text": [
      "C:\\ProgramData\\Anaconda3\\lib\\site-packages\\sklearn\\metrics\\classification.py:1437: UndefinedMetricWarning: F-score is ill-defined and being set to 0.0 in labels with no predicted samples.\n",
      "  'precision', 'predicted', average, warn_for)\n"
     ]
    },
    {
     "name": "stdout",
     "output_type": "stream",
     "text": [
      "[[10298     0     0   407]\n",
      " [ 1485     0     0   217]\n",
      " [  485     0     0    54]\n",
      " [ 3105     0     0   461]]\n",
      "0.6515867248062015\n",
      "0.2464365588756497\n",
      "0.5543509307785209\n",
      "\n",
      "Trying classifier  MLP M4\n",
      "[[9636  118    4  947]\n",
      " [1176  234    0  292]\n",
      " [ 363    6    0  170]\n",
      " [2364  185    6 1011]]\n",
      "0.6589752906976745\n",
      "0.3352924385952952\n",
      "0.6097963785781432\n",
      "\n",
      "Speaker on focus: F1\n",
      "Training data size: (181919, 28)\n",
      "Testing data size: (16141, 28)\n",
      "\n",
      "Trying classifier  MF F1\n"
     ]
    },
    {
     "name": "stderr",
     "output_type": "stream",
     "text": [
      "C:\\ProgramData\\Anaconda3\\lib\\site-packages\\sklearn\\metrics\\classification.py:1437: UndefinedMetricWarning: F-score is ill-defined and being set to 0.0 in labels with no predicted samples.\n",
      "  'precision', 'predicted', average, warn_for)\n"
     ]
    },
    {
     "name": "stdout",
     "output_type": "stream",
     "text": [
      "[[10841     0     0     0]\n",
      " [  829     0     0     0]\n",
      " [  725     0     0     0]\n",
      " [ 3746     0     0     0]]\n",
      "0.6716436404188092\n",
      "0.20089318805129347\n",
      "0.5397145286324446\n",
      "\n",
      "Trying classifier  LR F1\n"
     ]
    },
    {
     "name": "stderr",
     "output_type": "stream",
     "text": [
      "C:\\ProgramData\\Anaconda3\\lib\\site-packages\\sklearn\\linear_model\\logistic.py:469: FutureWarning: Default multi_class will be changed to 'auto' in 0.22. Specify the multi_class option to silence this warning.\n",
      "  \"this warning.\", FutureWarning)\n",
      "C:\\ProgramData\\Anaconda3\\lib\\site-packages\\sklearn\\metrics\\classification.py:1437: UndefinedMetricWarning: F-score is ill-defined and being set to 0.0 in labels with no predicted samples.\n",
      "  'precision', 'predicted', average, warn_for)\n"
     ]
    },
    {
     "name": "stdout",
     "output_type": "stream",
     "text": [
      "[[10560     3     0   278]\n",
      " [  672     4     0   153]\n",
      " [  617     4     0   104]\n",
      " [ 2979     2     0   765]]\n",
      "0.7018772071123227\n",
      "0.2838734989610746\n",
      "0.6234735318766771\n",
      "\n",
      "Trying classifier  LINEARSVC F1\n"
     ]
    },
    {
     "name": "stderr",
     "output_type": "stream",
     "text": [
      "C:\\ProgramData\\Anaconda3\\lib\\site-packages\\sklearn\\metrics\\classification.py:1437: UndefinedMetricWarning: F-score is ill-defined and being set to 0.0 in labels with no predicted samples.\n",
      "  'precision', 'predicted', average, warn_for)\n"
     ]
    },
    {
     "name": "stdout",
     "output_type": "stream",
     "text": [
      "[[10602     1     0   238]\n",
      " [  687     1     0   141]\n",
      " [  635     1     0    89]\n",
      " [ 3079     0     0   667]]\n",
      "0.6982219193358528\n",
      "0.2740424314380285\n",
      "0.6146095156785091\n",
      "\n",
      "Trying classifier  MLP F1\n",
      "[[10082   102     0   657]\n",
      " [  372   179     0   278]\n",
      " [  444     1     0   280]\n",
      " [ 2084   134     2  1526]]\n",
      "0.7302521529025463\n",
      "0.4011096384316532\n",
      "0.6924424919718654\n",
      "\n",
      "Speaker on focus: F3\n",
      "Training data size: (181651, 28)\n",
      "Testing data size: (16409, 28)\n",
      "\n",
      "Trying classifier  MF F3\n"
     ]
    },
    {
     "name": "stderr",
     "output_type": "stream",
     "text": [
      "C:\\ProgramData\\Anaconda3\\lib\\site-packages\\sklearn\\metrics\\classification.py:1437: UndefinedMetricWarning: F-score is ill-defined and being set to 0.0 in labels with no predicted samples.\n",
      "  'precision', 'predicted', average, warn_for)\n"
     ]
    },
    {
     "name": "stdout",
     "output_type": "stream",
     "text": [
      "[[9660    0    0    0]\n",
      " [2223    0    0    0]\n",
      " [ 847    0    0    0]\n",
      " [3679    0    0    0]]\n",
      "0.5887013224449997\n",
      "0.18527753270167632\n",
      "0.4362925140832941\n",
      "\n",
      "Trying classifier  LR F3\n"
     ]
    },
    {
     "name": "stderr",
     "output_type": "stream",
     "text": [
      "C:\\ProgramData\\Anaconda3\\lib\\site-packages\\sklearn\\linear_model\\logistic.py:469: FutureWarning: Default multi_class will be changed to 'auto' in 0.22. Specify the multi_class option to silence this warning.\n",
      "  \"this warning.\", FutureWarning)\n",
      "C:\\ProgramData\\Anaconda3\\lib\\site-packages\\sklearn\\metrics\\classification.py:1437: UndefinedMetricWarning: F-score is ill-defined and being set to 0.0 in labels with no predicted samples.\n",
      "  'precision', 'predicted', average, warn_for)\n"
     ]
    },
    {
     "name": "stdout",
     "output_type": "stream",
     "text": [
      "[[9439    2    0  219]\n",
      " [2113    2    0  108]\n",
      " [ 779    0    0   68]\n",
      " [3345    0    0  334]]\n",
      "0.5957096715217259\n",
      "0.22461114159238482\n",
      "0.47286489381139424\n",
      "\n",
      "Trying classifier  LINEARSVC F3\n"
     ]
    },
    {
     "name": "stderr",
     "output_type": "stream",
     "text": [
      "C:\\ProgramData\\Anaconda3\\lib\\site-packages\\sklearn\\metrics\\classification.py:1437: UndefinedMetricWarning: F-score is ill-defined and being set to 0.0 in labels with no predicted samples.\n",
      "  'precision', 'predicted', average, warn_for)\n"
     ]
    },
    {
     "name": "stdout",
     "output_type": "stream",
     "text": [
      "[[9487    0    0  173]\n",
      " [2134    0    0   89]\n",
      " [ 788    0    0   59]\n",
      " [3401    0    0  278]]\n",
      "0.5951002498628801\n",
      "0.21873053081726931\n",
      "0.46769537707536046\n",
      "\n",
      "Trying classifier  MLP F3\n",
      "[[8991   71    1  597]\n",
      " [1815  126    0  282]\n",
      " [ 621   12    0  214]\n",
      " [2478  131    0 1070]]\n",
      "0.620817843866171\n",
      "0.3069290063369498\n",
      "0.5446764900391825\n",
      "\n",
      "Speaker on focus: M3\n",
      "Training data size: (181426, 28)\n",
      "Testing data size: (16634, 28)\n",
      "\n",
      "Trying classifier  MF M3\n"
     ]
    },
    {
     "name": "stderr",
     "output_type": "stream",
     "text": [
      "C:\\ProgramData\\Anaconda3\\lib\\site-packages\\sklearn\\metrics\\classification.py:1437: UndefinedMetricWarning: F-score is ill-defined and being set to 0.0 in labels with no predicted samples.\n",
      "  'precision', 'predicted', average, warn_for)\n"
     ]
    },
    {
     "name": "stdout",
     "output_type": "stream",
     "text": [
      "[[11972     0     0     0]\n",
      " [  778     0     0     0]\n",
      " [  616     0     0     0]\n",
      " [ 3268     0     0     0]]\n",
      "0.71973067211735\n",
      "0.20925679927287982\n",
      "0.6024341471431808\n",
      "\n",
      "Trying classifier  LR M3\n"
     ]
    },
    {
     "name": "stderr",
     "output_type": "stream",
     "text": [
      "C:\\ProgramData\\Anaconda3\\lib\\site-packages\\sklearn\\linear_model\\logistic.py:469: FutureWarning: Default multi_class will be changed to 'auto' in 0.22. Specify the multi_class option to silence this warning.\n",
      "  \"this warning.\", FutureWarning)\n",
      "C:\\ProgramData\\Anaconda3\\lib\\site-packages\\sklearn\\metrics\\classification.py:1437: UndefinedMetricWarning: F-score is ill-defined and being set to 0.0 in labels with no predicted samples.\n",
      "  'precision', 'predicted', average, warn_for)\n"
     ]
    },
    {
     "name": "stdout",
     "output_type": "stream",
     "text": [
      "[[11489     1     0   482]\n",
      " [  649     5     0   124]\n",
      " [  534     0     0    82]\n",
      " [ 2787     1     0   480]]\n",
      "0.7198509077792473\n",
      "0.2667038624472314\n",
      "0.646006547866263\n",
      "\n",
      "Trying classifier  LINEARSVC M3\n"
     ]
    },
    {
     "name": "stderr",
     "output_type": "stream",
     "text": [
      "C:\\ProgramData\\Anaconda3\\lib\\site-packages\\sklearn\\metrics\\classification.py:1437: UndefinedMetricWarning: F-score is ill-defined and being set to 0.0 in labels with no predicted samples.\n",
      "  'precision', 'predicted', average, warn_for)\n"
     ]
    },
    {
     "name": "stdout",
     "output_type": "stream",
     "text": [
      "[[11579     0     0   393]\n",
      " [  671     1     0   106]\n",
      " [  549     0     0    67]\n",
      " [ 2849     0     0   419]]\n",
      "0.7213538535529638\n",
      "0.25951379443303796\n",
      "0.6422895140077978\n",
      "\n",
      "Trying classifier  MLP M3\n"
     ]
    },
    {
     "name": "stderr",
     "output_type": "stream",
     "text": [
      "C:\\ProgramData\\Anaconda3\\lib\\site-packages\\sklearn\\metrics\\classification.py:1437: UndefinedMetricWarning: F-score is ill-defined and being set to 0.0 in labels with no predicted samples.\n",
      "  'precision', 'predicted', average, warn_for)\n"
     ]
    },
    {
     "name": "stdout",
     "output_type": "stream",
     "text": [
      "[[10616   104     0  1252]\n",
      " [  459   125     0   194]\n",
      " [  440     8     0   168]\n",
      " [ 1986   146     0  1136]]\n",
      "0.7140194781772273\n",
      "0.35659391653113165\n",
      "0.6841463825724875\n",
      "\n",
      "Speaker on focus: M5\n",
      "Training data size: (180649, 28)\n",
      "Testing data size: (17411, 28)\n",
      "\n",
      "Trying classifier  MF M5\n"
     ]
    },
    {
     "name": "stderr",
     "output_type": "stream",
     "text": [
      "C:\\ProgramData\\Anaconda3\\lib\\site-packages\\sklearn\\metrics\\classification.py:1437: UndefinedMetricWarning: F-score is ill-defined and being set to 0.0 in labels with no predicted samples.\n",
      "  'precision', 'predicted', average, warn_for)\n"
     ]
    },
    {
     "name": "stdout",
     "output_type": "stream",
     "text": [
      "[[9595    0    0    0]\n",
      " [2325    0    0    0]\n",
      " [1014    0    0    0]\n",
      " [4477    0    0    0]]\n",
      "0.5510883923956119\n",
      "0.1776457083611049\n",
      "0.39159395134680414\n",
      "\n",
      "Trying classifier  LR M5\n"
     ]
    },
    {
     "name": "stderr",
     "output_type": "stream",
     "text": [
      "C:\\ProgramData\\Anaconda3\\lib\\site-packages\\sklearn\\linear_model\\logistic.py:469: FutureWarning: Default multi_class will be changed to 'auto' in 0.22. Specify the multi_class option to silence this warning.\n",
      "  \"this warning.\", FutureWarning)\n",
      "C:\\ProgramData\\Anaconda3\\lib\\site-packages\\sklearn\\metrics\\classification.py:1437: UndefinedMetricWarning: F-score is ill-defined and being set to 0.0 in labels with no predicted samples.\n",
      "  'precision', 'predicted', average, warn_for)\n"
     ]
    },
    {
     "name": "stdout",
     "output_type": "stream",
     "text": [
      "[[9463    2    0  130]\n",
      " [2220    6    0   99]\n",
      " [ 912    1    0  101]\n",
      " [3779    5    0  693]]\n",
      "0.5836540118316007\n",
      "0.24648060471548186\n",
      "0.46711226341886863\n",
      "\n",
      "Trying classifier  LINEARSVC M5\n"
     ]
    },
    {
     "name": "stderr",
     "output_type": "stream",
     "text": [
      "C:\\ProgramData\\Anaconda3\\lib\\site-packages\\sklearn\\metrics\\classification.py:1437: UndefinedMetricWarning: F-score is ill-defined and being set to 0.0 in labels with no predicted samples.\n",
      "  'precision', 'predicted', average, warn_for)\n"
     ]
    },
    {
     "name": "stdout",
     "output_type": "stream",
     "text": [
      "[[9470    1    0  124]\n",
      " [2240    1    0   84]\n",
      " [ 928    0    0   86]\n",
      " [3859    0    0  618]]\n",
      "0.5794612601229108\n",
      "0.2390271413728925\n",
      "0.45912175058049526\n",
      "\n",
      "Trying classifier  MLP M5\n",
      "[[9360   41    5  189]\n",
      " [2047  117    0  161]\n",
      " [ 828    5    7  174]\n",
      " [3156  151   11 1159]]\n",
      "0.6112802251450232\n",
      "0.3069221742882374\n",
      "0.5222731673452562\n",
      "\n",
      "Speaker on focus: M1\n",
      "Training data size: (180025, 28)\n",
      "Testing data size: (18035, 28)\n",
      "\n",
      "Trying classifier  MF M1\n"
     ]
    },
    {
     "name": "stderr",
     "output_type": "stream",
     "text": [
      "C:\\ProgramData\\Anaconda3\\lib\\site-packages\\sklearn\\metrics\\classification.py:1437: UndefinedMetricWarning: F-score is ill-defined and being set to 0.0 in labels with no predicted samples.\n",
      "  'precision', 'predicted', average, warn_for)\n"
     ]
    },
    {
     "name": "stdout",
     "output_type": "stream",
     "text": [
      "[[12498     0     0     0]\n",
      " [  805     0     0     0]\n",
      " [  489     0     0     0]\n",
      " [ 4243     0     0     0]]\n",
      "0.6929858608261713\n",
      "0.204663806373432\n",
      "0.5673164961586146\n",
      "\n",
      "Trying classifier  LR M1\n"
     ]
    },
    {
     "name": "stderr",
     "output_type": "stream",
     "text": [
      "C:\\ProgramData\\Anaconda3\\lib\\site-packages\\sklearn\\linear_model\\logistic.py:469: FutureWarning: Default multi_class will be changed to 'auto' in 0.22. Specify the multi_class option to silence this warning.\n",
      "  \"this warning.\", FutureWarning)\n",
      "C:\\ProgramData\\Anaconda3\\lib\\site-packages\\sklearn\\metrics\\classification.py:1437: UndefinedMetricWarning: F-score is ill-defined and being set to 0.0 in labels with no predicted samples.\n",
      "  'precision', 'predicted', average, warn_for)\n"
     ]
    },
    {
     "name": "stdout",
     "output_type": "stream",
     "text": [
      "[[11407     1     0  1090]\n",
      " [  706     0     0    99]\n",
      " [  403     1     0    85]\n",
      " [ 2719     4     0  1520]]\n",
      "0.7167729415026338\n",
      "0.31365808834615877\n",
      "0.6717059264341129\n",
      "\n",
      "Trying classifier  LINEARSVC M1\n"
     ]
    },
    {
     "name": "stderr",
     "output_type": "stream",
     "text": [
      "C:\\ProgramData\\Anaconda3\\lib\\site-packages\\sklearn\\metrics\\classification.py:1437: UndefinedMetricWarning: F-score is ill-defined and being set to 0.0 in labels with no predicted samples.\n",
      "  'precision', 'predicted', average, warn_for)\n"
     ]
    },
    {
     "name": "stdout",
     "output_type": "stream",
     "text": [
      "[[11496     0     0  1002]\n",
      " [  710     0     0    95]\n",
      " [  411     0     0    78]\n",
      " [ 2825     1     0  1417]]\n",
      "0.7159966731355697\n",
      "0.3093842013846161\n",
      "0.6678103451616642\n",
      "\n",
      "Trying classifier  MLP M1\n",
      "[[11232    30    31  1205]\n",
      " [  639    41     3   122]\n",
      " [  370     1    18   100]\n",
      " [ 2420    59    28  1736]]\n",
      "0.7223177155530912\n",
      "0.3617034831477308\n",
      "0.6891088849584287\n",
      "\n",
      "Speaker on focus: F2\n",
      "Training data size: (181593, 28)\n",
      "Testing data size: (16467, 28)\n",
      "\n",
      "Trying classifier  MF F2\n"
     ]
    },
    {
     "name": "stderr",
     "output_type": "stream",
     "text": [
      "C:\\ProgramData\\Anaconda3\\lib\\site-packages\\sklearn\\metrics\\classification.py:1437: UndefinedMetricWarning: F-score is ill-defined and being set to 0.0 in labels with no predicted samples.\n",
      "  'precision', 'predicted', average, warn_for)\n"
     ]
    },
    {
     "name": "stdout",
     "output_type": "stream",
     "text": [
      "[[10315     0     0     0]\n",
      " [ 1779     0     0     0]\n",
      " [ 1060     0     0     0]\n",
      " [ 3313     0     0     0]]\n",
      "0.6264043237991134\n",
      "0.19257337017399748\n",
      "0.48251516690223695\n",
      "\n",
      "Trying classifier  LR F2\n"
     ]
    },
    {
     "name": "stderr",
     "output_type": "stream",
     "text": [
      "C:\\ProgramData\\Anaconda3\\lib\\site-packages\\sklearn\\linear_model\\logistic.py:469: FutureWarning: Default multi_class will be changed to 'auto' in 0.22. Specify the multi_class option to silence this warning.\n",
      "  \"this warning.\", FutureWarning)\n",
      "C:\\ProgramData\\Anaconda3\\lib\\site-packages\\sklearn\\metrics\\classification.py:1437: UndefinedMetricWarning: F-score is ill-defined and being set to 0.0 in labels with no predicted samples.\n",
      "  'precision', 'predicted', average, warn_for)\n"
     ]
    },
    {
     "name": "stdout",
     "output_type": "stream",
     "text": [
      "[[9789    2    0  524]\n",
      " [1226   10    0  543]\n",
      " [ 759    0    0  301]\n",
      " [2246    2    0 1065]]\n",
      "0.6597437298840104\n",
      "0.2965918459456165\n",
      "0.5797397743459362\n",
      "\n",
      "Trying classifier  LINEARSVC F2\n"
     ]
    },
    {
     "name": "stderr",
     "output_type": "stream",
     "text": [
      "C:\\ProgramData\\Anaconda3\\lib\\site-packages\\sklearn\\metrics\\classification.py:1437: UndefinedMetricWarning: F-score is ill-defined and being set to 0.0 in labels with no predicted samples.\n",
      "  'precision', 'predicted', average, warn_for)\n"
     ]
    },
    {
     "name": "stdout",
     "output_type": "stream",
     "text": [
      "[[9884    1    0  430]\n",
      " [1274    0    0  505]\n",
      " [ 797    0    0  263]\n",
      " [2353    0    0  960]]\n",
      "0.6585291795712638\n",
      "0.2884419881274062\n",
      "0.573500046062096\n",
      "\n",
      "Trying classifier  MLP F2\n",
      "[[8750  284    0 1281]\n",
      " [ 790  434    1  554]\n",
      " [ 497   39    7  517]\n",
      " [1444  260   13 1596]]\n",
      "0.6550677111799357\n",
      "0.39147573648344614\n",
      "0.6257570114920401\n",
      "\n",
      "Speaker on focus: F4\n",
      "Training data size: (181137, 28)\n",
      "Testing data size: (16923, 28)\n",
      "\n",
      "Trying classifier  MF F4\n"
     ]
    },
    {
     "name": "stderr",
     "output_type": "stream",
     "text": [
      "C:\\ProgramData\\Anaconda3\\lib\\site-packages\\sklearn\\metrics\\classification.py:1437: UndefinedMetricWarning: F-score is ill-defined and being set to 0.0 in labels with no predicted samples.\n",
      "  'precision', 'predicted', average, warn_for)\n"
     ]
    },
    {
     "name": "stdout",
     "output_type": "stream",
     "text": [
      "[[10008     0     0     0]\n",
      " [ 3183     0     0     0]\n",
      " [ 1039     0     0     0]\n",
      " [ 2693     0     0     0]]\n",
      "0.5913845062932104\n",
      "0.18580817645093015\n",
      "0.43953630678270017\n",
      "\n",
      "Trying classifier  LR F4\n"
     ]
    },
    {
     "name": "stderr",
     "output_type": "stream",
     "text": [
      "C:\\ProgramData\\Anaconda3\\lib\\site-packages\\sklearn\\linear_model\\logistic.py:469: FutureWarning: Default multi_class will be changed to 'auto' in 0.22. Specify the multi_class option to silence this warning.\n",
      "  \"this warning.\", FutureWarning)\n",
      "C:\\ProgramData\\Anaconda3\\lib\\site-packages\\sklearn\\metrics\\classification.py:1437: UndefinedMetricWarning: F-score is ill-defined and being set to 0.0 in labels with no predicted samples.\n",
      "  'precision', 'predicted', average, warn_for)\n"
     ]
    },
    {
     "name": "stdout",
     "output_type": "stream",
     "text": [
      "[[9568    0    0  440]\n",
      " [2552    3    0  628]\n",
      " [ 636    7    0  396]\n",
      " [1615    0    0 1078]]\n",
      "0.6292619511906873\n",
      "0.2996650822231861\n",
      "0.5300912042246081\n",
      "\n",
      "Trying classifier  LINEARSVC F4\n"
     ]
    },
    {
     "name": "stderr",
     "output_type": "stream",
     "text": [
      "C:\\ProgramData\\Anaconda3\\lib\\site-packages\\sklearn\\metrics\\classification.py:1437: UndefinedMetricWarning: F-score is ill-defined and being set to 0.0 in labels with no predicted samples.\n",
      "  'precision', 'predicted', average, warn_for)\n"
     ]
    },
    {
     "name": "stdout",
     "output_type": "stream",
     "text": [
      "[[9605    0    0  403]\n",
      " [2643    0    0  540]\n",
      " [ 663    0    0  376]\n",
      " [1710    0    0  983]]\n",
      "0.6256573893517697\n",
      "0.29339210500443197\n",
      "0.5238985765171827\n",
      "\n",
      "Trying classifier  MLP F4\n",
      "[[9066   70    1  871]\n",
      " [1843  502    0  838]\n",
      " [ 516    2    2  519]\n",
      " [1009  146    1 1537]]\n",
      "0.6563257105714116\n",
      "0.3862553137424361\n",
      "0.6021742805090549\n",
      "\n",
      "Speaker on focus: M6\n",
      "Training data size: (181528, 28)\n",
      "Testing data size: (16532, 28)\n",
      "\n",
      "Trying classifier  MF M6\n"
     ]
    },
    {
     "name": "stderr",
     "output_type": "stream",
     "text": [
      "C:\\ProgramData\\Anaconda3\\lib\\site-packages\\sklearn\\metrics\\classification.py:1437: UndefinedMetricWarning: F-score is ill-defined and being set to 0.0 in labels with no predicted samples.\n",
      "  'precision', 'predicted', average, warn_for)\n"
     ]
    },
    {
     "name": "stdout",
     "output_type": "stream",
     "text": [
      "[[9316    0    0    0]\n",
      " [1800    0    0    0]\n",
      " [1671    0    0    0]\n",
      " [3745    0    0    0]]\n",
      "0.5635131865473022\n",
      "0.18020736614051377\n",
      "0.4061969085325493\n",
      "\n",
      "Trying classifier  LR M6\n"
     ]
    },
    {
     "name": "stderr",
     "output_type": "stream",
     "text": [
      "C:\\ProgramData\\Anaconda3\\lib\\site-packages\\sklearn\\linear_model\\logistic.py:469: FutureWarning: Default multi_class will be changed to 'auto' in 0.22. Specify the multi_class option to silence this warning.\n",
      "  \"this warning.\", FutureWarning)\n",
      "C:\\ProgramData\\Anaconda3\\lib\\site-packages\\sklearn\\metrics\\classification.py:1437: UndefinedMetricWarning: F-score is ill-defined and being set to 0.0 in labels with no predicted samples.\n",
      "  'precision', 'predicted', average, warn_for)\n"
     ]
    },
    {
     "name": "stdout",
     "output_type": "stream",
     "text": [
      "[[8682    1    0  633]\n",
      " [1655    5    0  140]\n",
      " [1581    1    0   89]\n",
      " [2944    7    0  794]]\n",
      "0.5734938301475926\n",
      "0.25442646283907067\n",
      "0.47190485592994247\n",
      "\n",
      "Trying classifier  LINEARSVC M6\n"
     ]
    },
    {
     "name": "stderr",
     "output_type": "stream",
     "text": [
      "C:\\ProgramData\\Anaconda3\\lib\\site-packages\\sklearn\\metrics\\classification.py:1437: UndefinedMetricWarning: F-score is ill-defined and being set to 0.0 in labels with no predicted samples.\n",
      "  'precision', 'predicted', average, warn_for)\n"
     ]
    },
    {
     "name": "stdout",
     "output_type": "stream",
     "text": [
      "[[8743    0    0  573]\n",
      " [1673    1    0  126]\n",
      " [1589    0    0   82]\n",
      " [3056    1    0  688]]\n",
      "0.5705298814420517\n",
      "0.24558256293274908\n",
      "0.4641200546578269\n",
      "\n",
      "Trying classifier  MLP M6\n",
      "[[8272  111    8  925]\n",
      " [1463  127    0  210]\n",
      " [1369   32    5  265]\n",
      " [2020  144    5 1576]]\n",
      "0.6036777159448342\n",
      "0.33171946908328764\n",
      "0.5347801920921669\n",
      "\n"
     ]
    },
    {
     "data": {
      "text/html": [
       "<div>\n",
       "<style scoped>\n",
       "    .dataframe tbody tr th:only-of-type {\n",
       "        vertical-align: middle;\n",
       "    }\n",
       "\n",
       "    .dataframe tbody tr th {\n",
       "        vertical-align: top;\n",
       "    }\n",
       "\n",
       "    .dataframe thead th {\n",
       "        text-align: right;\n",
       "    }\n",
       "</style>\n",
       "<table border=\"1\" class=\"dataframe\">\n",
       "  <thead>\n",
       "    <tr style=\"text-align: right;\">\n",
       "      <th></th>\n",
       "      <th>F5</th>\n",
       "      <th>F6</th>\n",
       "      <th>M2</th>\n",
       "      <th>M4</th>\n",
       "      <th>F1</th>\n",
       "      <th>F3</th>\n",
       "      <th>M3</th>\n",
       "      <th>M5</th>\n",
       "      <th>M1</th>\n",
       "      <th>F2</th>\n",
       "      <th>F4</th>\n",
       "      <th>M6</th>\n",
       "    </tr>\n",
       "  </thead>\n",
       "  <tbody>\n",
       "    <tr>\n",
       "      <td>MF</td>\n",
       "      <td>0.740511</td>\n",
       "      <td>0.506497</td>\n",
       "      <td>0.714565</td>\n",
       "      <td>0.648316</td>\n",
       "      <td>0.671644</td>\n",
       "      <td>0.588701</td>\n",
       "      <td>0.719731</td>\n",
       "      <td>0.551088</td>\n",
       "      <td>0.692986</td>\n",
       "      <td>0.626404</td>\n",
       "      <td>0.591385</td>\n",
       "      <td>0.563513</td>\n",
       "    </tr>\n",
       "    <tr>\n",
       "      <td>LR</td>\n",
       "      <td>0.741181</td>\n",
       "      <td>0.551450</td>\n",
       "      <td>0.727142</td>\n",
       "      <td>0.651950</td>\n",
       "      <td>0.701877</td>\n",
       "      <td>0.595710</td>\n",
       "      <td>0.719851</td>\n",
       "      <td>0.583654</td>\n",
       "      <td>0.716773</td>\n",
       "      <td>0.659744</td>\n",
       "      <td>0.629262</td>\n",
       "      <td>0.573494</td>\n",
       "    </tr>\n",
       "    <tr>\n",
       "      <td>LINEARSVC</td>\n",
       "      <td>0.741364</td>\n",
       "      <td>0.547775</td>\n",
       "      <td>0.725448</td>\n",
       "      <td>0.651587</td>\n",
       "      <td>0.698222</td>\n",
       "      <td>0.595100</td>\n",
       "      <td>0.721354</td>\n",
       "      <td>0.579461</td>\n",
       "      <td>0.715997</td>\n",
       "      <td>0.658529</td>\n",
       "      <td>0.625657</td>\n",
       "      <td>0.570530</td>\n",
       "    </tr>\n",
       "    <tr>\n",
       "      <td>MLP</td>\n",
       "      <td>0.726985</td>\n",
       "      <td>0.574025</td>\n",
       "      <td>0.740046</td>\n",
       "      <td>0.658975</td>\n",
       "      <td>0.730252</td>\n",
       "      <td>0.620818</td>\n",
       "      <td>0.714019</td>\n",
       "      <td>0.611280</td>\n",
       "      <td>0.722318</td>\n",
       "      <td>0.655068</td>\n",
       "      <td>0.656326</td>\n",
       "      <td>0.603678</td>\n",
       "    </tr>\n",
       "  </tbody>\n",
       "</table>\n",
       "</div>"
      ],
      "text/plain": [
       "                 F5        F6        M2        M4        F1        F3  \\\n",
       "MF         0.740511  0.506497  0.714565  0.648316  0.671644  0.588701   \n",
       "LR         0.741181  0.551450  0.727142  0.651950  0.701877  0.595710   \n",
       "LINEARSVC  0.741364  0.547775  0.725448  0.651587  0.698222  0.595100   \n",
       "MLP        0.726985  0.574025  0.740046  0.658975  0.730252  0.620818   \n",
       "\n",
       "                 M3        M5        M1        F2        F4        M6  \n",
       "MF         0.719731  0.551088  0.692986  0.626404  0.591385  0.563513  \n",
       "LR         0.719851  0.583654  0.716773  0.659744  0.629262  0.573494  \n",
       "LINEARSVC  0.721354  0.579461  0.715997  0.658529  0.625657  0.570530  \n",
       "MLP        0.714019  0.611280  0.722318  0.655068  0.656326  0.603678  "
      ]
     },
     "execution_count": 43,
     "metadata": {},
     "output_type": "execute_result"
    }
   ],
   "source": [
    "accuracy_results = pd.DataFrame(0,columns=speaker_set,index=[\"MF\"])\n",
    "f1score_results = pd.DataFrame(0,columns=speaker_set,index=[\"MF\"])\n",
    "f1score_resultsw = pd.DataFrame(0,columns=speaker_set,index=[\"MF\"])\n",
    "#f1score_resultsb = pd.DataFrame(0,columns=speaker_set,index=[\"MF\"])\n",
    "#f1_score(y_true, y_pred, average='micro')\n",
    "\n",
    "for speaker_on_focus in speaker_set:\n",
    "    train_files = []\n",
    "    test_files  = []\n",
    "    \n",
    "    for each_file in glob.glob(PATH+\"*.tab\"):\n",
    "        filename=each_file.split(\"\\\\\")[-1]\n",
    "        fileinfo=filename.split(\"-\")\n",
    "\n",
    "        primary_speaker = fileinfo[2].split(\"_\")[-1][:-2] #fileinfo[2] = final2_primary_M1.T\n",
    "        speakers = fileinfo[0]\n",
    "        l_speaker,r_speaker = speakers.split(\"_\")\n",
    "        if primary_speaker == l_speaker:\n",
    "            secondary_speaker = r_speaker\n",
    "        else:\n",
    "            secondary_speaker = l_speaker\n",
    "\n",
    "        #print (primary_speaker,l_speaker,r_speaker,speaker_on_focus)\n",
    "\n",
    "        file_df = pd.read_csv(each_file,sep=\"\\t\")\n",
    "        file_df.columns = [el.replace(primary_speaker, \"PRIMA\").replace(secondary_speaker, \"SECON\") for el in file_df.columns]\n",
    "\n",
    "        if primary_speaker != speaker_on_focus:\n",
    "            #FILES TO TRAIN!\n",
    "            train_files.append(file_df)\n",
    "        else:\n",
    "            #FILES TO TEST!\n",
    "            test_files.append(file_df)\n",
    "            \n",
    "        \n",
    "        \n",
    "    training_data = pd.concat(train_files, ignore_index=True)\n",
    "    testing_data = pd.concat(test_files, ignore_index=True)\n",
    "    print (\"Speaker on focus:\",speaker_on_focus)\n",
    "    print (\"Training data size:\",training_data.shape)\n",
    "    print (\"Testing data size:\",testing_data.shape)\n",
    "    print ()\n",
    "    \n",
    "    \n",
    "    \n",
    "    \n",
    "    \n",
    "    \n",
    "    \n",
    "    #Train data\n",
    "    features=['PRIMA:velocity-r', 'PRIMA:velocity-clock', 'PRIMA:velocity-x', 'PRIMA:velocity-y',\n",
    "              'PRIMA:acceleration-r', 'PRIMA:acceleration-clock', 'PRIMA:acceleration-x', 'PRIMA:acceleration-y'\n",
    "             ]\n",
    "\n",
    "    feats_learning = training_data[features]\n",
    "    X = feats_learning.dropna() #REMEMBER THIS!!!! We're ignoring any row that has a NaN value.\n",
    "    scaler = MinMaxScaler((0,1))\n",
    "    scaler.fit(X)\n",
    "    X_norm = scaler.transform(X)\n",
    "    #X_norm = X\n",
    "    #We're ignoring anyrow that has a NaN value.\n",
    "    #Y = (training_data[(feats_learning.isnull().sum(axis=1)==0)]['PRIMA:HeadMovement'].equals('nod')*1).values #0: no movement; 1: movement\n",
    "    Y = training_data[(feats_learning.isnull().sum(axis=1)==0)]['PRIMA:HeadMovement'].map(map_movements)\n",
    "    \n",
    "    #Test data\n",
    "    feats_testing = testing_data[features]\n",
    "\n",
    "    X_test = feats_testing.dropna() #REMEMBER THIS!!!! We're ignoring any row that has a NaN value.\n",
    "    X_test_norm = scaler.transform(X_test)\n",
    "    #X_test_norm = X_test\n",
    "#    Y_test = (testing_data[(feats_testing.isnull().sum(axis=1)==0)]['PRIMA:HeadMovement'].equals('nod')*1).values #0: no movement; 1: movement\n",
    "    Y_test =  testing_data[(feats_testing.isnull().sum(axis=1)==0)]['PRIMA:HeadMovement'].map(map_movements)\n",
    "    \n",
    "    classifiers_to_test = [(DummyClassifier(strategy=\"most_frequent\"),\"MF\"),\n",
    "                           (LogisticRegression(solver=\"liblinear\"),\"LR\"),\n",
    "                          (LinearSVC(),\"LINEARSVC\"),\n",
    "                          (MLPClassifier(hidden_layer_sizes=(30,30,30,30), random_state=442), \"MLP\")\n",
    "                          ]\n",
    "                        #I think that now we have to fine-tune the n_hidden_layers and their sizes (MLP)\n",
    "    \n",
    "    \n",
    "    for clf, clfname in classifiers_to_test:\n",
    "        print (\"Trying classifier \",clfname,speaker_on_focus)\n",
    "        clf.fit(X_norm, Y)\n",
    "        y_pred = clf.predict(X_test_norm)\n",
    "        accuracy_results.loc[clfname,speaker_on_focus] = accuracy_score(Y_test,y_pred)\n",
    "        #f1score_resultsb.loc[clfname,speaker_on_focus] = f1_score(Y_test,y_pred)\n",
    "        f1score_results.loc[clfname,speaker_on_focus] = f1_score(Y_test,y_pred, average='macro')\n",
    "        f1score_resultsw.loc[clfname,speaker_on_focus] = f1_score(Y_test,y_pred, average='weighted')\n",
    "    \n",
    "        print (confusion_matrix(Y_test,y_pred))\n",
    "        print (accuracy_score(Y_test,y_pred)) #same as f1-score (micro-averagaed)\n",
    "        print (f1_score(Y_test,y_pred, average='macro'))\n",
    "        print (f1_score(Y_test,y_pred, average='weighted'))\n",
    "        y_pred=None\n",
    "        print ()\n",
    "\n",
    "        \n",
    "accuracy_results"
   ]
  },
  {
   "cell_type": "code",
   "execution_count": 44,
   "metadata": {
    "scrolled": true
   },
   "outputs": [
    {
     "data": {
      "text/html": [
       "<div>\n",
       "<style scoped>\n",
       "    .dataframe tbody tr th:only-of-type {\n",
       "        vertical-align: middle;\n",
       "    }\n",
       "\n",
       "    .dataframe tbody tr th {\n",
       "        vertical-align: top;\n",
       "    }\n",
       "\n",
       "    .dataframe thead th {\n",
       "        text-align: right;\n",
       "    }\n",
       "</style>\n",
       "<table border=\"1\" class=\"dataframe\">\n",
       "  <thead>\n",
       "    <tr style=\"text-align: right;\">\n",
       "      <th></th>\n",
       "      <th>F5</th>\n",
       "      <th>F6</th>\n",
       "      <th>M2</th>\n",
       "      <th>M4</th>\n",
       "      <th>F1</th>\n",
       "      <th>F3</th>\n",
       "      <th>M3</th>\n",
       "      <th>M5</th>\n",
       "      <th>M1</th>\n",
       "      <th>F2</th>\n",
       "      <th>F4</th>\n",
       "      <th>M6</th>\n",
       "    </tr>\n",
       "  </thead>\n",
       "  <tbody>\n",
       "    <tr>\n",
       "      <td>MF</td>\n",
       "      <td>0.740511</td>\n",
       "      <td>0.506497</td>\n",
       "      <td>0.714565</td>\n",
       "      <td>0.648316</td>\n",
       "      <td>0.671644</td>\n",
       "      <td>0.588701</td>\n",
       "      <td>0.719731</td>\n",
       "      <td>0.551088</td>\n",
       "      <td>0.692986</td>\n",
       "      <td>0.626404</td>\n",
       "      <td>0.591385</td>\n",
       "      <td>0.563513</td>\n",
       "    </tr>\n",
       "    <tr>\n",
       "      <td>LR</td>\n",
       "      <td>0.741181</td>\n",
       "      <td>0.551450</td>\n",
       "      <td>0.727142</td>\n",
       "      <td>0.651950</td>\n",
       "      <td>0.701877</td>\n",
       "      <td>0.595710</td>\n",
       "      <td>0.719851</td>\n",
       "      <td>0.583654</td>\n",
       "      <td>0.716773</td>\n",
       "      <td>0.659744</td>\n",
       "      <td>0.629262</td>\n",
       "      <td>0.573494</td>\n",
       "    </tr>\n",
       "    <tr>\n",
       "      <td>LINEARSVC</td>\n",
       "      <td>0.741364</td>\n",
       "      <td>0.547775</td>\n",
       "      <td>0.725448</td>\n",
       "      <td>0.651587</td>\n",
       "      <td>0.698222</td>\n",
       "      <td>0.595100</td>\n",
       "      <td>0.721354</td>\n",
       "      <td>0.579461</td>\n",
       "      <td>0.715997</td>\n",
       "      <td>0.658529</td>\n",
       "      <td>0.625657</td>\n",
       "      <td>0.570530</td>\n",
       "    </tr>\n",
       "    <tr>\n",
       "      <td>MLP</td>\n",
       "      <td>0.726985</td>\n",
       "      <td>0.574025</td>\n",
       "      <td>0.740046</td>\n",
       "      <td>0.658975</td>\n",
       "      <td>0.730252</td>\n",
       "      <td>0.620818</td>\n",
       "      <td>0.714019</td>\n",
       "      <td>0.611280</td>\n",
       "      <td>0.722318</td>\n",
       "      <td>0.655068</td>\n",
       "      <td>0.656326</td>\n",
       "      <td>0.603678</td>\n",
       "    </tr>\n",
       "  </tbody>\n",
       "</table>\n",
       "</div>"
      ],
      "text/plain": [
       "                 F5        F6        M2        M4        F1        F3  \\\n",
       "MF         0.740511  0.506497  0.714565  0.648316  0.671644  0.588701   \n",
       "LR         0.741181  0.551450  0.727142  0.651950  0.701877  0.595710   \n",
       "LINEARSVC  0.741364  0.547775  0.725448  0.651587  0.698222  0.595100   \n",
       "MLP        0.726985  0.574025  0.740046  0.658975  0.730252  0.620818   \n",
       "\n",
       "                 M3        M5        M1        F2        F4        M6  \n",
       "MF         0.719731  0.551088  0.692986  0.626404  0.591385  0.563513  \n",
       "LR         0.719851  0.583654  0.716773  0.659744  0.629262  0.573494  \n",
       "LINEARSVC  0.721354  0.579461  0.715997  0.658529  0.625657  0.570530  \n",
       "MLP        0.714019  0.611280  0.722318  0.655068  0.656326  0.603678  "
      ]
     },
     "execution_count": 44,
     "metadata": {},
     "output_type": "execute_result"
    }
   ],
   "source": [
    "accuracy_results"
   ]
  },
  {
   "cell_type": "code",
   "execution_count": 45,
   "metadata": {},
   "outputs": [
    {
     "data": {
      "text/html": [
       "<div>\n",
       "<style scoped>\n",
       "    .dataframe tbody tr th:only-of-type {\n",
       "        vertical-align: middle;\n",
       "    }\n",
       "\n",
       "    .dataframe tbody tr th {\n",
       "        vertical-align: top;\n",
       "    }\n",
       "\n",
       "    .dataframe thead th {\n",
       "        text-align: right;\n",
       "    }\n",
       "</style>\n",
       "<table border=\"1\" class=\"dataframe\">\n",
       "  <thead>\n",
       "    <tr style=\"text-align: right;\">\n",
       "      <th></th>\n",
       "      <th>F5</th>\n",
       "      <th>F6</th>\n",
       "      <th>M2</th>\n",
       "      <th>M4</th>\n",
       "      <th>F1</th>\n",
       "      <th>F3</th>\n",
       "      <th>M3</th>\n",
       "      <th>M5</th>\n",
       "      <th>M1</th>\n",
       "      <th>F2</th>\n",
       "      <th>F4</th>\n",
       "      <th>M6</th>\n",
       "    </tr>\n",
       "  </thead>\n",
       "  <tbody>\n",
       "    <tr>\n",
       "      <td>MF</td>\n",
       "      <td>0.630109</td>\n",
       "      <td>0.340577</td>\n",
       "      <td>0.595607</td>\n",
       "      <td>0.509992</td>\n",
       "      <td>0.539715</td>\n",
       "      <td>0.436293</td>\n",
       "      <td>0.602434</td>\n",
       "      <td>0.391594</td>\n",
       "      <td>0.567316</td>\n",
       "      <td>0.482515</td>\n",
       "      <td>0.439536</td>\n",
       "      <td>0.406197</td>\n",
       "    </tr>\n",
       "    <tr>\n",
       "      <td>LR</td>\n",
       "      <td>0.660806</td>\n",
       "      <td>0.457568</td>\n",
       "      <td>0.635905</td>\n",
       "      <td>0.558570</td>\n",
       "      <td>0.623474</td>\n",
       "      <td>0.472865</td>\n",
       "      <td>0.646007</td>\n",
       "      <td>0.467112</td>\n",
       "      <td>0.671706</td>\n",
       "      <td>0.579740</td>\n",
       "      <td>0.530091</td>\n",
       "      <td>0.471905</td>\n",
       "    </tr>\n",
       "    <tr>\n",
       "      <td>LINEARSVC</td>\n",
       "      <td>0.657262</td>\n",
       "      <td>0.450289</td>\n",
       "      <td>0.630643</td>\n",
       "      <td>0.554351</td>\n",
       "      <td>0.614610</td>\n",
       "      <td>0.467695</td>\n",
       "      <td>0.642290</td>\n",
       "      <td>0.459122</td>\n",
       "      <td>0.667810</td>\n",
       "      <td>0.573500</td>\n",
       "      <td>0.523899</td>\n",
       "      <td>0.464120</td>\n",
       "    </tr>\n",
       "    <tr>\n",
       "      <td>MLP</td>\n",
       "      <td>0.679067</td>\n",
       "      <td>0.548749</td>\n",
       "      <td>0.681271</td>\n",
       "      <td>0.609796</td>\n",
       "      <td>0.692442</td>\n",
       "      <td>0.544676</td>\n",
       "      <td>0.684146</td>\n",
       "      <td>0.522273</td>\n",
       "      <td>0.689109</td>\n",
       "      <td>0.625757</td>\n",
       "      <td>0.602174</td>\n",
       "      <td>0.534780</td>\n",
       "    </tr>\n",
       "  </tbody>\n",
       "</table>\n",
       "</div>"
      ],
      "text/plain": [
       "                 F5        F6        M2        M4        F1        F3  \\\n",
       "MF         0.630109  0.340577  0.595607  0.509992  0.539715  0.436293   \n",
       "LR         0.660806  0.457568  0.635905  0.558570  0.623474  0.472865   \n",
       "LINEARSVC  0.657262  0.450289  0.630643  0.554351  0.614610  0.467695   \n",
       "MLP        0.679067  0.548749  0.681271  0.609796  0.692442  0.544676   \n",
       "\n",
       "                 M3        M5        M1        F2        F4        M6  \n",
       "MF         0.602434  0.391594  0.567316  0.482515  0.439536  0.406197  \n",
       "LR         0.646007  0.467112  0.671706  0.579740  0.530091  0.471905  \n",
       "LINEARSVC  0.642290  0.459122  0.667810  0.573500  0.523899  0.464120  \n",
       "MLP        0.684146  0.522273  0.689109  0.625757  0.602174  0.534780  "
      ]
     },
     "execution_count": 45,
     "metadata": {},
     "output_type": "execute_result"
    }
   ],
   "source": [
    "f1score_resultsw"
   ]
  },
  {
   "cell_type": "code",
   "execution_count": 46,
   "metadata": {
    "scrolled": true
   },
   "outputs": [
    {
     "data": {
      "text/html": [
       "<div>\n",
       "<style scoped>\n",
       "    .dataframe tbody tr th:only-of-type {\n",
       "        vertical-align: middle;\n",
       "    }\n",
       "\n",
       "    .dataframe tbody tr th {\n",
       "        vertical-align: top;\n",
       "    }\n",
       "\n",
       "    .dataframe thead th {\n",
       "        text-align: right;\n",
       "    }\n",
       "</style>\n",
       "<table border=\"1\" class=\"dataframe\">\n",
       "  <thead>\n",
       "    <tr style=\"text-align: right;\">\n",
       "      <th></th>\n",
       "      <th>F5</th>\n",
       "      <th>F6</th>\n",
       "      <th>M2</th>\n",
       "      <th>M4</th>\n",
       "      <th>F1</th>\n",
       "      <th>F3</th>\n",
       "      <th>M3</th>\n",
       "      <th>M5</th>\n",
       "      <th>M1</th>\n",
       "      <th>F2</th>\n",
       "      <th>F4</th>\n",
       "      <th>M6</th>\n",
       "    </tr>\n",
       "  </thead>\n",
       "  <tbody>\n",
       "    <tr>\n",
       "      <td>MF</td>\n",
       "      <td>0.212728</td>\n",
       "      <td>0.168104</td>\n",
       "      <td>0.208381</td>\n",
       "      <td>0.196660</td>\n",
       "      <td>0.200893</td>\n",
       "      <td>0.185278</td>\n",
       "      <td>0.209257</td>\n",
       "      <td>0.177646</td>\n",
       "      <td>0.204664</td>\n",
       "      <td>0.192573</td>\n",
       "      <td>0.185808</td>\n",
       "      <td>0.180207</td>\n",
       "    </tr>\n",
       "    <tr>\n",
       "      <td>LR</td>\n",
       "      <td>0.270043</td>\n",
       "      <td>0.275461</td>\n",
       "      <td>0.261201</td>\n",
       "      <td>0.251415</td>\n",
       "      <td>0.283873</td>\n",
       "      <td>0.224611</td>\n",
       "      <td>0.266704</td>\n",
       "      <td>0.246481</td>\n",
       "      <td>0.313658</td>\n",
       "      <td>0.296592</td>\n",
       "      <td>0.299665</td>\n",
       "      <td>0.254426</td>\n",
       "    </tr>\n",
       "    <tr>\n",
       "      <td>LINEARSVC</td>\n",
       "      <td>0.262817</td>\n",
       "      <td>0.269165</td>\n",
       "      <td>0.254061</td>\n",
       "      <td>0.246437</td>\n",
       "      <td>0.274042</td>\n",
       "      <td>0.218731</td>\n",
       "      <td>0.259514</td>\n",
       "      <td>0.239027</td>\n",
       "      <td>0.309384</td>\n",
       "      <td>0.288442</td>\n",
       "      <td>0.293392</td>\n",
       "      <td>0.245583</td>\n",
       "    </tr>\n",
       "    <tr>\n",
       "      <td>MLP</td>\n",
       "      <td>0.328970</td>\n",
       "      <td>0.384606</td>\n",
       "      <td>0.333174</td>\n",
       "      <td>0.335292</td>\n",
       "      <td>0.401110</td>\n",
       "      <td>0.306929</td>\n",
       "      <td>0.356594</td>\n",
       "      <td>0.306922</td>\n",
       "      <td>0.361703</td>\n",
       "      <td>0.391476</td>\n",
       "      <td>0.386255</td>\n",
       "      <td>0.331719</td>\n",
       "    </tr>\n",
       "  </tbody>\n",
       "</table>\n",
       "</div>"
      ],
      "text/plain": [
       "                 F5        F6        M2        M4        F1        F3  \\\n",
       "MF         0.212728  0.168104  0.208381  0.196660  0.200893  0.185278   \n",
       "LR         0.270043  0.275461  0.261201  0.251415  0.283873  0.224611   \n",
       "LINEARSVC  0.262817  0.269165  0.254061  0.246437  0.274042  0.218731   \n",
       "MLP        0.328970  0.384606  0.333174  0.335292  0.401110  0.306929   \n",
       "\n",
       "                 M3        M5        M1        F2        F4        M6  \n",
       "MF         0.209257  0.177646  0.204664  0.192573  0.185808  0.180207  \n",
       "LR         0.266704  0.246481  0.313658  0.296592  0.299665  0.254426  \n",
       "LINEARSVC  0.259514  0.239027  0.309384  0.288442  0.293392  0.245583  \n",
       "MLP        0.356594  0.306922  0.361703  0.391476  0.386255  0.331719  "
      ]
     },
     "execution_count": 46,
     "metadata": {},
     "output_type": "execute_result"
    }
   ],
   "source": [
    "f1score_results"
   ]
  },
  {
   "cell_type": "code",
   "execution_count": 47,
   "metadata": {},
   "outputs": [
    {
     "data": {
      "text/html": [
       "<div>\n",
       "<style scoped>\n",
       "    .dataframe tbody tr th:only-of-type {\n",
       "        vertical-align: middle;\n",
       "    }\n",
       "\n",
       "    .dataframe tbody tr th {\n",
       "        vertical-align: top;\n",
       "    }\n",
       "\n",
       "    .dataframe thead th {\n",
       "        text-align: right;\n",
       "    }\n",
       "</style>\n",
       "<table border=\"1\" class=\"dataframe\">\n",
       "  <thead>\n",
       "    <tr style=\"text-align: right;\">\n",
       "      <th></th>\n",
       "      <th>MF</th>\n",
       "      <th>LR</th>\n",
       "      <th>LINEARSVC</th>\n",
       "      <th>MLP</th>\n",
       "    </tr>\n",
       "  </thead>\n",
       "  <tbody>\n",
       "    <tr>\n",
       "      <td>count</td>\n",
       "      <td>12.000000</td>\n",
       "      <td>12.000000</td>\n",
       "      <td>12.000000</td>\n",
       "      <td>12.000000</td>\n",
       "    </tr>\n",
       "    <tr>\n",
       "      <td>mean</td>\n",
       "      <td>0.634612</td>\n",
       "      <td>0.654341</td>\n",
       "      <td>0.652585</td>\n",
       "      <td>0.667816</td>\n",
       "    </tr>\n",
       "    <tr>\n",
       "      <td>std</td>\n",
       "      <td>0.075262</td>\n",
       "      <td>0.067090</td>\n",
       "      <td>0.068194</td>\n",
       "      <td>0.057532</td>\n",
       "    </tr>\n",
       "    <tr>\n",
       "      <td>min</td>\n",
       "      <td>0.506497</td>\n",
       "      <td>0.551450</td>\n",
       "      <td>0.547775</td>\n",
       "      <td>0.574025</td>\n",
       "    </tr>\n",
       "    <tr>\n",
       "      <td>25%</td>\n",
       "      <td>0.582404</td>\n",
       "      <td>0.592696</td>\n",
       "      <td>0.591191</td>\n",
       "      <td>0.618433</td>\n",
       "    </tr>\n",
       "    <tr>\n",
       "      <td>50%</td>\n",
       "      <td>0.637360</td>\n",
       "      <td>0.655847</td>\n",
       "      <td>0.655058</td>\n",
       "      <td>0.657651</td>\n",
       "    </tr>\n",
       "    <tr>\n",
       "      <td>75%</td>\n",
       "      <td>0.698381</td>\n",
       "      <td>0.717542</td>\n",
       "      <td>0.717336</td>\n",
       "      <td>0.723484</td>\n",
       "    </tr>\n",
       "    <tr>\n",
       "      <td>max</td>\n",
       "      <td>0.740511</td>\n",
       "      <td>0.741181</td>\n",
       "      <td>0.741364</td>\n",
       "      <td>0.740046</td>\n",
       "    </tr>\n",
       "  </tbody>\n",
       "</table>\n",
       "</div>"
      ],
      "text/plain": [
       "              MF         LR  LINEARSVC        MLP\n",
       "count  12.000000  12.000000  12.000000  12.000000\n",
       "mean    0.634612   0.654341   0.652585   0.667816\n",
       "std     0.075262   0.067090   0.068194   0.057532\n",
       "min     0.506497   0.551450   0.547775   0.574025\n",
       "25%     0.582404   0.592696   0.591191   0.618433\n",
       "50%     0.637360   0.655847   0.655058   0.657651\n",
       "75%     0.698381   0.717542   0.717336   0.723484\n",
       "max     0.740511   0.741181   0.741364   0.740046"
      ]
     },
     "execution_count": 47,
     "metadata": {},
     "output_type": "execute_result"
    }
   ],
   "source": [
    "accuracy_results.T.describe()"
   ]
  },
  {
   "cell_type": "code",
   "execution_count": 48,
   "metadata": {},
   "outputs": [
    {
     "data": {
      "text/html": [
       "<div>\n",
       "<style scoped>\n",
       "    .dataframe tbody tr th:only-of-type {\n",
       "        vertical-align: middle;\n",
       "    }\n",
       "\n",
       "    .dataframe tbody tr th {\n",
       "        vertical-align: top;\n",
       "    }\n",
       "\n",
       "    .dataframe thead th {\n",
       "        text-align: right;\n",
       "    }\n",
       "</style>\n",
       "<table border=\"1\" class=\"dataframe\">\n",
       "  <thead>\n",
       "    <tr style=\"text-align: right;\">\n",
       "      <th></th>\n",
       "      <th>MF</th>\n",
       "      <th>LR</th>\n",
       "      <th>LINEARSVC</th>\n",
       "      <th>MLP</th>\n",
       "    </tr>\n",
       "  </thead>\n",
       "  <tbody>\n",
       "    <tr>\n",
       "      <td>count</td>\n",
       "      <td>12.000000</td>\n",
       "      <td>12.000000</td>\n",
       "      <td>12.000000</td>\n",
       "      <td>12.000000</td>\n",
       "    </tr>\n",
       "    <tr>\n",
       "      <td>mean</td>\n",
       "      <td>0.193517</td>\n",
       "      <td>0.270344</td>\n",
       "      <td>0.263383</td>\n",
       "      <td>0.352063</td>\n",
       "    </tr>\n",
       "    <tr>\n",
       "      <td>std</td>\n",
       "      <td>0.014236</td>\n",
       "      <td>0.025233</td>\n",
       "      <td>0.025379</td>\n",
       "      <td>0.032975</td>\n",
       "    </tr>\n",
       "    <tr>\n",
       "      <td>min</td>\n",
       "      <td>0.168104</td>\n",
       "      <td>0.224611</td>\n",
       "      <td>0.218731</td>\n",
       "      <td>0.306922</td>\n",
       "    </tr>\n",
       "    <tr>\n",
       "      <td>25%</td>\n",
       "      <td>0.184010</td>\n",
       "      <td>0.253674</td>\n",
       "      <td>0.246223</td>\n",
       "      <td>0.331032</td>\n",
       "    </tr>\n",
       "    <tr>\n",
       "      <td>50%</td>\n",
       "      <td>0.194617</td>\n",
       "      <td>0.268374</td>\n",
       "      <td>0.261166</td>\n",
       "      <td>0.345943</td>\n",
       "    </tr>\n",
       "    <tr>\n",
       "      <td>75%</td>\n",
       "      <td>0.205593</td>\n",
       "      <td>0.287053</td>\n",
       "      <td>0.277642</td>\n",
       "      <td>0.385019</td>\n",
       "    </tr>\n",
       "    <tr>\n",
       "      <td>max</td>\n",
       "      <td>0.212728</td>\n",
       "      <td>0.313658</td>\n",
       "      <td>0.309384</td>\n",
       "      <td>0.401110</td>\n",
       "    </tr>\n",
       "  </tbody>\n",
       "</table>\n",
       "</div>"
      ],
      "text/plain": [
       "              MF         LR  LINEARSVC        MLP\n",
       "count  12.000000  12.000000  12.000000  12.000000\n",
       "mean    0.193517   0.270344   0.263383   0.352063\n",
       "std     0.014236   0.025233   0.025379   0.032975\n",
       "min     0.168104   0.224611   0.218731   0.306922\n",
       "25%     0.184010   0.253674   0.246223   0.331032\n",
       "50%     0.194617   0.268374   0.261166   0.345943\n",
       "75%     0.205593   0.287053   0.277642   0.385019\n",
       "max     0.212728   0.313658   0.309384   0.401110"
      ]
     },
     "execution_count": 48,
     "metadata": {},
     "output_type": "execute_result"
    }
   ],
   "source": [
    "f1score_results.T.describe()"
   ]
  },
  {
   "cell_type": "code",
   "execution_count": null,
   "metadata": {},
   "outputs": [],
   "source": []
  },
  {
   "cell_type": "code",
   "execution_count": null,
   "metadata": {},
   "outputs": [],
   "source": []
  }
 ],
 "metadata": {
  "kernelspec": {
   "display_name": "Python 3",
   "language": "python",
   "name": "python3"
  },
  "language_info": {
   "codemirror_mode": {
    "name": "ipython",
    "version": 3
   },
   "file_extension": ".py",
   "mimetype": "text/x-python",
   "name": "python",
   "nbconvert_exporter": "python",
   "pygments_lexer": "ipython3",
   "version": "3.7.4"
  }
 },
 "nbformat": 4,
 "nbformat_minor": 4
}

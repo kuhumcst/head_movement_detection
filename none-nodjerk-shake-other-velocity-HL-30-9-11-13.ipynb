{
 "cells": [
  {
   "cell_type": "markdown",
   "metadata": {},
   "source": [
    "## Real experiments for head movements"
   ]
  },
  {
   "cell_type": "code",
   "execution_count": 49,
   "metadata": {},
   "outputs": [],
   "source": [
    "import pandas as pd\n",
    "import numpy as np\n",
    "import matplotlib.pyplot as plt\n",
    "from sklearn.preprocessing import MinMaxScaler\n",
    "%matplotlib inline"
   ]
  },
  {
   "cell_type": "code",
   "execution_count": 50,
   "metadata": {},
   "outputs": [],
   "source": [
    "from sklearn.model_selection import StratifiedKFold\n",
    "from sklearn.model_selection import KFold\n",
    "from sklearn.linear_model import LogisticRegression\n",
    "from sklearn.metrics import confusion_matrix, accuracy_score,f1_score\n",
    "from sklearn.neural_network import MLPClassifier\n",
    "from sklearn.svm import SVC,LinearSVC\n",
    "from sklearn.dummy import DummyClassifier\n",
    "from seqlearn.perceptron import StructuredPerceptron\n",
    "import sklearn_crfsuite\n",
    "from sklearn_crfsuite import metrics as skcrfmetrics\n",
    "from scipy.stats import pearsonr,spearmanr"
   ]
  },
  {
   "cell_type": "code",
   "execution_count": 51,
   "metadata": {},
   "outputs": [],
   "source": [
    "import glob"
   ]
  },
  {
   "cell_type": "code",
   "execution_count": 52,
   "metadata": {},
   "outputs": [
    {
     "data": {
      "text/plain": [
       "'C:\\\\Users\\\\zgk261\\\\nomco\\\\9-11-13\\\\middle\\\\'"
      ]
     },
     "execution_count": 52,
     "metadata": {},
     "output_type": "execute_result"
    }
   ],
   "source": [
    "windowsize=\"9-11-13\"\n",
    "memory=\"middle\"\n",
    "\n",
    "PATH = \"C:\\\\Users\\\\zgk261\\\\nomco\\\\\"+windowsize+\"\\\\\"+memory+\"\\\\\"\n",
    "PATH"
   ]
  },
  {
   "cell_type": "code",
   "execution_count": 53,
   "metadata": {},
   "outputs": [
    {
     "name": "stdout",
     "output_type": "stream",
     "text": [
      "F2_M4-all-final2_primary_F2.T-Tilt-ST-SideTurn-HO-HeadOther-S-Shake-W-Waggle-N-Nod-J-Jerk-HB-HeadBackward-HF-HeadForward--rdXY.svm.9-11-13-middle.tab\n",
      "F2_M4-all-final2_primary_M4.T-Tilt-ST-SideTurn-HO-HeadOther-S-Shake-W-Waggle-N-Nod-J-Jerk-HB-HeadBackward-HF-HeadForward--rdXY.svm.9-11-13-middle.tab\n",
      "F3_F6-all-final2_primary_F3.T-Tilt-ST-SideTurn-HO-HeadOther-S-Shake-W-Waggle-N-Nod-J-Jerk-HB-HeadBackward-HF-HeadForward--rdXY.svm.9-11-13-middle.tab\n",
      "F3_F6-all-final2_primary_F6.T-Tilt-ST-SideTurn-HO-HeadOther-S-Shake-W-Waggle-N-Nod-J-Jerk-HB-HeadBackward-HF-HeadForward--rdXY.svm.9-11-13-middle.tab\n",
      "F4_F1-all-final2_primary_F1.T-Tilt-ST-SideTurn-HO-HeadOther-S-Shake-W-Waggle-N-Nod-J-Jerk-HB-HeadBackward-HF-HeadForward--rdXY.svm.9-11-13-middle.tab\n",
      "F4_F1-all-final2_primary_F4.T-Tilt-ST-SideTurn-HO-HeadOther-S-Shake-W-Waggle-N-Nod-J-Jerk-HB-HeadBackward-HF-HeadForward--rdXY.svm.9-11-13-middle.tab\n",
      "F5_F2-all-final2_primary_F2.T-Tilt-ST-SideTurn-HO-HeadOther-S-Shake-W-Waggle-N-Nod-J-Jerk-HB-HeadBackward-HF-HeadForward--rdXY.svm.9-11-13-middle.tab\n",
      "F5_F2-all-final2_primary_F5.T-Tilt-ST-SideTurn-HO-HeadOther-S-Shake-W-Waggle-N-Nod-J-Jerk-HB-HeadBackward-HF-HeadForward--rdXY.svm.9-11-13-middle.tab\n",
      "F5_M3-all-final2_primary_F5.T-Tilt-ST-SideTurn-HO-HeadOther-S-Shake-W-Waggle-N-Nod-J-Jerk-HB-HeadBackward-HF-HeadForward--rdXY.svm.9-11-13-middle.tab\n",
      "F5_M3-all-final2_primary_M3.T-Tilt-ST-SideTurn-HO-HeadOther-S-Shake-W-Waggle-N-Nod-J-Jerk-HB-HeadBackward-HF-HeadForward--rdXY.svm.9-11-13-middle.tab\n",
      "F6_M2-all-final2_primary_F6.T-Tilt-ST-SideTurn-HO-HeadOther-S-Shake-W-Waggle-N-Nod-J-Jerk-HB-HeadBackward-HF-HeadForward--rdXY.svm.9-11-13-middle.tab\n",
      "F6_M2-all-final2_primary_M2.T-Tilt-ST-SideTurn-HO-HeadOther-S-Shake-W-Waggle-N-Nod-J-Jerk-HB-HeadBackward-HF-HeadForward--rdXY.svm.9-11-13-middle.tab\n",
      "M1_F4-all-final2_primary_F4.T-Tilt-ST-SideTurn-HO-HeadOther-S-Shake-W-Waggle-N-Nod-J-Jerk-HB-HeadBackward-HF-HeadForward--rdXY.svm.9-11-13-middle.tab\n",
      "M1_F4-all-final2_primary_M1.T-Tilt-ST-SideTurn-HO-HeadOther-S-Shake-W-Waggle-N-Nod-J-Jerk-HB-HeadBackward-HF-HeadForward--rdXY.svm.9-11-13-middle.tab\n",
      "M1_M5-all-final2_primary_M1.T-Tilt-ST-SideTurn-HO-HeadOther-S-Shake-W-Waggle-N-Nod-J-Jerk-HB-HeadBackward-HF-HeadForward--rdXY.svm.9-11-13-middle.tab\n",
      "M1_M5-all-final2_primary_M5.T-Tilt-ST-SideTurn-HO-HeadOther-S-Shake-W-Waggle-N-Nod-J-Jerk-HB-HeadBackward-HF-HeadForward--rdXY.svm.9-11-13-middle.tab\n",
      "M2_M4-all-final2_primary_M2.T-Tilt-ST-SideTurn-HO-HeadOther-S-Shake-W-Waggle-N-Nod-J-Jerk-HB-HeadBackward-HF-HeadForward--rdXY.svm.9-11-13-middle.tab\n",
      "M2_M4-all-final2_primary_M4.T-Tilt-ST-SideTurn-HO-HeadOther-S-Shake-W-Waggle-N-Nod-J-Jerk-HB-HeadBackward-HF-HeadForward--rdXY.svm.9-11-13-middle.tab\n",
      "M3_M6-all-final2_primary_M3.T-Tilt-ST-SideTurn-HO-HeadOther-S-Shake-W-Waggle-N-Nod-J-Jerk-HB-HeadBackward-HF-HeadForward--rdXY.svm.9-11-13-middle.tab\n",
      "M3_M6-all-final2_primary_M6.T-Tilt-ST-SideTurn-HO-HeadOther-S-Shake-W-Waggle-N-Nod-J-Jerk-HB-HeadBackward-HF-HeadForward--rdXY.svm.9-11-13-middle.tab\n",
      "M5_F3-all-final2_primary_F3.T-Tilt-ST-SideTurn-HO-HeadOther-S-Shake-W-Waggle-N-Nod-J-Jerk-HB-HeadBackward-HF-HeadForward--rdXY.svm.9-11-13-middle.tab\n",
      "M5_F3-all-final2_primary_M5.T-Tilt-ST-SideTurn-HO-HeadOther-S-Shake-W-Waggle-N-Nod-J-Jerk-HB-HeadBackward-HF-HeadForward--rdXY.svm.9-11-13-middle.tab\n",
      "M6_F1-all-final2_primary_F1.T-Tilt-ST-SideTurn-HO-HeadOther-S-Shake-W-Waggle-N-Nod-J-Jerk-HB-HeadBackward-HF-HeadForward--rdXY.svm.9-11-13-middle.tab\n",
      "M6_F1-all-final2_primary_M6.T-Tilt-ST-SideTurn-HO-HeadOther-S-Shake-W-Waggle-N-Nod-J-Jerk-HB-HeadBackward-HF-HeadForward--rdXY.svm.9-11-13-middle.tab\n"
     ]
    }
   ],
   "source": [
    "!dir /B C:\\Users\\zgk261\\nomco\\9-11-13\\middle\\"
   ]
  },
  {
   "cell_type": "markdown",
   "metadata": {},
   "source": [
    "### SKELETON TO READ FILES, SPEAKERS and PRIMARY SPEAKERS\n"
   ]
  },
  {
   "cell_type": "code",
   "execution_count": 54,
   "metadata": {},
   "outputs": [],
   "source": [
    "speaker_set = set()\n",
    "\n",
    "for each_file in glob.glob(PATH+\"*.tab\"):\n",
    "    filename=each_file.split(\"\\\\\")[-1]\n",
    "    fileinfo=filename.split(\"-\")\n",
    "    \n",
    "    primary_speaker = fileinfo[2].split(\"_\")[-1][:-2] #fileinfo[2] = final2_primary_M1.T\n",
    "    speakers = fileinfo[0]\n",
    "    l_speaker,r_speaker = speakers.split(\"_\")\n",
    "\n",
    "    speaker_set.add(primary_speaker)"
   ]
  },
  {
   "cell_type": "code",
   "execution_count": 55,
   "metadata": {},
   "outputs": [
    {
     "data": {
      "text/plain": [
       "{'F1', 'F2', 'F3', 'F4', 'F5', 'F6', 'M1', 'M2', 'M3', 'M4', 'M5', 'M6'}"
      ]
     },
     "execution_count": 55,
     "metadata": {},
     "output_type": "execute_result"
    }
   ],
   "source": [
    "speaker_set"
   ]
  },
  {
   "cell_type": "markdown",
   "metadata": {},
   "source": [
    "### SKELETON TO READ FILES AND COSS_VALIDATE\n",
    "\n",
    "In the following way: In each iteration, we will leave one speaker out (two files), train a model and test on those two files."
   ]
  },
  {
   "cell_type": "code",
   "execution_count": 56,
   "metadata": {
    "scrolled": true
   },
   "outputs": [
    {
     "name": "stdout",
     "output_type": "stream",
     "text": [
      "Speaker on focus: F5\n",
      "Training data size: (181647, 28)\n",
      "Testing data size: (16413, 28)\n",
      "\n",
      "Speaker on focus: F6\n",
      "Training data size: (182822, 28)\n",
      "Testing data size: (15238, 28)\n",
      "\n",
      "Speaker on focus: M2\n",
      "Training data size: (182715, 28)\n",
      "Testing data size: (15345, 28)\n",
      "\n",
      "Speaker on focus: M4\n",
      "Training data size: (181548, 28)\n",
      "Testing data size: (16512, 28)\n",
      "\n",
      "Speaker on focus: F1\n",
      "Training data size: (181919, 28)\n",
      "Testing data size: (16141, 28)\n",
      "\n",
      "Speaker on focus: F3\n",
      "Training data size: (181651, 28)\n",
      "Testing data size: (16409, 28)\n",
      "\n",
      "Speaker on focus: M3\n",
      "Training data size: (181426, 28)\n",
      "Testing data size: (16634, 28)\n",
      "\n",
      "Speaker on focus: M5\n",
      "Training data size: (180649, 28)\n",
      "Testing data size: (17411, 28)\n",
      "\n",
      "Speaker on focus: M1\n",
      "Training data size: (180025, 28)\n",
      "Testing data size: (18035, 28)\n",
      "\n",
      "Speaker on focus: F2\n",
      "Training data size: (181593, 28)\n",
      "Testing data size: (16467, 28)\n",
      "\n",
      "Speaker on focus: F4\n",
      "Training data size: (181137, 28)\n",
      "Testing data size: (16923, 28)\n",
      "\n",
      "Speaker on focus: M6\n",
      "Training data size: (181528, 28)\n",
      "Testing data size: (16532, 28)\n",
      "\n"
     ]
    }
   ],
   "source": [
    "\n",
    "for speaker_on_focus in speaker_set:\n",
    "    train_files = []\n",
    "    test_files  = []\n",
    "    \n",
    "    for each_file in glob.glob(PATH+\"*.tab\"):\n",
    "        filename=each_file.split(\"\\\\\")[-1]\n",
    "        fileinfo=filename.split(\"-\")\n",
    "\n",
    "        primary_speaker = fileinfo[2].split(\"_\")[-1][:-2] #fileinfo[2] = final2_primary_M1.T\n",
    "        speakers = fileinfo[0]\n",
    "        l_speaker,r_speaker = speakers.split(\"_\")\n",
    "        if primary_speaker == l_speaker:\n",
    "            secondary_speaker = r_speaker\n",
    "        else:\n",
    "            secondary_speaker = l_speaker\n",
    "\n",
    "        #print (primary_speaker,l_speaker,r_speaker,speaker_on_focus)\n",
    "\n",
    "        file_df = pd.read_csv(each_file,sep=\"\\t\")\n",
    "        file_df.columns = [el.replace(primary_speaker, \"PRIMA\").replace(secondary_speaker, \"SECON\") for el in file_df.columns]\n",
    "\n",
    "        if primary_speaker != speaker_on_focus:\n",
    "            #FILES TO TRAIN!\n",
    "            train_files.append(file_df)\n",
    "        else:\n",
    "            #FILES TO TEST!\n",
    "            test_files.append(file_df)\n",
    "            \n",
    "        \n",
    "        \n",
    "    training_data = pd.concat(train_files, ignore_index=True)\n",
    "    testing_data = pd.concat(test_files, ignore_index=True)\n",
    "    print (\"Speaker on focus:\",speaker_on_focus)\n",
    "    print (\"Training data size:\",training_data.shape)\n",
    "    print (\"Testing data size:\",testing_data.shape)\n",
    "    print ()\n"
   ]
  },
  {
   "cell_type": "markdown",
   "metadata": {},
   "source": [
    "### Experiments:\n",
    "\n",
    "It seems that in the 3-6-9 experiments considering both the past and future of frames, the MLP was not the best model, but the Logistic Regression. I think, though, that the MLP will show good performance when cross-validating with the whole data.\n",
    "\n",
    "I will, then, try 3 classifiers:\n",
    "\n",
    "  * SVM, because it is the default classifier that is commonly used\n",
    "  * Logistic Regression, because it seems to perform the best in our initial experiments with two dialogue data\n",
    "  * MLP, because when including more data, I expect to estimate a more general (and thus, better) model"
   ]
  },
  {
   "cell_type": "code",
   "execution_count": 57,
   "metadata": {},
   "outputs": [
    {
     "data": {
      "text/html": [
       "<div>\n",
       "<style scoped>\n",
       "    .dataframe tbody tr th:only-of-type {\n",
       "        vertical-align: middle;\n",
       "    }\n",
       "\n",
       "    .dataframe tbody tr th {\n",
       "        vertical-align: top;\n",
       "    }\n",
       "\n",
       "    .dataframe thead th {\n",
       "        text-align: right;\n",
       "    }\n",
       "</style>\n",
       "<table border=\"1\" class=\"dataframe\">\n",
       "  <thead>\n",
       "    <tr style=\"text-align: right;\">\n",
       "      <th></th>\n",
       "      <th>F5</th>\n",
       "      <th>F6</th>\n",
       "      <th>M2</th>\n",
       "      <th>M4</th>\n",
       "      <th>F1</th>\n",
       "      <th>F3</th>\n",
       "      <th>M3</th>\n",
       "      <th>M5</th>\n",
       "      <th>M1</th>\n",
       "      <th>F2</th>\n",
       "      <th>F4</th>\n",
       "      <th>M6</th>\n",
       "    </tr>\n",
       "  </thead>\n",
       "  <tbody>\n",
       "    <tr>\n",
       "      <td>MF</td>\n",
       "      <td>0</td>\n",
       "      <td>0</td>\n",
       "      <td>0</td>\n",
       "      <td>0</td>\n",
       "      <td>0</td>\n",
       "      <td>0</td>\n",
       "      <td>0</td>\n",
       "      <td>0</td>\n",
       "      <td>0</td>\n",
       "      <td>0</td>\n",
       "      <td>0</td>\n",
       "      <td>0</td>\n",
       "    </tr>\n",
       "  </tbody>\n",
       "</table>\n",
       "</div>"
      ],
      "text/plain": [
       "    F5  F6  M2  M4  F1  F3  M3  M5  M1  F2  F4  M6\n",
       "MF   0   0   0   0   0   0   0   0   0   0   0   0"
      ]
     },
     "execution_count": 57,
     "metadata": {},
     "output_type": "execute_result"
    }
   ],
   "source": [
    "accuracy_results = pd.DataFrame(0,columns=speaker_set,index=[\"MF\"])\n",
    "accuracy_results"
   ]
  },
  {
   "cell_type": "code",
   "execution_count": 58,
   "metadata": {},
   "outputs": [],
   "source": [
    "import math\n",
    "\n",
    "def map_movements(mov_class):\n",
    "    if mov_class == \"Nod\" or mov_class == \"Jerk\":\n",
    "        return 1\n",
    "    elif mov_class == \"Shake\":\n",
    "        return 2\n",
    "    elif mov_class!=mov_class: #This returns True if the value is NAN, and it works. It might be source of errors.\n",
    "        return 0\n",
    "    else:\n",
    "        return 3\n",
    "\n"
   ]
  },
  {
   "cell_type": "code",
   "execution_count": 59,
   "metadata": {
    "scrolled": true
   },
   "outputs": [
    {
     "name": "stdout",
     "output_type": "stream",
     "text": [
      "Speaker on focus: F5\n",
      "Training data size: (181647, 28)\n",
      "Testing data size: (16413, 28)\n",
      "\n",
      "Trying classifier  MF F5\n"
     ]
    },
    {
     "name": "stderr",
     "output_type": "stream",
     "text": [
      "C:\\ProgramData\\Anaconda3\\lib\\site-packages\\sklearn\\metrics\\classification.py:1437: UndefinedMetricWarning: F-score is ill-defined and being set to 0.0 in labels with no predicted samples.\n",
      "  'precision', 'predicted', average, warn_for)\n"
     ]
    },
    {
     "name": "stdout",
     "output_type": "stream",
     "text": [
      "[[12154     0     0     0]\n",
      " [ 1330     0     0     0]\n",
      " [  914     0     0     0]\n",
      " [ 2015     0     0     0]]\n",
      "0.7405105708889295\n",
      "0.21272797283578954\n",
      "0.6301092504347008\n",
      "\n",
      "Trying classifier  LR F5\n"
     ]
    },
    {
     "name": "stderr",
     "output_type": "stream",
     "text": [
      "C:\\ProgramData\\Anaconda3\\lib\\site-packages\\sklearn\\linear_model\\logistic.py:469: FutureWarning: Default multi_class will be changed to 'auto' in 0.22. Specify the multi_class option to silence this warning.\n",
      "  \"this warning.\", FutureWarning)\n",
      "C:\\ProgramData\\Anaconda3\\lib\\site-packages\\sklearn\\metrics\\classification.py:1437: UndefinedMetricWarning: F-score is ill-defined and being set to 0.0 in labels with no predicted samples.\n",
      "  'precision', 'predicted', average, warn_for)\n"
     ]
    },
    {
     "name": "stdout",
     "output_type": "stream",
     "text": [
      "[[11891     0     0   263]\n",
      " [ 1230     0     0   100]\n",
      " [  850     0     0    64]\n",
      " [ 1770     0     0   245]]\n",
      "0.7394138792420643\n",
      "0.2587284324831014\n",
      "0.6537134231660671\n",
      "\n",
      "Trying classifier  LINEARSVC F5\n"
     ]
    },
    {
     "name": "stderr",
     "output_type": "stream",
     "text": [
      "C:\\ProgramData\\Anaconda3\\lib\\site-packages\\sklearn\\metrics\\classification.py:1437: UndefinedMetricWarning: F-score is ill-defined and being set to 0.0 in labels with no predicted samples.\n",
      "  'precision', 'predicted', average, warn_for)\n"
     ]
    },
    {
     "name": "stdout",
     "output_type": "stream",
     "text": [
      "[[11944     0     0   210]\n",
      " [ 1243     0     0    87]\n",
      " [  858     0     0    56]\n",
      " [ 1827     0     0   188]]\n",
      "0.7391701699872053\n",
      "0.24986405983176585\n",
      "0.6492350603268261\n",
      "\n",
      "Trying classifier  MLP F5\n"
     ]
    },
    {
     "name": "stderr",
     "output_type": "stream",
     "text": [
      "C:\\ProgramData\\Anaconda3\\lib\\site-packages\\sklearn\\metrics\\classification.py:1437: UndefinedMetricWarning: F-score is ill-defined and being set to 0.0 in labels with no predicted samples.\n",
      "  'precision', 'predicted', average, warn_for)\n"
     ]
    },
    {
     "name": "stdout",
     "output_type": "stream",
     "text": [
      "[[11239    27     0   888]\n",
      " [ 1097    26     0   207]\n",
      " [  798     1     0   115]\n",
      " [ 1354    38     0   623]]\n",
      "0.7243039054408091\n",
      "0.3010195537771085\n",
      "0.6674890456730501\n",
      "\n",
      "Speaker on focus: F6\n",
      "Training data size: (182822, 28)\n",
      "Testing data size: (15238, 28)\n",
      "\n",
      "Trying classifier  MF F6\n"
     ]
    },
    {
     "name": "stderr",
     "output_type": "stream",
     "text": [
      "C:\\ProgramData\\Anaconda3\\lib\\site-packages\\sklearn\\metrics\\classification.py:1437: UndefinedMetricWarning: F-score is ill-defined and being set to 0.0 in labels with no predicted samples.\n",
      "  'precision', 'predicted', average, warn_for)\n"
     ]
    },
    {
     "name": "stdout",
     "output_type": "stream",
     "text": [
      "[[7718    0    0    0]\n",
      " [3393    0    0    0]\n",
      " [ 435    0    0    0]\n",
      " [3692    0    0    0]]\n",
      "0.5064969156057225\n",
      "0.16810419933786372\n",
      "0.34057703385999005\n",
      "\n",
      "Trying classifier  LR F6\n"
     ]
    },
    {
     "name": "stderr",
     "output_type": "stream",
     "text": [
      "C:\\ProgramData\\Anaconda3\\lib\\site-packages\\sklearn\\linear_model\\logistic.py:469: FutureWarning: Default multi_class will be changed to 'auto' in 0.22. Specify the multi_class option to silence this warning.\n",
      "  \"this warning.\", FutureWarning)\n",
      "C:\\ProgramData\\Anaconda3\\lib\\site-packages\\sklearn\\metrics\\classification.py:1437: UndefinedMetricWarning: F-score is ill-defined and being set to 0.0 in labels with no predicted samples.\n",
      "  'precision', 'predicted', average, warn_for)\n"
     ]
    },
    {
     "name": "stdout",
     "output_type": "stream",
     "text": [
      "[[7334    0    0  384]\n",
      " [2782    0    0  611]\n",
      " [ 381    0    0   54]\n",
      " [2826    0    0  866]]\n",
      "0.5381283633022707\n",
      "0.2515036864805561\n",
      "0.4279296535305882\n",
      "\n",
      "Trying classifier  LINEARSVC F6\n"
     ]
    },
    {
     "name": "stderr",
     "output_type": "stream",
     "text": [
      "C:\\ProgramData\\Anaconda3\\lib\\site-packages\\sklearn\\metrics\\classification.py:1437: UndefinedMetricWarning: F-score is ill-defined and being set to 0.0 in labels with no predicted samples.\n",
      "  'precision', 'predicted', average, warn_for)\n"
     ]
    },
    {
     "name": "stdout",
     "output_type": "stream",
     "text": [
      "[[7413    0    0  305]\n",
      " [2906    0    0  487]\n",
      " [ 391    0    0   44]\n",
      " [2958    0    0  734]]\n",
      "0.5346502165638535\n",
      "0.24305966175366023\n",
      "0.41872679211673014\n",
      "\n",
      "Trying classifier  MLP F6\n"
     ]
    },
    {
     "name": "stderr",
     "output_type": "stream",
     "text": [
      "C:\\ProgramData\\Anaconda3\\lib\\site-packages\\sklearn\\metrics\\classification.py:1437: UndefinedMetricWarning: F-score is ill-defined and being set to 0.0 in labels with no predicted samples.\n",
      "  'precision', 'predicted', average, warn_for)\n"
     ]
    },
    {
     "name": "stdout",
     "output_type": "stream",
     "text": [
      "[[6076   11    0 1631]\n",
      " [1721   99    0 1573]\n",
      " [ 244    0    0  191]\n",
      " [1676   47    0 1969]]\n",
      "0.5344533403333771\n",
      "0.2969033217024204\n",
      "0.470801194828184\n",
      "\n",
      "Speaker on focus: M2\n",
      "Training data size: (182715, 28)\n",
      "Testing data size: (15345, 28)\n",
      "\n",
      "Trying classifier  MF M2\n"
     ]
    },
    {
     "name": "stderr",
     "output_type": "stream",
     "text": [
      "C:\\ProgramData\\Anaconda3\\lib\\site-packages\\sklearn\\metrics\\classification.py:1437: UndefinedMetricWarning: F-score is ill-defined and being set to 0.0 in labels with no predicted samples.\n",
      "  'precision', 'predicted', average, warn_for)\n"
     ]
    },
    {
     "name": "stdout",
     "output_type": "stream",
     "text": [
      "[[10965     0     0     0]\n",
      " [ 1608     0     0     0]\n",
      " [  156     0     0     0]\n",
      " [ 2616     0     0     0]]\n",
      "0.7145650048875856\n",
      "0.20838084378563285\n",
      "0.5956066346326397\n",
      "\n",
      "Trying classifier  LR M2\n"
     ]
    },
    {
     "name": "stderr",
     "output_type": "stream",
     "text": [
      "C:\\ProgramData\\Anaconda3\\lib\\site-packages\\sklearn\\linear_model\\logistic.py:469: FutureWarning: Default multi_class will be changed to 'auto' in 0.22. Specify the multi_class option to silence this warning.\n",
      "  \"this warning.\", FutureWarning)\n",
      "C:\\ProgramData\\Anaconda3\\lib\\site-packages\\sklearn\\metrics\\classification.py:1437: UndefinedMetricWarning: F-score is ill-defined and being set to 0.0 in labels with no predicted samples.\n",
      "  'precision', 'predicted', average, warn_for)\n"
     ]
    },
    {
     "name": "stdout",
     "output_type": "stream",
     "text": [
      "[[10877     0     0    88]\n",
      " [ 1573     0     0    35]\n",
      " [  150     0     0     6]\n",
      " [ 2354     0     0   262]]\n",
      "0.7259042033235582\n",
      "0.2533917829731065\n",
      "0.629447139877914\n",
      "\n",
      "Trying classifier  LINEARSVC M2\n"
     ]
    },
    {
     "name": "stderr",
     "output_type": "stream",
     "text": [
      "C:\\ProgramData\\Anaconda3\\lib\\site-packages\\sklearn\\metrics\\classification.py:1437: UndefinedMetricWarning: F-score is ill-defined and being set to 0.0 in labels with no predicted samples.\n",
      "  'precision', 'predicted', average, warn_for)\n"
     ]
    },
    {
     "name": "stdout",
     "output_type": "stream",
     "text": [
      "[[10890     0     0    75]\n",
      " [ 1591     0     0    17]\n",
      " [  152     0     0     4]\n",
      " [ 2403     0     0   213]]\n",
      "0.7235581622678396\n",
      "0.24582527890939107\n",
      "0.6233913202925364\n",
      "\n",
      "Trying classifier  MLP M2\n"
     ]
    },
    {
     "name": "stderr",
     "output_type": "stream",
     "text": [
      "C:\\ProgramData\\Anaconda3\\lib\\site-packages\\sklearn\\metrics\\classification.py:1437: UndefinedMetricWarning: F-score is ill-defined and being set to 0.0 in labels with no predicted samples.\n",
      "  'precision', 'predicted', average, warn_for)\n"
     ]
    },
    {
     "name": "stdout",
     "output_type": "stream",
     "text": [
      "[[10656     5     0   304]\n",
      " [ 1409    19     0   180]\n",
      " [  139     0     0    17]\n",
      " [ 1980    19     0   617]]\n",
      "0.7358748778103616\n",
      "0.3002305938898933\n",
      "0.6642945489075717\n",
      "\n",
      "Speaker on focus: M4\n",
      "Training data size: (181548, 28)\n",
      "Testing data size: (16512, 28)\n",
      "\n",
      "Trying classifier  MF M4\n"
     ]
    },
    {
     "name": "stderr",
     "output_type": "stream",
     "text": [
      "C:\\ProgramData\\Anaconda3\\lib\\site-packages\\sklearn\\metrics\\classification.py:1437: UndefinedMetricWarning: F-score is ill-defined and being set to 0.0 in labels with no predicted samples.\n",
      "  'precision', 'predicted', average, warn_for)\n"
     ]
    },
    {
     "name": "stdout",
     "output_type": "stream",
     "text": [
      "[[10705     0     0     0]\n",
      " [ 1702     0     0     0]\n",
      " [  539     0     0     0]\n",
      " [ 3566     0     0     0]]\n",
      "0.6483163759689923\n",
      "0.19666017562552818\n",
      "0.509992049435872\n",
      "\n",
      "Trying classifier  LR M4\n"
     ]
    },
    {
     "name": "stderr",
     "output_type": "stream",
     "text": [
      "C:\\ProgramData\\Anaconda3\\lib\\site-packages\\sklearn\\linear_model\\logistic.py:469: FutureWarning: Default multi_class will be changed to 'auto' in 0.22. Specify the multi_class option to silence this warning.\n",
      "  \"this warning.\", FutureWarning)\n",
      "C:\\ProgramData\\Anaconda3\\lib\\site-packages\\sklearn\\metrics\\classification.py:1437: UndefinedMetricWarning: F-score is ill-defined and being set to 0.0 in labels with no predicted samples.\n",
      "  'precision', 'predicted', average, warn_for)\n"
     ]
    },
    {
     "name": "stdout",
     "output_type": "stream",
     "text": [
      "[[10332     0     0   373]\n",
      " [ 1563     0     0   139]\n",
      " [  492     0     0    47]\n",
      " [ 3154     0     0   412]]\n",
      "0.6506782945736435\n",
      "0.24223444542305522\n",
      "0.5496553666225803\n",
      "\n",
      "Trying classifier  LINEARSVC M4\n"
     ]
    },
    {
     "name": "stderr",
     "output_type": "stream",
     "text": [
      "C:\\ProgramData\\Anaconda3\\lib\\site-packages\\sklearn\\metrics\\classification.py:1437: UndefinedMetricWarning: F-score is ill-defined and being set to 0.0 in labels with no predicted samples.\n",
      "  'precision', 'predicted', average, warn_for)\n"
     ]
    },
    {
     "name": "stdout",
     "output_type": "stream",
     "text": [
      "[[10370     0     0   335]\n",
      " [ 1591     0     0   111]\n",
      " [  499     0     0    40]\n",
      " [ 3212     0     0   354]]\n",
      "0.6494670542635659\n",
      "0.236745263789236\n",
      "0.5444686599016326\n",
      "\n",
      "Trying classifier  MLP M4\n"
     ]
    },
    {
     "name": "stderr",
     "output_type": "stream",
     "text": [
      "C:\\ProgramData\\Anaconda3\\lib\\site-packages\\sklearn\\metrics\\classification.py:1437: UndefinedMetricWarning: F-score is ill-defined and being set to 0.0 in labels with no predicted samples.\n",
      "  'precision', 'predicted', average, warn_for)\n"
     ]
    },
    {
     "name": "stdout",
     "output_type": "stream",
     "text": [
      "[[10016    26     0   663]\n",
      " [ 1398    74     0   230]\n",
      " [  447     0     0    92]\n",
      " [ 2749    56     0   761]]\n",
      "0.6571584302325582\n",
      "0.28937153205722005\n",
      "0.5831078078135699\n",
      "\n",
      "Speaker on focus: F1\n",
      "Training data size: (181919, 28)\n",
      "Testing data size: (16141, 28)\n",
      "\n",
      "Trying classifier  MF F1\n"
     ]
    },
    {
     "name": "stderr",
     "output_type": "stream",
     "text": [
      "C:\\ProgramData\\Anaconda3\\lib\\site-packages\\sklearn\\metrics\\classification.py:1437: UndefinedMetricWarning: F-score is ill-defined and being set to 0.0 in labels with no predicted samples.\n",
      "  'precision', 'predicted', average, warn_for)\n"
     ]
    },
    {
     "name": "stdout",
     "output_type": "stream",
     "text": [
      "[[10841     0     0     0]\n",
      " [  829     0     0     0]\n",
      " [  725     0     0     0]\n",
      " [ 3746     0     0     0]]\n",
      "0.6716436404188092\n",
      "0.20089318805129347\n",
      "0.5397145286324446\n",
      "\n",
      "Trying classifier  LR F1\n"
     ]
    },
    {
     "name": "stderr",
     "output_type": "stream",
     "text": [
      "C:\\ProgramData\\Anaconda3\\lib\\site-packages\\sklearn\\linear_model\\logistic.py:469: FutureWarning: Default multi_class will be changed to 'auto' in 0.22. Specify the multi_class option to silence this warning.\n",
      "  \"this warning.\", FutureWarning)\n",
      "C:\\ProgramData\\Anaconda3\\lib\\site-packages\\sklearn\\metrics\\classification.py:1437: UndefinedMetricWarning: F-score is ill-defined and being set to 0.0 in labels with no predicted samples.\n",
      "  'precision', 'predicted', average, warn_for)\n"
     ]
    },
    {
     "name": "stdout",
     "output_type": "stream",
     "text": [
      "[[10605     0     0   236]\n",
      " [  762     0     0    67]\n",
      " [  667     0     0    58]\n",
      " [ 3162     0     0   584]]\n",
      "0.6932036428969705\n",
      "0.26589935020811073\n",
      "0.6049125616873265\n",
      "\n",
      "Trying classifier  LINEARSVC F1\n"
     ]
    },
    {
     "name": "stderr",
     "output_type": "stream",
     "text": [
      "C:\\ProgramData\\Anaconda3\\lib\\site-packages\\sklearn\\metrics\\classification.py:1437: UndefinedMetricWarning: F-score is ill-defined and being set to 0.0 in labels with no predicted samples.\n",
      "  'precision', 'predicted', average, warn_for)\n"
     ]
    },
    {
     "name": "stdout",
     "output_type": "stream",
     "text": [
      "[[10644     0     0   197]\n",
      " [  775     0     0    54]\n",
      " [  678     0     0    47]\n",
      " [ 3229     0     0   517]]\n",
      "0.6914689300539\n",
      "0.2600621116352259\n",
      "0.5990250774485912\n",
      "\n",
      "Trying classifier  MLP F1\n"
     ]
    },
    {
     "name": "stderr",
     "output_type": "stream",
     "text": [
      "C:\\ProgramData\\Anaconda3\\lib\\site-packages\\sklearn\\metrics\\classification.py:1437: UndefinedMetricWarning: F-score is ill-defined and being set to 0.0 in labels with no predicted samples.\n",
      "  'precision', 'predicted', average, warn_for)\n"
     ]
    },
    {
     "name": "stdout",
     "output_type": "stream",
     "text": [
      "[[10318    62     0   461]\n",
      " [  522   143     0   164]\n",
      " [  596     7     0   122]\n",
      " [ 2532   180     0  1034]]\n",
      "0.712161576110526\n",
      "0.360048086553161\n",
      "0.6575357274241863\n",
      "\n",
      "Speaker on focus: F3\n",
      "Training data size: (181651, 28)\n",
      "Testing data size: (16409, 28)\n",
      "\n",
      "Trying classifier  MF F3\n"
     ]
    },
    {
     "name": "stderr",
     "output_type": "stream",
     "text": [
      "C:\\ProgramData\\Anaconda3\\lib\\site-packages\\sklearn\\metrics\\classification.py:1437: UndefinedMetricWarning: F-score is ill-defined and being set to 0.0 in labels with no predicted samples.\n",
      "  'precision', 'predicted', average, warn_for)\n"
     ]
    },
    {
     "name": "stdout",
     "output_type": "stream",
     "text": [
      "[[9660    0    0    0]\n",
      " [2223    0    0    0]\n",
      " [ 847    0    0    0]\n",
      " [3679    0    0    0]]\n",
      "0.5887013224449997\n",
      "0.18527753270167632\n",
      "0.4362925140832941\n",
      "\n",
      "Trying classifier  LR F3\n"
     ]
    },
    {
     "name": "stderr",
     "output_type": "stream",
     "text": [
      "C:\\ProgramData\\Anaconda3\\lib\\site-packages\\sklearn\\linear_model\\logistic.py:469: FutureWarning: Default multi_class will be changed to 'auto' in 0.22. Specify the multi_class option to silence this warning.\n",
      "  \"this warning.\", FutureWarning)\n",
      "C:\\ProgramData\\Anaconda3\\lib\\site-packages\\sklearn\\metrics\\classification.py:1437: UndefinedMetricWarning: F-score is ill-defined and being set to 0.0 in labels with no predicted samples.\n",
      "  'precision', 'predicted', average, warn_for)\n"
     ]
    },
    {
     "name": "stdout",
     "output_type": "stream",
     "text": [
      "[[9476    0    0  184]\n",
      " [2171    0    0   52]\n",
      " [ 812    0    0   35]\n",
      " [3445    0    0  234]]\n",
      "0.5917484307392284\n",
      "0.21330242875602132\n",
      "0.4615152037944927\n",
      "\n",
      "Trying classifier  LINEARSVC F3\n"
     ]
    },
    {
     "name": "stderr",
     "output_type": "stream",
     "text": [
      "C:\\ProgramData\\Anaconda3\\lib\\site-packages\\sklearn\\metrics\\classification.py:1437: UndefinedMetricWarning: F-score is ill-defined and being set to 0.0 in labels with no predicted samples.\n",
      "  'precision', 'predicted', average, warn_for)\n"
     ]
    },
    {
     "name": "stdout",
     "output_type": "stream",
     "text": [
      "[[9500    0    0  160]\n",
      " [2187    0    0   36]\n",
      " [ 816    0    0   31]\n",
      " [3495    0    0  184]]\n",
      "0.5901639344262295\n",
      "0.20762133316155462\n",
      "0.45611216698648893\n",
      "\n",
      "Trying classifier  MLP F3\n"
     ]
    },
    {
     "name": "stderr",
     "output_type": "stream",
     "text": [
      "C:\\ProgramData\\Anaconda3\\lib\\site-packages\\sklearn\\metrics\\classification.py:1437: UndefinedMetricWarning: F-score is ill-defined and being set to 0.0 in labels with no predicted samples.\n",
      "  'precision', 'predicted', average, warn_for)\n"
     ]
    },
    {
     "name": "stdout",
     "output_type": "stream",
     "text": [
      "[[9068   49    0  543]\n",
      " [1941   37    0  245]\n",
      " [ 698   11    0  138]\n",
      " [2685  113    0  881]]\n",
      "0.6085684685233713\n",
      "0.27640731062349666\n",
      "0.5200314770488633\n",
      "\n",
      "Speaker on focus: M3\n",
      "Training data size: (181426, 28)\n",
      "Testing data size: (16634, 28)\n",
      "\n",
      "Trying classifier  MF M3\n"
     ]
    },
    {
     "name": "stderr",
     "output_type": "stream",
     "text": [
      "C:\\ProgramData\\Anaconda3\\lib\\site-packages\\sklearn\\metrics\\classification.py:1437: UndefinedMetricWarning: F-score is ill-defined and being set to 0.0 in labels with no predicted samples.\n",
      "  'precision', 'predicted', average, warn_for)\n"
     ]
    },
    {
     "name": "stdout",
     "output_type": "stream",
     "text": [
      "[[11972     0     0     0]\n",
      " [  778     0     0     0]\n",
      " [  616     0     0     0]\n",
      " [ 3268     0     0     0]]\n",
      "0.71973067211735\n",
      "0.20925679927287982\n",
      "0.6024341471431808\n",
      "\n",
      "Trying classifier  LR M3\n"
     ]
    },
    {
     "name": "stderr",
     "output_type": "stream",
     "text": [
      "C:\\ProgramData\\Anaconda3\\lib\\site-packages\\sklearn\\linear_model\\logistic.py:469: FutureWarning: Default multi_class will be changed to 'auto' in 0.22. Specify the multi_class option to silence this warning.\n",
      "  \"this warning.\", FutureWarning)\n",
      "C:\\ProgramData\\Anaconda3\\lib\\site-packages\\sklearn\\metrics\\classification.py:1437: UndefinedMetricWarning: F-score is ill-defined and being set to 0.0 in labels with no predicted samples.\n",
      "  'precision', 'predicted', average, warn_for)\n"
     ]
    },
    {
     "name": "stdout",
     "output_type": "stream",
     "text": [
      "[[11478     0     0   494]\n",
      " [  705     0     0    73]\n",
      " [  572     0     0    44]\n",
      " [ 2855     0     0   413]]\n",
      "0.7148611278105086\n",
      "0.25618324868866826\n",
      "0.6368287414086554\n",
      "\n",
      "Trying classifier  LINEARSVC M3\n"
     ]
    },
    {
     "name": "stderr",
     "output_type": "stream",
     "text": [
      "C:\\ProgramData\\Anaconda3\\lib\\site-packages\\sklearn\\metrics\\classification.py:1437: UndefinedMetricWarning: F-score is ill-defined and being set to 0.0 in labels with no predicted samples.\n",
      "  'precision', 'predicted', average, warn_for)\n"
     ]
    },
    {
     "name": "stdout",
     "output_type": "stream",
     "text": [
      "[[11551     0     0   421]\n",
      " [  721     0     0    57]\n",
      " [  576     0     0    40]\n",
      " [ 2935     0     0   333]]\n",
      "0.714440302993868\n",
      "0.24851106530807557\n",
      "0.6308374703049264\n",
      "\n",
      "Trying classifier  MLP M3\n"
     ]
    },
    {
     "name": "stderr",
     "output_type": "stream",
     "text": [
      "C:\\ProgramData\\Anaconda3\\lib\\site-packages\\sklearn\\metrics\\classification.py:1437: UndefinedMetricWarning: F-score is ill-defined and being set to 0.0 in labels with no predicted samples.\n",
      "  'precision', 'predicted', average, warn_for)\n"
     ]
    },
    {
     "name": "stdout",
     "output_type": "stream",
     "text": [
      "[[10759    38     0  1175]\n",
      " [  540    33     0   205]\n",
      " [  495     3     0   118]\n",
      " [ 2203    63     0  1002]]\n",
      "0.7090296982084886\n",
      "0.31204215039125904\n",
      "0.6680035985427646\n",
      "\n",
      "Speaker on focus: M5\n",
      "Training data size: (180649, 28)\n",
      "Testing data size: (17411, 28)\n",
      "\n",
      "Trying classifier  MF M5\n"
     ]
    },
    {
     "name": "stderr",
     "output_type": "stream",
     "text": [
      "C:\\ProgramData\\Anaconda3\\lib\\site-packages\\sklearn\\metrics\\classification.py:1437: UndefinedMetricWarning: F-score is ill-defined and being set to 0.0 in labels with no predicted samples.\n",
      "  'precision', 'predicted', average, warn_for)\n"
     ]
    },
    {
     "name": "stdout",
     "output_type": "stream",
     "text": [
      "[[9595    0    0    0]\n",
      " [2325    0    0    0]\n",
      " [1014    0    0    0]\n",
      " [4477    0    0    0]]\n",
      "0.5510883923956119\n",
      "0.1776457083611049\n",
      "0.39159395134680414\n",
      "\n",
      "Trying classifier  LR M5\n"
     ]
    },
    {
     "name": "stderr",
     "output_type": "stream",
     "text": [
      "C:\\ProgramData\\Anaconda3\\lib\\site-packages\\sklearn\\linear_model\\logistic.py:469: FutureWarning: Default multi_class will be changed to 'auto' in 0.22. Specify the multi_class option to silence this warning.\n",
      "  \"this warning.\", FutureWarning)\n",
      "C:\\ProgramData\\Anaconda3\\lib\\site-packages\\sklearn\\metrics\\classification.py:1437: UndefinedMetricWarning: F-score is ill-defined and being set to 0.0 in labels with no predicted samples.\n",
      "  'precision', 'predicted', average, warn_for)\n"
     ]
    },
    {
     "name": "stdout",
     "output_type": "stream",
     "text": [
      "[[9464    0    0  131]\n",
      " [2285    0    0   40]\n",
      " [ 970    0    0   44]\n",
      " [4018    0    0  459]]\n",
      "0.5699270576072598\n",
      "0.22425975697979944\n",
      "0.44196029297590694\n",
      "\n",
      "Trying classifier  LINEARSVC M5\n"
     ]
    },
    {
     "name": "stderr",
     "output_type": "stream",
     "text": [
      "C:\\ProgramData\\Anaconda3\\lib\\site-packages\\sklearn\\metrics\\classification.py:1437: UndefinedMetricWarning: F-score is ill-defined and being set to 0.0 in labels with no predicted samples.\n",
      "  'precision', 'predicted', average, warn_for)\n"
     ]
    },
    {
     "name": "stdout",
     "output_type": "stream",
     "text": [
      "[[9474    0    0  121]\n",
      " [2299    0    0   26]\n",
      " [ 977    0    0   37]\n",
      " [4093    0    0  384]]\n",
      "0.5661937855378784\n",
      "0.2172313989886468\n",
      "0.434106502110659\n",
      "\n",
      "Trying classifier  MLP M5\n"
     ]
    },
    {
     "name": "stderr",
     "output_type": "stream",
     "text": [
      "C:\\ProgramData\\Anaconda3\\lib\\site-packages\\sklearn\\metrics\\classification.py:1437: UndefinedMetricWarning: F-score is ill-defined and being set to 0.0 in labels with no predicted samples.\n",
      "  'precision', 'predicted', average, warn_for)\n"
     ]
    },
    {
     "name": "stdout",
     "output_type": "stream",
     "text": [
      "[[9342    0    0  253]\n",
      " [2111    1    0  213]\n",
      " [ 923    0    0   91]\n",
      " [3312    9    0 1156]]\n",
      "0.6030095916374706\n",
      "0.27833919166739723\n",
      "0.5034075731925789\n",
      "\n",
      "Speaker on focus: M1\n",
      "Training data size: (180025, 28)\n",
      "Testing data size: (18035, 28)\n",
      "\n",
      "Trying classifier  MF M1\n"
     ]
    },
    {
     "name": "stderr",
     "output_type": "stream",
     "text": [
      "C:\\ProgramData\\Anaconda3\\lib\\site-packages\\sklearn\\metrics\\classification.py:1437: UndefinedMetricWarning: F-score is ill-defined and being set to 0.0 in labels with no predicted samples.\n",
      "  'precision', 'predicted', average, warn_for)\n"
     ]
    },
    {
     "name": "stdout",
     "output_type": "stream",
     "text": [
      "[[12498     0     0     0]\n",
      " [  805     0     0     0]\n",
      " [  489     0     0     0]\n",
      " [ 4243     0     0     0]]\n",
      "0.6929858608261713\n",
      "0.204663806373432\n",
      "0.5673164961586146\n",
      "\n",
      "Trying classifier  LR M1\n"
     ]
    },
    {
     "name": "stderr",
     "output_type": "stream",
     "text": [
      "C:\\ProgramData\\Anaconda3\\lib\\site-packages\\sklearn\\linear_model\\logistic.py:469: FutureWarning: Default multi_class will be changed to 'auto' in 0.22. Specify the multi_class option to silence this warning.\n",
      "  \"this warning.\", FutureWarning)\n",
      "C:\\ProgramData\\Anaconda3\\lib\\site-packages\\sklearn\\metrics\\classification.py:1437: UndefinedMetricWarning: F-score is ill-defined and being set to 0.0 in labels with no predicted samples.\n",
      "  'precision', 'predicted', average, warn_for)\n"
     ]
    },
    {
     "name": "stdout",
     "output_type": "stream",
     "text": [
      "[[11381     0     0  1117]\n",
      " [  738     0     0    67]\n",
      " [  433     0     0    56]\n",
      " [ 2807     0     0  1436]]\n",
      "0.7106736900471305\n",
      "0.3080476279598266\n",
      "0.6638956620850025\n",
      "\n",
      "Trying classifier  LINEARSVC M1\n"
     ]
    },
    {
     "name": "stderr",
     "output_type": "stream",
     "text": [
      "C:\\ProgramData\\Anaconda3\\lib\\site-packages\\sklearn\\metrics\\classification.py:1437: UndefinedMetricWarning: F-score is ill-defined and being set to 0.0 in labels with no predicted samples.\n",
      "  'precision', 'predicted', average, warn_for)\n"
     ]
    },
    {
     "name": "stdout",
     "output_type": "stream",
     "text": [
      "[[11463     0     0  1035]\n",
      " [  747     0     0    58]\n",
      " [  435     0     0    54]\n",
      " [ 2935     0     0  1308]]\n",
      "0.7081230939839201\n",
      "0.3017688737710168\n",
      "0.6577167090878696\n",
      "\n",
      "Trying classifier  MLP M1\n"
     ]
    },
    {
     "name": "stderr",
     "output_type": "stream",
     "text": [
      "C:\\ProgramData\\Anaconda3\\lib\\site-packages\\sklearn\\metrics\\classification.py:1437: UndefinedMetricWarning: F-score is ill-defined and being set to 0.0 in labels with no predicted samples.\n",
      "  'precision', 'predicted', average, warn_for)\n"
     ]
    },
    {
     "name": "stdout",
     "output_type": "stream",
     "text": [
      "[[11141    36     0  1321]\n",
      " [  665    27     0   113]\n",
      " [  385     6     0    98]\n",
      " [ 2333    87     0  1823]]\n",
      "0.7203215968949266\n",
      "0.3401604905868115\n",
      "0.6868304046643673\n",
      "\n",
      "Speaker on focus: F2\n",
      "Training data size: (181593, 28)\n",
      "Testing data size: (16467, 28)\n",
      "\n",
      "Trying classifier  MF F2\n"
     ]
    },
    {
     "name": "stderr",
     "output_type": "stream",
     "text": [
      "C:\\ProgramData\\Anaconda3\\lib\\site-packages\\sklearn\\metrics\\classification.py:1437: UndefinedMetricWarning: F-score is ill-defined and being set to 0.0 in labels with no predicted samples.\n",
      "  'precision', 'predicted', average, warn_for)\n"
     ]
    },
    {
     "name": "stdout",
     "output_type": "stream",
     "text": [
      "[[10315     0     0     0]\n",
      " [ 1779     0     0     0]\n",
      " [ 1060     0     0     0]\n",
      " [ 3313     0     0     0]]\n",
      "0.6264043237991134\n",
      "0.19257337017399748\n",
      "0.48251516690223695\n",
      "\n",
      "Trying classifier  LR F2\n"
     ]
    },
    {
     "name": "stderr",
     "output_type": "stream",
     "text": [
      "C:\\ProgramData\\Anaconda3\\lib\\site-packages\\sklearn\\linear_model\\logistic.py:469: FutureWarning: Default multi_class will be changed to 'auto' in 0.22. Specify the multi_class option to silence this warning.\n",
      "  \"this warning.\", FutureWarning)\n",
      "C:\\ProgramData\\Anaconda3\\lib\\site-packages\\sklearn\\metrics\\classification.py:1437: UndefinedMetricWarning: F-score is ill-defined and being set to 0.0 in labels with no predicted samples.\n",
      "  'precision', 'predicted', average, warn_for)\n"
     ]
    },
    {
     "name": "stdout",
     "output_type": "stream",
     "text": [
      "[[10020     0     0   295]\n",
      " [ 1484     0     0   295]\n",
      " [  913     0     0   147]\n",
      " [ 2650     0     0   663]]\n",
      "0.6487520495536527\n",
      "0.26772133763001404\n",
      "0.5511734668787912\n",
      "\n",
      "Trying classifier  LINEARSVC F2\n"
     ]
    },
    {
     "name": "stderr",
     "output_type": "stream",
     "text": [
      "C:\\ProgramData\\Anaconda3\\lib\\site-packages\\sklearn\\metrics\\classification.py:1437: UndefinedMetricWarning: F-score is ill-defined and being set to 0.0 in labels with no predicted samples.\n",
      "  'precision', 'predicted', average, warn_for)\n"
     ]
    },
    {
     "name": "stdout",
     "output_type": "stream",
     "text": [
      "[[10095     0     0   220]\n",
      " [ 1523     0     0   256]\n",
      " [  940     0     0   120]\n",
      " [ 2762     0     0   551]]\n",
      "0.6465051314750714\n",
      "0.2586700716596651\n",
      "0.5430641023694748\n",
      "\n",
      "Trying classifier  MLP F2\n"
     ]
    },
    {
     "name": "stderr",
     "output_type": "stream",
     "text": [
      "C:\\ProgramData\\Anaconda3\\lib\\site-packages\\sklearn\\metrics\\classification.py:1437: UndefinedMetricWarning: F-score is ill-defined and being set to 0.0 in labels with no predicted samples.\n",
      "  'precision', 'predicted', average, warn_for)\n"
     ]
    },
    {
     "name": "stdout",
     "output_type": "stream",
     "text": [
      "[[9215   86    0 1014]\n",
      " [1056  161    0  562]\n",
      " [ 682   19    0  359]\n",
      " [1918  128    0 1267]]\n",
      "0.6463229489281593\n",
      "0.33300175878663646\n",
      "0.592175322637978\n",
      "\n",
      "Speaker on focus: F4\n",
      "Training data size: (181137, 28)\n",
      "Testing data size: (16923, 28)\n",
      "\n",
      "Trying classifier  MF F4\n"
     ]
    },
    {
     "name": "stderr",
     "output_type": "stream",
     "text": [
      "C:\\ProgramData\\Anaconda3\\lib\\site-packages\\sklearn\\metrics\\classification.py:1437: UndefinedMetricWarning: F-score is ill-defined and being set to 0.0 in labels with no predicted samples.\n",
      "  'precision', 'predicted', average, warn_for)\n"
     ]
    },
    {
     "name": "stdout",
     "output_type": "stream",
     "text": [
      "[[10008     0     0     0]\n",
      " [ 3183     0     0     0]\n",
      " [ 1039     0     0     0]\n",
      " [ 2693     0     0     0]]\n",
      "0.5913845062932104\n",
      "0.18580817645093015\n",
      "0.43953630678270017\n",
      "\n",
      "Trying classifier  LR F4\n"
     ]
    },
    {
     "name": "stderr",
     "output_type": "stream",
     "text": [
      "C:\\ProgramData\\Anaconda3\\lib\\site-packages\\sklearn\\linear_model\\logistic.py:469: FutureWarning: Default multi_class will be changed to 'auto' in 0.22. Specify the multi_class option to silence this warning.\n",
      "  \"this warning.\", FutureWarning)\n",
      "C:\\ProgramData\\Anaconda3\\lib\\site-packages\\sklearn\\metrics\\classification.py:1437: UndefinedMetricWarning: F-score is ill-defined and being set to 0.0 in labels with no predicted samples.\n",
      "  'precision', 'predicted', average, warn_for)\n"
     ]
    },
    {
     "name": "stdout",
     "output_type": "stream",
     "text": [
      "[[9662    0    0  346]\n",
      " [2889    0    0  294]\n",
      " [ 813    0    0  226]\n",
      " [1896    0    0  797]]\n",
      "0.6180346274301247\n",
      "0.282673450436845\n",
      "0.5104999490985552\n",
      "\n",
      "Trying classifier  LINEARSVC F4\n"
     ]
    },
    {
     "name": "stderr",
     "output_type": "stream",
     "text": [
      "C:\\ProgramData\\Anaconda3\\lib\\site-packages\\sklearn\\metrics\\classification.py:1437: UndefinedMetricWarning: F-score is ill-defined and being set to 0.0 in labels with no predicted samples.\n",
      "  'precision', 'predicted', average, warn_for)\n"
     ]
    },
    {
     "name": "stdout",
     "output_type": "stream",
     "text": [
      "[[9709    0    0  299]\n",
      " [2957    0    0  226]\n",
      " [ 833    0    0  206]\n",
      " [1985    0    0  708]]\n",
      "0.6155527979672635\n",
      "0.27610509016058643\n",
      "0.5050081492223149\n",
      "\n",
      "Trying classifier  MLP F4\n"
     ]
    },
    {
     "name": "stderr",
     "output_type": "stream",
     "text": [
      "C:\\ProgramData\\Anaconda3\\lib\\site-packages\\sklearn\\metrics\\classification.py:1437: UndefinedMetricWarning: F-score is ill-defined and being set to 0.0 in labels with no predicted samples.\n",
      "  'precision', 'predicted', average, warn_for)\n"
     ]
    },
    {
     "name": "stdout",
     "output_type": "stream",
     "text": [
      "[[9230    1    0  777]\n",
      " [2223    8    0  952]\n",
      " [ 694    1    0  344]\n",
      " [1257    3    0 1433]]\n",
      "0.630561957099805\n",
      "0.31395585749049315\n",
      "0.5408113193611181\n",
      "\n",
      "Speaker on focus: M6\n",
      "Training data size: (181528, 28)\n",
      "Testing data size: (16532, 28)\n",
      "\n",
      "Trying classifier  MF M6\n"
     ]
    },
    {
     "name": "stderr",
     "output_type": "stream",
     "text": [
      "C:\\ProgramData\\Anaconda3\\lib\\site-packages\\sklearn\\metrics\\classification.py:1437: UndefinedMetricWarning: F-score is ill-defined and being set to 0.0 in labels with no predicted samples.\n",
      "  'precision', 'predicted', average, warn_for)\n"
     ]
    },
    {
     "name": "stdout",
     "output_type": "stream",
     "text": [
      "[[9316    0    0    0]\n",
      " [1800    0    0    0]\n",
      " [1671    0    0    0]\n",
      " [3745    0    0    0]]\n",
      "0.5635131865473022\n",
      "0.18020736614051377\n",
      "0.4061969085325493\n",
      "\n",
      "Trying classifier  LR M6\n"
     ]
    },
    {
     "name": "stderr",
     "output_type": "stream",
     "text": [
      "C:\\ProgramData\\Anaconda3\\lib\\site-packages\\sklearn\\linear_model\\logistic.py:469: FutureWarning: Default multi_class will be changed to 'auto' in 0.22. Specify the multi_class option to silence this warning.\n",
      "  \"this warning.\", FutureWarning)\n",
      "C:\\ProgramData\\Anaconda3\\lib\\site-packages\\sklearn\\metrics\\classification.py:1437: UndefinedMetricWarning: F-score is ill-defined and being set to 0.0 in labels with no predicted samples.\n",
      "  'precision', 'predicted', average, warn_for)\n"
     ]
    },
    {
     "name": "stdout",
     "output_type": "stream",
     "text": [
      "[[8748    0    0  568]\n",
      " [1710    0    0   90]\n",
      " [1639    0    0   32]\n",
      " [3051    0    0  694]]\n",
      "0.5711347689329784\n",
      "0.24644784252358476\n",
      "0.46431280086146604\n",
      "\n",
      "Trying classifier  LINEARSVC M6\n"
     ]
    },
    {
     "name": "stderr",
     "output_type": "stream",
     "text": [
      "C:\\ProgramData\\Anaconda3\\lib\\site-packages\\sklearn\\metrics\\classification.py:1437: UndefinedMetricWarning: F-score is ill-defined and being set to 0.0 in labels with no predicted samples.\n",
      "  'precision', 'predicted', average, warn_for)\n"
     ]
    },
    {
     "name": "stdout",
     "output_type": "stream",
     "text": [
      "[[8794    0    0  522]\n",
      " [1719    0    0   81]\n",
      " [1645    0    0   26]\n",
      " [3151    0    0  594]]\n",
      "0.5678683764819743\n",
      "0.23834098433016992\n",
      "0.4566503017121667\n",
      "\n",
      "Trying classifier  MLP M6\n"
     ]
    },
    {
     "name": "stderr",
     "output_type": "stream",
     "text": [
      "C:\\ProgramData\\Anaconda3\\lib\\site-packages\\sklearn\\metrics\\classification.py:1437: UndefinedMetricWarning: F-score is ill-defined and being set to 0.0 in labels with no predicted samples.\n",
      "  'precision', 'predicted', average, warn_for)\n"
     ]
    },
    {
     "name": "stdout",
     "output_type": "stream",
     "text": [
      "[[8450   26    0  840]\n",
      " [1542   27    0  231]\n",
      " [1508    0    0  163]\n",
      " [2280   81    0 1384]]\n",
      "0.5964795548028067\n",
      "0.2986661935751872\n",
      "0.5139227904311249\n",
      "\n"
     ]
    },
    {
     "data": {
      "text/html": [
       "<div>\n",
       "<style scoped>\n",
       "    .dataframe tbody tr th:only-of-type {\n",
       "        vertical-align: middle;\n",
       "    }\n",
       "\n",
       "    .dataframe tbody tr th {\n",
       "        vertical-align: top;\n",
       "    }\n",
       "\n",
       "    .dataframe thead th {\n",
       "        text-align: right;\n",
       "    }\n",
       "</style>\n",
       "<table border=\"1\" class=\"dataframe\">\n",
       "  <thead>\n",
       "    <tr style=\"text-align: right;\">\n",
       "      <th></th>\n",
       "      <th>F5</th>\n",
       "      <th>F6</th>\n",
       "      <th>M2</th>\n",
       "      <th>M4</th>\n",
       "      <th>F1</th>\n",
       "      <th>F3</th>\n",
       "      <th>M3</th>\n",
       "      <th>M5</th>\n",
       "      <th>M1</th>\n",
       "      <th>F2</th>\n",
       "      <th>F4</th>\n",
       "      <th>M6</th>\n",
       "    </tr>\n",
       "  </thead>\n",
       "  <tbody>\n",
       "    <tr>\n",
       "      <td>MF</td>\n",
       "      <td>0.740511</td>\n",
       "      <td>0.506497</td>\n",
       "      <td>0.714565</td>\n",
       "      <td>0.648316</td>\n",
       "      <td>0.671644</td>\n",
       "      <td>0.588701</td>\n",
       "      <td>0.719731</td>\n",
       "      <td>0.551088</td>\n",
       "      <td>0.692986</td>\n",
       "      <td>0.626404</td>\n",
       "      <td>0.591385</td>\n",
       "      <td>0.563513</td>\n",
       "    </tr>\n",
       "    <tr>\n",
       "      <td>LR</td>\n",
       "      <td>0.739414</td>\n",
       "      <td>0.538128</td>\n",
       "      <td>0.725904</td>\n",
       "      <td>0.650678</td>\n",
       "      <td>0.693204</td>\n",
       "      <td>0.591748</td>\n",
       "      <td>0.714861</td>\n",
       "      <td>0.569927</td>\n",
       "      <td>0.710674</td>\n",
       "      <td>0.648752</td>\n",
       "      <td>0.618035</td>\n",
       "      <td>0.571135</td>\n",
       "    </tr>\n",
       "    <tr>\n",
       "      <td>LINEARSVC</td>\n",
       "      <td>0.739170</td>\n",
       "      <td>0.534650</td>\n",
       "      <td>0.723558</td>\n",
       "      <td>0.649467</td>\n",
       "      <td>0.691469</td>\n",
       "      <td>0.590164</td>\n",
       "      <td>0.714440</td>\n",
       "      <td>0.566194</td>\n",
       "      <td>0.708123</td>\n",
       "      <td>0.646505</td>\n",
       "      <td>0.615553</td>\n",
       "      <td>0.567868</td>\n",
       "    </tr>\n",
       "    <tr>\n",
       "      <td>MLP</td>\n",
       "      <td>0.724304</td>\n",
       "      <td>0.534453</td>\n",
       "      <td>0.735875</td>\n",
       "      <td>0.657158</td>\n",
       "      <td>0.712162</td>\n",
       "      <td>0.608568</td>\n",
       "      <td>0.709030</td>\n",
       "      <td>0.603010</td>\n",
       "      <td>0.720322</td>\n",
       "      <td>0.646323</td>\n",
       "      <td>0.630562</td>\n",
       "      <td>0.596480</td>\n",
       "    </tr>\n",
       "  </tbody>\n",
       "</table>\n",
       "</div>"
      ],
      "text/plain": [
       "                 F5        F6        M2        M4        F1        F3  \\\n",
       "MF         0.740511  0.506497  0.714565  0.648316  0.671644  0.588701   \n",
       "LR         0.739414  0.538128  0.725904  0.650678  0.693204  0.591748   \n",
       "LINEARSVC  0.739170  0.534650  0.723558  0.649467  0.691469  0.590164   \n",
       "MLP        0.724304  0.534453  0.735875  0.657158  0.712162  0.608568   \n",
       "\n",
       "                 M3        M5        M1        F2        F4        M6  \n",
       "MF         0.719731  0.551088  0.692986  0.626404  0.591385  0.563513  \n",
       "LR         0.714861  0.569927  0.710674  0.648752  0.618035  0.571135  \n",
       "LINEARSVC  0.714440  0.566194  0.708123  0.646505  0.615553  0.567868  \n",
       "MLP        0.709030  0.603010  0.720322  0.646323  0.630562  0.596480  "
      ]
     },
     "execution_count": 59,
     "metadata": {},
     "output_type": "execute_result"
    }
   ],
   "source": [
    "accuracy_results = pd.DataFrame(0,columns=speaker_set,index=[\"MF\"])\n",
    "f1score_results = pd.DataFrame(0,columns=speaker_set,index=[\"MF\"])\n",
    "f1score_resultsw = pd.DataFrame(0,columns=speaker_set,index=[\"MF\"])\n",
    "#f1score_resultsb = pd.DataFrame(0,columns=speaker_set,index=[\"MF\"])\n",
    "#f1_score(y_true, y_pred, average='micro')\n",
    "\n",
    "for speaker_on_focus in speaker_set:\n",
    "    train_files = []\n",
    "    test_files  = []\n",
    "    \n",
    "    for each_file in glob.glob(PATH+\"*.tab\"):\n",
    "        filename=each_file.split(\"\\\\\")[-1]\n",
    "        fileinfo=filename.split(\"-\")\n",
    "\n",
    "        primary_speaker = fileinfo[2].split(\"_\")[-1][:-2] #fileinfo[2] = final2_primary_M1.T\n",
    "        speakers = fileinfo[0]\n",
    "        l_speaker,r_speaker = speakers.split(\"_\")\n",
    "        if primary_speaker == l_speaker:\n",
    "            secondary_speaker = r_speaker\n",
    "        else:\n",
    "            secondary_speaker = l_speaker\n",
    "\n",
    "        #print (primary_speaker,l_speaker,r_speaker,speaker_on_focus)\n",
    "\n",
    "        file_df = pd.read_csv(each_file,sep=\"\\t\")\n",
    "        file_df.columns = [el.replace(primary_speaker, \"PRIMA\").replace(secondary_speaker, \"SECON\") for el in file_df.columns]\n",
    "\n",
    "        if primary_speaker != speaker_on_focus:\n",
    "            #FILES TO TRAIN!\n",
    "            train_files.append(file_df)\n",
    "        else:\n",
    "            #FILES TO TEST!\n",
    "            test_files.append(file_df)\n",
    "            \n",
    "        \n",
    "        \n",
    "    training_data = pd.concat(train_files, ignore_index=True)\n",
    "    testing_data = pd.concat(test_files, ignore_index=True)\n",
    "    print (\"Speaker on focus:\",speaker_on_focus)\n",
    "    print (\"Training data size:\",training_data.shape)\n",
    "    print (\"Testing data size:\",testing_data.shape)\n",
    "    print ()\n",
    "    \n",
    "    \n",
    "    \n",
    "    \n",
    "    \n",
    "    \n",
    "    \n",
    "    #Train data\n",
    "    features=['PRIMA:velocity-r', 'PRIMA:velocity-clock', 'PRIMA:velocity-x', 'PRIMA:velocity-y'\n",
    "             ]\n",
    "\n",
    "    feats_learning = training_data[features]\n",
    "    X = feats_learning.dropna() #REMEMBER THIS!!!! We're ignoring any row that has a NaN value.\n",
    "    scaler = MinMaxScaler((0,1))\n",
    "    scaler.fit(X)\n",
    "    X_norm = scaler.transform(X)\n",
    "    #X_norm = X\n",
    "    #We're ignoring anyrow that has a NaN value.\n",
    "    #Y = (training_data[(feats_learning.isnull().sum(axis=1)==0)]['PRIMA:HeadMovement'].equals('nod')*1).values #0: no movement; 1: movement\n",
    "    Y = training_data[(feats_learning.isnull().sum(axis=1)==0)]['PRIMA:HeadMovement'].map(map_movements)\n",
    "    \n",
    "    #Test data\n",
    "    feats_testing = testing_data[features]\n",
    "\n",
    "    X_test = feats_testing.dropna() #REMEMBER THIS!!!! We're ignoring any row that has a NaN value.\n",
    "    X_test_norm = scaler.transform(X_test)\n",
    "    #X_test_norm = X_test\n",
    "#    Y_test = (testing_data[(feats_testing.isnull().sum(axis=1)==0)]['PRIMA:HeadMovement'].equals('nod')*1).values #0: no movement; 1: movement\n",
    "    Y_test =  testing_data[(feats_testing.isnull().sum(axis=1)==0)]['PRIMA:HeadMovement'].map(map_movements)\n",
    "    \n",
    "    classifiers_to_test = [(DummyClassifier(strategy=\"most_frequent\"),\"MF\"),\n",
    "                           (LogisticRegression(solver=\"liblinear\"),\"LR\"),\n",
    "                          (LinearSVC(),\"LINEARSVC\"),\n",
    "                          (MLPClassifier(hidden_layer_sizes=(30,30,30,30), random_state=442), \"MLP\")\n",
    "                          ]\n",
    "                        #I think that now we have to fine-tune the n_hidden_layers and their sizes (MLP)\n",
    "    \n",
    "    \n",
    "    for clf, clfname in classifiers_to_test:\n",
    "        print (\"Trying classifier \",clfname,speaker_on_focus)\n",
    "        clf.fit(X_norm, Y)\n",
    "        y_pred = clf.predict(X_test_norm)\n",
    "        accuracy_results.loc[clfname,speaker_on_focus] = accuracy_score(Y_test,y_pred)\n",
    "        #f1score_resultsb.loc[clfname,speaker_on_focus] = f1_score(Y_test,y_pred)\n",
    "        f1score_results.loc[clfname,speaker_on_focus] = f1_score(Y_test,y_pred, average='macro')\n",
    "        f1score_resultsw.loc[clfname,speaker_on_focus] = f1_score(Y_test,y_pred, average='weighted')\n",
    "    \n",
    "        print (confusion_matrix(Y_test,y_pred))\n",
    "        print (accuracy_score(Y_test,y_pred)) #same as f1-score (micro-averagaed)\n",
    "        print (f1_score(Y_test,y_pred, average='macro'))\n",
    "        print (f1_score(Y_test,y_pred, average='weighted'))\n",
    "        y_pred=None\n",
    "        print ()\n",
    "\n",
    "        \n",
    "accuracy_results"
   ]
  },
  {
   "cell_type": "code",
   "execution_count": 60,
   "metadata": {
    "scrolled": true
   },
   "outputs": [
    {
     "data": {
      "text/html": [
       "<div>\n",
       "<style scoped>\n",
       "    .dataframe tbody tr th:only-of-type {\n",
       "        vertical-align: middle;\n",
       "    }\n",
       "\n",
       "    .dataframe tbody tr th {\n",
       "        vertical-align: top;\n",
       "    }\n",
       "\n",
       "    .dataframe thead th {\n",
       "        text-align: right;\n",
       "    }\n",
       "</style>\n",
       "<table border=\"1\" class=\"dataframe\">\n",
       "  <thead>\n",
       "    <tr style=\"text-align: right;\">\n",
       "      <th></th>\n",
       "      <th>F5</th>\n",
       "      <th>F6</th>\n",
       "      <th>M2</th>\n",
       "      <th>M4</th>\n",
       "      <th>F1</th>\n",
       "      <th>F3</th>\n",
       "      <th>M3</th>\n",
       "      <th>M5</th>\n",
       "      <th>M1</th>\n",
       "      <th>F2</th>\n",
       "      <th>F4</th>\n",
       "      <th>M6</th>\n",
       "    </tr>\n",
       "  </thead>\n",
       "  <tbody>\n",
       "    <tr>\n",
       "      <td>MF</td>\n",
       "      <td>0.740511</td>\n",
       "      <td>0.506497</td>\n",
       "      <td>0.714565</td>\n",
       "      <td>0.648316</td>\n",
       "      <td>0.671644</td>\n",
       "      <td>0.588701</td>\n",
       "      <td>0.719731</td>\n",
       "      <td>0.551088</td>\n",
       "      <td>0.692986</td>\n",
       "      <td>0.626404</td>\n",
       "      <td>0.591385</td>\n",
       "      <td>0.563513</td>\n",
       "    </tr>\n",
       "    <tr>\n",
       "      <td>LR</td>\n",
       "      <td>0.739414</td>\n",
       "      <td>0.538128</td>\n",
       "      <td>0.725904</td>\n",
       "      <td>0.650678</td>\n",
       "      <td>0.693204</td>\n",
       "      <td>0.591748</td>\n",
       "      <td>0.714861</td>\n",
       "      <td>0.569927</td>\n",
       "      <td>0.710674</td>\n",
       "      <td>0.648752</td>\n",
       "      <td>0.618035</td>\n",
       "      <td>0.571135</td>\n",
       "    </tr>\n",
       "    <tr>\n",
       "      <td>LINEARSVC</td>\n",
       "      <td>0.739170</td>\n",
       "      <td>0.534650</td>\n",
       "      <td>0.723558</td>\n",
       "      <td>0.649467</td>\n",
       "      <td>0.691469</td>\n",
       "      <td>0.590164</td>\n",
       "      <td>0.714440</td>\n",
       "      <td>0.566194</td>\n",
       "      <td>0.708123</td>\n",
       "      <td>0.646505</td>\n",
       "      <td>0.615553</td>\n",
       "      <td>0.567868</td>\n",
       "    </tr>\n",
       "    <tr>\n",
       "      <td>MLP</td>\n",
       "      <td>0.724304</td>\n",
       "      <td>0.534453</td>\n",
       "      <td>0.735875</td>\n",
       "      <td>0.657158</td>\n",
       "      <td>0.712162</td>\n",
       "      <td>0.608568</td>\n",
       "      <td>0.709030</td>\n",
       "      <td>0.603010</td>\n",
       "      <td>0.720322</td>\n",
       "      <td>0.646323</td>\n",
       "      <td>0.630562</td>\n",
       "      <td>0.596480</td>\n",
       "    </tr>\n",
       "  </tbody>\n",
       "</table>\n",
       "</div>"
      ],
      "text/plain": [
       "                 F5        F6        M2        M4        F1        F3  \\\n",
       "MF         0.740511  0.506497  0.714565  0.648316  0.671644  0.588701   \n",
       "LR         0.739414  0.538128  0.725904  0.650678  0.693204  0.591748   \n",
       "LINEARSVC  0.739170  0.534650  0.723558  0.649467  0.691469  0.590164   \n",
       "MLP        0.724304  0.534453  0.735875  0.657158  0.712162  0.608568   \n",
       "\n",
       "                 M3        M5        M1        F2        F4        M6  \n",
       "MF         0.719731  0.551088  0.692986  0.626404  0.591385  0.563513  \n",
       "LR         0.714861  0.569927  0.710674  0.648752  0.618035  0.571135  \n",
       "LINEARSVC  0.714440  0.566194  0.708123  0.646505  0.615553  0.567868  \n",
       "MLP        0.709030  0.603010  0.720322  0.646323  0.630562  0.596480  "
      ]
     },
     "execution_count": 60,
     "metadata": {},
     "output_type": "execute_result"
    }
   ],
   "source": [
    "accuracy_results"
   ]
  },
  {
   "cell_type": "code",
   "execution_count": 61,
   "metadata": {},
   "outputs": [
    {
     "data": {
      "text/html": [
       "<div>\n",
       "<style scoped>\n",
       "    .dataframe tbody tr th:only-of-type {\n",
       "        vertical-align: middle;\n",
       "    }\n",
       "\n",
       "    .dataframe tbody tr th {\n",
       "        vertical-align: top;\n",
       "    }\n",
       "\n",
       "    .dataframe thead th {\n",
       "        text-align: right;\n",
       "    }\n",
       "</style>\n",
       "<table border=\"1\" class=\"dataframe\">\n",
       "  <thead>\n",
       "    <tr style=\"text-align: right;\">\n",
       "      <th></th>\n",
       "      <th>F5</th>\n",
       "      <th>F6</th>\n",
       "      <th>M2</th>\n",
       "      <th>M4</th>\n",
       "      <th>F1</th>\n",
       "      <th>F3</th>\n",
       "      <th>M3</th>\n",
       "      <th>M5</th>\n",
       "      <th>M1</th>\n",
       "      <th>F2</th>\n",
       "      <th>F4</th>\n",
       "      <th>M6</th>\n",
       "    </tr>\n",
       "  </thead>\n",
       "  <tbody>\n",
       "    <tr>\n",
       "      <td>MF</td>\n",
       "      <td>0.630109</td>\n",
       "      <td>0.340577</td>\n",
       "      <td>0.595607</td>\n",
       "      <td>0.509992</td>\n",
       "      <td>0.539715</td>\n",
       "      <td>0.436293</td>\n",
       "      <td>0.602434</td>\n",
       "      <td>0.391594</td>\n",
       "      <td>0.567316</td>\n",
       "      <td>0.482515</td>\n",
       "      <td>0.439536</td>\n",
       "      <td>0.406197</td>\n",
       "    </tr>\n",
       "    <tr>\n",
       "      <td>LR</td>\n",
       "      <td>0.653713</td>\n",
       "      <td>0.427930</td>\n",
       "      <td>0.629447</td>\n",
       "      <td>0.549655</td>\n",
       "      <td>0.604913</td>\n",
       "      <td>0.461515</td>\n",
       "      <td>0.636829</td>\n",
       "      <td>0.441960</td>\n",
       "      <td>0.663896</td>\n",
       "      <td>0.551173</td>\n",
       "      <td>0.510500</td>\n",
       "      <td>0.464313</td>\n",
       "    </tr>\n",
       "    <tr>\n",
       "      <td>LINEARSVC</td>\n",
       "      <td>0.649235</td>\n",
       "      <td>0.418727</td>\n",
       "      <td>0.623391</td>\n",
       "      <td>0.544469</td>\n",
       "      <td>0.599025</td>\n",
       "      <td>0.456112</td>\n",
       "      <td>0.630837</td>\n",
       "      <td>0.434107</td>\n",
       "      <td>0.657717</td>\n",
       "      <td>0.543064</td>\n",
       "      <td>0.505008</td>\n",
       "      <td>0.456650</td>\n",
       "    </tr>\n",
       "    <tr>\n",
       "      <td>MLP</td>\n",
       "      <td>0.667489</td>\n",
       "      <td>0.470801</td>\n",
       "      <td>0.664295</td>\n",
       "      <td>0.583108</td>\n",
       "      <td>0.657536</td>\n",
       "      <td>0.520031</td>\n",
       "      <td>0.668004</td>\n",
       "      <td>0.503408</td>\n",
       "      <td>0.686830</td>\n",
       "      <td>0.592175</td>\n",
       "      <td>0.540811</td>\n",
       "      <td>0.513923</td>\n",
       "    </tr>\n",
       "  </tbody>\n",
       "</table>\n",
       "</div>"
      ],
      "text/plain": [
       "                 F5        F6        M2        M4        F1        F3  \\\n",
       "MF         0.630109  0.340577  0.595607  0.509992  0.539715  0.436293   \n",
       "LR         0.653713  0.427930  0.629447  0.549655  0.604913  0.461515   \n",
       "LINEARSVC  0.649235  0.418727  0.623391  0.544469  0.599025  0.456112   \n",
       "MLP        0.667489  0.470801  0.664295  0.583108  0.657536  0.520031   \n",
       "\n",
       "                 M3        M5        M1        F2        F4        M6  \n",
       "MF         0.602434  0.391594  0.567316  0.482515  0.439536  0.406197  \n",
       "LR         0.636829  0.441960  0.663896  0.551173  0.510500  0.464313  \n",
       "LINEARSVC  0.630837  0.434107  0.657717  0.543064  0.505008  0.456650  \n",
       "MLP        0.668004  0.503408  0.686830  0.592175  0.540811  0.513923  "
      ]
     },
     "execution_count": 61,
     "metadata": {},
     "output_type": "execute_result"
    }
   ],
   "source": [
    "f1score_resultsw"
   ]
  },
  {
   "cell_type": "code",
   "execution_count": 62,
   "metadata": {
    "scrolled": true
   },
   "outputs": [
    {
     "data": {
      "text/html": [
       "<div>\n",
       "<style scoped>\n",
       "    .dataframe tbody tr th:only-of-type {\n",
       "        vertical-align: middle;\n",
       "    }\n",
       "\n",
       "    .dataframe tbody tr th {\n",
       "        vertical-align: top;\n",
       "    }\n",
       "\n",
       "    .dataframe thead th {\n",
       "        text-align: right;\n",
       "    }\n",
       "</style>\n",
       "<table border=\"1\" class=\"dataframe\">\n",
       "  <thead>\n",
       "    <tr style=\"text-align: right;\">\n",
       "      <th></th>\n",
       "      <th>F5</th>\n",
       "      <th>F6</th>\n",
       "      <th>M2</th>\n",
       "      <th>M4</th>\n",
       "      <th>F1</th>\n",
       "      <th>F3</th>\n",
       "      <th>M3</th>\n",
       "      <th>M5</th>\n",
       "      <th>M1</th>\n",
       "      <th>F2</th>\n",
       "      <th>F4</th>\n",
       "      <th>M6</th>\n",
       "    </tr>\n",
       "  </thead>\n",
       "  <tbody>\n",
       "    <tr>\n",
       "      <td>MF</td>\n",
       "      <td>0.212728</td>\n",
       "      <td>0.168104</td>\n",
       "      <td>0.208381</td>\n",
       "      <td>0.196660</td>\n",
       "      <td>0.200893</td>\n",
       "      <td>0.185278</td>\n",
       "      <td>0.209257</td>\n",
       "      <td>0.177646</td>\n",
       "      <td>0.204664</td>\n",
       "      <td>0.192573</td>\n",
       "      <td>0.185808</td>\n",
       "      <td>0.180207</td>\n",
       "    </tr>\n",
       "    <tr>\n",
       "      <td>LR</td>\n",
       "      <td>0.258728</td>\n",
       "      <td>0.251504</td>\n",
       "      <td>0.253392</td>\n",
       "      <td>0.242234</td>\n",
       "      <td>0.265899</td>\n",
       "      <td>0.213302</td>\n",
       "      <td>0.256183</td>\n",
       "      <td>0.224260</td>\n",
       "      <td>0.308048</td>\n",
       "      <td>0.267721</td>\n",
       "      <td>0.282673</td>\n",
       "      <td>0.246448</td>\n",
       "    </tr>\n",
       "    <tr>\n",
       "      <td>LINEARSVC</td>\n",
       "      <td>0.249864</td>\n",
       "      <td>0.243060</td>\n",
       "      <td>0.245825</td>\n",
       "      <td>0.236745</td>\n",
       "      <td>0.260062</td>\n",
       "      <td>0.207621</td>\n",
       "      <td>0.248511</td>\n",
       "      <td>0.217231</td>\n",
       "      <td>0.301769</td>\n",
       "      <td>0.258670</td>\n",
       "      <td>0.276105</td>\n",
       "      <td>0.238341</td>\n",
       "    </tr>\n",
       "    <tr>\n",
       "      <td>MLP</td>\n",
       "      <td>0.301020</td>\n",
       "      <td>0.296903</td>\n",
       "      <td>0.300231</td>\n",
       "      <td>0.289372</td>\n",
       "      <td>0.360048</td>\n",
       "      <td>0.276407</td>\n",
       "      <td>0.312042</td>\n",
       "      <td>0.278339</td>\n",
       "      <td>0.340160</td>\n",
       "      <td>0.333002</td>\n",
       "      <td>0.313956</td>\n",
       "      <td>0.298666</td>\n",
       "    </tr>\n",
       "  </tbody>\n",
       "</table>\n",
       "</div>"
      ],
      "text/plain": [
       "                 F5        F6        M2        M4        F1        F3  \\\n",
       "MF         0.212728  0.168104  0.208381  0.196660  0.200893  0.185278   \n",
       "LR         0.258728  0.251504  0.253392  0.242234  0.265899  0.213302   \n",
       "LINEARSVC  0.249864  0.243060  0.245825  0.236745  0.260062  0.207621   \n",
       "MLP        0.301020  0.296903  0.300231  0.289372  0.360048  0.276407   \n",
       "\n",
       "                 M3        M5        M1        F2        F4        M6  \n",
       "MF         0.209257  0.177646  0.204664  0.192573  0.185808  0.180207  \n",
       "LR         0.256183  0.224260  0.308048  0.267721  0.282673  0.246448  \n",
       "LINEARSVC  0.248511  0.217231  0.301769  0.258670  0.276105  0.238341  \n",
       "MLP        0.312042  0.278339  0.340160  0.333002  0.313956  0.298666  "
      ]
     },
     "execution_count": 62,
     "metadata": {},
     "output_type": "execute_result"
    }
   ],
   "source": [
    "f1score_results"
   ]
  },
  {
   "cell_type": "code",
   "execution_count": 63,
   "metadata": {},
   "outputs": [
    {
     "data": {
      "text/html": [
       "<div>\n",
       "<style scoped>\n",
       "    .dataframe tbody tr th:only-of-type {\n",
       "        vertical-align: middle;\n",
       "    }\n",
       "\n",
       "    .dataframe tbody tr th {\n",
       "        vertical-align: top;\n",
       "    }\n",
       "\n",
       "    .dataframe thead th {\n",
       "        text-align: right;\n",
       "    }\n",
       "</style>\n",
       "<table border=\"1\" class=\"dataframe\">\n",
       "  <thead>\n",
       "    <tr style=\"text-align: right;\">\n",
       "      <th></th>\n",
       "      <th>MF</th>\n",
       "      <th>LR</th>\n",
       "      <th>LINEARSVC</th>\n",
       "      <th>MLP</th>\n",
       "    </tr>\n",
       "  </thead>\n",
       "  <tbody>\n",
       "    <tr>\n",
       "      <td>count</td>\n",
       "      <td>12.000000</td>\n",
       "      <td>12.000000</td>\n",
       "      <td>12.000000</td>\n",
       "      <td>12.000000</td>\n",
       "    </tr>\n",
       "    <tr>\n",
       "      <td>mean</td>\n",
       "      <td>0.634612</td>\n",
       "      <td>0.647705</td>\n",
       "      <td>0.645597</td>\n",
       "      <td>0.656520</td>\n",
       "    </tr>\n",
       "    <tr>\n",
       "      <td>std</td>\n",
       "      <td>0.075262</td>\n",
       "      <td>0.069421</td>\n",
       "      <td>0.070217</td>\n",
       "      <td>0.064146</td>\n",
       "    </tr>\n",
       "    <tr>\n",
       "      <td>min</td>\n",
       "      <td>0.506497</td>\n",
       "      <td>0.538128</td>\n",
       "      <td>0.534650</td>\n",
       "      <td>0.534453</td>\n",
       "    </tr>\n",
       "    <tr>\n",
       "      <td>25%</td>\n",
       "      <td>0.582404</td>\n",
       "      <td>0.586595</td>\n",
       "      <td>0.584590</td>\n",
       "      <td>0.607179</td>\n",
       "    </tr>\n",
       "    <tr>\n",
       "      <td>50%</td>\n",
       "      <td>0.637360</td>\n",
       "      <td>0.649715</td>\n",
       "      <td>0.647986</td>\n",
       "      <td>0.651741</td>\n",
       "    </tr>\n",
       "    <tr>\n",
       "      <td>75%</td>\n",
       "      <td>0.698381</td>\n",
       "      <td>0.711721</td>\n",
       "      <td>0.709702</td>\n",
       "      <td>0.714202</td>\n",
       "    </tr>\n",
       "    <tr>\n",
       "      <td>max</td>\n",
       "      <td>0.740511</td>\n",
       "      <td>0.739414</td>\n",
       "      <td>0.739170</td>\n",
       "      <td>0.735875</td>\n",
       "    </tr>\n",
       "  </tbody>\n",
       "</table>\n",
       "</div>"
      ],
      "text/plain": [
       "              MF         LR  LINEARSVC        MLP\n",
       "count  12.000000  12.000000  12.000000  12.000000\n",
       "mean    0.634612   0.647705   0.645597   0.656520\n",
       "std     0.075262   0.069421   0.070217   0.064146\n",
       "min     0.506497   0.538128   0.534650   0.534453\n",
       "25%     0.582404   0.586595   0.584590   0.607179\n",
       "50%     0.637360   0.649715   0.647986   0.651741\n",
       "75%     0.698381   0.711721   0.709702   0.714202\n",
       "max     0.740511   0.739414   0.739170   0.735875"
      ]
     },
     "execution_count": 63,
     "metadata": {},
     "output_type": "execute_result"
    }
   ],
   "source": [
    "accuracy_results.T.describe()"
   ]
  },
  {
   "cell_type": "code",
   "execution_count": 64,
   "metadata": {},
   "outputs": [
    {
     "data": {
      "text/html": [
       "<div>\n",
       "<style scoped>\n",
       "    .dataframe tbody tr th:only-of-type {\n",
       "        vertical-align: middle;\n",
       "    }\n",
       "\n",
       "    .dataframe tbody tr th {\n",
       "        vertical-align: top;\n",
       "    }\n",
       "\n",
       "    .dataframe thead th {\n",
       "        text-align: right;\n",
       "    }\n",
       "</style>\n",
       "<table border=\"1\" class=\"dataframe\">\n",
       "  <thead>\n",
       "    <tr style=\"text-align: right;\">\n",
       "      <th></th>\n",
       "      <th>MF</th>\n",
       "      <th>LR</th>\n",
       "      <th>LINEARSVC</th>\n",
       "      <th>MLP</th>\n",
       "    </tr>\n",
       "  </thead>\n",
       "  <tbody>\n",
       "    <tr>\n",
       "      <td>count</td>\n",
       "      <td>12.000000</td>\n",
       "      <td>12.000000</td>\n",
       "      <td>12.000000</td>\n",
       "      <td>12.000000</td>\n",
       "    </tr>\n",
       "    <tr>\n",
       "      <td>mean</td>\n",
       "      <td>0.193517</td>\n",
       "      <td>0.255866</td>\n",
       "      <td>0.248650</td>\n",
       "      <td>0.308346</td>\n",
       "    </tr>\n",
       "    <tr>\n",
       "      <td>std</td>\n",
       "      <td>0.014236</td>\n",
       "      <td>0.024866</td>\n",
       "      <td>0.024800</td>\n",
       "      <td>0.025159</td>\n",
       "    </tr>\n",
       "    <tr>\n",
       "      <td>min</td>\n",
       "      <td>0.168104</td>\n",
       "      <td>0.213302</td>\n",
       "      <td>0.207621</td>\n",
       "      <td>0.276407</td>\n",
       "    </tr>\n",
       "    <tr>\n",
       "      <td>25%</td>\n",
       "      <td>0.184010</td>\n",
       "      <td>0.245394</td>\n",
       "      <td>0.237942</td>\n",
       "      <td>0.295020</td>\n",
       "    </tr>\n",
       "    <tr>\n",
       "      <td>50%</td>\n",
       "      <td>0.194617</td>\n",
       "      <td>0.254788</td>\n",
       "      <td>0.247168</td>\n",
       "      <td>0.300625</td>\n",
       "    </tr>\n",
       "    <tr>\n",
       "      <td>75%</td>\n",
       "      <td>0.205593</td>\n",
       "      <td>0.266355</td>\n",
       "      <td>0.259018</td>\n",
       "      <td>0.318717</td>\n",
       "    </tr>\n",
       "    <tr>\n",
       "      <td>max</td>\n",
       "      <td>0.212728</td>\n",
       "      <td>0.308048</td>\n",
       "      <td>0.301769</td>\n",
       "      <td>0.360048</td>\n",
       "    </tr>\n",
       "  </tbody>\n",
       "</table>\n",
       "</div>"
      ],
      "text/plain": [
       "              MF         LR  LINEARSVC        MLP\n",
       "count  12.000000  12.000000  12.000000  12.000000\n",
       "mean    0.193517   0.255866   0.248650   0.308346\n",
       "std     0.014236   0.024866   0.024800   0.025159\n",
       "min     0.168104   0.213302   0.207621   0.276407\n",
       "25%     0.184010   0.245394   0.237942   0.295020\n",
       "50%     0.194617   0.254788   0.247168   0.300625\n",
       "75%     0.205593   0.266355   0.259018   0.318717\n",
       "max     0.212728   0.308048   0.301769   0.360048"
      ]
     },
     "execution_count": 64,
     "metadata": {},
     "output_type": "execute_result"
    }
   ],
   "source": [
    "f1score_results.T.describe()"
   ]
  },
  {
   "cell_type": "code",
   "execution_count": null,
   "metadata": {},
   "outputs": [],
   "source": []
  },
  {
   "cell_type": "code",
   "execution_count": null,
   "metadata": {},
   "outputs": [],
   "source": []
  }
 ],
 "metadata": {
  "kernelspec": {
   "display_name": "Python 3",
   "language": "python",
   "name": "python3"
  },
  "language_info": {
   "codemirror_mode": {
    "name": "ipython",
    "version": 3
   },
   "file_extension": ".py",
   "mimetype": "text/x-python",
   "name": "python",
   "nbconvert_exporter": "python",
   "pygments_lexer": "ipython3",
   "version": "3.7.4"
  }
 },
 "nbformat": 4,
 "nbformat_minor": 4
}

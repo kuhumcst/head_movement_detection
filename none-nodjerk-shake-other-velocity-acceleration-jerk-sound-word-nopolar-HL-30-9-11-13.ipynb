{
 "cells": [
  {
   "cell_type": "markdown",
   "metadata": {},
   "source": [
    "## Real experiments for head movements"
   ]
  },
  {
   "cell_type": "code",
   "execution_count": 1,
   "metadata": {},
   "outputs": [],
   "source": [
    "import pandas as pd\n",
    "import numpy as np\n",
    "import matplotlib.pyplot as plt\n",
    "from sklearn.preprocessing import MinMaxScaler\n",
    "%matplotlib inline"
   ]
  },
  {
   "cell_type": "code",
   "execution_count": 2,
   "metadata": {},
   "outputs": [
    {
     "name": "stderr",
     "output_type": "stream",
     "text": [
      "C:\\ProgramData\\Anaconda3\\lib\\site-packages\\sklearn\\externals\\six.py:31: DeprecationWarning: The module is deprecated in version 0.21 and will be removed in version 0.23 since we've dropped support for Python 2.7. Please rely on the official version of six (https://pypi.org/project/six/).\n",
      "  \"(https://pypi.org/project/six/).\", DeprecationWarning)\n"
     ]
    }
   ],
   "source": [
    "from sklearn.model_selection import StratifiedKFold\n",
    "from sklearn.model_selection import KFold\n",
    "from sklearn.linear_model import LogisticRegression\n",
    "from sklearn.metrics import confusion_matrix, accuracy_score,f1_score\n",
    "from sklearn.neural_network import MLPClassifier\n",
    "from sklearn.svm import SVC,LinearSVC\n",
    "from sklearn.dummy import DummyClassifier\n",
    "from seqlearn.perceptron import StructuredPerceptron\n",
    "import sklearn_crfsuite\n",
    "from sklearn_crfsuite import metrics as skcrfmetrics\n",
    "from scipy.stats import pearsonr,spearmanr"
   ]
  },
  {
   "cell_type": "code",
   "execution_count": 3,
   "metadata": {},
   "outputs": [],
   "source": [
    "import glob"
   ]
  },
  {
   "cell_type": "code",
   "execution_count": 4,
   "metadata": {},
   "outputs": [
    {
     "data": {
      "text/plain": [
       "'C:\\\\Users\\\\zgk261\\\\nomco\\\\9-11-13\\\\middle\\\\'"
      ]
     },
     "execution_count": 4,
     "metadata": {},
     "output_type": "execute_result"
    }
   ],
   "source": [
    "windowsize=\"9-11-13\"\n",
    "memory=\"middle\"\n",
    "\n",
    "PATH = \"C:\\\\Users\\\\zgk261\\\\nomco\\\\\"+windowsize+\"\\\\\"+memory+\"\\\\\"\n",
    "PATH"
   ]
  },
  {
   "cell_type": "code",
   "execution_count": 5,
   "metadata": {},
   "outputs": [
    {
     "name": "stdout",
     "output_type": "stream",
     "text": [
      "F2_M4-all-final2_primary_F2.T-Tilt-ST-SideTurn-HO-HeadOther-S-Shake-W-Waggle-N-Nod-J-Jerk-HB-HeadBackward-HF-HeadForward--rdXY.svm.9-11-13-middle.tab\n",
      "F2_M4-all-final2_primary_M4.T-Tilt-ST-SideTurn-HO-HeadOther-S-Shake-W-Waggle-N-Nod-J-Jerk-HB-HeadBackward-HF-HeadForward--rdXY.svm.9-11-13-middle.tab\n",
      "F3_F6-all-final2_primary_F3.T-Tilt-ST-SideTurn-HO-HeadOther-S-Shake-W-Waggle-N-Nod-J-Jerk-HB-HeadBackward-HF-HeadForward--rdXY.svm.9-11-13-middle.tab\n",
      "F3_F6-all-final2_primary_F6.T-Tilt-ST-SideTurn-HO-HeadOther-S-Shake-W-Waggle-N-Nod-J-Jerk-HB-HeadBackward-HF-HeadForward--rdXY.svm.9-11-13-middle.tab\n",
      "F4_F1-all-final2_primary_F1.T-Tilt-ST-SideTurn-HO-HeadOther-S-Shake-W-Waggle-N-Nod-J-Jerk-HB-HeadBackward-HF-HeadForward--rdXY.svm.9-11-13-middle.tab\n",
      "F4_F1-all-final2_primary_F4.T-Tilt-ST-SideTurn-HO-HeadOther-S-Shake-W-Waggle-N-Nod-J-Jerk-HB-HeadBackward-HF-HeadForward--rdXY.svm.9-11-13-middle.tab\n",
      "F5_F2-all-final2_primary_F2.T-Tilt-ST-SideTurn-HO-HeadOther-S-Shake-W-Waggle-N-Nod-J-Jerk-HB-HeadBackward-HF-HeadForward--rdXY.svm.9-11-13-middle.tab\n",
      "F5_F2-all-final2_primary_F5.T-Tilt-ST-SideTurn-HO-HeadOther-S-Shake-W-Waggle-N-Nod-J-Jerk-HB-HeadBackward-HF-HeadForward--rdXY.svm.9-11-13-middle.tab\n",
      "F5_M3-all-final2_primary_F5.T-Tilt-ST-SideTurn-HO-HeadOther-S-Shake-W-Waggle-N-Nod-J-Jerk-HB-HeadBackward-HF-HeadForward--rdXY.svm.9-11-13-middle.tab\n",
      "F5_M3-all-final2_primary_M3.T-Tilt-ST-SideTurn-HO-HeadOther-S-Shake-W-Waggle-N-Nod-J-Jerk-HB-HeadBackward-HF-HeadForward--rdXY.svm.9-11-13-middle.tab\n",
      "F6_M2-all-final2_primary_F6.T-Tilt-ST-SideTurn-HO-HeadOther-S-Shake-W-Waggle-N-Nod-J-Jerk-HB-HeadBackward-HF-HeadForward--rdXY.svm.9-11-13-middle.tab\n",
      "F6_M2-all-final2_primary_M2.T-Tilt-ST-SideTurn-HO-HeadOther-S-Shake-W-Waggle-N-Nod-J-Jerk-HB-HeadBackward-HF-HeadForward--rdXY.svm.9-11-13-middle.tab\n",
      "M1_F4-all-final2_primary_F4.T-Tilt-ST-SideTurn-HO-HeadOther-S-Shake-W-Waggle-N-Nod-J-Jerk-HB-HeadBackward-HF-HeadForward--rdXY.svm.9-11-13-middle.tab\n",
      "M1_F4-all-final2_primary_M1.T-Tilt-ST-SideTurn-HO-HeadOther-S-Shake-W-Waggle-N-Nod-J-Jerk-HB-HeadBackward-HF-HeadForward--rdXY.svm.9-11-13-middle.tab\n",
      "M1_M5-all-final2_primary_M1.T-Tilt-ST-SideTurn-HO-HeadOther-S-Shake-W-Waggle-N-Nod-J-Jerk-HB-HeadBackward-HF-HeadForward--rdXY.svm.9-11-13-middle.tab\n",
      "M1_M5-all-final2_primary_M5.T-Tilt-ST-SideTurn-HO-HeadOther-S-Shake-W-Waggle-N-Nod-J-Jerk-HB-HeadBackward-HF-HeadForward--rdXY.svm.9-11-13-middle.tab\n",
      "M2_M4-all-final2_primary_M2.T-Tilt-ST-SideTurn-HO-HeadOther-S-Shake-W-Waggle-N-Nod-J-Jerk-HB-HeadBackward-HF-HeadForward--rdXY.svm.9-11-13-middle.tab\n",
      "M2_M4-all-final2_primary_M4.T-Tilt-ST-SideTurn-HO-HeadOther-S-Shake-W-Waggle-N-Nod-J-Jerk-HB-HeadBackward-HF-HeadForward--rdXY.svm.9-11-13-middle.tab\n",
      "M3_M6-all-final2_primary_M3.T-Tilt-ST-SideTurn-HO-HeadOther-S-Shake-W-Waggle-N-Nod-J-Jerk-HB-HeadBackward-HF-HeadForward--rdXY.svm.9-11-13-middle.tab\n",
      "M3_M6-all-final2_primary_M6.T-Tilt-ST-SideTurn-HO-HeadOther-S-Shake-W-Waggle-N-Nod-J-Jerk-HB-HeadBackward-HF-HeadForward--rdXY.svm.9-11-13-middle.tab\n",
      "M5_F3-all-final2_primary_F3.T-Tilt-ST-SideTurn-HO-HeadOther-S-Shake-W-Waggle-N-Nod-J-Jerk-HB-HeadBackward-HF-HeadForward--rdXY.svm.9-11-13-middle.tab\n",
      "M5_F3-all-final2_primary_M5.T-Tilt-ST-SideTurn-HO-HeadOther-S-Shake-W-Waggle-N-Nod-J-Jerk-HB-HeadBackward-HF-HeadForward--rdXY.svm.9-11-13-middle.tab\n",
      "M6_F1-all-final2_primary_F1.T-Tilt-ST-SideTurn-HO-HeadOther-S-Shake-W-Waggle-N-Nod-J-Jerk-HB-HeadBackward-HF-HeadForward--rdXY.svm.9-11-13-middle.tab\n",
      "M6_F1-all-final2_primary_M6.T-Tilt-ST-SideTurn-HO-HeadOther-S-Shake-W-Waggle-N-Nod-J-Jerk-HB-HeadBackward-HF-HeadForward--rdXY.svm.9-11-13-middle.tab\n"
     ]
    }
   ],
   "source": [
    "!dir /B C:\\Users\\zgk261\\nomco\\9-11-13\\middle\\"
   ]
  },
  {
   "cell_type": "markdown",
   "metadata": {},
   "source": [
    "### SKELETON TO READ FILES, SPEAKERS and PRIMARY SPEAKERS\n"
   ]
  },
  {
   "cell_type": "code",
   "execution_count": 6,
   "metadata": {},
   "outputs": [],
   "source": [
    "speaker_set = set()\n",
    "\n",
    "for each_file in glob.glob(PATH+\"*.tab\"):\n",
    "    filename=each_file.split(\"\\\\\")[-1]\n",
    "    fileinfo=filename.split(\"-\")\n",
    "    \n",
    "    primary_speaker = fileinfo[2].split(\"_\")[-1][:-2] #fileinfo[2] = final2_primary_M1.T\n",
    "    speakers = fileinfo[0]\n",
    "    l_speaker,r_speaker = speakers.split(\"_\")\n",
    "\n",
    "    speaker_set.add(primary_speaker)"
   ]
  },
  {
   "cell_type": "code",
   "execution_count": 7,
   "metadata": {},
   "outputs": [
    {
     "data": {
      "text/plain": [
       "{'F1', 'F2', 'F3', 'F4', 'F5', 'F6', 'M1', 'M2', 'M3', 'M4', 'M5', 'M6'}"
      ]
     },
     "execution_count": 7,
     "metadata": {},
     "output_type": "execute_result"
    }
   ],
   "source": [
    "speaker_set"
   ]
  },
  {
   "cell_type": "markdown",
   "metadata": {},
   "source": [
    "### SKELETON TO READ FILES AND COSS_VALIDATE\n",
    "\n",
    "In the following way: In each iteration, we will leave one speaker out (two files), train a model and test on those two files."
   ]
  },
  {
   "cell_type": "code",
   "execution_count": 8,
   "metadata": {
    "scrolled": true
   },
   "outputs": [
    {
     "name": "stdout",
     "output_type": "stream",
     "text": [
      "Speaker on focus: M4\n",
      "Training data size: (181548, 28)\n",
      "Testing data size: (16512, 28)\n",
      "\n",
      "Speaker on focus: F3\n",
      "Training data size: (181651, 28)\n",
      "Testing data size: (16409, 28)\n",
      "\n",
      "Speaker on focus: M1\n",
      "Training data size: (180025, 28)\n",
      "Testing data size: (18035, 28)\n",
      "\n",
      "Speaker on focus: F1\n",
      "Training data size: (181919, 28)\n",
      "Testing data size: (16141, 28)\n",
      "\n",
      "Speaker on focus: M6\n",
      "Training data size: (181528, 28)\n",
      "Testing data size: (16532, 28)\n",
      "\n",
      "Speaker on focus: M5\n",
      "Training data size: (180649, 28)\n",
      "Testing data size: (17411, 28)\n",
      "\n",
      "Speaker on focus: M3\n",
      "Training data size: (181426, 28)\n",
      "Testing data size: (16634, 28)\n",
      "\n",
      "Speaker on focus: F5\n",
      "Training data size: (181647, 28)\n",
      "Testing data size: (16413, 28)\n",
      "\n",
      "Speaker on focus: F6\n",
      "Training data size: (182822, 28)\n",
      "Testing data size: (15238, 28)\n",
      "\n",
      "Speaker on focus: M2\n",
      "Training data size: (182715, 28)\n",
      "Testing data size: (15345, 28)\n",
      "\n",
      "Speaker on focus: F2\n",
      "Training data size: (181593, 28)\n",
      "Testing data size: (16467, 28)\n",
      "\n",
      "Speaker on focus: F4\n",
      "Training data size: (181137, 28)\n",
      "Testing data size: (16923, 28)\n",
      "\n"
     ]
    }
   ],
   "source": [
    "\n",
    "for speaker_on_focus in speaker_set:\n",
    "    train_files = []\n",
    "    test_files  = []\n",
    "    \n",
    "    for each_file in glob.glob(PATH+\"*.tab\"):\n",
    "        filename=each_file.split(\"\\\\\")[-1]\n",
    "        fileinfo=filename.split(\"-\")\n",
    "\n",
    "        primary_speaker = fileinfo[2].split(\"_\")[-1][:-2] #fileinfo[2] = final2_primary_M1.T\n",
    "        speakers = fileinfo[0]\n",
    "        l_speaker,r_speaker = speakers.split(\"_\")\n",
    "        if primary_speaker == l_speaker:\n",
    "            secondary_speaker = r_speaker\n",
    "        else:\n",
    "            secondary_speaker = l_speaker\n",
    "\n",
    "        #print (primary_speaker,l_speaker,r_speaker,speaker_on_focus)\n",
    "\n",
    "        file_df = pd.read_csv(each_file,sep=\"\\t\")\n",
    "        file_df.columns = [el.replace(primary_speaker, \"PRIMA\").replace(secondary_speaker, \"SECON\") for el in file_df.columns]\n",
    "\n",
    "        if primary_speaker != speaker_on_focus:\n",
    "            #FILES TO TRAIN!\n",
    "            train_files.append(file_df)\n",
    "        else:\n",
    "            #FILES TO TEST!\n",
    "            test_files.append(file_df)\n",
    "            \n",
    "        \n",
    "        \n",
    "    training_data = pd.concat(train_files, ignore_index=True)\n",
    "    testing_data = pd.concat(test_files, ignore_index=True)\n",
    "    print (\"Speaker on focus:\",speaker_on_focus)\n",
    "    print (\"Training data size:\",training_data.shape)\n",
    "    print (\"Testing data size:\",testing_data.shape)\n",
    "    print ()\n"
   ]
  },
  {
   "cell_type": "markdown",
   "metadata": {},
   "source": [
    "### Experiments:\n",
    "\n",
    "It seems that in the 3-6-9 experiments considering both the past and future of frames, the MLP was not the best model, but the Logistic Regression. I think, though, that the MLP will show good performance when cross-validating with the whole data.\n",
    "\n",
    "I will, then, try 3 classifiers:\n",
    "\n",
    "  * SVM, because it is the default classifier that is commonly used\n",
    "  * Logistic Regression, because it seems to perform the best in our initial experiments with two dialogue data\n",
    "  * MLP, because when including more data, I expect to estimate a more general (and thus, better) model"
   ]
  },
  {
   "cell_type": "code",
   "execution_count": 9,
   "metadata": {},
   "outputs": [
    {
     "data": {
      "text/html": [
       "<div>\n",
       "<style scoped>\n",
       "    .dataframe tbody tr th:only-of-type {\n",
       "        vertical-align: middle;\n",
       "    }\n",
       "\n",
       "    .dataframe tbody tr th {\n",
       "        vertical-align: top;\n",
       "    }\n",
       "\n",
       "    .dataframe thead th {\n",
       "        text-align: right;\n",
       "    }\n",
       "</style>\n",
       "<table border=\"1\" class=\"dataframe\">\n",
       "  <thead>\n",
       "    <tr style=\"text-align: right;\">\n",
       "      <th></th>\n",
       "      <th>M4</th>\n",
       "      <th>F3</th>\n",
       "      <th>M1</th>\n",
       "      <th>F1</th>\n",
       "      <th>M6</th>\n",
       "      <th>M5</th>\n",
       "      <th>M3</th>\n",
       "      <th>F5</th>\n",
       "      <th>F6</th>\n",
       "      <th>M2</th>\n",
       "      <th>F2</th>\n",
       "      <th>F4</th>\n",
       "    </tr>\n",
       "  </thead>\n",
       "  <tbody>\n",
       "    <tr>\n",
       "      <td>MF</td>\n",
       "      <td>0</td>\n",
       "      <td>0</td>\n",
       "      <td>0</td>\n",
       "      <td>0</td>\n",
       "      <td>0</td>\n",
       "      <td>0</td>\n",
       "      <td>0</td>\n",
       "      <td>0</td>\n",
       "      <td>0</td>\n",
       "      <td>0</td>\n",
       "      <td>0</td>\n",
       "      <td>0</td>\n",
       "    </tr>\n",
       "  </tbody>\n",
       "</table>\n",
       "</div>"
      ],
      "text/plain": [
       "    M4  F3  M1  F1  M6  M5  M3  F5  F6  M2  F2  F4\n",
       "MF   0   0   0   0   0   0   0   0   0   0   0   0"
      ]
     },
     "execution_count": 9,
     "metadata": {},
     "output_type": "execute_result"
    }
   ],
   "source": [
    "accuracy_results = pd.DataFrame(0,columns=speaker_set,index=[\"MF\"])\n",
    "accuracy_results"
   ]
  },
  {
   "cell_type": "code",
   "execution_count": 10,
   "metadata": {},
   "outputs": [],
   "source": [
    "import math\n",
    "\n",
    "def map_movements(mov_class):\n",
    "    if mov_class == \"Nod\" or mov_class == \"Jerk\":\n",
    "        return 1\n",
    "    elif mov_class == \"Shake\":\n",
    "        return 2\n",
    "    elif mov_class!=mov_class: #This returns True if the value is NAN, and it works. It might be source of errors.\n",
    "        return 0\n",
    "    else:\n",
    "        return 3\n",
    "\n"
   ]
  },
  {
   "cell_type": "code",
   "execution_count": 11,
   "metadata": {
    "scrolled": true
   },
   "outputs": [
    {
     "name": "stdout",
     "output_type": "stream",
     "text": [
      "Speaker on focus: M4\n",
      "Training data size: (181548, 28)\n",
      "Testing data size: (16512, 28)\n",
      "\n",
      "Trying classifier  MF M4\n"
     ]
    },
    {
     "name": "stderr",
     "output_type": "stream",
     "text": [
      "C:\\ProgramData\\Anaconda3\\lib\\site-packages\\sklearn\\metrics\\classification.py:1437: UndefinedMetricWarning: F-score is ill-defined and being set to 0.0 in labels with no predicted samples.\n",
      "  'precision', 'predicted', average, warn_for)\n"
     ]
    },
    {
     "name": "stdout",
     "output_type": "stream",
     "text": [
      "[[10705     0     0     0]\n",
      " [ 1702     0     0     0]\n",
      " [  539     0     0     0]\n",
      " [ 3566     0     0     0]]\n",
      "0.6483163759689923\n",
      "0.19666017562552818\n",
      "0.509992049435872\n",
      "\n",
      "Trying classifier  LR M4\n"
     ]
    },
    {
     "name": "stderr",
     "output_type": "stream",
     "text": [
      "C:\\ProgramData\\Anaconda3\\lib\\site-packages\\sklearn\\linear_model\\logistic.py:469: FutureWarning: Default multi_class will be changed to 'auto' in 0.22. Specify the multi_class option to silence this warning.\n",
      "  \"this warning.\", FutureWarning)\n",
      "C:\\ProgramData\\Anaconda3\\lib\\site-packages\\sklearn\\metrics\\classification.py:1437: UndefinedMetricWarning: F-score is ill-defined and being set to 0.0 in labels with no predicted samples.\n",
      "  'precision', 'predicted', average, warn_for)\n"
     ]
    },
    {
     "name": "stdout",
     "output_type": "stream",
     "text": [
      "[[10705     0     0     0]\n",
      " [ 1702     0     0     0]\n",
      " [  539     0     0     0]\n",
      " [ 3559     0     0     7]]\n",
      "0.6487403100775194\n",
      "0.1976903370896078\n",
      "0.5109694562808088\n",
      "\n",
      "Trying classifier  LINEARSVC M4\n"
     ]
    },
    {
     "name": "stderr",
     "output_type": "stream",
     "text": [
      "C:\\ProgramData\\Anaconda3\\lib\\site-packages\\sklearn\\metrics\\classification.py:1437: UndefinedMetricWarning: F-score is ill-defined and being set to 0.0 in labels with no predicted samples.\n",
      "  'precision', 'predicted', average, warn_for)\n"
     ]
    },
    {
     "name": "stdout",
     "output_type": "stream",
     "text": [
      "[[10705     0     0     0]\n",
      " [ 1702     0     0     0]\n",
      " [  539     0     0     0]\n",
      " [ 3561     0     0     5]]\n",
      "0.6486191860465116\n",
      "0.1973963944613527\n",
      "0.5106905288180259\n",
      "\n",
      "Trying classifier  MLP M4\n",
      "[[9667  134   33  871]\n",
      " [1091  375    4  232]\n",
      " [ 318   11   11  199]\n",
      " [2174  163   36 1193]]\n",
      "0.6810804263565892\n",
      "0.38763486543896414\n",
      "0.6418380966795219\n",
      "\n",
      "Speaker on focus: F3\n",
      "Training data size: (181651, 28)\n",
      "Testing data size: (16409, 28)\n",
      "\n",
      "Trying classifier  MF F3\n"
     ]
    },
    {
     "name": "stderr",
     "output_type": "stream",
     "text": [
      "C:\\ProgramData\\Anaconda3\\lib\\site-packages\\sklearn\\metrics\\classification.py:1437: UndefinedMetricWarning: F-score is ill-defined and being set to 0.0 in labels with no predicted samples.\n",
      "  'precision', 'predicted', average, warn_for)\n"
     ]
    },
    {
     "name": "stdout",
     "output_type": "stream",
     "text": [
      "[[9660    0    0    0]\n",
      " [2223    0    0    0]\n",
      " [ 847    0    0    0]\n",
      " [3679    0    0    0]]\n",
      "0.5887013224449997\n",
      "0.18527753270167632\n",
      "0.4362925140832941\n",
      "\n",
      "Trying classifier  LR F3\n"
     ]
    },
    {
     "name": "stderr",
     "output_type": "stream",
     "text": [
      "C:\\ProgramData\\Anaconda3\\lib\\site-packages\\sklearn\\linear_model\\logistic.py:469: FutureWarning: Default multi_class will be changed to 'auto' in 0.22. Specify the multi_class option to silence this warning.\n",
      "  \"this warning.\", FutureWarning)\n",
      "C:\\ProgramData\\Anaconda3\\lib\\site-packages\\sklearn\\metrics\\classification.py:1437: UndefinedMetricWarning: F-score is ill-defined and being set to 0.0 in labels with no predicted samples.\n",
      "  'precision', 'predicted', average, warn_for)\n"
     ]
    },
    {
     "name": "stdout",
     "output_type": "stream",
     "text": [
      "[[9660    0    0    0]\n",
      " [2223    0    0    0]\n",
      " [ 847    0    0    0]\n",
      " [3679    0    0    0]]\n",
      "0.5887013224449997\n",
      "0.18527753270167632\n",
      "0.4362925140832941\n",
      "\n",
      "Trying classifier  LINEARSVC F3\n"
     ]
    },
    {
     "name": "stderr",
     "output_type": "stream",
     "text": [
      "C:\\ProgramData\\Anaconda3\\lib\\site-packages\\sklearn\\metrics\\classification.py:1437: UndefinedMetricWarning: F-score is ill-defined and being set to 0.0 in labels with no predicted samples.\n",
      "  'precision', 'predicted', average, warn_for)\n"
     ]
    },
    {
     "name": "stdout",
     "output_type": "stream",
     "text": [
      "[[9660    0    0    0]\n",
      " [2223    0    0    0]\n",
      " [ 847    0    0    0]\n",
      " [3679    0    0    0]]\n",
      "0.5887013224449997\n",
      "0.18527753270167632\n",
      "0.4362925140832941\n",
      "\n",
      "Trying classifier  MLP F3\n"
     ]
    },
    {
     "name": "stderr",
     "output_type": "stream",
     "text": [
      "C:\\ProgramData\\Anaconda3\\lib\\site-packages\\sklearn\\neural_network\\multilayer_perceptron.py:566: ConvergenceWarning: Stochastic Optimizer: Maximum iterations (200) reached and the optimization hasn't converged yet.\n",
      "  % self.max_iter, ConvergenceWarning)\n"
     ]
    },
    {
     "name": "stdout",
     "output_type": "stream",
     "text": [
      "[[9217   73   22  348]\n",
      " [1873  190    1  159]\n",
      " [ 632    9   39  167]\n",
      " [2734  100   67  778]]\n",
      "0.6230727040039002\n",
      "0.3234992498204769\n",
      "0.5419517588175125\n",
      "\n",
      "Speaker on focus: M1\n",
      "Training data size: (180025, 28)\n",
      "Testing data size: (18035, 28)\n",
      "\n",
      "Trying classifier  MF M1\n"
     ]
    },
    {
     "name": "stderr",
     "output_type": "stream",
     "text": [
      "C:\\ProgramData\\Anaconda3\\lib\\site-packages\\sklearn\\metrics\\classification.py:1437: UndefinedMetricWarning: F-score is ill-defined and being set to 0.0 in labels with no predicted samples.\n",
      "  'precision', 'predicted', average, warn_for)\n"
     ]
    },
    {
     "name": "stdout",
     "output_type": "stream",
     "text": [
      "[[12498     0     0     0]\n",
      " [  805     0     0     0]\n",
      " [  489     0     0     0]\n",
      " [ 4243     0     0     0]]\n",
      "0.6929858608261713\n",
      "0.204663806373432\n",
      "0.5673164961586146\n",
      "\n",
      "Trying classifier  LR M1\n"
     ]
    },
    {
     "name": "stderr",
     "output_type": "stream",
     "text": [
      "C:\\ProgramData\\Anaconda3\\lib\\site-packages\\sklearn\\linear_model\\logistic.py:469: FutureWarning: Default multi_class will be changed to 'auto' in 0.22. Specify the multi_class option to silence this warning.\n",
      "  \"this warning.\", FutureWarning)\n",
      "C:\\ProgramData\\Anaconda3\\lib\\site-packages\\sklearn\\metrics\\classification.py:1437: UndefinedMetricWarning: F-score is ill-defined and being set to 0.0 in labels with no predicted samples.\n",
      "  'precision', 'predicted', average, warn_for)\n"
     ]
    },
    {
     "name": "stdout",
     "output_type": "stream",
     "text": [
      "[[12498     0     0     0]\n",
      " [  805     0     0     0]\n",
      " [  489     0     0     0]\n",
      " [ 4225     0     0    18]]\n",
      "0.6939839201552537\n",
      "0.20689671243666044\n",
      "0.5696388276478618\n",
      "\n",
      "Trying classifier  LINEARSVC M1\n"
     ]
    },
    {
     "name": "stderr",
     "output_type": "stream",
     "text": [
      "C:\\ProgramData\\Anaconda3\\lib\\site-packages\\sklearn\\metrics\\classification.py:1437: UndefinedMetricWarning: F-score is ill-defined and being set to 0.0 in labels with no predicted samples.\n",
      "  'precision', 'predicted', average, warn_for)\n"
     ]
    },
    {
     "name": "stdout",
     "output_type": "stream",
     "text": [
      "[[12498     0     0     0]\n",
      " [  805     0     0     0]\n",
      " [  489     0     0     0]\n",
      " [ 4232     0     0    11]]\n",
      "0.6935957859717217\n",
      "0.20603046714483453\n",
      "0.5687376506300752\n",
      "\n",
      "Trying classifier  MLP M1\n"
     ]
    },
    {
     "name": "stderr",
     "output_type": "stream",
     "text": [
      "C:\\ProgramData\\Anaconda3\\lib\\site-packages\\sklearn\\neural_network\\multilayer_perceptron.py:566: ConvergenceWarning: Stochastic Optimizer: Maximum iterations (200) reached and the optimization hasn't converged yet.\n",
      "  % self.max_iter, ConvergenceWarning)\n"
     ]
    },
    {
     "name": "stdout",
     "output_type": "stream",
     "text": [
      "[[11349    63    32  1054]\n",
      " [  568    61     0   176]\n",
      " [  333     1    44   111]\n",
      " [ 2483    74    44  1642]]\n",
      "0.7261436096479068\n",
      "0.38850460044555923\n",
      "0.6938907234049375\n",
      "\n",
      "Speaker on focus: F1\n",
      "Training data size: (181919, 28)\n",
      "Testing data size: (16141, 28)\n",
      "\n",
      "Trying classifier  MF F1\n"
     ]
    },
    {
     "name": "stderr",
     "output_type": "stream",
     "text": [
      "C:\\ProgramData\\Anaconda3\\lib\\site-packages\\sklearn\\metrics\\classification.py:1437: UndefinedMetricWarning: F-score is ill-defined and being set to 0.0 in labels with no predicted samples.\n",
      "  'precision', 'predicted', average, warn_for)\n"
     ]
    },
    {
     "name": "stdout",
     "output_type": "stream",
     "text": [
      "[[10841     0     0     0]\n",
      " [  829     0     0     0]\n",
      " [  725     0     0     0]\n",
      " [ 3746     0     0     0]]\n",
      "0.6716436404188092\n",
      "0.20089318805129347\n",
      "0.5397145286324446\n",
      "\n",
      "Trying classifier  LR F1\n"
     ]
    },
    {
     "name": "stderr",
     "output_type": "stream",
     "text": [
      "C:\\ProgramData\\Anaconda3\\lib\\site-packages\\sklearn\\linear_model\\logistic.py:469: FutureWarning: Default multi_class will be changed to 'auto' in 0.22. Specify the multi_class option to silence this warning.\n",
      "  \"this warning.\", FutureWarning)\n",
      "C:\\ProgramData\\Anaconda3\\lib\\site-packages\\sklearn\\metrics\\classification.py:1437: UndefinedMetricWarning: F-score is ill-defined and being set to 0.0 in labels with no predicted samples.\n",
      "  'precision', 'predicted', average, warn_for)\n"
     ]
    },
    {
     "name": "stdout",
     "output_type": "stream",
     "text": [
      "[[10841     0     0     0]\n",
      " [  829     0     0     0]\n",
      " [  725     0     0     0]\n",
      " [ 3746     0     0     0]]\n",
      "0.6716436404188092\n",
      "0.20089318805129347\n",
      "0.5397145286324446\n",
      "\n",
      "Trying classifier  LINEARSVC F1\n"
     ]
    },
    {
     "name": "stderr",
     "output_type": "stream",
     "text": [
      "C:\\ProgramData\\Anaconda3\\lib\\site-packages\\sklearn\\metrics\\classification.py:1437: UndefinedMetricWarning: F-score is ill-defined and being set to 0.0 in labels with no predicted samples.\n",
      "  'precision', 'predicted', average, warn_for)\n"
     ]
    },
    {
     "name": "stdout",
     "output_type": "stream",
     "text": [
      "[[10841     0     0     0]\n",
      " [  829     0     0     0]\n",
      " [  725     0     0     0]\n",
      " [ 3746     0     0     0]]\n",
      "0.6716436404188092\n",
      "0.20089318805129347\n",
      "0.5397145286324446\n",
      "\n",
      "Trying classifier  MLP F1\n"
     ]
    },
    {
     "name": "stderr",
     "output_type": "stream",
     "text": [
      "C:\\ProgramData\\Anaconda3\\lib\\site-packages\\sklearn\\neural_network\\multilayer_perceptron.py:566: ConvergenceWarning: Stochastic Optimizer: Maximum iterations (200) reached and the optimization hasn't converged yet.\n",
      "  % self.max_iter, ConvergenceWarning)\n"
     ]
    },
    {
     "name": "stdout",
     "output_type": "stream",
     "text": [
      "[[10071   155    26   589]\n",
      " [  366   252     1   210]\n",
      " [  398     1    79   247]\n",
      " [ 2170   111    84  1381]]\n",
      "0.7300043367821076\n",
      "0.459666792088911\n",
      "0.6981161342029664\n",
      "\n",
      "Speaker on focus: M6\n",
      "Training data size: (181528, 28)\n",
      "Testing data size: (16532, 28)\n",
      "\n",
      "Trying classifier  MF M6\n"
     ]
    },
    {
     "name": "stderr",
     "output_type": "stream",
     "text": [
      "C:\\ProgramData\\Anaconda3\\lib\\site-packages\\sklearn\\metrics\\classification.py:1437: UndefinedMetricWarning: F-score is ill-defined and being set to 0.0 in labels with no predicted samples.\n",
      "  'precision', 'predicted', average, warn_for)\n"
     ]
    },
    {
     "name": "stdout",
     "output_type": "stream",
     "text": [
      "[[9316    0    0    0]\n",
      " [1800    0    0    0]\n",
      " [1671    0    0    0]\n",
      " [3745    0    0    0]]\n",
      "0.5635131865473022\n",
      "0.18020736614051377\n",
      "0.4061969085325493\n",
      "\n",
      "Trying classifier  LR M6\n"
     ]
    },
    {
     "name": "stderr",
     "output_type": "stream",
     "text": [
      "C:\\ProgramData\\Anaconda3\\lib\\site-packages\\sklearn\\linear_model\\logistic.py:469: FutureWarning: Default multi_class will be changed to 'auto' in 0.22. Specify the multi_class option to silence this warning.\n",
      "  \"this warning.\", FutureWarning)\n",
      "C:\\ProgramData\\Anaconda3\\lib\\site-packages\\sklearn\\metrics\\classification.py:1437: UndefinedMetricWarning: F-score is ill-defined and being set to 0.0 in labels with no predicted samples.\n",
      "  'precision', 'predicted', average, warn_for)\n"
     ]
    },
    {
     "name": "stdout",
     "output_type": "stream",
     "text": [
      "[[9313    0    0    3]\n",
      " [1800    0    0    0]\n",
      " [1671    0    0    0]\n",
      " [3745    0    0    0]]\n",
      "0.5633317203000242\n",
      "0.18017024569549234\n",
      "0.406113237091509\n",
      "\n",
      "Trying classifier  LINEARSVC M6\n"
     ]
    },
    {
     "name": "stderr",
     "output_type": "stream",
     "text": [
      "C:\\ProgramData\\Anaconda3\\lib\\site-packages\\sklearn\\metrics\\classification.py:1437: UndefinedMetricWarning: F-score is ill-defined and being set to 0.0 in labels with no predicted samples.\n",
      "  'precision', 'predicted', average, warn_for)\n"
     ]
    },
    {
     "name": "stdout",
     "output_type": "stream",
     "text": [
      "[[9316    0    0    0]\n",
      " [1800    0    0    0]\n",
      " [1671    0    0    0]\n",
      " [3745    0    0    0]]\n",
      "0.5635131865473022\n",
      "0.18020736614051377\n",
      "0.4061969085325493\n",
      "\n",
      "Trying classifier  MLP M6\n"
     ]
    },
    {
     "name": "stderr",
     "output_type": "stream",
     "text": [
      "C:\\ProgramData\\Anaconda3\\lib\\site-packages\\sklearn\\neural_network\\multilayer_perceptron.py:566: ConvergenceWarning: Stochastic Optimizer: Maximum iterations (200) reached and the optimization hasn't converged yet.\n",
      "  % self.max_iter, ConvergenceWarning)\n"
     ]
    },
    {
     "name": "stdout",
     "output_type": "stream",
     "text": [
      "[[8468  126   40  682]\n",
      " [1370  212    3  215]\n",
      " [1220   16   84  351]\n",
      " [2105  118   56 1466]]\n",
      "0.6187999032180015\n",
      "0.37114728531432484\n",
      "0.5568683014636939\n",
      "\n",
      "Speaker on focus: M5\n",
      "Training data size: (180649, 28)\n",
      "Testing data size: (17411, 28)\n",
      "\n",
      "Trying classifier  MF M5\n"
     ]
    },
    {
     "name": "stderr",
     "output_type": "stream",
     "text": [
      "C:\\ProgramData\\Anaconda3\\lib\\site-packages\\sklearn\\metrics\\classification.py:1437: UndefinedMetricWarning: F-score is ill-defined and being set to 0.0 in labels with no predicted samples.\n",
      "  'precision', 'predicted', average, warn_for)\n"
     ]
    },
    {
     "name": "stdout",
     "output_type": "stream",
     "text": [
      "[[9595    0    0    0]\n",
      " [2325    0    0    0]\n",
      " [1014    0    0    0]\n",
      " [4477    0    0    0]]\n",
      "0.5510883923956119\n",
      "0.1776457083611049\n",
      "0.39159395134680414\n",
      "\n",
      "Trying classifier  LR M5\n"
     ]
    },
    {
     "name": "stderr",
     "output_type": "stream",
     "text": [
      "C:\\ProgramData\\Anaconda3\\lib\\site-packages\\sklearn\\linear_model\\logistic.py:469: FutureWarning: Default multi_class will be changed to 'auto' in 0.22. Specify the multi_class option to silence this warning.\n",
      "  \"this warning.\", FutureWarning)\n",
      "C:\\ProgramData\\Anaconda3\\lib\\site-packages\\sklearn\\metrics\\classification.py:1437: UndefinedMetricWarning: F-score is ill-defined and being set to 0.0 in labels with no predicted samples.\n",
      "  'precision', 'predicted', average, warn_for)\n"
     ]
    },
    {
     "name": "stdout",
     "output_type": "stream",
     "text": [
      "[[9594    0    0    1]\n",
      " [2325    0    0    0]\n",
      " [1014    0    0    0]\n",
      " [4477    0    0    0]]\n",
      "0.5510309574406984\n",
      "0.1776337715237919\n",
      "0.39156763833686364\n",
      "\n",
      "Trying classifier  LINEARSVC M5\n"
     ]
    },
    {
     "name": "stderr",
     "output_type": "stream",
     "text": [
      "C:\\ProgramData\\Anaconda3\\lib\\site-packages\\sklearn\\metrics\\classification.py:1437: UndefinedMetricWarning: F-score is ill-defined and being set to 0.0 in labels with no predicted samples.\n",
      "  'precision', 'predicted', average, warn_for)\n"
     ]
    },
    {
     "name": "stdout",
     "output_type": "stream",
     "text": [
      "[[9594    0    0    1]\n",
      " [2325    0    0    0]\n",
      " [1014    0    0    0]\n",
      " [4477    0    0    0]]\n",
      "0.5510309574406984\n",
      "0.1776337715237919\n",
      "0.39156763833686364\n",
      "\n",
      "Trying classifier  MLP M5\n",
      "[[9182   83   13  317]\n",
      " [1877  281    3  164]\n",
      " [ 694    9   56  255]\n",
      " [2640  199   50 1588]]\n",
      "0.6379300442249153\n",
      "0.3812812314666448\n",
      "0.5736126109923291\n",
      "\n",
      "Speaker on focus: M3\n",
      "Training data size: (181426, 28)\n",
      "Testing data size: (16634, 28)\n",
      "\n",
      "Trying classifier  MF M3\n"
     ]
    },
    {
     "name": "stderr",
     "output_type": "stream",
     "text": [
      "C:\\ProgramData\\Anaconda3\\lib\\site-packages\\sklearn\\metrics\\classification.py:1437: UndefinedMetricWarning: F-score is ill-defined and being set to 0.0 in labels with no predicted samples.\n",
      "  'precision', 'predicted', average, warn_for)\n"
     ]
    },
    {
     "name": "stdout",
     "output_type": "stream",
     "text": [
      "[[11972     0     0     0]\n",
      " [  778     0     0     0]\n",
      " [  616     0     0     0]\n",
      " [ 3268     0     0     0]]\n",
      "0.71973067211735\n",
      "0.20925679927287982\n",
      "0.6024341471431808\n",
      "\n",
      "Trying classifier  LR M3\n"
     ]
    },
    {
     "name": "stderr",
     "output_type": "stream",
     "text": [
      "C:\\ProgramData\\Anaconda3\\lib\\site-packages\\sklearn\\linear_model\\logistic.py:469: FutureWarning: Default multi_class will be changed to 'auto' in 0.22. Specify the multi_class option to silence this warning.\n",
      "  \"this warning.\", FutureWarning)\n",
      "C:\\ProgramData\\Anaconda3\\lib\\site-packages\\sklearn\\metrics\\classification.py:1437: UndefinedMetricWarning: F-score is ill-defined and being set to 0.0 in labels with no predicted samples.\n",
      "  'precision', 'predicted', average, warn_for)\n"
     ]
    },
    {
     "name": "stdout",
     "output_type": "stream",
     "text": [
      "[[11972     0     0     0]\n",
      " [  778     0     0     0]\n",
      " [  616     0     0     0]\n",
      " [ 3268     0     0     0]]\n",
      "0.71973067211735\n",
      "0.20925679927287982\n",
      "0.6024341471431808\n",
      "\n",
      "Trying classifier  LINEARSVC M3\n"
     ]
    },
    {
     "name": "stderr",
     "output_type": "stream",
     "text": [
      "C:\\ProgramData\\Anaconda3\\lib\\site-packages\\sklearn\\metrics\\classification.py:1437: UndefinedMetricWarning: F-score is ill-defined and being set to 0.0 in labels with no predicted samples.\n",
      "  'precision', 'predicted', average, warn_for)\n"
     ]
    },
    {
     "name": "stdout",
     "output_type": "stream",
     "text": [
      "[[11972     0     0     0]\n",
      " [  778     0     0     0]\n",
      " [  616     0     0     0]\n",
      " [ 3268     0     0     0]]\n",
      "0.71973067211735\n",
      "0.20925679927287982\n",
      "0.6024341471431808\n",
      "\n",
      "Trying classifier  MLP M3\n"
     ]
    },
    {
     "name": "stderr",
     "output_type": "stream",
     "text": [
      "C:\\ProgramData\\Anaconda3\\lib\\site-packages\\sklearn\\neural_network\\multilayer_perceptron.py:566: ConvergenceWarning: Stochastic Optimizer: Maximum iterations (200) reached and the optimization hasn't converged yet.\n",
      "  % self.max_iter, ConvergenceWarning)\n"
     ]
    },
    {
     "name": "stdout",
     "output_type": "stream",
     "text": [
      "[[10585   112    18  1257]\n",
      " [  393   183     0   202]\n",
      " [  397    12    13   194]\n",
      " [ 1794   134    23  1317]]\n",
      "0.7273055188168811\n",
      "0.40083840704947815\n",
      "0.7044874281462598\n",
      "\n",
      "Speaker on focus: F5\n",
      "Training data size: (181647, 28)\n",
      "Testing data size: (16413, 28)\n",
      "\n",
      "Trying classifier  MF F5\n"
     ]
    },
    {
     "name": "stderr",
     "output_type": "stream",
     "text": [
      "C:\\ProgramData\\Anaconda3\\lib\\site-packages\\sklearn\\metrics\\classification.py:1437: UndefinedMetricWarning: F-score is ill-defined and being set to 0.0 in labels with no predicted samples.\n",
      "  'precision', 'predicted', average, warn_for)\n"
     ]
    },
    {
     "name": "stdout",
     "output_type": "stream",
     "text": [
      "[[12154     0     0     0]\n",
      " [ 1330     0     0     0]\n",
      " [  914     0     0     0]\n",
      " [ 2015     0     0     0]]\n",
      "0.7405105708889295\n",
      "0.21272797283578954\n",
      "0.6301092504347008\n",
      "\n",
      "Trying classifier  LR F5\n"
     ]
    },
    {
     "name": "stderr",
     "output_type": "stream",
     "text": [
      "C:\\ProgramData\\Anaconda3\\lib\\site-packages\\sklearn\\linear_model\\logistic.py:469: FutureWarning: Default multi_class will be changed to 'auto' in 0.22. Specify the multi_class option to silence this warning.\n",
      "  \"this warning.\", FutureWarning)\n",
      "C:\\ProgramData\\Anaconda3\\lib\\site-packages\\sklearn\\metrics\\classification.py:1437: UndefinedMetricWarning: F-score is ill-defined and being set to 0.0 in labels with no predicted samples.\n",
      "  'precision', 'predicted', average, warn_for)\n"
     ]
    },
    {
     "name": "stdout",
     "output_type": "stream",
     "text": [
      "[[12153     0     0     1]\n",
      " [ 1330     0     0     0]\n",
      " [  914     0     0     0]\n",
      " [ 2009     0     0     6]]\n",
      "0.7408152074575032\n",
      "0.21424628456723935\n",
      "0.6309404291534749\n",
      "\n",
      "Trying classifier  LINEARSVC F5\n"
     ]
    },
    {
     "name": "stderr",
     "output_type": "stream",
     "text": [
      "C:\\ProgramData\\Anaconda3\\lib\\site-packages\\sklearn\\metrics\\classification.py:1437: UndefinedMetricWarning: F-score is ill-defined and being set to 0.0 in labels with no predicted samples.\n",
      "  'precision', 'predicted', average, warn_for)\n"
     ]
    },
    {
     "name": "stdout",
     "output_type": "stream",
     "text": [
      "[[12154     0     0     0]\n",
      " [ 1330     0     0     0]\n",
      " [  914     0     0     0]\n",
      " [ 2013     0     0     2]]\n",
      "0.740632425516359\n",
      "0.21323865296563319\n",
      "0.6303968356083587\n",
      "\n",
      "Trying classifier  MLP F5\n"
     ]
    },
    {
     "name": "stderr",
     "output_type": "stream",
     "text": [
      "C:\\ProgramData\\Anaconda3\\lib\\site-packages\\sklearn\\neural_network\\multilayer_perceptron.py:566: ConvergenceWarning: Stochastic Optimizer: Maximum iterations (200) reached and the optimization hasn't converged yet.\n",
      "  % self.max_iter, ConvergenceWarning)\n"
     ]
    },
    {
     "name": "stdout",
     "output_type": "stream",
     "text": [
      "[[11469   102     3   580]\n",
      " [ 1045    92     0   193]\n",
      " [  726     4    15   169]\n",
      " [ 1276    24     3   712]]\n",
      "0.7486748309267044\n",
      "0.34970660178269597\n",
      "0.6959313936462966\n",
      "\n",
      "Speaker on focus: F6\n",
      "Training data size: (182822, 28)\n",
      "Testing data size: (15238, 28)\n",
      "\n",
      "Trying classifier  MF F6\n"
     ]
    },
    {
     "name": "stderr",
     "output_type": "stream",
     "text": [
      "C:\\ProgramData\\Anaconda3\\lib\\site-packages\\sklearn\\metrics\\classification.py:1437: UndefinedMetricWarning: F-score is ill-defined and being set to 0.0 in labels with no predicted samples.\n",
      "  'precision', 'predicted', average, warn_for)\n"
     ]
    },
    {
     "name": "stdout",
     "output_type": "stream",
     "text": [
      "[[7718    0    0    0]\n",
      " [3393    0    0    0]\n",
      " [ 435    0    0    0]\n",
      " [3692    0    0    0]]\n",
      "0.5064969156057225\n",
      "0.16810419933786372\n",
      "0.34057703385999005\n",
      "\n",
      "Trying classifier  LR F6\n"
     ]
    },
    {
     "name": "stderr",
     "output_type": "stream",
     "text": [
      "C:\\ProgramData\\Anaconda3\\lib\\site-packages\\sklearn\\linear_model\\logistic.py:469: FutureWarning: Default multi_class will be changed to 'auto' in 0.22. Specify the multi_class option to silence this warning.\n",
      "  \"this warning.\", FutureWarning)\n",
      "C:\\ProgramData\\Anaconda3\\lib\\site-packages\\sklearn\\metrics\\classification.py:1437: UndefinedMetricWarning: F-score is ill-defined and being set to 0.0 in labels with no predicted samples.\n",
      "  'precision', 'predicted', average, warn_for)\n"
     ]
    },
    {
     "name": "stdout",
     "output_type": "stream",
     "text": [
      "[[7714    0    0    4]\n",
      " [3393    0    0    0]\n",
      " [ 435    0    0    0]\n",
      " [3689    0    0    3]]\n",
      "0.5064312901955638\n",
      "0.16847384042128466\n",
      "0.3408973610618583\n",
      "\n",
      "Trying classifier  LINEARSVC F6\n"
     ]
    },
    {
     "name": "stderr",
     "output_type": "stream",
     "text": [
      "C:\\ProgramData\\Anaconda3\\lib\\site-packages\\sklearn\\metrics\\classification.py:1437: UndefinedMetricWarning: F-score is ill-defined and being set to 0.0 in labels with no predicted samples.\n",
      "  'precision', 'predicted', average, warn_for)\n"
     ]
    },
    {
     "name": "stdout",
     "output_type": "stream",
     "text": [
      "[[7715    0    0    3]\n",
      " [3393    0    0    0]\n",
      " [ 435    0    0    0]\n",
      " [3692    0    0    0]]\n",
      "0.5063000393752461\n",
      "0.16806081993639174\n",
      "0.34048914772780453\n",
      "\n",
      "Trying classifier  MLP F6\n",
      "[[6206  616   27  869]\n",
      " [1352 1458    5  578]\n",
      " [ 175   12   71  177]\n",
      " [1591  467   79 1555]]\n",
      "0.6096600603753773\n",
      "0.475376211521402\n",
      "0.5943264512649353\n",
      "\n",
      "Speaker on focus: M2\n",
      "Training data size: (182715, 28)\n",
      "Testing data size: (15345, 28)\n",
      "\n",
      "Trying classifier  MF M2\n"
     ]
    },
    {
     "name": "stderr",
     "output_type": "stream",
     "text": [
      "C:\\ProgramData\\Anaconda3\\lib\\site-packages\\sklearn\\metrics\\classification.py:1437: UndefinedMetricWarning: F-score is ill-defined and being set to 0.0 in labels with no predicted samples.\n",
      "  'precision', 'predicted', average, warn_for)\n"
     ]
    },
    {
     "name": "stdout",
     "output_type": "stream",
     "text": [
      "[[10965     0     0     0]\n",
      " [ 1608     0     0     0]\n",
      " [  156     0     0     0]\n",
      " [ 2616     0     0     0]]\n",
      "0.7145650048875856\n",
      "0.20838084378563285\n",
      "0.5956066346326397\n",
      "\n",
      "Trying classifier  LR M2\n"
     ]
    },
    {
     "name": "stderr",
     "output_type": "stream",
     "text": [
      "C:\\ProgramData\\Anaconda3\\lib\\site-packages\\sklearn\\linear_model\\logistic.py:469: FutureWarning: Default multi_class will be changed to 'auto' in 0.22. Specify the multi_class option to silence this warning.\n",
      "  \"this warning.\", FutureWarning)\n",
      "C:\\ProgramData\\Anaconda3\\lib\\site-packages\\sklearn\\metrics\\classification.py:1437: UndefinedMetricWarning: F-score is ill-defined and being set to 0.0 in labels with no predicted samples.\n",
      "  'precision', 'predicted', average, warn_for)\n"
     ]
    },
    {
     "name": "stdout",
     "output_type": "stream",
     "text": [
      "[[10965     0     0     0]\n",
      " [ 1608     0     0     0]\n",
      " [  156     0     0     0]\n",
      " [ 2612     0     0     4]]\n",
      "0.7148256761159987\n",
      "0.20917588823958544\n",
      "0.5962177470457625\n",
      "\n",
      "Trying classifier  LINEARSVC M2\n"
     ]
    },
    {
     "name": "stderr",
     "output_type": "stream",
     "text": [
      "C:\\ProgramData\\Anaconda3\\lib\\site-packages\\sklearn\\metrics\\classification.py:1437: UndefinedMetricWarning: F-score is ill-defined and being set to 0.0 in labels with no predicted samples.\n",
      "  'precision', 'predicted', average, warn_for)\n"
     ]
    },
    {
     "name": "stdout",
     "output_type": "stream",
     "text": [
      "[[10965     0     0     0]\n",
      " [ 1608     0     0     0]\n",
      " [  156     0     0     0]\n",
      " [ 2613     0     0     3]]\n",
      "0.7147605083088954\n",
      "0.20897734482492408\n",
      "0.5960651154287943\n",
      "\n",
      "Trying classifier  MLP M2\n",
      "[[10515    92     6   352]\n",
      " [ 1293   215     0   100]\n",
      " [  118     5     4    29]\n",
      " [ 1771    87    15   743]]\n",
      "0.7479309221244705\n",
      "0.3745392702285156\n",
      "0.6982026104805157\n",
      "\n",
      "Speaker on focus: F2\n",
      "Training data size: (181593, 28)\n",
      "Testing data size: (16467, 28)\n",
      "\n",
      "Trying classifier  MF F2\n"
     ]
    },
    {
     "name": "stderr",
     "output_type": "stream",
     "text": [
      "C:\\ProgramData\\Anaconda3\\lib\\site-packages\\sklearn\\metrics\\classification.py:1437: UndefinedMetricWarning: F-score is ill-defined and being set to 0.0 in labels with no predicted samples.\n",
      "  'precision', 'predicted', average, warn_for)\n"
     ]
    },
    {
     "name": "stdout",
     "output_type": "stream",
     "text": [
      "[[10315     0     0     0]\n",
      " [ 1779     0     0     0]\n",
      " [ 1060     0     0     0]\n",
      " [ 3313     0     0     0]]\n",
      "0.6264043237991134\n",
      "0.19257337017399748\n",
      "0.48251516690223695\n",
      "\n",
      "Trying classifier  LR F2\n"
     ]
    },
    {
     "name": "stderr",
     "output_type": "stream",
     "text": [
      "C:\\ProgramData\\Anaconda3\\lib\\site-packages\\sklearn\\linear_model\\logistic.py:469: FutureWarning: Default multi_class will be changed to 'auto' in 0.22. Specify the multi_class option to silence this warning.\n",
      "  \"this warning.\", FutureWarning)\n",
      "C:\\ProgramData\\Anaconda3\\lib\\site-packages\\sklearn\\metrics\\classification.py:1437: UndefinedMetricWarning: F-score is ill-defined and being set to 0.0 in labels with no predicted samples.\n",
      "  'precision', 'predicted', average, warn_for)\n"
     ]
    },
    {
     "name": "stdout",
     "output_type": "stream",
     "text": [
      "[[10315     0     0     0]\n",
      " [ 1769     0     0    10]\n",
      " [ 1060     0     0     0]\n",
      " [ 3301     0     0    12]]\n",
      "0.6271330539867614\n",
      "0.19453078953796643\n",
      "0.4843596994558325\n",
      "\n",
      "Trying classifier  LINEARSVC F2\n"
     ]
    },
    {
     "name": "stderr",
     "output_type": "stream",
     "text": [
      "C:\\ProgramData\\Anaconda3\\lib\\site-packages\\sklearn\\metrics\\classification.py:1437: UndefinedMetricWarning: F-score is ill-defined and being set to 0.0 in labels with no predicted samples.\n",
      "  'precision', 'predicted', average, warn_for)\n"
     ]
    },
    {
     "name": "stdout",
     "output_type": "stream",
     "text": [
      "[[10315     0     0     0]\n",
      " [ 1772     0     0     7]\n",
      " [ 1060     0     0     0]\n",
      " [ 3302     0     0    11]]\n",
      "0.6270723264711241\n",
      "0.19435404028074474\n",
      "0.4841684660280074\n",
      "\n",
      "Trying classifier  MLP F2\n",
      "[[8522  213  102 1478]\n",
      " [ 760  536   15  468]\n",
      " [ 362   28  120  550]\n",
      " [1363  223  108 1619]]\n",
      "0.6556749863363089\n",
      "0.44796227097931296\n",
      "0.6410964268447435\n",
      "\n",
      "Speaker on focus: F4\n",
      "Training data size: (181137, 28)\n",
      "Testing data size: (16923, 28)\n",
      "\n",
      "Trying classifier  MF F4\n"
     ]
    },
    {
     "name": "stderr",
     "output_type": "stream",
     "text": [
      "C:\\ProgramData\\Anaconda3\\lib\\site-packages\\sklearn\\metrics\\classification.py:1437: UndefinedMetricWarning: F-score is ill-defined and being set to 0.0 in labels with no predicted samples.\n",
      "  'precision', 'predicted', average, warn_for)\n"
     ]
    },
    {
     "name": "stdout",
     "output_type": "stream",
     "text": [
      "[[10008     0     0     0]\n",
      " [ 3183     0     0     0]\n",
      " [ 1039     0     0     0]\n",
      " [ 2693     0     0     0]]\n",
      "0.5913845062932104\n",
      "0.18580817645093015\n",
      "0.43953630678270017\n",
      "\n",
      "Trying classifier  LR F4\n"
     ]
    },
    {
     "name": "stderr",
     "output_type": "stream",
     "text": [
      "C:\\ProgramData\\Anaconda3\\lib\\site-packages\\sklearn\\linear_model\\logistic.py:469: FutureWarning: Default multi_class will be changed to 'auto' in 0.22. Specify the multi_class option to silence this warning.\n",
      "  \"this warning.\", FutureWarning)\n",
      "C:\\ProgramData\\Anaconda3\\lib\\site-packages\\sklearn\\metrics\\classification.py:1437: UndefinedMetricWarning: F-score is ill-defined and being set to 0.0 in labels with no predicted samples.\n",
      "  'precision', 'predicted', average, warn_for)\n"
     ]
    },
    {
     "name": "stdout",
     "output_type": "stream",
     "text": [
      "[[10008     0     0     0]\n",
      " [ 3183     0     0     0]\n",
      " [ 1039     0     0     0]\n",
      " [ 2683     0     0    10]]\n",
      "0.5919754180700821\n",
      "0.1877269927632354\n",
      "0.4408770270077957\n",
      "\n",
      "Trying classifier  LINEARSVC F4\n"
     ]
    },
    {
     "name": "stderr",
     "output_type": "stream",
     "text": [
      "C:\\ProgramData\\Anaconda3\\lib\\site-packages\\sklearn\\metrics\\classification.py:1437: UndefinedMetricWarning: F-score is ill-defined and being set to 0.0 in labels with no predicted samples.\n",
      "  'precision', 'predicted', average, warn_for)\n"
     ]
    },
    {
     "name": "stdout",
     "output_type": "stream",
     "text": [
      "[[10008     0     0     0]\n",
      " [ 3183     0     0     0]\n",
      " [ 1039     0     0     0]\n",
      " [ 2685     0     0     8]]\n",
      "0.5918572357147078\n",
      "0.18734432116889138\n",
      "0.44060957075049045\n",
      "\n",
      "Trying classifier  MLP F4\n",
      "[[8873   80   14 1041]\n",
      " [2024  545    1  613]\n",
      " [ 426    1  113  499]\n",
      " [ 987  130   50 1526]]\n",
      "0.6533711516870532\n",
      "0.4341339892029775\n",
      "0.6099038391818196\n",
      "\n"
     ]
    },
    {
     "data": {
      "text/html": [
       "<div>\n",
       "<style scoped>\n",
       "    .dataframe tbody tr th:only-of-type {\n",
       "        vertical-align: middle;\n",
       "    }\n",
       "\n",
       "    .dataframe tbody tr th {\n",
       "        vertical-align: top;\n",
       "    }\n",
       "\n",
       "    .dataframe thead th {\n",
       "        text-align: right;\n",
       "    }\n",
       "</style>\n",
       "<table border=\"1\" class=\"dataframe\">\n",
       "  <thead>\n",
       "    <tr style=\"text-align: right;\">\n",
       "      <th></th>\n",
       "      <th>M4</th>\n",
       "      <th>F3</th>\n",
       "      <th>M1</th>\n",
       "      <th>F1</th>\n",
       "      <th>M6</th>\n",
       "      <th>M5</th>\n",
       "      <th>M3</th>\n",
       "      <th>F5</th>\n",
       "      <th>F6</th>\n",
       "      <th>M2</th>\n",
       "      <th>F2</th>\n",
       "      <th>F4</th>\n",
       "    </tr>\n",
       "  </thead>\n",
       "  <tbody>\n",
       "    <tr>\n",
       "      <td>MF</td>\n",
       "      <td>0.648316</td>\n",
       "      <td>0.588701</td>\n",
       "      <td>0.692986</td>\n",
       "      <td>0.671644</td>\n",
       "      <td>0.563513</td>\n",
       "      <td>0.551088</td>\n",
       "      <td>0.719731</td>\n",
       "      <td>0.740511</td>\n",
       "      <td>0.506497</td>\n",
       "      <td>0.714565</td>\n",
       "      <td>0.626404</td>\n",
       "      <td>0.591385</td>\n",
       "    </tr>\n",
       "    <tr>\n",
       "      <td>LR</td>\n",
       "      <td>0.648740</td>\n",
       "      <td>0.588701</td>\n",
       "      <td>0.693984</td>\n",
       "      <td>0.671644</td>\n",
       "      <td>0.563332</td>\n",
       "      <td>0.551031</td>\n",
       "      <td>0.719731</td>\n",
       "      <td>0.740815</td>\n",
       "      <td>0.506431</td>\n",
       "      <td>0.714826</td>\n",
       "      <td>0.627133</td>\n",
       "      <td>0.591975</td>\n",
       "    </tr>\n",
       "    <tr>\n",
       "      <td>LINEARSVC</td>\n",
       "      <td>0.648619</td>\n",
       "      <td>0.588701</td>\n",
       "      <td>0.693596</td>\n",
       "      <td>0.671644</td>\n",
       "      <td>0.563513</td>\n",
       "      <td>0.551031</td>\n",
       "      <td>0.719731</td>\n",
       "      <td>0.740632</td>\n",
       "      <td>0.506300</td>\n",
       "      <td>0.714761</td>\n",
       "      <td>0.627072</td>\n",
       "      <td>0.591857</td>\n",
       "    </tr>\n",
       "    <tr>\n",
       "      <td>MLP</td>\n",
       "      <td>0.681080</td>\n",
       "      <td>0.623073</td>\n",
       "      <td>0.726144</td>\n",
       "      <td>0.730004</td>\n",
       "      <td>0.618800</td>\n",
       "      <td>0.637930</td>\n",
       "      <td>0.727306</td>\n",
       "      <td>0.748675</td>\n",
       "      <td>0.609660</td>\n",
       "      <td>0.747931</td>\n",
       "      <td>0.655675</td>\n",
       "      <td>0.653371</td>\n",
       "    </tr>\n",
       "  </tbody>\n",
       "</table>\n",
       "</div>"
      ],
      "text/plain": [
       "                 M4        F3        M1        F1        M6        M5  \\\n",
       "MF         0.648316  0.588701  0.692986  0.671644  0.563513  0.551088   \n",
       "LR         0.648740  0.588701  0.693984  0.671644  0.563332  0.551031   \n",
       "LINEARSVC  0.648619  0.588701  0.693596  0.671644  0.563513  0.551031   \n",
       "MLP        0.681080  0.623073  0.726144  0.730004  0.618800  0.637930   \n",
       "\n",
       "                 M3        F5        F6        M2        F2        F4  \n",
       "MF         0.719731  0.740511  0.506497  0.714565  0.626404  0.591385  \n",
       "LR         0.719731  0.740815  0.506431  0.714826  0.627133  0.591975  \n",
       "LINEARSVC  0.719731  0.740632  0.506300  0.714761  0.627072  0.591857  \n",
       "MLP        0.727306  0.748675  0.609660  0.747931  0.655675  0.653371  "
      ]
     },
     "execution_count": 11,
     "metadata": {},
     "output_type": "execute_result"
    }
   ],
   "source": [
    "accuracy_results = pd.DataFrame(0,columns=speaker_set,index=[\"MF\"])\n",
    "f1score_results = pd.DataFrame(0,columns=speaker_set,index=[\"MF\"])\n",
    "f1score_resultsw = pd.DataFrame(0,columns=speaker_set,index=[\"MF\"])\n",
    "#f1score_resultsb = pd.DataFrame(0,columns=speaker_set,index=[\"MF\"])\n",
    "#f1_score(y_true, y_pred, average='micro')\n",
    "\n",
    "for speaker_on_focus in speaker_set:\n",
    "    train_files = []\n",
    "    test_files  = []\n",
    "    \n",
    "    for each_file in glob.glob(PATH+\"*.tab\"):\n",
    "        filename=each_file.split(\"\\\\\")[-1]\n",
    "        fileinfo=filename.split(\"-\")\n",
    "\n",
    "        primary_speaker = fileinfo[2].split(\"_\")[-1][:-2] #fileinfo[2] = final2_primary_M1.T\n",
    "        speakers = fileinfo[0]\n",
    "        l_speaker,r_speaker = speakers.split(\"_\")\n",
    "        if primary_speaker == l_speaker:\n",
    "            secondary_speaker = r_speaker\n",
    "        else:\n",
    "            secondary_speaker = l_speaker\n",
    "\n",
    "        #print (primary_speaker,l_speaker,r_speaker,speaker_on_focus)\n",
    "\n",
    "        file_df = pd.read_csv(each_file,sep=\"\\t\")\n",
    "        file_df.columns = [el.replace(primary_speaker, \"PRIMA\").replace(secondary_speaker, \"SECON\") for el in file_df.columns]\n",
    "\n",
    "        if primary_speaker != speaker_on_focus:\n",
    "            #FILES TO TRAIN!\n",
    "            train_files.append(file_df)\n",
    "        else:\n",
    "            #FILES TO TEST!\n",
    "            test_files.append(file_df)\n",
    "            \n",
    "        \n",
    "        \n",
    "    training_data = pd.concat(train_files, ignore_index=True)\n",
    "    testing_data = pd.concat(test_files, ignore_index=True)\n",
    "    print (\"Speaker on focus:\",speaker_on_focus)\n",
    "    print (\"Training data size:\",training_data.shape)\n",
    "    print (\"Testing data size:\",testing_data.shape)\n",
    "    print ()\n",
    "    \n",
    "    \n",
    "    \n",
    "    \n",
    "    \n",
    "    \n",
    "    \n",
    "    #Train data\n",
    "    features=['PRIMA:velocity-x', 'PRIMA:velocity-y',\n",
    "              'PRIMA:acceleration-x', 'PRIMA:acceleration-y',\n",
    "              'PRIMA:jerk-x', 'PRIMA:jerk-y',\n",
    "              'PRIMA:pitch', 'PRIMA:intensity',\n",
    "              'PRIMA:word01'\n",
    "             ]\n",
    "\n",
    "    feats_learning = training_data[features]\n",
    "    X = feats_learning.dropna() #REMEMBER THIS!!!! We're ignoring any row that has a NaN value.\n",
    "    scaler = MinMaxScaler((0,1))\n",
    "    scaler.fit(X)\n",
    "    X_norm = scaler.transform(X)\n",
    "    #X_norm = X\n",
    "    #We're ignoring anyrow that has a NaN value.\n",
    "    #Y = (training_data[(feats_learning.isnull().sum(axis=1)==0)]['PRIMA:HeadMovement'].equals('nod')*1).values #0: no movement; 1: movement\n",
    "    Y = training_data[(feats_learning.isnull().sum(axis=1)==0)]['PRIMA:HeadMovement'].map(map_movements)\n",
    "    \n",
    "    #Test data\n",
    "    feats_testing = testing_data[features]\n",
    "\n",
    "    X_test = feats_testing.dropna() #REMEMBER THIS!!!! We're ignoring any row that has a NaN value.\n",
    "    X_test_norm = scaler.transform(X_test)\n",
    "    #X_test_norm = X_test\n",
    "#    Y_test = (testing_data[(feats_testing.isnull().sum(axis=1)==0)]['PRIMA:HeadMovement'].equals('nod')*1).values #0: no movement; 1: movement\n",
    "    Y_test =  testing_data[(feats_testing.isnull().sum(axis=1)==0)]['PRIMA:HeadMovement'].map(map_movements)\n",
    "    \n",
    "    classifiers_to_test = [(DummyClassifier(strategy=\"most_frequent\"),\"MF\"),\n",
    "                           (LogisticRegression(solver=\"liblinear\"),\"LR\"),\n",
    "                          (LinearSVC(),\"LINEARSVC\"),\n",
    "                          (MLPClassifier(hidden_layer_sizes=(30,30,30,30), random_state=442), \"MLP\")\n",
    "                          ]\n",
    "                        #I think that now we have to fine-tune the n_hidden_layers and their sizes (MLP)\n",
    "    \n",
    "    \n",
    "    for clf, clfname in classifiers_to_test:\n",
    "        print (\"Trying classifier \",clfname,speaker_on_focus)\n",
    "        clf.fit(X_norm, Y)\n",
    "        y_pred = clf.predict(X_test_norm)\n",
    "        accuracy_results.loc[clfname,speaker_on_focus] = accuracy_score(Y_test,y_pred)\n",
    "        #f1score_resultsb.loc[clfname,speaker_on_focus] = f1_score(Y_test,y_pred)\n",
    "        f1score_results.loc[clfname,speaker_on_focus] = f1_score(Y_test,y_pred, average='macro')\n",
    "        f1score_resultsw.loc[clfname,speaker_on_focus] = f1_score(Y_test,y_pred, average='weighted')\n",
    "    \n",
    "        print (confusion_matrix(Y_test,y_pred))\n",
    "        print (accuracy_score(Y_test,y_pred)) #same as f1-score (micro-averagaed)\n",
    "        print (f1_score(Y_test,y_pred, average='macro'))\n",
    "        print (f1_score(Y_test,y_pred, average='weighted'))\n",
    "        y_pred=None\n",
    "        print ()\n",
    "\n",
    "        \n",
    "accuracy_results"
   ]
  },
  {
   "cell_type": "code",
   "execution_count": 12,
   "metadata": {
    "scrolled": true
   },
   "outputs": [
    {
     "data": {
      "text/html": [
       "<div>\n",
       "<style scoped>\n",
       "    .dataframe tbody tr th:only-of-type {\n",
       "        vertical-align: middle;\n",
       "    }\n",
       "\n",
       "    .dataframe tbody tr th {\n",
       "        vertical-align: top;\n",
       "    }\n",
       "\n",
       "    .dataframe thead th {\n",
       "        text-align: right;\n",
       "    }\n",
       "</style>\n",
       "<table border=\"1\" class=\"dataframe\">\n",
       "  <thead>\n",
       "    <tr style=\"text-align: right;\">\n",
       "      <th></th>\n",
       "      <th>M4</th>\n",
       "      <th>F3</th>\n",
       "      <th>M1</th>\n",
       "      <th>F1</th>\n",
       "      <th>M6</th>\n",
       "      <th>M5</th>\n",
       "      <th>M3</th>\n",
       "      <th>F5</th>\n",
       "      <th>F6</th>\n",
       "      <th>M2</th>\n",
       "      <th>F2</th>\n",
       "      <th>F4</th>\n",
       "    </tr>\n",
       "  </thead>\n",
       "  <tbody>\n",
       "    <tr>\n",
       "      <td>MF</td>\n",
       "      <td>0.648316</td>\n",
       "      <td>0.588701</td>\n",
       "      <td>0.692986</td>\n",
       "      <td>0.671644</td>\n",
       "      <td>0.563513</td>\n",
       "      <td>0.551088</td>\n",
       "      <td>0.719731</td>\n",
       "      <td>0.740511</td>\n",
       "      <td>0.506497</td>\n",
       "      <td>0.714565</td>\n",
       "      <td>0.626404</td>\n",
       "      <td>0.591385</td>\n",
       "    </tr>\n",
       "    <tr>\n",
       "      <td>LR</td>\n",
       "      <td>0.648740</td>\n",
       "      <td>0.588701</td>\n",
       "      <td>0.693984</td>\n",
       "      <td>0.671644</td>\n",
       "      <td>0.563332</td>\n",
       "      <td>0.551031</td>\n",
       "      <td>0.719731</td>\n",
       "      <td>0.740815</td>\n",
       "      <td>0.506431</td>\n",
       "      <td>0.714826</td>\n",
       "      <td>0.627133</td>\n",
       "      <td>0.591975</td>\n",
       "    </tr>\n",
       "    <tr>\n",
       "      <td>LINEARSVC</td>\n",
       "      <td>0.648619</td>\n",
       "      <td>0.588701</td>\n",
       "      <td>0.693596</td>\n",
       "      <td>0.671644</td>\n",
       "      <td>0.563513</td>\n",
       "      <td>0.551031</td>\n",
       "      <td>0.719731</td>\n",
       "      <td>0.740632</td>\n",
       "      <td>0.506300</td>\n",
       "      <td>0.714761</td>\n",
       "      <td>0.627072</td>\n",
       "      <td>0.591857</td>\n",
       "    </tr>\n",
       "    <tr>\n",
       "      <td>MLP</td>\n",
       "      <td>0.681080</td>\n",
       "      <td>0.623073</td>\n",
       "      <td>0.726144</td>\n",
       "      <td>0.730004</td>\n",
       "      <td>0.618800</td>\n",
       "      <td>0.637930</td>\n",
       "      <td>0.727306</td>\n",
       "      <td>0.748675</td>\n",
       "      <td>0.609660</td>\n",
       "      <td>0.747931</td>\n",
       "      <td>0.655675</td>\n",
       "      <td>0.653371</td>\n",
       "    </tr>\n",
       "  </tbody>\n",
       "</table>\n",
       "</div>"
      ],
      "text/plain": [
       "                 M4        F3        M1        F1        M6        M5  \\\n",
       "MF         0.648316  0.588701  0.692986  0.671644  0.563513  0.551088   \n",
       "LR         0.648740  0.588701  0.693984  0.671644  0.563332  0.551031   \n",
       "LINEARSVC  0.648619  0.588701  0.693596  0.671644  0.563513  0.551031   \n",
       "MLP        0.681080  0.623073  0.726144  0.730004  0.618800  0.637930   \n",
       "\n",
       "                 M3        F5        F6        M2        F2        F4  \n",
       "MF         0.719731  0.740511  0.506497  0.714565  0.626404  0.591385  \n",
       "LR         0.719731  0.740815  0.506431  0.714826  0.627133  0.591975  \n",
       "LINEARSVC  0.719731  0.740632  0.506300  0.714761  0.627072  0.591857  \n",
       "MLP        0.727306  0.748675  0.609660  0.747931  0.655675  0.653371  "
      ]
     },
     "execution_count": 12,
     "metadata": {},
     "output_type": "execute_result"
    }
   ],
   "source": [
    "accuracy_results"
   ]
  },
  {
   "cell_type": "code",
   "execution_count": 13,
   "metadata": {},
   "outputs": [
    {
     "data": {
      "text/html": [
       "<div>\n",
       "<style scoped>\n",
       "    .dataframe tbody tr th:only-of-type {\n",
       "        vertical-align: middle;\n",
       "    }\n",
       "\n",
       "    .dataframe tbody tr th {\n",
       "        vertical-align: top;\n",
       "    }\n",
       "\n",
       "    .dataframe thead th {\n",
       "        text-align: right;\n",
       "    }\n",
       "</style>\n",
       "<table border=\"1\" class=\"dataframe\">\n",
       "  <thead>\n",
       "    <tr style=\"text-align: right;\">\n",
       "      <th></th>\n",
       "      <th>M4</th>\n",
       "      <th>F3</th>\n",
       "      <th>M1</th>\n",
       "      <th>F1</th>\n",
       "      <th>M6</th>\n",
       "      <th>M5</th>\n",
       "      <th>M3</th>\n",
       "      <th>F5</th>\n",
       "      <th>F6</th>\n",
       "      <th>M2</th>\n",
       "      <th>F2</th>\n",
       "      <th>F4</th>\n",
       "    </tr>\n",
       "  </thead>\n",
       "  <tbody>\n",
       "    <tr>\n",
       "      <td>MF</td>\n",
       "      <td>0.509992</td>\n",
       "      <td>0.436293</td>\n",
       "      <td>0.567316</td>\n",
       "      <td>0.539715</td>\n",
       "      <td>0.406197</td>\n",
       "      <td>0.391594</td>\n",
       "      <td>0.602434</td>\n",
       "      <td>0.630109</td>\n",
       "      <td>0.340577</td>\n",
       "      <td>0.595607</td>\n",
       "      <td>0.482515</td>\n",
       "      <td>0.439536</td>\n",
       "    </tr>\n",
       "    <tr>\n",
       "      <td>LR</td>\n",
       "      <td>0.510969</td>\n",
       "      <td>0.436293</td>\n",
       "      <td>0.569639</td>\n",
       "      <td>0.539715</td>\n",
       "      <td>0.406113</td>\n",
       "      <td>0.391568</td>\n",
       "      <td>0.602434</td>\n",
       "      <td>0.630940</td>\n",
       "      <td>0.340897</td>\n",
       "      <td>0.596218</td>\n",
       "      <td>0.484360</td>\n",
       "      <td>0.440877</td>\n",
       "    </tr>\n",
       "    <tr>\n",
       "      <td>LINEARSVC</td>\n",
       "      <td>0.510691</td>\n",
       "      <td>0.436293</td>\n",
       "      <td>0.568738</td>\n",
       "      <td>0.539715</td>\n",
       "      <td>0.406197</td>\n",
       "      <td>0.391568</td>\n",
       "      <td>0.602434</td>\n",
       "      <td>0.630397</td>\n",
       "      <td>0.340489</td>\n",
       "      <td>0.596065</td>\n",
       "      <td>0.484168</td>\n",
       "      <td>0.440610</td>\n",
       "    </tr>\n",
       "    <tr>\n",
       "      <td>MLP</td>\n",
       "      <td>0.641838</td>\n",
       "      <td>0.541952</td>\n",
       "      <td>0.693891</td>\n",
       "      <td>0.698116</td>\n",
       "      <td>0.556868</td>\n",
       "      <td>0.573613</td>\n",
       "      <td>0.704487</td>\n",
       "      <td>0.695931</td>\n",
       "      <td>0.594326</td>\n",
       "      <td>0.698203</td>\n",
       "      <td>0.641096</td>\n",
       "      <td>0.609904</td>\n",
       "    </tr>\n",
       "  </tbody>\n",
       "</table>\n",
       "</div>"
      ],
      "text/plain": [
       "                 M4        F3        M1        F1        M6        M5  \\\n",
       "MF         0.509992  0.436293  0.567316  0.539715  0.406197  0.391594   \n",
       "LR         0.510969  0.436293  0.569639  0.539715  0.406113  0.391568   \n",
       "LINEARSVC  0.510691  0.436293  0.568738  0.539715  0.406197  0.391568   \n",
       "MLP        0.641838  0.541952  0.693891  0.698116  0.556868  0.573613   \n",
       "\n",
       "                 M3        F5        F6        M2        F2        F4  \n",
       "MF         0.602434  0.630109  0.340577  0.595607  0.482515  0.439536  \n",
       "LR         0.602434  0.630940  0.340897  0.596218  0.484360  0.440877  \n",
       "LINEARSVC  0.602434  0.630397  0.340489  0.596065  0.484168  0.440610  \n",
       "MLP        0.704487  0.695931  0.594326  0.698203  0.641096  0.609904  "
      ]
     },
     "execution_count": 13,
     "metadata": {},
     "output_type": "execute_result"
    }
   ],
   "source": [
    "f1score_resultsw"
   ]
  },
  {
   "cell_type": "code",
   "execution_count": 14,
   "metadata": {
    "scrolled": true
   },
   "outputs": [
    {
     "data": {
      "text/html": [
       "<div>\n",
       "<style scoped>\n",
       "    .dataframe tbody tr th:only-of-type {\n",
       "        vertical-align: middle;\n",
       "    }\n",
       "\n",
       "    .dataframe tbody tr th {\n",
       "        vertical-align: top;\n",
       "    }\n",
       "\n",
       "    .dataframe thead th {\n",
       "        text-align: right;\n",
       "    }\n",
       "</style>\n",
       "<table border=\"1\" class=\"dataframe\">\n",
       "  <thead>\n",
       "    <tr style=\"text-align: right;\">\n",
       "      <th></th>\n",
       "      <th>M4</th>\n",
       "      <th>F3</th>\n",
       "      <th>M1</th>\n",
       "      <th>F1</th>\n",
       "      <th>M6</th>\n",
       "      <th>M5</th>\n",
       "      <th>M3</th>\n",
       "      <th>F5</th>\n",
       "      <th>F6</th>\n",
       "      <th>M2</th>\n",
       "      <th>F2</th>\n",
       "      <th>F4</th>\n",
       "    </tr>\n",
       "  </thead>\n",
       "  <tbody>\n",
       "    <tr>\n",
       "      <td>MF</td>\n",
       "      <td>0.196660</td>\n",
       "      <td>0.185278</td>\n",
       "      <td>0.204664</td>\n",
       "      <td>0.200893</td>\n",
       "      <td>0.180207</td>\n",
       "      <td>0.177646</td>\n",
       "      <td>0.209257</td>\n",
       "      <td>0.212728</td>\n",
       "      <td>0.168104</td>\n",
       "      <td>0.208381</td>\n",
       "      <td>0.192573</td>\n",
       "      <td>0.185808</td>\n",
       "    </tr>\n",
       "    <tr>\n",
       "      <td>LR</td>\n",
       "      <td>0.197690</td>\n",
       "      <td>0.185278</td>\n",
       "      <td>0.206897</td>\n",
       "      <td>0.200893</td>\n",
       "      <td>0.180170</td>\n",
       "      <td>0.177634</td>\n",
       "      <td>0.209257</td>\n",
       "      <td>0.214246</td>\n",
       "      <td>0.168474</td>\n",
       "      <td>0.209176</td>\n",
       "      <td>0.194531</td>\n",
       "      <td>0.187727</td>\n",
       "    </tr>\n",
       "    <tr>\n",
       "      <td>LINEARSVC</td>\n",
       "      <td>0.197396</td>\n",
       "      <td>0.185278</td>\n",
       "      <td>0.206030</td>\n",
       "      <td>0.200893</td>\n",
       "      <td>0.180207</td>\n",
       "      <td>0.177634</td>\n",
       "      <td>0.209257</td>\n",
       "      <td>0.213239</td>\n",
       "      <td>0.168061</td>\n",
       "      <td>0.208977</td>\n",
       "      <td>0.194354</td>\n",
       "      <td>0.187344</td>\n",
       "    </tr>\n",
       "    <tr>\n",
       "      <td>MLP</td>\n",
       "      <td>0.387635</td>\n",
       "      <td>0.323499</td>\n",
       "      <td>0.388505</td>\n",
       "      <td>0.459667</td>\n",
       "      <td>0.371147</td>\n",
       "      <td>0.381281</td>\n",
       "      <td>0.400838</td>\n",
       "      <td>0.349707</td>\n",
       "      <td>0.475376</td>\n",
       "      <td>0.374539</td>\n",
       "      <td>0.447962</td>\n",
       "      <td>0.434134</td>\n",
       "    </tr>\n",
       "  </tbody>\n",
       "</table>\n",
       "</div>"
      ],
      "text/plain": [
       "                 M4        F3        M1        F1        M6        M5  \\\n",
       "MF         0.196660  0.185278  0.204664  0.200893  0.180207  0.177646   \n",
       "LR         0.197690  0.185278  0.206897  0.200893  0.180170  0.177634   \n",
       "LINEARSVC  0.197396  0.185278  0.206030  0.200893  0.180207  0.177634   \n",
       "MLP        0.387635  0.323499  0.388505  0.459667  0.371147  0.381281   \n",
       "\n",
       "                 M3        F5        F6        M2        F2        F4  \n",
       "MF         0.209257  0.212728  0.168104  0.208381  0.192573  0.185808  \n",
       "LR         0.209257  0.214246  0.168474  0.209176  0.194531  0.187727  \n",
       "LINEARSVC  0.209257  0.213239  0.168061  0.208977  0.194354  0.187344  \n",
       "MLP        0.400838  0.349707  0.475376  0.374539  0.447962  0.434134  "
      ]
     },
     "execution_count": 14,
     "metadata": {},
     "output_type": "execute_result"
    }
   ],
   "source": [
    "f1score_results"
   ]
  },
  {
   "cell_type": "code",
   "execution_count": 15,
   "metadata": {},
   "outputs": [
    {
     "data": {
      "text/html": [
       "<div>\n",
       "<style scoped>\n",
       "    .dataframe tbody tr th:only-of-type {\n",
       "        vertical-align: middle;\n",
       "    }\n",
       "\n",
       "    .dataframe tbody tr th {\n",
       "        vertical-align: top;\n",
       "    }\n",
       "\n",
       "    .dataframe thead th {\n",
       "        text-align: right;\n",
       "    }\n",
       "</style>\n",
       "<table border=\"1\" class=\"dataframe\">\n",
       "  <thead>\n",
       "    <tr style=\"text-align: right;\">\n",
       "      <th></th>\n",
       "      <th>MF</th>\n",
       "      <th>LR</th>\n",
       "      <th>LINEARSVC</th>\n",
       "      <th>MLP</th>\n",
       "    </tr>\n",
       "  </thead>\n",
       "  <tbody>\n",
       "    <tr>\n",
       "      <td>count</td>\n",
       "      <td>12.000000</td>\n",
       "      <td>12.000000</td>\n",
       "      <td>12.000000</td>\n",
       "      <td>12.000000</td>\n",
       "    </tr>\n",
       "    <tr>\n",
       "      <td>mean</td>\n",
       "      <td>0.634612</td>\n",
       "      <td>0.634862</td>\n",
       "      <td>0.634788</td>\n",
       "      <td>0.679971</td>\n",
       "    </tr>\n",
       "    <tr>\n",
       "      <td>std</td>\n",
       "      <td>0.075262</td>\n",
       "      <td>0.075397</td>\n",
       "      <td>0.075349</td>\n",
       "      <td>0.053261</td>\n",
       "    </tr>\n",
       "    <tr>\n",
       "      <td>min</td>\n",
       "      <td>0.506497</td>\n",
       "      <td>0.506431</td>\n",
       "      <td>0.506300</td>\n",
       "      <td>0.609660</td>\n",
       "    </tr>\n",
       "    <tr>\n",
       "      <td>25%</td>\n",
       "      <td>0.582404</td>\n",
       "      <td>0.582359</td>\n",
       "      <td>0.582404</td>\n",
       "      <td>0.634216</td>\n",
       "    </tr>\n",
       "    <tr>\n",
       "      <td>50%</td>\n",
       "      <td>0.637360</td>\n",
       "      <td>0.637937</td>\n",
       "      <td>0.637846</td>\n",
       "      <td>0.668378</td>\n",
       "    </tr>\n",
       "    <tr>\n",
       "      <td>75%</td>\n",
       "      <td>0.698381</td>\n",
       "      <td>0.699194</td>\n",
       "      <td>0.698887</td>\n",
       "      <td>0.727980</td>\n",
       "    </tr>\n",
       "    <tr>\n",
       "      <td>max</td>\n",
       "      <td>0.740511</td>\n",
       "      <td>0.740815</td>\n",
       "      <td>0.740632</td>\n",
       "      <td>0.748675</td>\n",
       "    </tr>\n",
       "  </tbody>\n",
       "</table>\n",
       "</div>"
      ],
      "text/plain": [
       "              MF         LR  LINEARSVC        MLP\n",
       "count  12.000000  12.000000  12.000000  12.000000\n",
       "mean    0.634612   0.634862   0.634788   0.679971\n",
       "std     0.075262   0.075397   0.075349   0.053261\n",
       "min     0.506497   0.506431   0.506300   0.609660\n",
       "25%     0.582404   0.582359   0.582404   0.634216\n",
       "50%     0.637360   0.637937   0.637846   0.668378\n",
       "75%     0.698381   0.699194   0.698887   0.727980\n",
       "max     0.740511   0.740815   0.740632   0.748675"
      ]
     },
     "execution_count": 15,
     "metadata": {},
     "output_type": "execute_result"
    }
   ],
   "source": [
    "accuracy_results.T.describe()"
   ]
  },
  {
   "cell_type": "code",
   "execution_count": 16,
   "metadata": {},
   "outputs": [
    {
     "data": {
      "text/html": [
       "<div>\n",
       "<style scoped>\n",
       "    .dataframe tbody tr th:only-of-type {\n",
       "        vertical-align: middle;\n",
       "    }\n",
       "\n",
       "    .dataframe tbody tr th {\n",
       "        vertical-align: top;\n",
       "    }\n",
       "\n",
       "    .dataframe thead th {\n",
       "        text-align: right;\n",
       "    }\n",
       "</style>\n",
       "<table border=\"1\" class=\"dataframe\">\n",
       "  <thead>\n",
       "    <tr style=\"text-align: right;\">\n",
       "      <th></th>\n",
       "      <th>MF</th>\n",
       "      <th>LR</th>\n",
       "      <th>LINEARSVC</th>\n",
       "      <th>MLP</th>\n",
       "    </tr>\n",
       "  </thead>\n",
       "  <tbody>\n",
       "    <tr>\n",
       "      <td>count</td>\n",
       "      <td>12.000000</td>\n",
       "      <td>12.000000</td>\n",
       "      <td>12.000000</td>\n",
       "      <td>12.000000</td>\n",
       "    </tr>\n",
       "    <tr>\n",
       "      <td>mean</td>\n",
       "      <td>0.193517</td>\n",
       "      <td>0.194331</td>\n",
       "      <td>0.194056</td>\n",
       "      <td>0.399524</td>\n",
       "    </tr>\n",
       "    <tr>\n",
       "      <td>std</td>\n",
       "      <td>0.014236</td>\n",
       "      <td>0.014540</td>\n",
       "      <td>0.014405</td>\n",
       "      <td>0.045928</td>\n",
       "    </tr>\n",
       "    <tr>\n",
       "      <td>min</td>\n",
       "      <td>0.168104</td>\n",
       "      <td>0.168474</td>\n",
       "      <td>0.168061</td>\n",
       "      <td>0.323499</td>\n",
       "    </tr>\n",
       "    <tr>\n",
       "      <td>25%</td>\n",
       "      <td>0.184010</td>\n",
       "      <td>0.184001</td>\n",
       "      <td>0.184010</td>\n",
       "      <td>0.373691</td>\n",
       "    </tr>\n",
       "    <tr>\n",
       "      <td>50%</td>\n",
       "      <td>0.194617</td>\n",
       "      <td>0.196111</td>\n",
       "      <td>0.195875</td>\n",
       "      <td>0.388070</td>\n",
       "    </tr>\n",
       "    <tr>\n",
       "      <td>75%</td>\n",
       "      <td>0.205593</td>\n",
       "      <td>0.207467</td>\n",
       "      <td>0.206767</td>\n",
       "      <td>0.437591</td>\n",
       "    </tr>\n",
       "    <tr>\n",
       "      <td>max</td>\n",
       "      <td>0.212728</td>\n",
       "      <td>0.214246</td>\n",
       "      <td>0.213239</td>\n",
       "      <td>0.475376</td>\n",
       "    </tr>\n",
       "  </tbody>\n",
       "</table>\n",
       "</div>"
      ],
      "text/plain": [
       "              MF         LR  LINEARSVC        MLP\n",
       "count  12.000000  12.000000  12.000000  12.000000\n",
       "mean    0.193517   0.194331   0.194056   0.399524\n",
       "std     0.014236   0.014540   0.014405   0.045928\n",
       "min     0.168104   0.168474   0.168061   0.323499\n",
       "25%     0.184010   0.184001   0.184010   0.373691\n",
       "50%     0.194617   0.196111   0.195875   0.388070\n",
       "75%     0.205593   0.207467   0.206767   0.437591\n",
       "max     0.212728   0.214246   0.213239   0.475376"
      ]
     },
     "execution_count": 16,
     "metadata": {},
     "output_type": "execute_result"
    }
   ],
   "source": [
    "f1score_results.T.describe()"
   ]
  },
  {
   "cell_type": "code",
   "execution_count": null,
   "metadata": {},
   "outputs": [],
   "source": []
  },
  {
   "cell_type": "code",
   "execution_count": null,
   "metadata": {},
   "outputs": [],
   "source": []
  }
 ],
 "metadata": {
  "kernelspec": {
   "display_name": "Python 3",
   "language": "python",
   "name": "python3"
  },
  "language_info": {
   "codemirror_mode": {
    "name": "ipython",
    "version": 3
   },
   "file_extension": ".py",
   "mimetype": "text/x-python",
   "name": "python",
   "nbconvert_exporter": "python",
   "pygments_lexer": "ipython3",
   "version": "3.7.4"
  }
 },
 "nbformat": 4,
 "nbformat_minor": 4
}

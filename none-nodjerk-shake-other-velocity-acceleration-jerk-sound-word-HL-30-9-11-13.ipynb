{
 "cells": [
  {
   "cell_type": "markdown",
   "metadata": {},
   "source": [
    "## Real experiments for head movements"
   ]
  },
  {
   "cell_type": "code",
   "execution_count": 57,
   "metadata": {},
   "outputs": [],
   "source": [
    "import pandas as pd\n",
    "import numpy as np\n",
    "import matplotlib.pyplot as plt\n",
    "from sklearn.preprocessing import MinMaxScaler\n",
    "%matplotlib inline"
   ]
  },
  {
   "cell_type": "code",
   "execution_count": 58,
   "metadata": {},
   "outputs": [],
   "source": [
    "from sklearn.model_selection import StratifiedKFold\n",
    "from sklearn.model_selection import KFold\n",
    "from sklearn.linear_model import LogisticRegression\n",
    "from sklearn.metrics import confusion_matrix, accuracy_score,f1_score\n",
    "from sklearn.neural_network import MLPClassifier\n",
    "from sklearn.svm import SVC,LinearSVC\n",
    "from sklearn.dummy import DummyClassifier\n",
    "from seqlearn.perceptron import StructuredPerceptron\n",
    "import sklearn_crfsuite\n",
    "from sklearn_crfsuite import metrics as skcrfmetrics\n",
    "from scipy.stats import pearsonr,spearmanr"
   ]
  },
  {
   "cell_type": "code",
   "execution_count": 59,
   "metadata": {},
   "outputs": [],
   "source": [
    "import glob"
   ]
  },
  {
   "cell_type": "code",
   "execution_count": 60,
   "metadata": {},
   "outputs": [
    {
     "data": {
      "text/plain": [
       "'C:\\\\Users\\\\zgk261\\\\nomco\\\\9-11-13\\\\middle\\\\'"
      ]
     },
     "execution_count": 60,
     "metadata": {},
     "output_type": "execute_result"
    }
   ],
   "source": [
    "windowsize=\"9-11-13\"\n",
    "memory=\"middle\"\n",
    "\n",
    "PATH = \"C:\\\\Users\\\\zgk261\\\\nomco\\\\\"+windowsize+\"\\\\\"+memory+\"\\\\\"\n",
    "PATH"
   ]
  },
  {
   "cell_type": "code",
   "execution_count": 61,
   "metadata": {},
   "outputs": [
    {
     "name": "stdout",
     "output_type": "stream",
     "text": [
      "F2_M4-all-final2_primary_F2.T-Tilt-ST-SideTurn-HO-HeadOther-S-Shake-W-Waggle-N-Nod-J-Jerk-HB-HeadBackward-HF-HeadForward--rdXY.svm.9-11-13-middle.tab\n",
      "F2_M4-all-final2_primary_M4.T-Tilt-ST-SideTurn-HO-HeadOther-S-Shake-W-Waggle-N-Nod-J-Jerk-HB-HeadBackward-HF-HeadForward--rdXY.svm.9-11-13-middle.tab\n",
      "F3_F6-all-final2_primary_F3.T-Tilt-ST-SideTurn-HO-HeadOther-S-Shake-W-Waggle-N-Nod-J-Jerk-HB-HeadBackward-HF-HeadForward--rdXY.svm.9-11-13-middle.tab\n",
      "F3_F6-all-final2_primary_F6.T-Tilt-ST-SideTurn-HO-HeadOther-S-Shake-W-Waggle-N-Nod-J-Jerk-HB-HeadBackward-HF-HeadForward--rdXY.svm.9-11-13-middle.tab\n",
      "F4_F1-all-final2_primary_F1.T-Tilt-ST-SideTurn-HO-HeadOther-S-Shake-W-Waggle-N-Nod-J-Jerk-HB-HeadBackward-HF-HeadForward--rdXY.svm.9-11-13-middle.tab\n",
      "F4_F1-all-final2_primary_F4.T-Tilt-ST-SideTurn-HO-HeadOther-S-Shake-W-Waggle-N-Nod-J-Jerk-HB-HeadBackward-HF-HeadForward--rdXY.svm.9-11-13-middle.tab\n",
      "F5_F2-all-final2_primary_F2.T-Tilt-ST-SideTurn-HO-HeadOther-S-Shake-W-Waggle-N-Nod-J-Jerk-HB-HeadBackward-HF-HeadForward--rdXY.svm.9-11-13-middle.tab\n",
      "F5_F2-all-final2_primary_F5.T-Tilt-ST-SideTurn-HO-HeadOther-S-Shake-W-Waggle-N-Nod-J-Jerk-HB-HeadBackward-HF-HeadForward--rdXY.svm.9-11-13-middle.tab\n",
      "F5_M3-all-final2_primary_F5.T-Tilt-ST-SideTurn-HO-HeadOther-S-Shake-W-Waggle-N-Nod-J-Jerk-HB-HeadBackward-HF-HeadForward--rdXY.svm.9-11-13-middle.tab\n",
      "F5_M3-all-final2_primary_M3.T-Tilt-ST-SideTurn-HO-HeadOther-S-Shake-W-Waggle-N-Nod-J-Jerk-HB-HeadBackward-HF-HeadForward--rdXY.svm.9-11-13-middle.tab\n",
      "F6_M2-all-final2_primary_F6.T-Tilt-ST-SideTurn-HO-HeadOther-S-Shake-W-Waggle-N-Nod-J-Jerk-HB-HeadBackward-HF-HeadForward--rdXY.svm.9-11-13-middle.tab\n",
      "F6_M2-all-final2_primary_M2.T-Tilt-ST-SideTurn-HO-HeadOther-S-Shake-W-Waggle-N-Nod-J-Jerk-HB-HeadBackward-HF-HeadForward--rdXY.svm.9-11-13-middle.tab\n",
      "M1_F4-all-final2_primary_F4.T-Tilt-ST-SideTurn-HO-HeadOther-S-Shake-W-Waggle-N-Nod-J-Jerk-HB-HeadBackward-HF-HeadForward--rdXY.svm.9-11-13-middle.tab\n",
      "M1_F4-all-final2_primary_M1.T-Tilt-ST-SideTurn-HO-HeadOther-S-Shake-W-Waggle-N-Nod-J-Jerk-HB-HeadBackward-HF-HeadForward--rdXY.svm.9-11-13-middle.tab\n",
      "M1_M5-all-final2_primary_M1.T-Tilt-ST-SideTurn-HO-HeadOther-S-Shake-W-Waggle-N-Nod-J-Jerk-HB-HeadBackward-HF-HeadForward--rdXY.svm.9-11-13-middle.tab\n",
      "M1_M5-all-final2_primary_M5.T-Tilt-ST-SideTurn-HO-HeadOther-S-Shake-W-Waggle-N-Nod-J-Jerk-HB-HeadBackward-HF-HeadForward--rdXY.svm.9-11-13-middle.tab\n",
      "M2_M4-all-final2_primary_M2.T-Tilt-ST-SideTurn-HO-HeadOther-S-Shake-W-Waggle-N-Nod-J-Jerk-HB-HeadBackward-HF-HeadForward--rdXY.svm.9-11-13-middle.tab\n",
      "M2_M4-all-final2_primary_M4.T-Tilt-ST-SideTurn-HO-HeadOther-S-Shake-W-Waggle-N-Nod-J-Jerk-HB-HeadBackward-HF-HeadForward--rdXY.svm.9-11-13-middle.tab\n",
      "M3_M6-all-final2_primary_M3.T-Tilt-ST-SideTurn-HO-HeadOther-S-Shake-W-Waggle-N-Nod-J-Jerk-HB-HeadBackward-HF-HeadForward--rdXY.svm.9-11-13-middle.tab\n",
      "M3_M6-all-final2_primary_M6.T-Tilt-ST-SideTurn-HO-HeadOther-S-Shake-W-Waggle-N-Nod-J-Jerk-HB-HeadBackward-HF-HeadForward--rdXY.svm.9-11-13-middle.tab\n",
      "M5_F3-all-final2_primary_F3.T-Tilt-ST-SideTurn-HO-HeadOther-S-Shake-W-Waggle-N-Nod-J-Jerk-HB-HeadBackward-HF-HeadForward--rdXY.svm.9-11-13-middle.tab\n",
      "M5_F3-all-final2_primary_M5.T-Tilt-ST-SideTurn-HO-HeadOther-S-Shake-W-Waggle-N-Nod-J-Jerk-HB-HeadBackward-HF-HeadForward--rdXY.svm.9-11-13-middle.tab\n",
      "M6_F1-all-final2_primary_F1.T-Tilt-ST-SideTurn-HO-HeadOther-S-Shake-W-Waggle-N-Nod-J-Jerk-HB-HeadBackward-HF-HeadForward--rdXY.svm.9-11-13-middle.tab\n",
      "M6_F1-all-final2_primary_M6.T-Tilt-ST-SideTurn-HO-HeadOther-S-Shake-W-Waggle-N-Nod-J-Jerk-HB-HeadBackward-HF-HeadForward--rdXY.svm.9-11-13-middle.tab\n"
     ]
    }
   ],
   "source": [
    "!dir /B C:\\Users\\zgk261\\nomco\\9-11-13\\middle\\"
   ]
  },
  {
   "cell_type": "markdown",
   "metadata": {},
   "source": [
    "### SKELETON TO READ FILES, SPEAKERS and PRIMARY SPEAKERS\n"
   ]
  },
  {
   "cell_type": "code",
   "execution_count": 62,
   "metadata": {},
   "outputs": [],
   "source": [
    "speaker_set = set()\n",
    "\n",
    "for each_file in glob.glob(PATH+\"*.tab\"):\n",
    "    filename=each_file.split(\"\\\\\")[-1]\n",
    "    fileinfo=filename.split(\"-\")\n",
    "    \n",
    "    primary_speaker = fileinfo[2].split(\"_\")[-1][:-2] #fileinfo[2] = final2_primary_M1.T\n",
    "    speakers = fileinfo[0]\n",
    "    l_speaker,r_speaker = speakers.split(\"_\")\n",
    "\n",
    "    speaker_set.add(primary_speaker)"
   ]
  },
  {
   "cell_type": "code",
   "execution_count": 63,
   "metadata": {},
   "outputs": [
    {
     "data": {
      "text/plain": [
       "{'F1', 'F2', 'F3', 'F4', 'F5', 'F6', 'M1', 'M2', 'M3', 'M4', 'M5', 'M6'}"
      ]
     },
     "execution_count": 63,
     "metadata": {},
     "output_type": "execute_result"
    }
   ],
   "source": [
    "speaker_set"
   ]
  },
  {
   "cell_type": "markdown",
   "metadata": {},
   "source": [
    "### SKELETON TO READ FILES AND COSS_VALIDATE\n",
    "\n",
    "In the following way: In each iteration, we will leave one speaker out (two files), train a model and test on those two files."
   ]
  },
  {
   "cell_type": "code",
   "execution_count": 64,
   "metadata": {
    "scrolled": true
   },
   "outputs": [
    {
     "name": "stdout",
     "output_type": "stream",
     "text": [
      "Speaker on focus: M5\n",
      "Training data size: (180649, 28)\n",
      "Testing data size: (17411, 28)\n",
      "\n",
      "Speaker on focus: M1\n",
      "Training data size: (180025, 28)\n",
      "Testing data size: (18035, 28)\n",
      "\n",
      "Speaker on focus: M6\n",
      "Training data size: (181528, 28)\n",
      "Testing data size: (16532, 28)\n",
      "\n",
      "Speaker on focus: F6\n",
      "Training data size: (182822, 28)\n",
      "Testing data size: (15238, 28)\n",
      "\n",
      "Speaker on focus: M3\n",
      "Training data size: (181426, 28)\n",
      "Testing data size: (16634, 28)\n",
      "\n",
      "Speaker on focus: M4\n",
      "Training data size: (181548, 28)\n",
      "Testing data size: (16512, 28)\n",
      "\n",
      "Speaker on focus: F4\n",
      "Training data size: (181137, 28)\n",
      "Testing data size: (16923, 28)\n",
      "\n",
      "Speaker on focus: F5\n",
      "Training data size: (181647, 28)\n",
      "Testing data size: (16413, 28)\n",
      "\n",
      "Speaker on focus: F2\n",
      "Training data size: (181593, 28)\n",
      "Testing data size: (16467, 28)\n",
      "\n",
      "Speaker on focus: M2\n",
      "Training data size: (182715, 28)\n",
      "Testing data size: (15345, 28)\n",
      "\n",
      "Speaker on focus: F1\n",
      "Training data size: (181919, 28)\n",
      "Testing data size: (16141, 28)\n",
      "\n",
      "Speaker on focus: F3\n",
      "Training data size: (181651, 28)\n",
      "Testing data size: (16409, 28)\n",
      "\n"
     ]
    }
   ],
   "source": [
    "\n",
    "for speaker_on_focus in speaker_set:\n",
    "    train_files = []\n",
    "    test_files  = []\n",
    "    \n",
    "    for each_file in glob.glob(PATH+\"*.tab\"):\n",
    "        filename=each_file.split(\"\\\\\")[-1]\n",
    "        fileinfo=filename.split(\"-\")\n",
    "\n",
    "        primary_speaker = fileinfo[2].split(\"_\")[-1][:-2] #fileinfo[2] = final2_primary_M1.T\n",
    "        speakers = fileinfo[0]\n",
    "        l_speaker,r_speaker = speakers.split(\"_\")\n",
    "        if primary_speaker == l_speaker:\n",
    "            secondary_speaker = r_speaker\n",
    "        else:\n",
    "            secondary_speaker = l_speaker\n",
    "\n",
    "        #print (primary_speaker,l_speaker,r_speaker,speaker_on_focus)\n",
    "\n",
    "        file_df = pd.read_csv(each_file,sep=\"\\t\")\n",
    "        file_df.columns = [el.replace(primary_speaker, \"PRIMA\").replace(secondary_speaker, \"SECON\") for el in file_df.columns]\n",
    "\n",
    "        if primary_speaker != speaker_on_focus:\n",
    "            #FILES TO TRAIN!\n",
    "            train_files.append(file_df)\n",
    "        else:\n",
    "            #FILES TO TEST!\n",
    "            test_files.append(file_df)\n",
    "            \n",
    "        \n",
    "        \n",
    "    training_data = pd.concat(train_files, ignore_index=True)\n",
    "    testing_data = pd.concat(test_files, ignore_index=True)\n",
    "    print (\"Speaker on focus:\",speaker_on_focus)\n",
    "    print (\"Training data size:\",training_data.shape)\n",
    "    print (\"Testing data size:\",testing_data.shape)\n",
    "    print ()\n"
   ]
  },
  {
   "cell_type": "markdown",
   "metadata": {},
   "source": [
    "### Experiments:\n",
    "\n",
    "It seems that in the 3-6-9 experiments considering both the past and future of frames, the MLP was not the best model, but the Logistic Regression. I think, though, that the MLP will show good performance when cross-validating with the whole data.\n",
    "\n",
    "I will, then, try 3 classifiers:\n",
    "\n",
    "  * SVM, because it is the default classifier that is commonly used\n",
    "  * Logistic Regression, because it seems to perform the best in our initial experiments with two dialogue data\n",
    "  * MLP, because when including more data, I expect to estimate a more general (and thus, better) model"
   ]
  },
  {
   "cell_type": "code",
   "execution_count": 65,
   "metadata": {},
   "outputs": [
    {
     "data": {
      "text/html": [
       "<div>\n",
       "<style scoped>\n",
       "    .dataframe tbody tr th:only-of-type {\n",
       "        vertical-align: middle;\n",
       "    }\n",
       "\n",
       "    .dataframe tbody tr th {\n",
       "        vertical-align: top;\n",
       "    }\n",
       "\n",
       "    .dataframe thead th {\n",
       "        text-align: right;\n",
       "    }\n",
       "</style>\n",
       "<table border=\"1\" class=\"dataframe\">\n",
       "  <thead>\n",
       "    <tr style=\"text-align: right;\">\n",
       "      <th></th>\n",
       "      <th>M5</th>\n",
       "      <th>M1</th>\n",
       "      <th>M6</th>\n",
       "      <th>F6</th>\n",
       "      <th>M3</th>\n",
       "      <th>M4</th>\n",
       "      <th>F4</th>\n",
       "      <th>F5</th>\n",
       "      <th>F2</th>\n",
       "      <th>M2</th>\n",
       "      <th>F1</th>\n",
       "      <th>F3</th>\n",
       "    </tr>\n",
       "  </thead>\n",
       "  <tbody>\n",
       "    <tr>\n",
       "      <td>MF</td>\n",
       "      <td>0</td>\n",
       "      <td>0</td>\n",
       "      <td>0</td>\n",
       "      <td>0</td>\n",
       "      <td>0</td>\n",
       "      <td>0</td>\n",
       "      <td>0</td>\n",
       "      <td>0</td>\n",
       "      <td>0</td>\n",
       "      <td>0</td>\n",
       "      <td>0</td>\n",
       "      <td>0</td>\n",
       "    </tr>\n",
       "  </tbody>\n",
       "</table>\n",
       "</div>"
      ],
      "text/plain": [
       "    M5  M1  M6  F6  M3  M4  F4  F5  F2  M2  F1  F3\n",
       "MF   0   0   0   0   0   0   0   0   0   0   0   0"
      ]
     },
     "execution_count": 65,
     "metadata": {},
     "output_type": "execute_result"
    }
   ],
   "source": [
    "accuracy_results = pd.DataFrame(0,columns=speaker_set,index=[\"MF\"])\n",
    "accuracy_results"
   ]
  },
  {
   "cell_type": "code",
   "execution_count": 66,
   "metadata": {},
   "outputs": [],
   "source": [
    "import math\n",
    "\n",
    "def map_movements(mov_class):\n",
    "    if mov_class == \"Nod\" or mov_class == \"Jerk\":\n",
    "        return 1\n",
    "    elif mov_class == \"Shake\":\n",
    "        return 2\n",
    "    elif mov_class!=mov_class: #This returns True if the value is NAN, and it works. It might be source of errors.\n",
    "        return 0\n",
    "    else:\n",
    "        return 3\n",
    "\n"
   ]
  },
  {
   "cell_type": "code",
   "execution_count": 67,
   "metadata": {
    "scrolled": true
   },
   "outputs": [
    {
     "name": "stdout",
     "output_type": "stream",
     "text": [
      "Speaker on focus: M5\n",
      "Training data size: (180649, 28)\n",
      "Testing data size: (17411, 28)\n",
      "\n",
      "Trying classifier  MF M5\n"
     ]
    },
    {
     "name": "stderr",
     "output_type": "stream",
     "text": [
      "C:\\ProgramData\\Anaconda3\\lib\\site-packages\\sklearn\\metrics\\classification.py:1437: UndefinedMetricWarning: F-score is ill-defined and being set to 0.0 in labels with no predicted samples.\n",
      "  'precision', 'predicted', average, warn_for)\n"
     ]
    },
    {
     "name": "stdout",
     "output_type": "stream",
     "text": [
      "[[9595    0    0    0]\n",
      " [2325    0    0    0]\n",
      " [1014    0    0    0]\n",
      " [4477    0    0    0]]\n",
      "0.5510883923956119\n",
      "0.1776457083611049\n",
      "0.39159395134680414\n",
      "\n",
      "Trying classifier  LR M5\n"
     ]
    },
    {
     "name": "stderr",
     "output_type": "stream",
     "text": [
      "C:\\ProgramData\\Anaconda3\\lib\\site-packages\\sklearn\\linear_model\\logistic.py:469: FutureWarning: Default multi_class will be changed to 'auto' in 0.22. Specify the multi_class option to silence this warning.\n",
      "  \"this warning.\", FutureWarning)\n",
      "C:\\ProgramData\\Anaconda3\\lib\\site-packages\\sklearn\\metrics\\classification.py:1437: UndefinedMetricWarning: F-score is ill-defined and being set to 0.0 in labels with no predicted samples.\n",
      "  'precision', 'predicted', average, warn_for)\n"
     ]
    },
    {
     "name": "stdout",
     "output_type": "stream",
     "text": [
      "[[9444   18    0  133]\n",
      " [2138   55    0  132]\n",
      " [ 813   31    0  170]\n",
      " [3395   40    0 1042]]\n",
      "0.6054218597438401\n",
      "0.2846576748576882\n",
      "0.505995019684202\n",
      "\n",
      "Trying classifier  LINEARSVC M5\n"
     ]
    },
    {
     "name": "stderr",
     "output_type": "stream",
     "text": [
      "C:\\ProgramData\\Anaconda3\\lib\\site-packages\\sklearn\\metrics\\classification.py:1437: UndefinedMetricWarning: F-score is ill-defined and being set to 0.0 in labels with no predicted samples.\n",
      "  'precision', 'predicted', average, warn_for)\n"
     ]
    },
    {
     "name": "stdout",
     "output_type": "stream",
     "text": [
      "[[9480    8    0  107]\n",
      " [2174   33    0  118]\n",
      " [ 840   21    0  153]\n",
      " [3554   21    0  902]]\n",
      "0.5981850554247314\n",
      "0.2700373392330464\n",
      "0.4917010982577414\n",
      "\n",
      "Trying classifier  MLP M5\n"
     ]
    },
    {
     "name": "stderr",
     "output_type": "stream",
     "text": [
      "C:\\ProgramData\\Anaconda3\\lib\\site-packages\\sklearn\\neural_network\\multilayer_perceptron.py:566: ConvergenceWarning: Stochastic Optimizer: Maximum iterations (200) reached and the optimization hasn't converged yet.\n",
      "  % self.max_iter, ConvergenceWarning)\n"
     ]
    },
    {
     "name": "stdout",
     "output_type": "stream",
     "text": [
      "[[9273   47    8  267]\n",
      " [1928  225    4  168]\n",
      " [ 723   10   69  212]\n",
      " [2846  128   53 1450]]\n",
      "0.6327608982826949\n",
      "0.3717621065086446\n",
      "0.5618771255776095\n",
      "\n",
      "Speaker on focus: M1\n",
      "Training data size: (180025, 28)\n",
      "Testing data size: (18035, 28)\n",
      "\n",
      "Trying classifier  MF M1\n"
     ]
    },
    {
     "name": "stderr",
     "output_type": "stream",
     "text": [
      "C:\\ProgramData\\Anaconda3\\lib\\site-packages\\sklearn\\metrics\\classification.py:1437: UndefinedMetricWarning: F-score is ill-defined and being set to 0.0 in labels with no predicted samples.\n",
      "  'precision', 'predicted', average, warn_for)\n"
     ]
    },
    {
     "name": "stdout",
     "output_type": "stream",
     "text": [
      "[[12498     0     0     0]\n",
      " [  805     0     0     0]\n",
      " [  489     0     0     0]\n",
      " [ 4243     0     0     0]]\n",
      "0.6929858608261713\n",
      "0.204663806373432\n",
      "0.5673164961586146\n",
      "\n",
      "Trying classifier  LR M1\n"
     ]
    },
    {
     "name": "stderr",
     "output_type": "stream",
     "text": [
      "C:\\ProgramData\\Anaconda3\\lib\\site-packages\\sklearn\\linear_model\\logistic.py:469: FutureWarning: Default multi_class will be changed to 'auto' in 0.22. Specify the multi_class option to silence this warning.\n",
      "  \"this warning.\", FutureWarning)\n"
     ]
    },
    {
     "name": "stdout",
     "output_type": "stream",
     "text": [
      "[[11505    64     1   928]\n",
      " [  642    24     0   139]\n",
      " [  365    18     1   105]\n",
      " [ 2713    69     1  1460]]\n",
      "0.720266149154422\n",
      "0.3269421647031273\n",
      "0.6773958204024083\n",
      "\n",
      "Trying classifier  LINEARSVC M1\n"
     ]
    },
    {
     "name": "stderr",
     "output_type": "stream",
     "text": [
      "C:\\ProgramData\\Anaconda3\\lib\\site-packages\\sklearn\\metrics\\classification.py:1437: UndefinedMetricWarning: F-score is ill-defined and being set to 0.0 in labels with no predicted samples.\n",
      "  'precision', 'predicted', average, warn_for)\n"
     ]
    },
    {
     "name": "stdout",
     "output_type": "stream",
     "text": [
      "[[11624    39     0   835]\n",
      " [  660    16     0   129]\n",
      " [  379    15     0    95]\n",
      " [ 2846    39     0  1358]]\n",
      "0.7207097310784586\n",
      "0.31822423586596876\n",
      "0.6727379880117415\n",
      "\n",
      "Trying classifier  MLP M1\n"
     ]
    },
    {
     "name": "stderr",
     "output_type": "stream",
     "text": [
      "C:\\ProgramData\\Anaconda3\\lib\\site-packages\\sklearn\\neural_network\\multilayer_perceptron.py:566: ConvergenceWarning: Stochastic Optimizer: Maximum iterations (200) reached and the optimization hasn't converged yet.\n",
      "  % self.max_iter, ConvergenceWarning)\n"
     ]
    },
    {
     "name": "stdout",
     "output_type": "stream",
     "text": [
      "[[11482    93    37   886]\n",
      " [  585    76     1   143]\n",
      " [  348     0    32   109]\n",
      " [ 2598    97    12  1536]]\n",
      "0.7278070418630441\n",
      "0.3832128327666987\n",
      "0.6923100014995774\n",
      "\n",
      "Speaker on focus: M6\n",
      "Training data size: (181528, 28)\n",
      "Testing data size: (16532, 28)\n",
      "\n",
      "Trying classifier  MF M6\n"
     ]
    },
    {
     "name": "stderr",
     "output_type": "stream",
     "text": [
      "C:\\ProgramData\\Anaconda3\\lib\\site-packages\\sklearn\\metrics\\classification.py:1437: UndefinedMetricWarning: F-score is ill-defined and being set to 0.0 in labels with no predicted samples.\n",
      "  'precision', 'predicted', average, warn_for)\n"
     ]
    },
    {
     "name": "stdout",
     "output_type": "stream",
     "text": [
      "[[9316    0    0    0]\n",
      " [1800    0    0    0]\n",
      " [1671    0    0    0]\n",
      " [3745    0    0    0]]\n",
      "0.5635131865473022\n",
      "0.18020736614051377\n",
      "0.4061969085325493\n",
      "\n",
      "Trying classifier  LR M6\n"
     ]
    },
    {
     "name": "stderr",
     "output_type": "stream",
     "text": [
      "C:\\ProgramData\\Anaconda3\\lib\\site-packages\\sklearn\\linear_model\\logistic.py:469: FutureWarning: Default multi_class will be changed to 'auto' in 0.22. Specify the multi_class option to silence this warning.\n",
      "  \"this warning.\", FutureWarning)\n",
      "C:\\ProgramData\\Anaconda3\\lib\\site-packages\\sklearn\\metrics\\classification.py:1437: UndefinedMetricWarning: F-score is ill-defined and being set to 0.0 in labels with no predicted samples.\n",
      "  'precision', 'predicted', average, warn_for)\n"
     ]
    },
    {
     "name": "stdout",
     "output_type": "stream",
     "text": [
      "[[8706   40    0  570]\n",
      " [1573   21    0  206]\n",
      " [1430   22    0  219]\n",
      " [2785   75    0  885]]\n",
      "0.5814178562787321\n",
      "0.26685162513297234\n",
      "0.48570828116412623\n",
      "\n",
      "Trying classifier  LINEARSVC M6\n"
     ]
    },
    {
     "name": "stderr",
     "output_type": "stream",
     "text": [
      "C:\\ProgramData\\Anaconda3\\lib\\site-packages\\sklearn\\metrics\\classification.py:1437: UndefinedMetricWarning: F-score is ill-defined and being set to 0.0 in labels with no predicted samples.\n",
      "  'precision', 'predicted', average, warn_for)\n"
     ]
    },
    {
     "name": "stdout",
     "output_type": "stream",
     "text": [
      "[[8759   30    0  527]\n",
      " [1595   14    0  191]\n",
      " [1469   19    0  183]\n",
      " [2905   56    0  784]]\n",
      "0.5780909750786354\n",
      "0.2579844954776385\n",
      "0.47756791474858895\n",
      "\n",
      "Trying classifier  MLP M6\n"
     ]
    },
    {
     "name": "stderr",
     "output_type": "stream",
     "text": [
      "C:\\ProgramData\\Anaconda3\\lib\\site-packages\\sklearn\\neural_network\\multilayer_perceptron.py:566: ConvergenceWarning: Stochastic Optimizer: Maximum iterations (200) reached and the optimization hasn't converged yet.\n",
      "  % self.max_iter, ConvergenceWarning)\n"
     ]
    },
    {
     "name": "stdout",
     "output_type": "stream",
     "text": [
      "[[8574  104   43  595]\n",
      " [1444  137    6  213]\n",
      " [1268    6  110  287]\n",
      " [2268   68   78 1331]]\n",
      "0.6140817807887733\n",
      "0.3565076488378043\n",
      "0.5460029993351805\n",
      "\n",
      "Speaker on focus: F6\n",
      "Training data size: (182822, 28)\n",
      "Testing data size: (15238, 28)\n",
      "\n",
      "Trying classifier  MF F6\n"
     ]
    },
    {
     "name": "stderr",
     "output_type": "stream",
     "text": [
      "C:\\ProgramData\\Anaconda3\\lib\\site-packages\\sklearn\\metrics\\classification.py:1437: UndefinedMetricWarning: F-score is ill-defined and being set to 0.0 in labels with no predicted samples.\n",
      "  'precision', 'predicted', average, warn_for)\n"
     ]
    },
    {
     "name": "stdout",
     "output_type": "stream",
     "text": [
      "[[7718    0    0    0]\n",
      " [3393    0    0    0]\n",
      " [ 435    0    0    0]\n",
      " [3692    0    0    0]]\n",
      "0.5064969156057225\n",
      "0.16810419933786372\n",
      "0.34057703385999005\n",
      "\n",
      "Trying classifier  LR F6\n"
     ]
    },
    {
     "name": "stderr",
     "output_type": "stream",
     "text": [
      "C:\\ProgramData\\Anaconda3\\lib\\site-packages\\sklearn\\linear_model\\logistic.py:469: FutureWarning: Default multi_class will be changed to 'auto' in 0.22. Specify the multi_class option to silence this warning.\n",
      "  \"this warning.\", FutureWarning)\n"
     ]
    },
    {
     "name": "stdout",
     "output_type": "stream",
     "text": [
      "[[6818  135    0  765]\n",
      " [1897  604    0  892]\n",
      " [ 240   34    8  153]\n",
      " [1974  157    3 1558]]\n",
      "0.5898411865074157\n",
      "0.3719850589066456\n",
      "0.540568045492762\n",
      "\n",
      "Trying classifier  LINEARSVC F6\n"
     ]
    },
    {
     "name": "stderr",
     "output_type": "stream",
     "text": [
      "C:\\ProgramData\\Anaconda3\\lib\\site-packages\\sklearn\\metrics\\classification.py:1437: UndefinedMetricWarning: F-score is ill-defined and being set to 0.0 in labels with no predicted samples.\n",
      "  'precision', 'predicted', average, warn_for)\n"
     ]
    },
    {
     "name": "stdout",
     "output_type": "stream",
     "text": [
      "[[6964   51    0  703]\n",
      " [1991  317    0 1085]\n",
      " [ 255   21    0  159]\n",
      " [2129   70    0 1493]]\n",
      "0.5757973487334296\n",
      "0.32853156575073217\n",
      "0.5082677761402754\n",
      "\n",
      "Trying classifier  MLP F6\n"
     ]
    },
    {
     "name": "stderr",
     "output_type": "stream",
     "text": [
      "C:\\ProgramData\\Anaconda3\\lib\\site-packages\\sklearn\\neural_network\\multilayer_perceptron.py:566: ConvergenceWarning: Stochastic Optimizer: Maximum iterations (200) reached and the optimization hasn't converged yet.\n",
      "  % self.max_iter, ConvergenceWarning)\n"
     ]
    },
    {
     "name": "stdout",
     "output_type": "stream",
     "text": [
      "[[6210  503   22  983]\n",
      " [1387 1276   20  710]\n",
      " [ 173   11   47  204]\n",
      " [1567  361   60 1704]]\n",
      "0.6061819136369603\n",
      "0.4542014907186358\n",
      "0.5891608045968457\n",
      "\n",
      "Speaker on focus: M3\n",
      "Training data size: (181426, 28)\n",
      "Testing data size: (16634, 28)\n",
      "\n",
      "Trying classifier  MF M3\n"
     ]
    },
    {
     "name": "stderr",
     "output_type": "stream",
     "text": [
      "C:\\ProgramData\\Anaconda3\\lib\\site-packages\\sklearn\\metrics\\classification.py:1437: UndefinedMetricWarning: F-score is ill-defined and being set to 0.0 in labels with no predicted samples.\n",
      "  'precision', 'predicted', average, warn_for)\n"
     ]
    },
    {
     "name": "stdout",
     "output_type": "stream",
     "text": [
      "[[11972     0     0     0]\n",
      " [  778     0     0     0]\n",
      " [  616     0     0     0]\n",
      " [ 3268     0     0     0]]\n",
      "0.71973067211735\n",
      "0.20925679927287982\n",
      "0.6024341471431808\n",
      "\n",
      "Trying classifier  LR M3\n"
     ]
    },
    {
     "name": "stderr",
     "output_type": "stream",
     "text": [
      "C:\\ProgramData\\Anaconda3\\lib\\site-packages\\sklearn\\linear_model\\logistic.py:469: FutureWarning: Default multi_class will be changed to 'auto' in 0.22. Specify the multi_class option to silence this warning.\n",
      "  \"this warning.\", FutureWarning)\n"
     ]
    },
    {
     "name": "stdout",
     "output_type": "stream",
     "text": [
      "[[11383    19     0   570]\n",
      " [  547    62     0   169]\n",
      " [  483     6     1   126]\n",
      " [ 2438    13     1   816]]\n",
      "0.7371648430924612\n",
      "0.33074477766625804\n",
      "0.682383277843413\n",
      "\n",
      "Trying classifier  LINEARSVC M3\n"
     ]
    },
    {
     "name": "stderr",
     "output_type": "stream",
     "text": [
      "C:\\ProgramData\\Anaconda3\\lib\\site-packages\\sklearn\\metrics\\classification.py:1437: UndefinedMetricWarning: F-score is ill-defined and being set to 0.0 in labels with no predicted samples.\n",
      "  'precision', 'predicted', average, warn_for)\n"
     ]
    },
    {
     "name": "stdout",
     "output_type": "stream",
     "text": [
      "[[11501    12     0   459]\n",
      " [  582    48     0   148]\n",
      " [  505     6     0   105]\n",
      " [ 2560     8     0   700]]\n",
      "0.7363833112901287\n",
      "0.31499442441655456\n",
      "0.674485784420548\n",
      "\n",
      "Trying classifier  MLP M3\n"
     ]
    },
    {
     "name": "stderr",
     "output_type": "stream",
     "text": [
      "C:\\ProgramData\\Anaconda3\\lib\\site-packages\\sklearn\\neural_network\\multilayer_perceptron.py:566: ConvergenceWarning: Stochastic Optimizer: Maximum iterations (200) reached and the optimization hasn't converged yet.\n",
      "  % self.max_iter, ConvergenceWarning)\n"
     ]
    },
    {
     "name": "stdout",
     "output_type": "stream",
     "text": [
      "[[10390    87    23  1472]\n",
      " [  395   150     2   231]\n",
      " [  384    12    13   207]\n",
      " [ 1693    71    39  1465]]\n",
      "0.7224960923409883\n",
      "0.3971409812513538\n",
      "0.7030615577068839\n",
      "\n",
      "Speaker on focus: M4\n",
      "Training data size: (181548, 28)\n",
      "Testing data size: (16512, 28)\n",
      "\n",
      "Trying classifier  MF M4\n"
     ]
    },
    {
     "name": "stderr",
     "output_type": "stream",
     "text": [
      "C:\\ProgramData\\Anaconda3\\lib\\site-packages\\sklearn\\metrics\\classification.py:1437: UndefinedMetricWarning: F-score is ill-defined and being set to 0.0 in labels with no predicted samples.\n",
      "  'precision', 'predicted', average, warn_for)\n"
     ]
    },
    {
     "name": "stdout",
     "output_type": "stream",
     "text": [
      "[[10705     0     0     0]\n",
      " [ 1702     0     0     0]\n",
      " [  539     0     0     0]\n",
      " [ 3566     0     0     0]]\n",
      "0.6483163759689923\n",
      "0.19666017562552818\n",
      "0.509992049435872\n",
      "\n",
      "Trying classifier  LR M4\n"
     ]
    },
    {
     "name": "stderr",
     "output_type": "stream",
     "text": [
      "C:\\ProgramData\\Anaconda3\\lib\\site-packages\\sklearn\\linear_model\\logistic.py:469: FutureWarning: Default multi_class will be changed to 'auto' in 0.22. Specify the multi_class option to silence this warning.\n",
      "  \"this warning.\", FutureWarning)\n"
     ]
    },
    {
     "name": "stdout",
     "output_type": "stream",
     "text": [
      "[[10196    42     0   467]\n",
      " [ 1402   133     0   167]\n",
      " [  427     5     0   107]\n",
      " [ 2851    15     1   699]]\n",
      "0.6678779069767442\n",
      "0.304160105548032\n",
      "0.591572822300522\n",
      "\n",
      "Trying classifier  LINEARSVC M4\n"
     ]
    },
    {
     "name": "stderr",
     "output_type": "stream",
     "text": [
      "C:\\ProgramData\\Anaconda3\\lib\\site-packages\\sklearn\\metrics\\classification.py:1437: UndefinedMetricWarning: F-score is ill-defined and being set to 0.0 in labels with no predicted samples.\n",
      "  'precision', 'predicted', average, warn_for)\n"
     ]
    },
    {
     "name": "stdout",
     "output_type": "stream",
     "text": [
      "[[10275    25     0   405]\n",
      " [ 1443    89     0   170]\n",
      " [  443     1     0    95]\n",
      " [ 2953     5     0   608]]\n",
      "0.6644864341085271\n",
      "0.286163131714607\n",
      "0.5802955267682288\n",
      "\n",
      "Trying classifier  MLP M4\n"
     ]
    },
    {
     "name": "stderr",
     "output_type": "stream",
     "text": [
      "C:\\ProgramData\\Anaconda3\\lib\\site-packages\\sklearn\\neural_network\\multilayer_perceptron.py:566: ConvergenceWarning: Stochastic Optimizer: Maximum iterations (200) reached and the optimization hasn't converged yet.\n",
      "  % self.max_iter, ConvergenceWarning)\n"
     ]
    },
    {
     "name": "stdout",
     "output_type": "stream",
     "text": [
      "[[9818  138   29  720]\n",
      " [1125  339    6  232]\n",
      " [ 346    6   25  162]\n",
      " [2325  123   42 1076]]\n",
      "0.6818071705426356\n",
      "0.3882673029519239\n",
      "0.6370417990161845\n",
      "\n",
      "Speaker on focus: F4\n",
      "Training data size: (181137, 28)\n",
      "Testing data size: (16923, 28)\n",
      "\n",
      "Trying classifier  MF F4\n"
     ]
    },
    {
     "name": "stderr",
     "output_type": "stream",
     "text": [
      "C:\\ProgramData\\Anaconda3\\lib\\site-packages\\sklearn\\metrics\\classification.py:1437: UndefinedMetricWarning: F-score is ill-defined and being set to 0.0 in labels with no predicted samples.\n",
      "  'precision', 'predicted', average, warn_for)\n"
     ]
    },
    {
     "name": "stdout",
     "output_type": "stream",
     "text": [
      "[[10008     0     0     0]\n",
      " [ 3183     0     0     0]\n",
      " [ 1039     0     0     0]\n",
      " [ 2693     0     0     0]]\n",
      "0.5913845062932104\n",
      "0.18580817645093015\n",
      "0.43953630678270017\n",
      "\n",
      "Trying classifier  LR F4\n"
     ]
    },
    {
     "name": "stderr",
     "output_type": "stream",
     "text": [
      "C:\\ProgramData\\Anaconda3\\lib\\site-packages\\sklearn\\linear_model\\logistic.py:469: FutureWarning: Default multi_class will be changed to 'auto' in 0.22. Specify the multi_class option to silence this warning.\n",
      "  \"this warning.\", FutureWarning)\n"
     ]
    },
    {
     "name": "stdout",
     "output_type": "stream",
     "text": [
      "[[9531   20    0  457]\n",
      " [2502  216    0  465]\n",
      " [ 555   54    0  430]\n",
      " [1398   48    2 1245]]\n",
      "0.649530225137387\n",
      "0.34696011549307426\n",
      "0.5678050727580869\n",
      "\n",
      "Trying classifier  LINEARSVC F4\n"
     ]
    },
    {
     "name": "stderr",
     "output_type": "stream",
     "text": [
      "C:\\ProgramData\\Anaconda3\\lib\\site-packages\\sklearn\\metrics\\classification.py:1437: UndefinedMetricWarning: F-score is ill-defined and being set to 0.0 in labels with no predicted samples.\n",
      "  'precision', 'predicted', average, warn_for)\n"
     ]
    },
    {
     "name": "stdout",
     "output_type": "stream",
     "text": [
      "[[9589    9    0  410]\n",
      " [2595  129    0  459]\n",
      " [ 578   34    0  427]\n",
      " [1511   27    0 1155]]\n",
      "0.6424983749926136\n",
      "0.328797192295668\n",
      "0.5529061962402636\n",
      "\n",
      "Trying classifier  MLP F4\n",
      "[[9105   80    2  821]\n",
      " [2055  640    0  488]\n",
      " [ 498    2   20  519]\n",
      " [1067  111    7 1508]]\n",
      "0.6661348460674821\n",
      "0.41436630474754277\n",
      "0.6155749896778759\n",
      "\n",
      "Speaker on focus: F5\n",
      "Training data size: (181647, 28)\n",
      "Testing data size: (16413, 28)\n",
      "\n",
      "Trying classifier  MF F5\n"
     ]
    },
    {
     "name": "stderr",
     "output_type": "stream",
     "text": [
      "C:\\ProgramData\\Anaconda3\\lib\\site-packages\\sklearn\\metrics\\classification.py:1437: UndefinedMetricWarning: F-score is ill-defined and being set to 0.0 in labels with no predicted samples.\n",
      "  'precision', 'predicted', average, warn_for)\n"
     ]
    },
    {
     "name": "stdout",
     "output_type": "stream",
     "text": [
      "[[12154     0     0     0]\n",
      " [ 1330     0     0     0]\n",
      " [  914     0     0     0]\n",
      " [ 2015     0     0     0]]\n",
      "0.7405105708889295\n",
      "0.21272797283578954\n",
      "0.6301092504347008\n",
      "\n",
      "Trying classifier  LR F5\n"
     ]
    },
    {
     "name": "stderr",
     "output_type": "stream",
     "text": [
      "C:\\ProgramData\\Anaconda3\\lib\\site-packages\\sklearn\\linear_model\\logistic.py:469: FutureWarning: Default multi_class will be changed to 'auto' in 0.22. Specify the multi_class option to silence this warning.\n",
      "  \"this warning.\", FutureWarning)\n",
      "C:\\ProgramData\\Anaconda3\\lib\\site-packages\\sklearn\\metrics\\classification.py:1437: UndefinedMetricWarning: F-score is ill-defined and being set to 0.0 in labels with no predicted samples.\n",
      "  'precision', 'predicted', average, warn_for)\n"
     ]
    },
    {
     "name": "stdout",
     "output_type": "stream",
     "text": [
      "[[11866    33     0   255]\n",
      " [ 1183    17     0   130]\n",
      " [  791    17     0   106]\n",
      " [ 1572    15     0   428]]\n",
      "0.7500761591421434\n",
      "0.294186703844858\n",
      "0.6752862960403165\n",
      "\n",
      "Trying classifier  LINEARSVC F5\n"
     ]
    },
    {
     "name": "stderr",
     "output_type": "stream",
     "text": [
      "C:\\ProgramData\\Anaconda3\\lib\\site-packages\\sklearn\\metrics\\classification.py:1437: UndefinedMetricWarning: F-score is ill-defined and being set to 0.0 in labels with no predicted samples.\n",
      "  'precision', 'predicted', average, warn_for)\n"
     ]
    },
    {
     "name": "stdout",
     "output_type": "stream",
     "text": [
      "[[11907    22     0   225]\n",
      " [ 1198     9     0   123]\n",
      " [  801    13     0   100]\n",
      " [ 1621    10     0   384]]\n",
      "0.7494059586912813\n",
      "0.2857661774151914\n",
      "0.6712338516193963\n",
      "\n",
      "Trying classifier  MLP F5\n"
     ]
    },
    {
     "name": "stderr",
     "output_type": "stream",
     "text": [
      "C:\\ProgramData\\Anaconda3\\lib\\site-packages\\sklearn\\neural_network\\multilayer_perceptron.py:566: ConvergenceWarning: Stochastic Optimizer: Maximum iterations (200) reached and the optimization hasn't converged yet.\n",
      "  % self.max_iter, ConvergenceWarning)\n"
     ]
    },
    {
     "name": "stdout",
     "output_type": "stream",
     "text": [
      "[[11377   104    20   653]\n",
      " [ 1063    84     6   177]\n",
      " [  723     0    52   139]\n",
      " [ 1241    32    19   723]]\n",
      "0.7455066106135381\n",
      "0.36452367544956293\n",
      "0.6968446505278025\n",
      "\n",
      "Speaker on focus: F2\n",
      "Training data size: (181593, 28)\n",
      "Testing data size: (16467, 28)\n",
      "\n",
      "Trying classifier  MF F2\n"
     ]
    },
    {
     "name": "stderr",
     "output_type": "stream",
     "text": [
      "C:\\ProgramData\\Anaconda3\\lib\\site-packages\\sklearn\\metrics\\classification.py:1437: UndefinedMetricWarning: F-score is ill-defined and being set to 0.0 in labels with no predicted samples.\n",
      "  'precision', 'predicted', average, warn_for)\n"
     ]
    },
    {
     "name": "stdout",
     "output_type": "stream",
     "text": [
      "[[10315     0     0     0]\n",
      " [ 1779     0     0     0]\n",
      " [ 1060     0     0     0]\n",
      " [ 3313     0     0     0]]\n",
      "0.6264043237991134\n",
      "0.19257337017399748\n",
      "0.48251516690223695\n",
      "\n",
      "Trying classifier  LR F2\n"
     ]
    },
    {
     "name": "stderr",
     "output_type": "stream",
     "text": [
      "C:\\ProgramData\\Anaconda3\\lib\\site-packages\\sklearn\\linear_model\\logistic.py:469: FutureWarning: Default multi_class will be changed to 'auto' in 0.22. Specify the multi_class option to silence this warning.\n",
      "  \"this warning.\", FutureWarning)\n"
     ]
    },
    {
     "name": "stdout",
     "output_type": "stream",
     "text": [
      "[[9172   69    0 1074]\n",
      " [ 957  171    0  651]\n",
      " [ 505   22    4  529]\n",
      " [1677   57    1 1578]]\n",
      "0.6634481083378879\n",
      "0.3557450784470261\n",
      "0.6148181937302355\n",
      "\n",
      "Trying classifier  LINEARSVC F2\n"
     ]
    },
    {
     "name": "stderr",
     "output_type": "stream",
     "text": [
      "C:\\ProgramData\\Anaconda3\\lib\\site-packages\\sklearn\\metrics\\classification.py:1437: UndefinedMetricWarning: F-score is ill-defined and being set to 0.0 in labels with no predicted samples.\n",
      "  'precision', 'predicted', average, warn_for)\n"
     ]
    },
    {
     "name": "stdout",
     "output_type": "stream",
     "text": [
      "[[9368   44    0  903]\n",
      " [1021  124    0  634]\n",
      " [ 553   15    0  492]\n",
      " [1814   29    0 1470]]\n",
      "0.6656950264164693\n",
      "0.3420634011482079\n",
      "0.6089928319544716\n",
      "\n",
      "Trying classifier  MLP F2\n"
     ]
    },
    {
     "name": "stderr",
     "output_type": "stream",
     "text": [
      "C:\\ProgramData\\Anaconda3\\lib\\site-packages\\sklearn\\neural_network\\multilayer_perceptron.py:566: ConvergenceWarning: Stochastic Optimizer: Maximum iterations (200) reached and the optimization hasn't converged yet.\n",
      "  % self.max_iter, ConvergenceWarning)\n"
     ]
    },
    {
     "name": "stdout",
     "output_type": "stream",
     "text": [
      "[[8412  196   52 1655]\n",
      " [ 733  512   10  524]\n",
      " [ 379   29   83  569]\n",
      " [1315  199   83 1716]]\n",
      "0.6511811501791461\n",
      "0.43566443608930744\n",
      "0.6360144068756022\n",
      "\n",
      "Speaker on focus: M2\n",
      "Training data size: (182715, 28)\n",
      "Testing data size: (15345, 28)\n",
      "\n",
      "Trying classifier  MF M2\n"
     ]
    },
    {
     "name": "stderr",
     "output_type": "stream",
     "text": [
      "C:\\ProgramData\\Anaconda3\\lib\\site-packages\\sklearn\\metrics\\classification.py:1437: UndefinedMetricWarning: F-score is ill-defined and being set to 0.0 in labels with no predicted samples.\n",
      "  'precision', 'predicted', average, warn_for)\n"
     ]
    },
    {
     "name": "stdout",
     "output_type": "stream",
     "text": [
      "[[10965     0     0     0]\n",
      " [ 1608     0     0     0]\n",
      " [  156     0     0     0]\n",
      " [ 2616     0     0     0]]\n",
      "0.7145650048875856\n",
      "0.20838084378563285\n",
      "0.5956066346326397\n",
      "\n",
      "Trying classifier  LR M2\n"
     ]
    },
    {
     "name": "stderr",
     "output_type": "stream",
     "text": [
      "C:\\ProgramData\\Anaconda3\\lib\\site-packages\\sklearn\\linear_model\\logistic.py:469: FutureWarning: Default multi_class will be changed to 'auto' in 0.22. Specify the multi_class option to silence this warning.\n",
      "  \"this warning.\", FutureWarning)\n"
     ]
    },
    {
     "name": "stdout",
     "output_type": "stream",
     "text": [
      "[[10795    24     2   144]\n",
      " [ 1453    52     0   103]\n",
      " [  139     0     0    17]\n",
      " [ 2174    12     0   430]]\n",
      "0.7348973607038123\n",
      "0.2917359409564685\n",
      "0.6551015628778882\n",
      "\n",
      "Trying classifier  LINEARSVC M2\n"
     ]
    },
    {
     "name": "stderr",
     "output_type": "stream",
     "text": [
      "C:\\ProgramData\\Anaconda3\\lib\\site-packages\\sklearn\\metrics\\classification.py:1437: UndefinedMetricWarning: F-score is ill-defined and being set to 0.0 in labels with no predicted samples.\n",
      "  'precision', 'predicted', average, warn_for)\n"
     ]
    },
    {
     "name": "stdout",
     "output_type": "stream",
     "text": [
      "[[10839    19     0   107]\n",
      " [ 1478    29     0   101]\n",
      " [  142     0     0    14]\n",
      " [ 2237     7     0   372]]\n",
      "0.7324861518409905\n",
      "0.2778590857673654\n",
      "0.6468206336422766\n",
      "\n",
      "Trying classifier  MLP M2\n"
     ]
    },
    {
     "name": "stderr",
     "output_type": "stream",
     "text": [
      "C:\\ProgramData\\Anaconda3\\lib\\site-packages\\sklearn\\neural_network\\multilayer_perceptron.py:566: ConvergenceWarning: Stochastic Optimizer: Maximum iterations (200) reached and the optimization hasn't converged yet.\n",
      "  % self.max_iter, ConvergenceWarning)\n"
     ]
    },
    {
     "name": "stdout",
     "output_type": "stream",
     "text": [
      "[[10398    84    11   472]\n",
      " [ 1266   206     0   136]\n",
      " [  117     5     4    30]\n",
      " [ 1733    62    12   809]]\n",
      "0.7440208536982731\n",
      "0.3752893690346408\n",
      "0.6973598893785237\n",
      "\n",
      "Speaker on focus: F1\n",
      "Training data size: (181919, 28)\n",
      "Testing data size: (16141, 28)\n",
      "\n",
      "Trying classifier  MF F1\n"
     ]
    },
    {
     "name": "stderr",
     "output_type": "stream",
     "text": [
      "C:\\ProgramData\\Anaconda3\\lib\\site-packages\\sklearn\\metrics\\classification.py:1437: UndefinedMetricWarning: F-score is ill-defined and being set to 0.0 in labels with no predicted samples.\n",
      "  'precision', 'predicted', average, warn_for)\n"
     ]
    },
    {
     "name": "stdout",
     "output_type": "stream",
     "text": [
      "[[10841     0     0     0]\n",
      " [  829     0     0     0]\n",
      " [  725     0     0     0]\n",
      " [ 3746     0     0     0]]\n",
      "0.6716436404188092\n",
      "0.20089318805129347\n",
      "0.5397145286324446\n",
      "\n",
      "Trying classifier  LR F1\n"
     ]
    },
    {
     "name": "stderr",
     "output_type": "stream",
     "text": [
      "C:\\ProgramData\\Anaconda3\\lib\\site-packages\\sklearn\\linear_model\\logistic.py:469: FutureWarning: Default multi_class will be changed to 'auto' in 0.22. Specify the multi_class option to silence this warning.\n",
      "  \"this warning.\", FutureWarning)\n"
     ]
    },
    {
     "name": "stdout",
     "output_type": "stream",
     "text": [
      "[[10468    55     2   316]\n",
      " [  586    46     0   197]\n",
      " [  518    21     0   186]\n",
      " [ 2769    44     1   932]]\n",
      "0.7091258286351527\n",
      "0.31762787945918225\n",
      "0.6435981592502691\n",
      "\n",
      "Trying classifier  LINEARSVC F1\n"
     ]
    },
    {
     "name": "stderr",
     "output_type": "stream",
     "text": [
      "C:\\ProgramData\\Anaconda3\\lib\\site-packages\\sklearn\\metrics\\classification.py:1437: UndefinedMetricWarning: F-score is ill-defined and being set to 0.0 in labels with no predicted samples.\n",
      "  'precision', 'predicted', average, warn_for)\n"
     ]
    },
    {
     "name": "stdout",
     "output_type": "stream",
     "text": [
      "[[10528    36     0   277]\n",
      " [  617    29     0   183]\n",
      " [  546    14     0   165]\n",
      " [ 2881    29     0   836]]\n",
      "0.7058422650393408\n",
      "0.30288954969029225\n",
      "0.6341933168143539\n",
      "\n",
      "Trying classifier  MLP F1\n"
     ]
    },
    {
     "name": "stderr",
     "output_type": "stream",
     "text": [
      "C:\\ProgramData\\Anaconda3\\lib\\site-packages\\sklearn\\neural_network\\multilayer_perceptron.py:566: ConvergenceWarning: Stochastic Optimizer: Maximum iterations (200) reached and the optimization hasn't converged yet.\n",
      "  % self.max_iter, ConvergenceWarning)\n"
     ]
    },
    {
     "name": "stdout",
     "output_type": "stream",
     "text": [
      "[[10025   154    15   647]\n",
      " [  400   216     1   212]\n",
      " [  403     8    61   253]\n",
      " [ 2161    96    44  1445]]\n",
      "0.7277739916981599\n",
      "0.44390971697230874\n",
      "0.6950217857397959\n",
      "\n",
      "Speaker on focus: F3\n",
      "Training data size: (181651, 28)\n",
      "Testing data size: (16409, 28)\n",
      "\n",
      "Trying classifier  MF F3\n"
     ]
    },
    {
     "name": "stderr",
     "output_type": "stream",
     "text": [
      "C:\\ProgramData\\Anaconda3\\lib\\site-packages\\sklearn\\metrics\\classification.py:1437: UndefinedMetricWarning: F-score is ill-defined and being set to 0.0 in labels with no predicted samples.\n",
      "  'precision', 'predicted', average, warn_for)\n"
     ]
    },
    {
     "name": "stdout",
     "output_type": "stream",
     "text": [
      "[[9660    0    0    0]\n",
      " [2223    0    0    0]\n",
      " [ 847    0    0    0]\n",
      " [3679    0    0    0]]\n",
      "0.5887013224449997\n",
      "0.18527753270167632\n",
      "0.4362925140832941\n",
      "\n",
      "Trying classifier  LR F3\n"
     ]
    },
    {
     "name": "stderr",
     "output_type": "stream",
     "text": [
      "C:\\ProgramData\\Anaconda3\\lib\\site-packages\\sklearn\\linear_model\\logistic.py:469: FutureWarning: Default multi_class will be changed to 'auto' in 0.22. Specify the multi_class option to silence this warning.\n",
      "  \"this warning.\", FutureWarning)\n",
      "C:\\ProgramData\\Anaconda3\\lib\\site-packages\\sklearn\\metrics\\classification.py:1437: UndefinedMetricWarning: F-score is ill-defined and being set to 0.0 in labels with no predicted samples.\n",
      "  'precision', 'predicted', average, warn_for)\n"
     ]
    },
    {
     "name": "stdout",
     "output_type": "stream",
     "text": [
      "[[9404   24    0  232]\n",
      " [1982   50    0  191]\n",
      " [ 682    9    0  156]\n",
      " [3057   27    0  595]]\n",
      "0.6124078249740996\n",
      "0.2617296228541738\n",
      "0.5075179838167223\n",
      "\n",
      "Trying classifier  LINEARSVC F3\n"
     ]
    },
    {
     "name": "stderr",
     "output_type": "stream",
     "text": [
      "C:\\ProgramData\\Anaconda3\\lib\\site-packages\\sklearn\\metrics\\classification.py:1437: UndefinedMetricWarning: F-score is ill-defined and being set to 0.0 in labels with no predicted samples.\n",
      "  'precision', 'predicted', average, warn_for)\n"
     ]
    },
    {
     "name": "stdout",
     "output_type": "stream",
     "text": [
      "[[9451   14    0  195]\n",
      " [2020   29    0  174]\n",
      " [ 715    7    0  125]\n",
      " [3174   15    0  490]]\n",
      "0.6075933938692181\n",
      "0.24774759989971157\n",
      "0.4953040568877361\n",
      "\n",
      "Trying classifier  MLP F3\n"
     ]
    },
    {
     "name": "stderr",
     "output_type": "stream",
     "text": [
      "C:\\ProgramData\\Anaconda3\\lib\\site-packages\\sklearn\\neural_network\\multilayer_perceptron.py:566: ConvergenceWarning: Stochastic Optimizer: Maximum iterations (200) reached and the optimization hasn't converged yet.\n",
      "  % self.max_iter, ConvergenceWarning)\n"
     ]
    },
    {
     "name": "stdout",
     "output_type": "stream",
     "text": [
      "[[9061  132   20  447]\n",
      " [1748  266    2  207]\n",
      " [ 587   17   31  212]\n",
      " [2527  176   58  918]]\n",
      "0.6262416966298983\n",
      "0.33957171404411646\n",
      "0.5566823633038962\n",
      "\n"
     ]
    },
    {
     "data": {
      "text/html": [
       "<div>\n",
       "<style scoped>\n",
       "    .dataframe tbody tr th:only-of-type {\n",
       "        vertical-align: middle;\n",
       "    }\n",
       "\n",
       "    .dataframe tbody tr th {\n",
       "        vertical-align: top;\n",
       "    }\n",
       "\n",
       "    .dataframe thead th {\n",
       "        text-align: right;\n",
       "    }\n",
       "</style>\n",
       "<table border=\"1\" class=\"dataframe\">\n",
       "  <thead>\n",
       "    <tr style=\"text-align: right;\">\n",
       "      <th></th>\n",
       "      <th>M5</th>\n",
       "      <th>M1</th>\n",
       "      <th>M6</th>\n",
       "      <th>F6</th>\n",
       "      <th>M3</th>\n",
       "      <th>M4</th>\n",
       "      <th>F4</th>\n",
       "      <th>F5</th>\n",
       "      <th>F2</th>\n",
       "      <th>M2</th>\n",
       "      <th>F1</th>\n",
       "      <th>F3</th>\n",
       "    </tr>\n",
       "  </thead>\n",
       "  <tbody>\n",
       "    <tr>\n",
       "      <td>MF</td>\n",
       "      <td>0.551088</td>\n",
       "      <td>0.692986</td>\n",
       "      <td>0.563513</td>\n",
       "      <td>0.506497</td>\n",
       "      <td>0.719731</td>\n",
       "      <td>0.648316</td>\n",
       "      <td>0.591385</td>\n",
       "      <td>0.740511</td>\n",
       "      <td>0.626404</td>\n",
       "      <td>0.714565</td>\n",
       "      <td>0.671644</td>\n",
       "      <td>0.588701</td>\n",
       "    </tr>\n",
       "    <tr>\n",
       "      <td>LR</td>\n",
       "      <td>0.605422</td>\n",
       "      <td>0.720266</td>\n",
       "      <td>0.581418</td>\n",
       "      <td>0.589841</td>\n",
       "      <td>0.737165</td>\n",
       "      <td>0.667878</td>\n",
       "      <td>0.649530</td>\n",
       "      <td>0.750076</td>\n",
       "      <td>0.663448</td>\n",
       "      <td>0.734897</td>\n",
       "      <td>0.709126</td>\n",
       "      <td>0.612408</td>\n",
       "    </tr>\n",
       "    <tr>\n",
       "      <td>LINEARSVC</td>\n",
       "      <td>0.598185</td>\n",
       "      <td>0.720710</td>\n",
       "      <td>0.578091</td>\n",
       "      <td>0.575797</td>\n",
       "      <td>0.736383</td>\n",
       "      <td>0.664486</td>\n",
       "      <td>0.642498</td>\n",
       "      <td>0.749406</td>\n",
       "      <td>0.665695</td>\n",
       "      <td>0.732486</td>\n",
       "      <td>0.705842</td>\n",
       "      <td>0.607593</td>\n",
       "    </tr>\n",
       "    <tr>\n",
       "      <td>MLP</td>\n",
       "      <td>0.632761</td>\n",
       "      <td>0.727807</td>\n",
       "      <td>0.614082</td>\n",
       "      <td>0.606182</td>\n",
       "      <td>0.722496</td>\n",
       "      <td>0.681807</td>\n",
       "      <td>0.666135</td>\n",
       "      <td>0.745507</td>\n",
       "      <td>0.651181</td>\n",
       "      <td>0.744021</td>\n",
       "      <td>0.727774</td>\n",
       "      <td>0.626242</td>\n",
       "    </tr>\n",
       "  </tbody>\n",
       "</table>\n",
       "</div>"
      ],
      "text/plain": [
       "                 M5        M1        M6        F6        M3        M4  \\\n",
       "MF         0.551088  0.692986  0.563513  0.506497  0.719731  0.648316   \n",
       "LR         0.605422  0.720266  0.581418  0.589841  0.737165  0.667878   \n",
       "LINEARSVC  0.598185  0.720710  0.578091  0.575797  0.736383  0.664486   \n",
       "MLP        0.632761  0.727807  0.614082  0.606182  0.722496  0.681807   \n",
       "\n",
       "                 F4        F5        F2        M2        F1        F3  \n",
       "MF         0.591385  0.740511  0.626404  0.714565  0.671644  0.588701  \n",
       "LR         0.649530  0.750076  0.663448  0.734897  0.709126  0.612408  \n",
       "LINEARSVC  0.642498  0.749406  0.665695  0.732486  0.705842  0.607593  \n",
       "MLP        0.666135  0.745507  0.651181  0.744021  0.727774  0.626242  "
      ]
     },
     "execution_count": 67,
     "metadata": {},
     "output_type": "execute_result"
    }
   ],
   "source": [
    "accuracy_results = pd.DataFrame(0,columns=speaker_set,index=[\"MF\"])\n",
    "f1score_results = pd.DataFrame(0,columns=speaker_set,index=[\"MF\"])\n",
    "f1score_resultsw = pd.DataFrame(0,columns=speaker_set,index=[\"MF\"])\n",
    "#f1score_resultsb = pd.DataFrame(0,columns=speaker_set,index=[\"MF\"])\n",
    "#f1_score(y_true, y_pred, average='micro')\n",
    "\n",
    "for speaker_on_focus in speaker_set:\n",
    "    train_files = []\n",
    "    test_files  = []\n",
    "    \n",
    "    for each_file in glob.glob(PATH+\"*.tab\"):\n",
    "        filename=each_file.split(\"\\\\\")[-1]\n",
    "        fileinfo=filename.split(\"-\")\n",
    "\n",
    "        primary_speaker = fileinfo[2].split(\"_\")[-1][:-2] #fileinfo[2] = final2_primary_M1.T\n",
    "        speakers = fileinfo[0]\n",
    "        l_speaker,r_speaker = speakers.split(\"_\")\n",
    "        if primary_speaker == l_speaker:\n",
    "            secondary_speaker = r_speaker\n",
    "        else:\n",
    "            secondary_speaker = l_speaker\n",
    "\n",
    "        #print (primary_speaker,l_speaker,r_speaker,speaker_on_focus)\n",
    "\n",
    "        file_df = pd.read_csv(each_file,sep=\"\\t\")\n",
    "        file_df.columns = [el.replace(primary_speaker, \"PRIMA\").replace(secondary_speaker, \"SECON\") for el in file_df.columns]\n",
    "\n",
    "        if primary_speaker != speaker_on_focus:\n",
    "            #FILES TO TRAIN!\n",
    "            train_files.append(file_df)\n",
    "        else:\n",
    "            #FILES TO TEST!\n",
    "            test_files.append(file_df)\n",
    "            \n",
    "        \n",
    "        \n",
    "    training_data = pd.concat(train_files, ignore_index=True)\n",
    "    testing_data = pd.concat(test_files, ignore_index=True)\n",
    "    print (\"Speaker on focus:\",speaker_on_focus)\n",
    "    print (\"Training data size:\",training_data.shape)\n",
    "    print (\"Testing data size:\",testing_data.shape)\n",
    "    print ()\n",
    "    \n",
    "    \n",
    "    \n",
    "    \n",
    "    \n",
    "    \n",
    "    \n",
    "    #Train data\n",
    "    features=['PRIMA:velocity-r', 'PRIMA:velocity-clock', 'PRIMA:velocity-x', 'PRIMA:velocity-y',\n",
    "              'PRIMA:acceleration-r', 'PRIMA:acceleration-clock', 'PRIMA:acceleration-x',\n",
    "              'PRIMA:acceleration-y', 'PRIMA:jerk-r', 'PRIMA:jerk-clock', 'PRIMA:jerk-x', 'PRIMA:jerk-y',\n",
    "              'PRIMA:pitch', 'PRIMA:intensity',\n",
    "              'PRIMA:word01'\n",
    "             ]\n",
    "\n",
    "    feats_learning = training_data[features]\n",
    "    X = feats_learning.dropna() #REMEMBER THIS!!!! We're ignoring any row that has a NaN value.\n",
    "    scaler = MinMaxScaler((0,1))\n",
    "    scaler.fit(X)\n",
    "    X_norm = scaler.transform(X)\n",
    "    #X_norm = X\n",
    "    #We're ignoring anyrow that has a NaN value.\n",
    "    #Y = (training_data[(feats_learning.isnull().sum(axis=1)==0)]['PRIMA:HeadMovement'].equals('nod')*1).values #0: no movement; 1: movement\n",
    "    Y = training_data[(feats_learning.isnull().sum(axis=1)==0)]['PRIMA:HeadMovement'].map(map_movements)\n",
    "    \n",
    "    #Test data\n",
    "    feats_testing = testing_data[features]\n",
    "\n",
    "    X_test = feats_testing.dropna() #REMEMBER THIS!!!! We're ignoring any row that has a NaN value.\n",
    "    X_test_norm = scaler.transform(X_test)\n",
    "    #X_test_norm = X_test\n",
    "#    Y_test = (testing_data[(feats_testing.isnull().sum(axis=1)==0)]['PRIMA:HeadMovement'].equals('nod')*1).values #0: no movement; 1: movement\n",
    "    Y_test =  testing_data[(feats_testing.isnull().sum(axis=1)==0)]['PRIMA:HeadMovement'].map(map_movements)\n",
    "    \n",
    "    classifiers_to_test = [(DummyClassifier(strategy=\"most_frequent\"),\"MF\"),\n",
    "                           (LogisticRegression(solver=\"liblinear\"),\"LR\"),\n",
    "                          (LinearSVC(),\"LINEARSVC\"),\n",
    "                          (MLPClassifier(hidden_layer_sizes=(30,30,30,30), random_state=442), \"MLP\")\n",
    "                          ]\n",
    "                        #I think that now we have to fine-tune the n_hidden_layers and their sizes (MLP)\n",
    "    \n",
    "    \n",
    "    for clf, clfname in classifiers_to_test:\n",
    "        print (\"Trying classifier \",clfname,speaker_on_focus)\n",
    "        clf.fit(X_norm, Y)\n",
    "        y_pred = clf.predict(X_test_norm)\n",
    "        accuracy_results.loc[clfname,speaker_on_focus] = accuracy_score(Y_test,y_pred)\n",
    "        #f1score_resultsb.loc[clfname,speaker_on_focus] = f1_score(Y_test,y_pred)\n",
    "        f1score_results.loc[clfname,speaker_on_focus] = f1_score(Y_test,y_pred, average='macro')\n",
    "        f1score_resultsw.loc[clfname,speaker_on_focus] = f1_score(Y_test,y_pred, average='weighted')\n",
    "    \n",
    "        print (confusion_matrix(Y_test,y_pred))\n",
    "        print (accuracy_score(Y_test,y_pred)) #same as f1-score (micro-averagaed)\n",
    "        print (f1_score(Y_test,y_pred, average='macro'))\n",
    "        print (f1_score(Y_test,y_pred, average='weighted'))\n",
    "        y_pred=None\n",
    "        print ()\n",
    "\n",
    "        \n",
    "accuracy_results"
   ]
  },
  {
   "cell_type": "code",
   "execution_count": 68,
   "metadata": {
    "scrolled": true
   },
   "outputs": [
    {
     "data": {
      "text/html": [
       "<div>\n",
       "<style scoped>\n",
       "    .dataframe tbody tr th:only-of-type {\n",
       "        vertical-align: middle;\n",
       "    }\n",
       "\n",
       "    .dataframe tbody tr th {\n",
       "        vertical-align: top;\n",
       "    }\n",
       "\n",
       "    .dataframe thead th {\n",
       "        text-align: right;\n",
       "    }\n",
       "</style>\n",
       "<table border=\"1\" class=\"dataframe\">\n",
       "  <thead>\n",
       "    <tr style=\"text-align: right;\">\n",
       "      <th></th>\n",
       "      <th>M5</th>\n",
       "      <th>M1</th>\n",
       "      <th>M6</th>\n",
       "      <th>F6</th>\n",
       "      <th>M3</th>\n",
       "      <th>M4</th>\n",
       "      <th>F4</th>\n",
       "      <th>F5</th>\n",
       "      <th>F2</th>\n",
       "      <th>M2</th>\n",
       "      <th>F1</th>\n",
       "      <th>F3</th>\n",
       "    </tr>\n",
       "  </thead>\n",
       "  <tbody>\n",
       "    <tr>\n",
       "      <td>MF</td>\n",
       "      <td>0.551088</td>\n",
       "      <td>0.692986</td>\n",
       "      <td>0.563513</td>\n",
       "      <td>0.506497</td>\n",
       "      <td>0.719731</td>\n",
       "      <td>0.648316</td>\n",
       "      <td>0.591385</td>\n",
       "      <td>0.740511</td>\n",
       "      <td>0.626404</td>\n",
       "      <td>0.714565</td>\n",
       "      <td>0.671644</td>\n",
       "      <td>0.588701</td>\n",
       "    </tr>\n",
       "    <tr>\n",
       "      <td>LR</td>\n",
       "      <td>0.605422</td>\n",
       "      <td>0.720266</td>\n",
       "      <td>0.581418</td>\n",
       "      <td>0.589841</td>\n",
       "      <td>0.737165</td>\n",
       "      <td>0.667878</td>\n",
       "      <td>0.649530</td>\n",
       "      <td>0.750076</td>\n",
       "      <td>0.663448</td>\n",
       "      <td>0.734897</td>\n",
       "      <td>0.709126</td>\n",
       "      <td>0.612408</td>\n",
       "    </tr>\n",
       "    <tr>\n",
       "      <td>LINEARSVC</td>\n",
       "      <td>0.598185</td>\n",
       "      <td>0.720710</td>\n",
       "      <td>0.578091</td>\n",
       "      <td>0.575797</td>\n",
       "      <td>0.736383</td>\n",
       "      <td>0.664486</td>\n",
       "      <td>0.642498</td>\n",
       "      <td>0.749406</td>\n",
       "      <td>0.665695</td>\n",
       "      <td>0.732486</td>\n",
       "      <td>0.705842</td>\n",
       "      <td>0.607593</td>\n",
       "    </tr>\n",
       "    <tr>\n",
       "      <td>MLP</td>\n",
       "      <td>0.632761</td>\n",
       "      <td>0.727807</td>\n",
       "      <td>0.614082</td>\n",
       "      <td>0.606182</td>\n",
       "      <td>0.722496</td>\n",
       "      <td>0.681807</td>\n",
       "      <td>0.666135</td>\n",
       "      <td>0.745507</td>\n",
       "      <td>0.651181</td>\n",
       "      <td>0.744021</td>\n",
       "      <td>0.727774</td>\n",
       "      <td>0.626242</td>\n",
       "    </tr>\n",
       "  </tbody>\n",
       "</table>\n",
       "</div>"
      ],
      "text/plain": [
       "                 M5        M1        M6        F6        M3        M4  \\\n",
       "MF         0.551088  0.692986  0.563513  0.506497  0.719731  0.648316   \n",
       "LR         0.605422  0.720266  0.581418  0.589841  0.737165  0.667878   \n",
       "LINEARSVC  0.598185  0.720710  0.578091  0.575797  0.736383  0.664486   \n",
       "MLP        0.632761  0.727807  0.614082  0.606182  0.722496  0.681807   \n",
       "\n",
       "                 F4        F5        F2        M2        F1        F3  \n",
       "MF         0.591385  0.740511  0.626404  0.714565  0.671644  0.588701  \n",
       "LR         0.649530  0.750076  0.663448  0.734897  0.709126  0.612408  \n",
       "LINEARSVC  0.642498  0.749406  0.665695  0.732486  0.705842  0.607593  \n",
       "MLP        0.666135  0.745507  0.651181  0.744021  0.727774  0.626242  "
      ]
     },
     "execution_count": 68,
     "metadata": {},
     "output_type": "execute_result"
    }
   ],
   "source": [
    "accuracy_results"
   ]
  },
  {
   "cell_type": "code",
   "execution_count": 69,
   "metadata": {},
   "outputs": [
    {
     "data": {
      "text/html": [
       "<div>\n",
       "<style scoped>\n",
       "    .dataframe tbody tr th:only-of-type {\n",
       "        vertical-align: middle;\n",
       "    }\n",
       "\n",
       "    .dataframe tbody tr th {\n",
       "        vertical-align: top;\n",
       "    }\n",
       "\n",
       "    .dataframe thead th {\n",
       "        text-align: right;\n",
       "    }\n",
       "</style>\n",
       "<table border=\"1\" class=\"dataframe\">\n",
       "  <thead>\n",
       "    <tr style=\"text-align: right;\">\n",
       "      <th></th>\n",
       "      <th>M5</th>\n",
       "      <th>M1</th>\n",
       "      <th>M6</th>\n",
       "      <th>F6</th>\n",
       "      <th>M3</th>\n",
       "      <th>M4</th>\n",
       "      <th>F4</th>\n",
       "      <th>F5</th>\n",
       "      <th>F2</th>\n",
       "      <th>M2</th>\n",
       "      <th>F1</th>\n",
       "      <th>F3</th>\n",
       "    </tr>\n",
       "  </thead>\n",
       "  <tbody>\n",
       "    <tr>\n",
       "      <td>MF</td>\n",
       "      <td>0.391594</td>\n",
       "      <td>0.567316</td>\n",
       "      <td>0.406197</td>\n",
       "      <td>0.340577</td>\n",
       "      <td>0.602434</td>\n",
       "      <td>0.509992</td>\n",
       "      <td>0.439536</td>\n",
       "      <td>0.630109</td>\n",
       "      <td>0.482515</td>\n",
       "      <td>0.595607</td>\n",
       "      <td>0.539715</td>\n",
       "      <td>0.436293</td>\n",
       "    </tr>\n",
       "    <tr>\n",
       "      <td>LR</td>\n",
       "      <td>0.505995</td>\n",
       "      <td>0.677396</td>\n",
       "      <td>0.485708</td>\n",
       "      <td>0.540568</td>\n",
       "      <td>0.682383</td>\n",
       "      <td>0.591573</td>\n",
       "      <td>0.567805</td>\n",
       "      <td>0.675286</td>\n",
       "      <td>0.614818</td>\n",
       "      <td>0.655102</td>\n",
       "      <td>0.643598</td>\n",
       "      <td>0.507518</td>\n",
       "    </tr>\n",
       "    <tr>\n",
       "      <td>LINEARSVC</td>\n",
       "      <td>0.491701</td>\n",
       "      <td>0.672738</td>\n",
       "      <td>0.477568</td>\n",
       "      <td>0.508268</td>\n",
       "      <td>0.674486</td>\n",
       "      <td>0.580296</td>\n",
       "      <td>0.552906</td>\n",
       "      <td>0.671234</td>\n",
       "      <td>0.608993</td>\n",
       "      <td>0.646821</td>\n",
       "      <td>0.634193</td>\n",
       "      <td>0.495304</td>\n",
       "    </tr>\n",
       "    <tr>\n",
       "      <td>MLP</td>\n",
       "      <td>0.561877</td>\n",
       "      <td>0.692310</td>\n",
       "      <td>0.546003</td>\n",
       "      <td>0.589161</td>\n",
       "      <td>0.703062</td>\n",
       "      <td>0.637042</td>\n",
       "      <td>0.615575</td>\n",
       "      <td>0.696845</td>\n",
       "      <td>0.636014</td>\n",
       "      <td>0.697360</td>\n",
       "      <td>0.695022</td>\n",
       "      <td>0.556682</td>\n",
       "    </tr>\n",
       "  </tbody>\n",
       "</table>\n",
       "</div>"
      ],
      "text/plain": [
       "                 M5        M1        M6        F6        M3        M4  \\\n",
       "MF         0.391594  0.567316  0.406197  0.340577  0.602434  0.509992   \n",
       "LR         0.505995  0.677396  0.485708  0.540568  0.682383  0.591573   \n",
       "LINEARSVC  0.491701  0.672738  0.477568  0.508268  0.674486  0.580296   \n",
       "MLP        0.561877  0.692310  0.546003  0.589161  0.703062  0.637042   \n",
       "\n",
       "                 F4        F5        F2        M2        F1        F3  \n",
       "MF         0.439536  0.630109  0.482515  0.595607  0.539715  0.436293  \n",
       "LR         0.567805  0.675286  0.614818  0.655102  0.643598  0.507518  \n",
       "LINEARSVC  0.552906  0.671234  0.608993  0.646821  0.634193  0.495304  \n",
       "MLP        0.615575  0.696845  0.636014  0.697360  0.695022  0.556682  "
      ]
     },
     "execution_count": 69,
     "metadata": {},
     "output_type": "execute_result"
    }
   ],
   "source": [
    "f1score_resultsw"
   ]
  },
  {
   "cell_type": "code",
   "execution_count": 70,
   "metadata": {
    "scrolled": true
   },
   "outputs": [
    {
     "data": {
      "text/html": [
       "<div>\n",
       "<style scoped>\n",
       "    .dataframe tbody tr th:only-of-type {\n",
       "        vertical-align: middle;\n",
       "    }\n",
       "\n",
       "    .dataframe tbody tr th {\n",
       "        vertical-align: top;\n",
       "    }\n",
       "\n",
       "    .dataframe thead th {\n",
       "        text-align: right;\n",
       "    }\n",
       "</style>\n",
       "<table border=\"1\" class=\"dataframe\">\n",
       "  <thead>\n",
       "    <tr style=\"text-align: right;\">\n",
       "      <th></th>\n",
       "      <th>M5</th>\n",
       "      <th>M1</th>\n",
       "      <th>M6</th>\n",
       "      <th>F6</th>\n",
       "      <th>M3</th>\n",
       "      <th>M4</th>\n",
       "      <th>F4</th>\n",
       "      <th>F5</th>\n",
       "      <th>F2</th>\n",
       "      <th>M2</th>\n",
       "      <th>F1</th>\n",
       "      <th>F3</th>\n",
       "    </tr>\n",
       "  </thead>\n",
       "  <tbody>\n",
       "    <tr>\n",
       "      <td>MF</td>\n",
       "      <td>0.177646</td>\n",
       "      <td>0.204664</td>\n",
       "      <td>0.180207</td>\n",
       "      <td>0.168104</td>\n",
       "      <td>0.209257</td>\n",
       "      <td>0.196660</td>\n",
       "      <td>0.185808</td>\n",
       "      <td>0.212728</td>\n",
       "      <td>0.192573</td>\n",
       "      <td>0.208381</td>\n",
       "      <td>0.200893</td>\n",
       "      <td>0.185278</td>\n",
       "    </tr>\n",
       "    <tr>\n",
       "      <td>LR</td>\n",
       "      <td>0.284658</td>\n",
       "      <td>0.326942</td>\n",
       "      <td>0.266852</td>\n",
       "      <td>0.371985</td>\n",
       "      <td>0.330745</td>\n",
       "      <td>0.304160</td>\n",
       "      <td>0.346960</td>\n",
       "      <td>0.294187</td>\n",
       "      <td>0.355745</td>\n",
       "      <td>0.291736</td>\n",
       "      <td>0.317628</td>\n",
       "      <td>0.261730</td>\n",
       "    </tr>\n",
       "    <tr>\n",
       "      <td>LINEARSVC</td>\n",
       "      <td>0.270037</td>\n",
       "      <td>0.318224</td>\n",
       "      <td>0.257984</td>\n",
       "      <td>0.328532</td>\n",
       "      <td>0.314994</td>\n",
       "      <td>0.286163</td>\n",
       "      <td>0.328797</td>\n",
       "      <td>0.285766</td>\n",
       "      <td>0.342063</td>\n",
       "      <td>0.277859</td>\n",
       "      <td>0.302890</td>\n",
       "      <td>0.247748</td>\n",
       "    </tr>\n",
       "    <tr>\n",
       "      <td>MLP</td>\n",
       "      <td>0.371762</td>\n",
       "      <td>0.383213</td>\n",
       "      <td>0.356508</td>\n",
       "      <td>0.454201</td>\n",
       "      <td>0.397141</td>\n",
       "      <td>0.388267</td>\n",
       "      <td>0.414366</td>\n",
       "      <td>0.364524</td>\n",
       "      <td>0.435664</td>\n",
       "      <td>0.375289</td>\n",
       "      <td>0.443910</td>\n",
       "      <td>0.339572</td>\n",
       "    </tr>\n",
       "  </tbody>\n",
       "</table>\n",
       "</div>"
      ],
      "text/plain": [
       "                 M5        M1        M6        F6        M3        M4  \\\n",
       "MF         0.177646  0.204664  0.180207  0.168104  0.209257  0.196660   \n",
       "LR         0.284658  0.326942  0.266852  0.371985  0.330745  0.304160   \n",
       "LINEARSVC  0.270037  0.318224  0.257984  0.328532  0.314994  0.286163   \n",
       "MLP        0.371762  0.383213  0.356508  0.454201  0.397141  0.388267   \n",
       "\n",
       "                 F4        F5        F2        M2        F1        F3  \n",
       "MF         0.185808  0.212728  0.192573  0.208381  0.200893  0.185278  \n",
       "LR         0.346960  0.294187  0.355745  0.291736  0.317628  0.261730  \n",
       "LINEARSVC  0.328797  0.285766  0.342063  0.277859  0.302890  0.247748  \n",
       "MLP        0.414366  0.364524  0.435664  0.375289  0.443910  0.339572  "
      ]
     },
     "execution_count": 70,
     "metadata": {},
     "output_type": "execute_result"
    }
   ],
   "source": [
    "f1score_results"
   ]
  },
  {
   "cell_type": "code",
   "execution_count": 71,
   "metadata": {},
   "outputs": [
    {
     "data": {
      "text/html": [
       "<div>\n",
       "<style scoped>\n",
       "    .dataframe tbody tr th:only-of-type {\n",
       "        vertical-align: middle;\n",
       "    }\n",
       "\n",
       "    .dataframe tbody tr th {\n",
       "        vertical-align: top;\n",
       "    }\n",
       "\n",
       "    .dataframe thead th {\n",
       "        text-align: right;\n",
       "    }\n",
       "</style>\n",
       "<table border=\"1\" class=\"dataframe\">\n",
       "  <thead>\n",
       "    <tr style=\"text-align: right;\">\n",
       "      <th></th>\n",
       "      <th>MF</th>\n",
       "      <th>LR</th>\n",
       "      <th>LINEARSVC</th>\n",
       "      <th>MLP</th>\n",
       "    </tr>\n",
       "  </thead>\n",
       "  <tbody>\n",
       "    <tr>\n",
       "      <td>count</td>\n",
       "      <td>12.000000</td>\n",
       "      <td>12.000000</td>\n",
       "      <td>12.000000</td>\n",
       "      <td>12.000000</td>\n",
       "    </tr>\n",
       "    <tr>\n",
       "      <td>mean</td>\n",
       "      <td>0.634612</td>\n",
       "      <td>0.668456</td>\n",
       "      <td>0.664765</td>\n",
       "      <td>0.678833</td>\n",
       "    </tr>\n",
       "    <tr>\n",
       "      <td>std</td>\n",
       "      <td>0.075262</td>\n",
       "      <td>0.061341</td>\n",
       "      <td>0.064189</td>\n",
       "      <td>0.052820</td>\n",
       "    </tr>\n",
       "    <tr>\n",
       "      <td>min</td>\n",
       "      <td>0.506497</td>\n",
       "      <td>0.581418</td>\n",
       "      <td>0.575797</td>\n",
       "      <td>0.606182</td>\n",
       "    </tr>\n",
       "    <tr>\n",
       "      <td>25%</td>\n",
       "      <td>0.582404</td>\n",
       "      <td>0.610661</td>\n",
       "      <td>0.605241</td>\n",
       "      <td>0.631131</td>\n",
       "    </tr>\n",
       "    <tr>\n",
       "      <td>50%</td>\n",
       "      <td>0.637360</td>\n",
       "      <td>0.665663</td>\n",
       "      <td>0.665091</td>\n",
       "      <td>0.673971</td>\n",
       "    </tr>\n",
       "    <tr>\n",
       "      <td>75%</td>\n",
       "      <td>0.698381</td>\n",
       "      <td>0.723924</td>\n",
       "      <td>0.723654</td>\n",
       "      <td>0.727782</td>\n",
       "    </tr>\n",
       "    <tr>\n",
       "      <td>max</td>\n",
       "      <td>0.740511</td>\n",
       "      <td>0.750076</td>\n",
       "      <td>0.749406</td>\n",
       "      <td>0.745507</td>\n",
       "    </tr>\n",
       "  </tbody>\n",
       "</table>\n",
       "</div>"
      ],
      "text/plain": [
       "              MF         LR  LINEARSVC        MLP\n",
       "count  12.000000  12.000000  12.000000  12.000000\n",
       "mean    0.634612   0.668456   0.664765   0.678833\n",
       "std     0.075262   0.061341   0.064189   0.052820\n",
       "min     0.506497   0.581418   0.575797   0.606182\n",
       "25%     0.582404   0.610661   0.605241   0.631131\n",
       "50%     0.637360   0.665663   0.665091   0.673971\n",
       "75%     0.698381   0.723924   0.723654   0.727782\n",
       "max     0.740511   0.750076   0.749406   0.745507"
      ]
     },
     "execution_count": 71,
     "metadata": {},
     "output_type": "execute_result"
    }
   ],
   "source": [
    "accuracy_results.T.describe()"
   ]
  },
  {
   "cell_type": "code",
   "execution_count": 72,
   "metadata": {},
   "outputs": [
    {
     "data": {
      "text/html": [
       "<div>\n",
       "<style scoped>\n",
       "    .dataframe tbody tr th:only-of-type {\n",
       "        vertical-align: middle;\n",
       "    }\n",
       "\n",
       "    .dataframe tbody tr th {\n",
       "        vertical-align: top;\n",
       "    }\n",
       "\n",
       "    .dataframe thead th {\n",
       "        text-align: right;\n",
       "    }\n",
       "</style>\n",
       "<table border=\"1\" class=\"dataframe\">\n",
       "  <thead>\n",
       "    <tr style=\"text-align: right;\">\n",
       "      <th></th>\n",
       "      <th>MF</th>\n",
       "      <th>LR</th>\n",
       "      <th>LINEARSVC</th>\n",
       "      <th>MLP</th>\n",
       "    </tr>\n",
       "  </thead>\n",
       "  <tbody>\n",
       "    <tr>\n",
       "      <td>count</td>\n",
       "      <td>12.000000</td>\n",
       "      <td>12.000000</td>\n",
       "      <td>12.000000</td>\n",
       "      <td>12.000000</td>\n",
       "    </tr>\n",
       "    <tr>\n",
       "      <td>mean</td>\n",
       "      <td>0.193517</td>\n",
       "      <td>0.312777</td>\n",
       "      <td>0.296755</td>\n",
       "      <td>0.393701</td>\n",
       "    </tr>\n",
       "    <tr>\n",
       "      <td>std</td>\n",
       "      <td>0.014236</td>\n",
       "      <td>0.034949</td>\n",
       "      <td>0.030345</td>\n",
       "      <td>0.036314</td>\n",
       "    </tr>\n",
       "    <tr>\n",
       "      <td>min</td>\n",
       "      <td>0.168104</td>\n",
       "      <td>0.261730</td>\n",
       "      <td>0.247748</td>\n",
       "      <td>0.339572</td>\n",
       "    </tr>\n",
       "    <tr>\n",
       "      <td>25%</td>\n",
       "      <td>0.184010</td>\n",
       "      <td>0.289966</td>\n",
       "      <td>0.275904</td>\n",
       "      <td>0.369952</td>\n",
       "    </tr>\n",
       "    <tr>\n",
       "      <td>50%</td>\n",
       "      <td>0.194617</td>\n",
       "      <td>0.310894</td>\n",
       "      <td>0.294526</td>\n",
       "      <td>0.385740</td>\n",
       "    </tr>\n",
       "    <tr>\n",
       "      <td>75%</td>\n",
       "      <td>0.205593</td>\n",
       "      <td>0.334799</td>\n",
       "      <td>0.320801</td>\n",
       "      <td>0.419691</td>\n",
       "    </tr>\n",
       "    <tr>\n",
       "      <td>max</td>\n",
       "      <td>0.212728</td>\n",
       "      <td>0.371985</td>\n",
       "      <td>0.342063</td>\n",
       "      <td>0.454201</td>\n",
       "    </tr>\n",
       "  </tbody>\n",
       "</table>\n",
       "</div>"
      ],
      "text/plain": [
       "              MF         LR  LINEARSVC        MLP\n",
       "count  12.000000  12.000000  12.000000  12.000000\n",
       "mean    0.193517   0.312777   0.296755   0.393701\n",
       "std     0.014236   0.034949   0.030345   0.036314\n",
       "min     0.168104   0.261730   0.247748   0.339572\n",
       "25%     0.184010   0.289966   0.275904   0.369952\n",
       "50%     0.194617   0.310894   0.294526   0.385740\n",
       "75%     0.205593   0.334799   0.320801   0.419691\n",
       "max     0.212728   0.371985   0.342063   0.454201"
      ]
     },
     "execution_count": 72,
     "metadata": {},
     "output_type": "execute_result"
    }
   ],
   "source": [
    "f1score_results.T.describe()"
   ]
  },
  {
   "cell_type": "code",
   "execution_count": null,
   "metadata": {},
   "outputs": [],
   "source": []
  },
  {
   "cell_type": "code",
   "execution_count": null,
   "metadata": {},
   "outputs": [],
   "source": []
  }
 ],
 "metadata": {
  "kernelspec": {
   "display_name": "Python 3",
   "language": "python",
   "name": "python3"
  },
  "language_info": {
   "codemirror_mode": {
    "name": "ipython",
    "version": 3
   },
   "file_extension": ".py",
   "mimetype": "text/x-python",
   "name": "python",
   "nbconvert_exporter": "python",
   "pygments_lexer": "ipython3",
   "version": "3.7.4"
  }
 },
 "nbformat": 4,
 "nbformat_minor": 4
}

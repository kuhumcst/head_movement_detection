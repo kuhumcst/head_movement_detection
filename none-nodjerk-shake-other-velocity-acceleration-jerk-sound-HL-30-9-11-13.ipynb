{
 "cells": [
  {
   "cell_type": "markdown",
   "metadata": {},
   "source": [
    "## Real experiments for head movements"
   ]
  },
  {
   "cell_type": "code",
   "execution_count": 1,
   "metadata": {},
   "outputs": [],
   "source": [
    "import pandas as pd\n",
    "import numpy as np\n",
    "import matplotlib.pyplot as plt\n",
    "from sklearn.preprocessing import MinMaxScaler\n",
    "%matplotlib inline"
   ]
  },
  {
   "cell_type": "code",
   "execution_count": 2,
   "metadata": {},
   "outputs": [
    {
     "name": "stderr",
     "output_type": "stream",
     "text": [
      "C:\\ProgramData\\Anaconda3\\lib\\site-packages\\sklearn\\externals\\six.py:31: DeprecationWarning: The module is deprecated in version 0.21 and will be removed in version 0.23 since we've dropped support for Python 2.7. Please rely on the official version of six (https://pypi.org/project/six/).\n",
      "  \"(https://pypi.org/project/six/).\", DeprecationWarning)\n"
     ]
    }
   ],
   "source": [
    "from sklearn.model_selection import StratifiedKFold\n",
    "from sklearn.model_selection import KFold\n",
    "from sklearn.linear_model import LogisticRegression\n",
    "from sklearn.metrics import confusion_matrix, accuracy_score,f1_score\n",
    "from sklearn.neural_network import MLPClassifier\n",
    "from sklearn.svm import SVC,LinearSVC\n",
    "from sklearn.dummy import DummyClassifier\n",
    "from seqlearn.perceptron import StructuredPerceptron\n",
    "import sklearn_crfsuite\n",
    "from sklearn_crfsuite import metrics as skcrfmetrics\n",
    "from scipy.stats import pearsonr,spearmanr"
   ]
  },
  {
   "cell_type": "code",
   "execution_count": 3,
   "metadata": {},
   "outputs": [],
   "source": [
    "import glob"
   ]
  },
  {
   "cell_type": "code",
   "execution_count": 4,
   "metadata": {},
   "outputs": [
    {
     "data": {
      "text/plain": [
       "'C:\\\\Users\\\\zgk261\\\\nomco\\\\9-11-13\\\\middle\\\\'"
      ]
     },
     "execution_count": 4,
     "metadata": {},
     "output_type": "execute_result"
    }
   ],
   "source": [
    "windowsize=\"9-11-13\"\n",
    "memory=\"middle\"\n",
    "\n",
    "PATH = \"C:\\\\Users\\\\zgk261\\\\nomco\\\\\"+windowsize+\"\\\\\"+memory+\"\\\\\"\n",
    "PATH"
   ]
  },
  {
   "cell_type": "code",
   "execution_count": 5,
   "metadata": {},
   "outputs": [
    {
     "name": "stdout",
     "output_type": "stream",
     "text": [
      "F2_M4-all-final2_primary_F2.T-Tilt-ST-SideTurn-HO-HeadOther-S-Shake-W-Waggle-N-Nod-J-Jerk-HB-HeadBackward-HF-HeadForward--rdXY.svm.9-11-13-middle.tab\n",
      "F2_M4-all-final2_primary_M4.T-Tilt-ST-SideTurn-HO-HeadOther-S-Shake-W-Waggle-N-Nod-J-Jerk-HB-HeadBackward-HF-HeadForward--rdXY.svm.9-11-13-middle.tab\n",
      "F3_F6-all-final2_primary_F3.T-Tilt-ST-SideTurn-HO-HeadOther-S-Shake-W-Waggle-N-Nod-J-Jerk-HB-HeadBackward-HF-HeadForward--rdXY.svm.9-11-13-middle.tab\n",
      "F3_F6-all-final2_primary_F6.T-Tilt-ST-SideTurn-HO-HeadOther-S-Shake-W-Waggle-N-Nod-J-Jerk-HB-HeadBackward-HF-HeadForward--rdXY.svm.9-11-13-middle.tab\n",
      "F4_F1-all-final2_primary_F1.T-Tilt-ST-SideTurn-HO-HeadOther-S-Shake-W-Waggle-N-Nod-J-Jerk-HB-HeadBackward-HF-HeadForward--rdXY.svm.9-11-13-middle.tab\n",
      "F4_F1-all-final2_primary_F4.T-Tilt-ST-SideTurn-HO-HeadOther-S-Shake-W-Waggle-N-Nod-J-Jerk-HB-HeadBackward-HF-HeadForward--rdXY.svm.9-11-13-middle.tab\n",
      "F5_F2-all-final2_primary_F2.T-Tilt-ST-SideTurn-HO-HeadOther-S-Shake-W-Waggle-N-Nod-J-Jerk-HB-HeadBackward-HF-HeadForward--rdXY.svm.9-11-13-middle.tab\n",
      "F5_F2-all-final2_primary_F5.T-Tilt-ST-SideTurn-HO-HeadOther-S-Shake-W-Waggle-N-Nod-J-Jerk-HB-HeadBackward-HF-HeadForward--rdXY.svm.9-11-13-middle.tab\n",
      "F5_M3-all-final2_primary_F5.T-Tilt-ST-SideTurn-HO-HeadOther-S-Shake-W-Waggle-N-Nod-J-Jerk-HB-HeadBackward-HF-HeadForward--rdXY.svm.9-11-13-middle.tab\n",
      "F5_M3-all-final2_primary_M3.T-Tilt-ST-SideTurn-HO-HeadOther-S-Shake-W-Waggle-N-Nod-J-Jerk-HB-HeadBackward-HF-HeadForward--rdXY.svm.9-11-13-middle.tab\n",
      "F6_M2-all-final2_primary_F6.T-Tilt-ST-SideTurn-HO-HeadOther-S-Shake-W-Waggle-N-Nod-J-Jerk-HB-HeadBackward-HF-HeadForward--rdXY.svm.9-11-13-middle.tab\n",
      "F6_M2-all-final2_primary_M2.T-Tilt-ST-SideTurn-HO-HeadOther-S-Shake-W-Waggle-N-Nod-J-Jerk-HB-HeadBackward-HF-HeadForward--rdXY.svm.9-11-13-middle.tab\n",
      "M1_F4-all-final2_primary_F4.T-Tilt-ST-SideTurn-HO-HeadOther-S-Shake-W-Waggle-N-Nod-J-Jerk-HB-HeadBackward-HF-HeadForward--rdXY.svm.9-11-13-middle.tab\n",
      "M1_F4-all-final2_primary_M1.T-Tilt-ST-SideTurn-HO-HeadOther-S-Shake-W-Waggle-N-Nod-J-Jerk-HB-HeadBackward-HF-HeadForward--rdXY.svm.9-11-13-middle.tab\n",
      "M1_M5-all-final2_primary_M1.T-Tilt-ST-SideTurn-HO-HeadOther-S-Shake-W-Waggle-N-Nod-J-Jerk-HB-HeadBackward-HF-HeadForward--rdXY.svm.9-11-13-middle.tab\n",
      "M1_M5-all-final2_primary_M5.T-Tilt-ST-SideTurn-HO-HeadOther-S-Shake-W-Waggle-N-Nod-J-Jerk-HB-HeadBackward-HF-HeadForward--rdXY.svm.9-11-13-middle.tab\n",
      "M2_M4-all-final2_primary_M2.T-Tilt-ST-SideTurn-HO-HeadOther-S-Shake-W-Waggle-N-Nod-J-Jerk-HB-HeadBackward-HF-HeadForward--rdXY.svm.9-11-13-middle.tab\n",
      "M2_M4-all-final2_primary_M4.T-Tilt-ST-SideTurn-HO-HeadOther-S-Shake-W-Waggle-N-Nod-J-Jerk-HB-HeadBackward-HF-HeadForward--rdXY.svm.9-11-13-middle.tab\n",
      "M3_M6-all-final2_primary_M3.T-Tilt-ST-SideTurn-HO-HeadOther-S-Shake-W-Waggle-N-Nod-J-Jerk-HB-HeadBackward-HF-HeadForward--rdXY.svm.9-11-13-middle.tab\n",
      "M3_M6-all-final2_primary_M6.T-Tilt-ST-SideTurn-HO-HeadOther-S-Shake-W-Waggle-N-Nod-J-Jerk-HB-HeadBackward-HF-HeadForward--rdXY.svm.9-11-13-middle.tab\n",
      "M5_F3-all-final2_primary_F3.T-Tilt-ST-SideTurn-HO-HeadOther-S-Shake-W-Waggle-N-Nod-J-Jerk-HB-HeadBackward-HF-HeadForward--rdXY.svm.9-11-13-middle.tab\n",
      "M5_F3-all-final2_primary_M5.T-Tilt-ST-SideTurn-HO-HeadOther-S-Shake-W-Waggle-N-Nod-J-Jerk-HB-HeadBackward-HF-HeadForward--rdXY.svm.9-11-13-middle.tab\n",
      "M6_F1-all-final2_primary_F1.T-Tilt-ST-SideTurn-HO-HeadOther-S-Shake-W-Waggle-N-Nod-J-Jerk-HB-HeadBackward-HF-HeadForward--rdXY.svm.9-11-13-middle.tab\n",
      "M6_F1-all-final2_primary_M6.T-Tilt-ST-SideTurn-HO-HeadOther-S-Shake-W-Waggle-N-Nod-J-Jerk-HB-HeadBackward-HF-HeadForward--rdXY.svm.9-11-13-middle.tab\n"
     ]
    }
   ],
   "source": [
    "!dir /B C:\\Users\\zgk261\\nomco\\9-11-13\\middle\\"
   ]
  },
  {
   "cell_type": "markdown",
   "metadata": {},
   "source": [
    "### SKELETON TO READ FILES, SPEAKERS and PRIMARY SPEAKERS\n"
   ]
  },
  {
   "cell_type": "code",
   "execution_count": 6,
   "metadata": {},
   "outputs": [],
   "source": [
    "speaker_set = set()\n",
    "\n",
    "for each_file in glob.glob(PATH+\"*.tab\"):\n",
    "    filename=each_file.split(\"\\\\\")[-1]\n",
    "    fileinfo=filename.split(\"-\")\n",
    "    \n",
    "    primary_speaker = fileinfo[2].split(\"_\")[-1][:-2] #fileinfo[2] = final2_primary_M1.T\n",
    "    speakers = fileinfo[0]\n",
    "    l_speaker,r_speaker = speakers.split(\"_\")\n",
    "\n",
    "    speaker_set.add(primary_speaker)"
   ]
  },
  {
   "cell_type": "code",
   "execution_count": 7,
   "metadata": {},
   "outputs": [
    {
     "data": {
      "text/plain": [
       "{'F1', 'F2', 'F3', 'F4', 'F5', 'F6', 'M1', 'M2', 'M3', 'M4', 'M5', 'M6'}"
      ]
     },
     "execution_count": 7,
     "metadata": {},
     "output_type": "execute_result"
    }
   ],
   "source": [
    "speaker_set"
   ]
  },
  {
   "cell_type": "markdown",
   "metadata": {},
   "source": [
    "### SKELETON TO READ FILES AND COSS_VALIDATE\n",
    "\n",
    "In the following way: In each iteration, we will leave one speaker out (two files), train a model and test on those two files."
   ]
  },
  {
   "cell_type": "code",
   "execution_count": 8,
   "metadata": {
    "scrolled": true
   },
   "outputs": [
    {
     "name": "stdout",
     "output_type": "stream",
     "text": [
      "Speaker on focus: F5\n",
      "Training data size: (181647, 28)\n",
      "Testing data size: (16413, 28)\n",
      "\n",
      "Speaker on focus: F6\n",
      "Training data size: (182822, 28)\n",
      "Testing data size: (15238, 28)\n",
      "\n",
      "Speaker on focus: M2\n",
      "Training data size: (182715, 28)\n",
      "Testing data size: (15345, 28)\n",
      "\n",
      "Speaker on focus: M4\n",
      "Training data size: (181548, 28)\n",
      "Testing data size: (16512, 28)\n",
      "\n",
      "Speaker on focus: F1\n",
      "Training data size: (181919, 28)\n",
      "Testing data size: (16141, 28)\n",
      "\n",
      "Speaker on focus: F3\n",
      "Training data size: (181651, 28)\n",
      "Testing data size: (16409, 28)\n",
      "\n",
      "Speaker on focus: M3\n",
      "Training data size: (181426, 28)\n",
      "Testing data size: (16634, 28)\n",
      "\n",
      "Speaker on focus: M5\n",
      "Training data size: (180649, 28)\n",
      "Testing data size: (17411, 28)\n",
      "\n",
      "Speaker on focus: M1\n",
      "Training data size: (180025, 28)\n",
      "Testing data size: (18035, 28)\n",
      "\n",
      "Speaker on focus: F2\n",
      "Training data size: (181593, 28)\n",
      "Testing data size: (16467, 28)\n",
      "\n",
      "Speaker on focus: F4\n",
      "Training data size: (181137, 28)\n",
      "Testing data size: (16923, 28)\n",
      "\n",
      "Speaker on focus: M6\n",
      "Training data size: (181528, 28)\n",
      "Testing data size: (16532, 28)\n",
      "\n"
     ]
    }
   ],
   "source": [
    "\n",
    "for speaker_on_focus in speaker_set:\n",
    "    train_files = []\n",
    "    test_files  = []\n",
    "    \n",
    "    for each_file in glob.glob(PATH+\"*.tab\"):\n",
    "        filename=each_file.split(\"\\\\\")[-1]\n",
    "        fileinfo=filename.split(\"-\")\n",
    "\n",
    "        primary_speaker = fileinfo[2].split(\"_\")[-1][:-2] #fileinfo[2] = final2_primary_M1.T\n",
    "        speakers = fileinfo[0]\n",
    "        l_speaker,r_speaker = speakers.split(\"_\")\n",
    "        if primary_speaker == l_speaker:\n",
    "            secondary_speaker = r_speaker\n",
    "        else:\n",
    "            secondary_speaker = l_speaker\n",
    "\n",
    "        #print (primary_speaker,l_speaker,r_speaker,speaker_on_focus)\n",
    "\n",
    "        file_df = pd.read_csv(each_file,sep=\"\\t\")\n",
    "        file_df.columns = [el.replace(primary_speaker, \"PRIMA\").replace(secondary_speaker, \"SECON\") for el in file_df.columns]\n",
    "\n",
    "        if primary_speaker != speaker_on_focus:\n",
    "            #FILES TO TRAIN!\n",
    "            train_files.append(file_df)\n",
    "        else:\n",
    "            #FILES TO TEST!\n",
    "            test_files.append(file_df)\n",
    "            \n",
    "        \n",
    "        \n",
    "    training_data = pd.concat(train_files, ignore_index=True)\n",
    "    testing_data = pd.concat(test_files, ignore_index=True)\n",
    "    print (\"Speaker on focus:\",speaker_on_focus)\n",
    "    print (\"Training data size:\",training_data.shape)\n",
    "    print (\"Testing data size:\",testing_data.shape)\n",
    "    print ()\n"
   ]
  },
  {
   "cell_type": "markdown",
   "metadata": {},
   "source": [
    "### Experiments:\n",
    "\n",
    "It seems that in the 3-6-9 experiments considering both the past and future of frames, the MLP was not the best model, but the Logistic Regression. I think, though, that the MLP will show good performance when cross-validating with the whole data.\n",
    "\n",
    "I will, then, try 3 classifiers:\n",
    "\n",
    "  * SVM, because it is the default classifier that is commonly used\n",
    "  * Logistic Regression, because it seems to perform the best in our initial experiments with two dialogue data\n",
    "  * MLP, because when including more data, I expect to estimate a more general (and thus, better) model"
   ]
  },
  {
   "cell_type": "code",
   "execution_count": 9,
   "metadata": {},
   "outputs": [
    {
     "data": {
      "text/html": [
       "<div>\n",
       "<style scoped>\n",
       "    .dataframe tbody tr th:only-of-type {\n",
       "        vertical-align: middle;\n",
       "    }\n",
       "\n",
       "    .dataframe tbody tr th {\n",
       "        vertical-align: top;\n",
       "    }\n",
       "\n",
       "    .dataframe thead th {\n",
       "        text-align: right;\n",
       "    }\n",
       "</style>\n",
       "<table border=\"1\" class=\"dataframe\">\n",
       "  <thead>\n",
       "    <tr style=\"text-align: right;\">\n",
       "      <th></th>\n",
       "      <th>F5</th>\n",
       "      <th>F6</th>\n",
       "      <th>M2</th>\n",
       "      <th>M4</th>\n",
       "      <th>F1</th>\n",
       "      <th>F3</th>\n",
       "      <th>M3</th>\n",
       "      <th>M5</th>\n",
       "      <th>M1</th>\n",
       "      <th>F2</th>\n",
       "      <th>F4</th>\n",
       "      <th>M6</th>\n",
       "    </tr>\n",
       "  </thead>\n",
       "  <tbody>\n",
       "    <tr>\n",
       "      <td>MF</td>\n",
       "      <td>0</td>\n",
       "      <td>0</td>\n",
       "      <td>0</td>\n",
       "      <td>0</td>\n",
       "      <td>0</td>\n",
       "      <td>0</td>\n",
       "      <td>0</td>\n",
       "      <td>0</td>\n",
       "      <td>0</td>\n",
       "      <td>0</td>\n",
       "      <td>0</td>\n",
       "      <td>0</td>\n",
       "    </tr>\n",
       "  </tbody>\n",
       "</table>\n",
       "</div>"
      ],
      "text/plain": [
       "    F5  F6  M2  M4  F1  F3  M3  M5  M1  F2  F4  M6\n",
       "MF   0   0   0   0   0   0   0   0   0   0   0   0"
      ]
     },
     "execution_count": 9,
     "metadata": {},
     "output_type": "execute_result"
    }
   ],
   "source": [
    "accuracy_results = pd.DataFrame(0,columns=speaker_set,index=[\"MF\"])\n",
    "accuracy_results"
   ]
  },
  {
   "cell_type": "code",
   "execution_count": 10,
   "metadata": {},
   "outputs": [],
   "source": [
    "import math\n",
    "\n",
    "def map_movements(mov_class):\n",
    "    if mov_class == \"Nod\" or mov_class == \"Jerk\":\n",
    "        return 1\n",
    "    elif mov_class == \"Shake\":\n",
    "        return 2\n",
    "    elif mov_class!=mov_class: #This returns True if the value is NAN, and it works. It might be source of errors.\n",
    "        return 0\n",
    "    else:\n",
    "        return 3\n",
    "\n"
   ]
  },
  {
   "cell_type": "code",
   "execution_count": 11,
   "metadata": {
    "scrolled": true
   },
   "outputs": [
    {
     "name": "stdout",
     "output_type": "stream",
     "text": [
      "Speaker on focus: F5\n",
      "Training data size: (181647, 28)\n",
      "Testing data size: (16413, 28)\n",
      "\n",
      "Trying classifier  MF F5\n"
     ]
    },
    {
     "name": "stderr",
     "output_type": "stream",
     "text": [
      "C:\\ProgramData\\Anaconda3\\lib\\site-packages\\sklearn\\metrics\\classification.py:1437: UndefinedMetricWarning: F-score is ill-defined and being set to 0.0 in labels with no predicted samples.\n",
      "  'precision', 'predicted', average, warn_for)\n"
     ]
    },
    {
     "name": "stdout",
     "output_type": "stream",
     "text": [
      "[[12154     0     0     0]\n",
      " [ 1330     0     0     0]\n",
      " [  914     0     0     0]\n",
      " [ 2015     0     0     0]]\n",
      "0.7405105708889295\n",
      "0.21272797283578954\n",
      "0.6301092504347008\n",
      "\n",
      "Trying classifier  LR F5\n"
     ]
    },
    {
     "name": "stderr",
     "output_type": "stream",
     "text": [
      "C:\\ProgramData\\Anaconda3\\lib\\site-packages\\sklearn\\linear_model\\logistic.py:469: FutureWarning: Default multi_class will be changed to 'auto' in 0.22. Specify the multi_class option to silence this warning.\n",
      "  \"this warning.\", FutureWarning)\n",
      "C:\\ProgramData\\Anaconda3\\lib\\site-packages\\sklearn\\metrics\\classification.py:1437: UndefinedMetricWarning: F-score is ill-defined and being set to 0.0 in labels with no predicted samples.\n",
      "  'precision', 'predicted', average, warn_for)\n"
     ]
    },
    {
     "name": "stdout",
     "output_type": "stream",
     "text": [
      "[[11829    20     0   305]\n",
      " [ 1193    13     0   124]\n",
      " [  784     8     0   122]\n",
      " [ 1678    14     0   323]]\n",
      "0.7411807713397917\n",
      "0.27459367905665444\n",
      "0.6628467002145769\n",
      "\n",
      "Trying classifier  LINEARSVC F5\n"
     ]
    },
    {
     "name": "stderr",
     "output_type": "stream",
     "text": [
      "C:\\ProgramData\\Anaconda3\\lib\\site-packages\\sklearn\\metrics\\classification.py:1437: UndefinedMetricWarning: F-score is ill-defined and being set to 0.0 in labels with no predicted samples.\n",
      "  'precision', 'predicted', average, warn_for)\n"
     ]
    },
    {
     "name": "stdout",
     "output_type": "stream",
     "text": [
      "[[11883    13     0   258]\n",
      " [ 1203     8     0   119]\n",
      " [  794     7     0   113]\n",
      " [ 1721    15     0   279]]\n",
      "0.7414854079083654\n",
      "0.2670906241188322\n",
      "0.6596339519750344\n",
      "\n",
      "Trying classifier  MLP F5\n"
     ]
    },
    {
     "name": "stderr",
     "output_type": "stream",
     "text": [
      "C:\\ProgramData\\Anaconda3\\lib\\site-packages\\sklearn\\neural_network\\multilayer_perceptron.py:566: ConvergenceWarning: Stochastic Optimizer: Maximum iterations (200) reached and the optimization hasn't converged yet.\n",
      "  % self.max_iter, ConvergenceWarning)\n"
     ]
    },
    {
     "name": "stdout",
     "output_type": "stream",
     "text": [
      "[[11439   105    14   596]\n",
      " [ 1082    85     4   159]\n",
      " [  726     4    53   131]\n",
      " [ 1386    48    19   562]]\n",
      "0.7395966611832084\n",
      "0.3480913140500055\n",
      "0.6869386012794754\n",
      "\n",
      "Speaker on focus: F6\n",
      "Training data size: (182822, 28)\n",
      "Testing data size: (15238, 28)\n",
      "\n",
      "Trying classifier  MF F6\n"
     ]
    },
    {
     "name": "stderr",
     "output_type": "stream",
     "text": [
      "C:\\ProgramData\\Anaconda3\\lib\\site-packages\\sklearn\\metrics\\classification.py:1437: UndefinedMetricWarning: F-score is ill-defined and being set to 0.0 in labels with no predicted samples.\n",
      "  'precision', 'predicted', average, warn_for)\n"
     ]
    },
    {
     "name": "stdout",
     "output_type": "stream",
     "text": [
      "[[7718    0    0    0]\n",
      " [3393    0    0    0]\n",
      " [ 435    0    0    0]\n",
      " [3692    0    0    0]]\n",
      "0.5064969156057225\n",
      "0.16810419933786372\n",
      "0.34057703385999005\n",
      "\n",
      "Trying classifier  LR F6\n"
     ]
    },
    {
     "name": "stderr",
     "output_type": "stream",
     "text": [
      "C:\\ProgramData\\Anaconda3\\lib\\site-packages\\sklearn\\linear_model\\logistic.py:469: FutureWarning: Default multi_class will be changed to 'auto' in 0.22. Specify the multi_class option to silence this warning.\n",
      "  \"this warning.\", FutureWarning)\n"
     ]
    },
    {
     "name": "stdout",
     "output_type": "stream",
     "text": [
      "[[6948   74    0  696]\n",
      " [1863  398    0 1132]\n",
      " [ 263   36    3  133]\n",
      " [2250  108    0 1334]]\n",
      "0.5698254364089775\n",
      "0.3309647934992843\n",
      "0.50673966118877\n",
      "\n",
      "Trying classifier  LINEARSVC F6\n"
     ]
    },
    {
     "name": "stderr",
     "output_type": "stream",
     "text": [
      "C:\\ProgramData\\Anaconda3\\lib\\site-packages\\sklearn\\metrics\\classification.py:1437: UndefinedMetricWarning: F-score is ill-defined and being set to 0.0 in labels with no predicted samples.\n",
      "  'precision', 'predicted', average, warn_for)\n"
     ]
    },
    {
     "name": "stdout",
     "output_type": "stream",
     "text": [
      "[[7037   26    0  655]\n",
      " [1954  180    0 1259]\n",
      " [ 275   18    0  142]\n",
      " [2381   37    0 1274]]\n",
      "0.5572253576584854\n",
      "0.29703921534644917\n",
      "0.4779638795082593\n",
      "\n",
      "Trying classifier  MLP F6\n"
     ]
    },
    {
     "name": "stderr",
     "output_type": "stream",
     "text": [
      "C:\\ProgramData\\Anaconda3\\lib\\site-packages\\sklearn\\neural_network\\multilayer_perceptron.py:566: ConvergenceWarning: Stochastic Optimizer: Maximum iterations (200) reached and the optimization hasn't converged yet.\n",
      "  % self.max_iter, ConvergenceWarning)\n"
     ]
    },
    {
     "name": "stdout",
     "output_type": "stream",
     "text": [
      "[[6022  428   48 1220]\n",
      " [1297 1245   31  820]\n",
      " [ 147   10   84  194]\n",
      " [1475  407   97 1713]]\n",
      "0.5948287176794855\n",
      "0.4668295395720445\n",
      "0.5828676627799465\n",
      "\n",
      "Speaker on focus: M2\n",
      "Training data size: (182715, 28)\n",
      "Testing data size: (15345, 28)\n",
      "\n",
      "Trying classifier  MF M2\n"
     ]
    },
    {
     "name": "stderr",
     "output_type": "stream",
     "text": [
      "C:\\ProgramData\\Anaconda3\\lib\\site-packages\\sklearn\\metrics\\classification.py:1437: UndefinedMetricWarning: F-score is ill-defined and being set to 0.0 in labels with no predicted samples.\n",
      "  'precision', 'predicted', average, warn_for)\n"
     ]
    },
    {
     "name": "stdout",
     "output_type": "stream",
     "text": [
      "[[10965     0     0     0]\n",
      " [ 1608     0     0     0]\n",
      " [  156     0     0     0]\n",
      " [ 2616     0     0     0]]\n",
      "0.7145650048875856\n",
      "0.20838084378563285\n",
      "0.5956066346326397\n",
      "\n",
      "Trying classifier  LR M2\n"
     ]
    },
    {
     "name": "stderr",
     "output_type": "stream",
     "text": [
      "C:\\ProgramData\\Anaconda3\\lib\\site-packages\\sklearn\\linear_model\\logistic.py:469: FutureWarning: Default multi_class will be changed to 'auto' in 0.22. Specify the multi_class option to silence this warning.\n",
      "  \"this warning.\", FutureWarning)\n",
      "C:\\ProgramData\\Anaconda3\\lib\\site-packages\\sklearn\\metrics\\classification.py:1437: UndefinedMetricWarning: F-score is ill-defined and being set to 0.0 in labels with no predicted samples.\n",
      "  'precision', 'predicted', average, warn_for)\n"
     ]
    },
    {
     "name": "stdout",
     "output_type": "stream",
     "text": [
      "[[10831    15     0   119]\n",
      " [ 1463    36     0   109]\n",
      " [  141     2     0    13]\n",
      " [ 2264     7     0   345]]\n",
      "0.7306614532420984\n",
      "0.2756793767187648\n",
      "0.6443968401908097\n",
      "\n",
      "Trying classifier  LINEARSVC M2\n"
     ]
    },
    {
     "name": "stderr",
     "output_type": "stream",
     "text": [
      "C:\\ProgramData\\Anaconda3\\lib\\site-packages\\sklearn\\metrics\\classification.py:1437: UndefinedMetricWarning: F-score is ill-defined and being set to 0.0 in labels with no predicted samples.\n",
      "  'precision', 'predicted', average, warn_for)\n"
     ]
    },
    {
     "name": "stdout",
     "output_type": "stream",
     "text": [
      "[[10851    12     0   102]\n",
      " [ 1487    18     0   103]\n",
      " [  145     1     0    10]\n",
      " [ 2311     5     0   300]]\n",
      "0.7278592375366569\n",
      "0.2640078816400494\n",
      "0.6369861033476094\n",
      "\n",
      "Trying classifier  MLP M2\n"
     ]
    },
    {
     "name": "stderr",
     "output_type": "stream",
     "text": [
      "C:\\ProgramData\\Anaconda3\\lib\\site-packages\\sklearn\\neural_network\\multilayer_perceptron.py:566: ConvergenceWarning: Stochastic Optimizer: Maximum iterations (200) reached and the optimization hasn't converged yet.\n",
      "  % self.max_iter, ConvergenceWarning)\n"
     ]
    },
    {
     "name": "stdout",
     "output_type": "stream",
     "text": [
      "[[10378    96    16   475]\n",
      " [ 1241   216     1   150]\n",
      " [  112     3     5    36]\n",
      " [ 1740    67    22   787]]\n",
      "0.742000651678071\n",
      "0.37594777440320604\n",
      "0.6962370184133646\n",
      "\n",
      "Speaker on focus: M4\n",
      "Training data size: (181548, 28)\n",
      "Testing data size: (16512, 28)\n",
      "\n",
      "Trying classifier  MF M4\n"
     ]
    },
    {
     "name": "stderr",
     "output_type": "stream",
     "text": [
      "C:\\ProgramData\\Anaconda3\\lib\\site-packages\\sklearn\\metrics\\classification.py:1437: UndefinedMetricWarning: F-score is ill-defined and being set to 0.0 in labels with no predicted samples.\n",
      "  'precision', 'predicted', average, warn_for)\n"
     ]
    },
    {
     "name": "stdout",
     "output_type": "stream",
     "text": [
      "[[10705     0     0     0]\n",
      " [ 1702     0     0     0]\n",
      " [  539     0     0     0]\n",
      " [ 3566     0     0     0]]\n",
      "0.6483163759689923\n",
      "0.19666017562552818\n",
      "0.509992049435872\n",
      "\n",
      "Trying classifier  LR M4\n"
     ]
    },
    {
     "name": "stderr",
     "output_type": "stream",
     "text": [
      "C:\\ProgramData\\Anaconda3\\lib\\site-packages\\sklearn\\linear_model\\logistic.py:469: FutureWarning: Default multi_class will be changed to 'auto' in 0.22. Specify the multi_class option to silence this warning.\n",
      "  \"this warning.\", FutureWarning)\n",
      "C:\\ProgramData\\Anaconda3\\lib\\site-packages\\sklearn\\metrics\\classification.py:1437: UndefinedMetricWarning: F-score is ill-defined and being set to 0.0 in labels with no predicted samples.\n",
      "  'precision', 'predicted', average, warn_for)\n"
     ]
    },
    {
     "name": "stdout",
     "output_type": "stream",
     "text": [
      "[[10238    22     0   445]\n",
      " [ 1365    82     0   255]\n",
      " [  449     4     0    86]\n",
      " [ 2958     7     0   601]]\n",
      "0.6613977713178295\n",
      "0.28230166045322547\n",
      "0.5779467781586729\n",
      "\n",
      "Trying classifier  LINEARSVC M4\n"
     ]
    },
    {
     "name": "stderr",
     "output_type": "stream",
     "text": [
      "C:\\ProgramData\\Anaconda3\\lib\\site-packages\\sklearn\\metrics\\classification.py:1437: UndefinedMetricWarning: F-score is ill-defined and being set to 0.0 in labels with no predicted samples.\n",
      "  'precision', 'predicted', average, warn_for)\n"
     ]
    },
    {
     "name": "stdout",
     "output_type": "stream",
     "text": [
      "[[10297    15     0   393]\n",
      " [ 1406    44     0   252]\n",
      " [  466     3     0    70]\n",
      " [ 3045     5     0   516]]\n",
      "0.6575218023255814\n",
      "0.264858084247822\n",
      "0.5667101778480078\n",
      "\n",
      "Trying classifier  MLP M4\n"
     ]
    },
    {
     "name": "stderr",
     "output_type": "stream",
     "text": [
      "C:\\ProgramData\\Anaconda3\\lib\\site-packages\\sklearn\\neural_network\\multilayer_perceptron.py:566: ConvergenceWarning: Stochastic Optimizer: Maximum iterations (200) reached and the optimization hasn't converged yet.\n",
      "  % self.max_iter, ConvergenceWarning)\n"
     ]
    },
    {
     "name": "stdout",
     "output_type": "stream",
     "text": [
      "[[9541  165   46  953]\n",
      " [1017  358   11  316]\n",
      " [ 328   13   22  176]\n",
      " [2194  187   41 1144]]\n",
      "0.6701187015503876\n",
      "0.384006550255383\n",
      "0.6330190615981359\n",
      "\n",
      "Speaker on focus: F1\n",
      "Training data size: (181919, 28)\n",
      "Testing data size: (16141, 28)\n",
      "\n",
      "Trying classifier  MF F1\n"
     ]
    },
    {
     "name": "stderr",
     "output_type": "stream",
     "text": [
      "C:\\ProgramData\\Anaconda3\\lib\\site-packages\\sklearn\\metrics\\classification.py:1437: UndefinedMetricWarning: F-score is ill-defined and being set to 0.0 in labels with no predicted samples.\n",
      "  'precision', 'predicted', average, warn_for)\n"
     ]
    },
    {
     "name": "stdout",
     "output_type": "stream",
     "text": [
      "[[10841     0     0     0]\n",
      " [  829     0     0     0]\n",
      " [  725     0     0     0]\n",
      " [ 3746     0     0     0]]\n",
      "0.6716436404188092\n",
      "0.20089318805129347\n",
      "0.5397145286324446\n",
      "\n",
      "Trying classifier  LR F1\n"
     ]
    },
    {
     "name": "stderr",
     "output_type": "stream",
     "text": [
      "C:\\ProgramData\\Anaconda3\\lib\\site-packages\\sklearn\\linear_model\\logistic.py:469: FutureWarning: Default multi_class will be changed to 'auto' in 0.22. Specify the multi_class option to silence this warning.\n",
      "  \"this warning.\", FutureWarning)\n"
     ]
    },
    {
     "name": "stdout",
     "output_type": "stream",
     "text": [
      "[[10533    27     2   279]\n",
      " [  586    40     0   203]\n",
      " [  525    15     0   185]\n",
      " [ 2870    18     1   857]]\n",
      "0.7081345641533981\n",
      "0.3105483339561178\n",
      "0.6379335665606458\n",
      "\n",
      "Trying classifier  LINEARSVC F1\n"
     ]
    },
    {
     "name": "stderr",
     "output_type": "stream",
     "text": [
      "C:\\ProgramData\\Anaconda3\\lib\\site-packages\\sklearn\\metrics\\classification.py:1437: UndefinedMetricWarning: F-score is ill-defined and being set to 0.0 in labels with no predicted samples.\n",
      "  'precision', 'predicted', average, warn_for)\n"
     ]
    },
    {
     "name": "stdout",
     "output_type": "stream",
     "text": [
      "[[10585    21     0   235]\n",
      " [  623    23     0   183]\n",
      " [  553    13     0   159]\n",
      " [ 3001    16     0   729]]\n",
      "0.7023728393531999\n",
      "0.29161314632818974\n",
      "0.6249498660907697\n",
      "\n",
      "Trying classifier  MLP F1\n"
     ]
    },
    {
     "name": "stderr",
     "output_type": "stream",
     "text": [
      "C:\\ProgramData\\Anaconda3\\lib\\site-packages\\sklearn\\neural_network\\multilayer_perceptron.py:566: ConvergenceWarning: Stochastic Optimizer: Maximum iterations (200) reached and the optimization hasn't converged yet.\n",
      "  % self.max_iter, ConvergenceWarning)\n"
     ]
    },
    {
     "name": "stdout",
     "output_type": "stream",
     "text": [
      "[[9955  110   15  761]\n",
      " [ 371  198    0  260]\n",
      " [ 371    4   69  281]\n",
      " [2013   76   53 1604]]\n",
      "0.732668360076823\n",
      "0.4532858579234891\n",
      "0.7036329699293927\n",
      "\n",
      "Speaker on focus: F3\n",
      "Training data size: (181651, 28)\n",
      "Testing data size: (16409, 28)\n",
      "\n",
      "Trying classifier  MF F3\n"
     ]
    },
    {
     "name": "stderr",
     "output_type": "stream",
     "text": [
      "C:\\ProgramData\\Anaconda3\\lib\\site-packages\\sklearn\\metrics\\classification.py:1437: UndefinedMetricWarning: F-score is ill-defined and being set to 0.0 in labels with no predicted samples.\n",
      "  'precision', 'predicted', average, warn_for)\n"
     ]
    },
    {
     "name": "stdout",
     "output_type": "stream",
     "text": [
      "[[9660    0    0    0]\n",
      " [2223    0    0    0]\n",
      " [ 847    0    0    0]\n",
      " [3679    0    0    0]]\n",
      "0.5887013224449997\n",
      "0.18527753270167632\n",
      "0.4362925140832941\n",
      "\n",
      "Trying classifier  LR F3\n"
     ]
    },
    {
     "name": "stderr",
     "output_type": "stream",
     "text": [
      "C:\\ProgramData\\Anaconda3\\lib\\site-packages\\sklearn\\linear_model\\logistic.py:469: FutureWarning: Default multi_class will be changed to 'auto' in 0.22. Specify the multi_class option to silence this warning.\n",
      "  \"this warning.\", FutureWarning)\n",
      "C:\\ProgramData\\Anaconda3\\lib\\site-packages\\sklearn\\metrics\\classification.py:1437: UndefinedMetricWarning: F-score is ill-defined and being set to 0.0 in labels with no predicted samples.\n",
      "  'precision', 'predicted', average, warn_for)\n"
     ]
    },
    {
     "name": "stdout",
     "output_type": "stream",
     "text": [
      "[[9450   27    0  183]\n",
      " [2049   41    0  133]\n",
      " [ 748   18    0   81]\n",
      " [3299   33    0  347]]\n",
      "0.5995490279724541\n",
      "0.2354353393219002\n",
      "0.4813437760530567\n",
      "\n",
      "Trying classifier  LINEARSVC F3\n"
     ]
    },
    {
     "name": "stderr",
     "output_type": "stream",
     "text": [
      "C:\\ProgramData\\Anaconda3\\lib\\site-packages\\sklearn\\metrics\\classification.py:1437: UndefinedMetricWarning: F-score is ill-defined and being set to 0.0 in labels with no predicted samples.\n",
      "  'precision', 'predicted', average, warn_for)\n"
     ]
    },
    {
     "name": "stdout",
     "output_type": "stream",
     "text": [
      "[[9477   14    0  169]\n",
      " [2082   25    0  116]\n",
      " [ 765   14    0   68]\n",
      " [3361   19    0  299]]\n",
      "0.5972941678347249\n",
      "0.22692516267848983\n",
      "0.4741629269521967\n",
      "\n",
      "Trying classifier  MLP F3\n"
     ]
    },
    {
     "name": "stderr",
     "output_type": "stream",
     "text": [
      "C:\\ProgramData\\Anaconda3\\lib\\site-packages\\sklearn\\neural_network\\multilayer_perceptron.py:566: ConvergenceWarning: Stochastic Optimizer: Maximum iterations (200) reached and the optimization hasn't converged yet.\n",
      "  % self.max_iter, ConvergenceWarning)\n"
     ]
    },
    {
     "name": "stdout",
     "output_type": "stream",
     "text": [
      "[[9126  122   32  380]\n",
      " [1760  286    2  175]\n",
      " [ 626   21   49  151]\n",
      " [2692  188   85  714]]\n",
      "0.6200865378755561\n",
      "0.3357122868104035\n",
      "0.5453183823885062\n",
      "\n",
      "Speaker on focus: M3\n",
      "Training data size: (181426, 28)\n",
      "Testing data size: (16634, 28)\n",
      "\n",
      "Trying classifier  MF M3\n"
     ]
    },
    {
     "name": "stderr",
     "output_type": "stream",
     "text": [
      "C:\\ProgramData\\Anaconda3\\lib\\site-packages\\sklearn\\metrics\\classification.py:1437: UndefinedMetricWarning: F-score is ill-defined and being set to 0.0 in labels with no predicted samples.\n",
      "  'precision', 'predicted', average, warn_for)\n"
     ]
    },
    {
     "name": "stdout",
     "output_type": "stream",
     "text": [
      "[[11972     0     0     0]\n",
      " [  778     0     0     0]\n",
      " [  616     0     0     0]\n",
      " [ 3268     0     0     0]]\n",
      "0.71973067211735\n",
      "0.20925679927287982\n",
      "0.6024341471431808\n",
      "\n",
      "Trying classifier  LR M3\n"
     ]
    },
    {
     "name": "stderr",
     "output_type": "stream",
     "text": [
      "C:\\ProgramData\\Anaconda3\\lib\\site-packages\\sklearn\\linear_model\\logistic.py:469: FutureWarning: Default multi_class will be changed to 'auto' in 0.22. Specify the multi_class option to silence this warning.\n",
      "  \"this warning.\", FutureWarning)\n",
      "C:\\ProgramData\\Anaconda3\\lib\\site-packages\\sklearn\\metrics\\classification.py:1437: UndefinedMetricWarning: F-score is ill-defined and being set to 0.0 in labels with no predicted samples.\n",
      "  'precision', 'predicted', average, warn_for)\n"
     ]
    },
    {
     "name": "stdout",
     "output_type": "stream",
     "text": [
      "[[11536    12     0   424]\n",
      " [  597    63     0   118]\n",
      " [  505     5     0   106]\n",
      " [ 2713    13     0   542]]\n",
      "0.7298905855476734\n",
      "0.3080591168837657\n",
      "0.6622908423692495\n",
      "\n",
      "Trying classifier  LINEARSVC M3\n"
     ]
    },
    {
     "name": "stderr",
     "output_type": "stream",
     "text": [
      "C:\\ProgramData\\Anaconda3\\lib\\site-packages\\sklearn\\metrics\\classification.py:1437: UndefinedMetricWarning: F-score is ill-defined and being set to 0.0 in labels with no predicted samples.\n",
      "  'precision', 'predicted', average, warn_for)\n"
     ]
    },
    {
     "name": "stdout",
     "output_type": "stream",
     "text": [
      "[[11623     9     0   340]\n",
      " [  618    51     0   109]\n",
      " [  516     1     0    99]\n",
      " [ 2796     7     0   465]]\n",
      "0.7297703498857762\n",
      "0.29558691620322036\n",
      "0.6561613024371803\n",
      "\n",
      "Trying classifier  MLP M3\n"
     ]
    },
    {
     "name": "stderr",
     "output_type": "stream",
     "text": [
      "C:\\ProgramData\\Anaconda3\\lib\\site-packages\\sklearn\\neural_network\\multilayer_perceptron.py:566: ConvergenceWarning: Stochastic Optimizer: Maximum iterations (200) reached and the optimization hasn't converged yet.\n",
      "  % self.max_iter, ConvergenceWarning)\n"
     ]
    },
    {
     "name": "stdout",
     "output_type": "stream",
     "text": [
      "[[10690   172    27  1083]\n",
      " [  393   228     0   157]\n",
      " [  427    17    15   157]\n",
      " [ 1954   202    32  1080]]\n",
      "0.722195503186245\n",
      "0.39660302060957664\n",
      "0.6957069063314825\n",
      "\n",
      "Speaker on focus: M5\n",
      "Training data size: (180649, 28)\n",
      "Testing data size: (17411, 28)\n",
      "\n",
      "Trying classifier  MF M5\n"
     ]
    },
    {
     "name": "stderr",
     "output_type": "stream",
     "text": [
      "C:\\ProgramData\\Anaconda3\\lib\\site-packages\\sklearn\\metrics\\classification.py:1437: UndefinedMetricWarning: F-score is ill-defined and being set to 0.0 in labels with no predicted samples.\n",
      "  'precision', 'predicted', average, warn_for)\n"
     ]
    },
    {
     "name": "stdout",
     "output_type": "stream",
     "text": [
      "[[9595    0    0    0]\n",
      " [2325    0    0    0]\n",
      " [1014    0    0    0]\n",
      " [4477    0    0    0]]\n",
      "0.5510883923956119\n",
      "0.1776457083611049\n",
      "0.39159395134680414\n",
      "\n",
      "Trying classifier  LR M5\n"
     ]
    },
    {
     "name": "stderr",
     "output_type": "stream",
     "text": [
      "C:\\ProgramData\\Anaconda3\\lib\\site-packages\\sklearn\\linear_model\\logistic.py:469: FutureWarning: Default multi_class will be changed to 'auto' in 0.22. Specify the multi_class option to silence this warning.\n",
      "  \"this warning.\", FutureWarning)\n",
      "C:\\ProgramData\\Anaconda3\\lib\\site-packages\\sklearn\\metrics\\classification.py:1437: UndefinedMetricWarning: F-score is ill-defined and being set to 0.0 in labels with no predicted samples.\n",
      "  'precision', 'predicted', average, warn_for)\n"
     ]
    },
    {
     "name": "stdout",
     "output_type": "stream",
     "text": [
      "[[9473   15    0  107]\n",
      " [2171   65    0   89]\n",
      " [ 851   36    0  127]\n",
      " [3683   70    0  724]]\n",
      "0.5893975073229567\n",
      "0.26225287031398636\n",
      "0.47942711975497065\n",
      "\n",
      "Trying classifier  LINEARSVC M5\n"
     ]
    },
    {
     "name": "stderr",
     "output_type": "stream",
     "text": [
      "C:\\ProgramData\\Anaconda3\\lib\\site-packages\\sklearn\\metrics\\classification.py:1437: UndefinedMetricWarning: F-score is ill-defined and being set to 0.0 in labels with no predicted samples.\n",
      "  'precision', 'predicted', average, warn_for)\n"
     ]
    },
    {
     "name": "stdout",
     "output_type": "stream",
     "text": [
      "[[9488   10    0   97]\n",
      " [2196   41    0   88]\n",
      " [ 874   29    0  111]\n",
      " [3784   45    0  648]]\n",
      "0.5845155361553042\n",
      "0.2510396481913167\n",
      "0.4691297193797355\n",
      "\n",
      "Trying classifier  MLP M5\n"
     ]
    },
    {
     "name": "stderr",
     "output_type": "stream",
     "text": [
      "C:\\ProgramData\\Anaconda3\\lib\\site-packages\\sklearn\\neural_network\\multilayer_perceptron.py:566: ConvergenceWarning: Stochastic Optimizer: Maximum iterations (200) reached and the optimization hasn't converged yet.\n",
      "  % self.max_iter, ConvergenceWarning)\n"
     ]
    },
    {
     "name": "stdout",
     "output_type": "stream",
     "text": [
      "[[9294   74   31  196]\n",
      " [1918  284   10  113]\n",
      " [ 739    8  114  153]\n",
      " [2967  247  121 1142]]\n",
      "0.6222503015335134\n",
      "0.3759901547476334\n",
      "0.550574866523211\n",
      "\n",
      "Speaker on focus: M1\n",
      "Training data size: (180025, 28)\n",
      "Testing data size: (18035, 28)\n",
      "\n",
      "Trying classifier  MF M1\n"
     ]
    },
    {
     "name": "stderr",
     "output_type": "stream",
     "text": [
      "C:\\ProgramData\\Anaconda3\\lib\\site-packages\\sklearn\\metrics\\classification.py:1437: UndefinedMetricWarning: F-score is ill-defined and being set to 0.0 in labels with no predicted samples.\n",
      "  'precision', 'predicted', average, warn_for)\n"
     ]
    },
    {
     "name": "stdout",
     "output_type": "stream",
     "text": [
      "[[12498     0     0     0]\n",
      " [  805     0     0     0]\n",
      " [  489     0     0     0]\n",
      " [ 4243     0     0     0]]\n",
      "0.6929858608261713\n",
      "0.204663806373432\n",
      "0.5673164961586146\n",
      "\n",
      "Trying classifier  LR M1\n"
     ]
    },
    {
     "name": "stderr",
     "output_type": "stream",
     "text": [
      "C:\\ProgramData\\Anaconda3\\lib\\site-packages\\sklearn\\linear_model\\logistic.py:469: FutureWarning: Default multi_class will be changed to 'auto' in 0.22. Specify the multi_class option to silence this warning.\n",
      "  \"this warning.\", FutureWarning)\n"
     ]
    },
    {
     "name": "stdout",
     "output_type": "stream",
     "text": [
      "[[11523    29     0   946]\n",
      " [  669    26     1   109]\n",
      " [  384    19     1    85]\n",
      " [ 2772    32     0  1439]]\n",
      "0.7202107014139174\n",
      "0.32766180693650004\n",
      "0.6754407687509676\n",
      "\n",
      "Trying classifier  LINEARSVC M1\n"
     ]
    },
    {
     "name": "stderr",
     "output_type": "stream",
     "text": [
      "C:\\ProgramData\\Anaconda3\\lib\\site-packages\\sklearn\\metrics\\classification.py:1437: UndefinedMetricWarning: F-score is ill-defined and being set to 0.0 in labels with no predicted samples.\n",
      "  'precision', 'predicted', average, warn_for)\n"
     ]
    },
    {
     "name": "stdout",
     "output_type": "stream",
     "text": [
      "[[11674    19     0   805]\n",
      " [  691    17     0    97]\n",
      " [  392    17     0    80]\n",
      " [ 2903    22     0  1318]]\n",
      "0.7213196562240088\n",
      "0.3176719680063927\n",
      "0.6711152168268768\n",
      "\n",
      "Trying classifier  MLP M1\n"
     ]
    },
    {
     "name": "stderr",
     "output_type": "stream",
     "text": [
      "C:\\ProgramData\\Anaconda3\\lib\\site-packages\\sklearn\\neural_network\\multilayer_perceptron.py:566: ConvergenceWarning: Stochastic Optimizer: Maximum iterations (200) reached and the optimization hasn't converged yet.\n",
      "  % self.max_iter, ConvergenceWarning)\n"
     ]
    },
    {
     "name": "stdout",
     "output_type": "stream",
     "text": [
      "[[11280    45    28  1145]\n",
      " [  571    79     2   153]\n",
      " [  344     0    37   108]\n",
      " [ 2322    51    18  1852]]\n",
      "0.7345716662046021\n",
      "0.4047591981871431\n",
      "0.7055724672632459\n",
      "\n",
      "Speaker on focus: F2\n",
      "Training data size: (181593, 28)\n",
      "Testing data size: (16467, 28)\n",
      "\n",
      "Trying classifier  MF F2\n"
     ]
    },
    {
     "name": "stderr",
     "output_type": "stream",
     "text": [
      "C:\\ProgramData\\Anaconda3\\lib\\site-packages\\sklearn\\metrics\\classification.py:1437: UndefinedMetricWarning: F-score is ill-defined and being set to 0.0 in labels with no predicted samples.\n",
      "  'precision', 'predicted', average, warn_for)\n"
     ]
    },
    {
     "name": "stdout",
     "output_type": "stream",
     "text": [
      "[[10315     0     0     0]\n",
      " [ 1779     0     0     0]\n",
      " [ 1060     0     0     0]\n",
      " [ 3313     0     0     0]]\n",
      "0.6264043237991134\n",
      "0.19257337017399748\n",
      "0.48251516690223695\n",
      "\n",
      "Trying classifier  LR F2\n"
     ]
    },
    {
     "name": "stderr",
     "output_type": "stream",
     "text": [
      "C:\\ProgramData\\Anaconda3\\lib\\site-packages\\sklearn\\linear_model\\logistic.py:469: FutureWarning: Default multi_class will be changed to 'auto' in 0.22. Specify the multi_class option to silence this warning.\n",
      "  \"this warning.\", FutureWarning)\n",
      "C:\\ProgramData\\Anaconda3\\lib\\site-packages\\sklearn\\metrics\\classification.py:1437: UndefinedMetricWarning: F-score is ill-defined and being set to 0.0 in labels with no predicted samples.\n",
      "  'precision', 'predicted', average, warn_for)\n"
     ]
    },
    {
     "name": "stdout",
     "output_type": "stream",
     "text": [
      "[[9720   77    0  518]\n",
      " [1071  144    0  564]\n",
      " [ 646   44    0  370]\n",
      " [2109  114    0 1090]]\n",
      "0.6652092062913706\n",
      "0.33012670592727095\n",
      "0.5996705958324396\n",
      "\n",
      "Trying classifier  LINEARSVC F2\n"
     ]
    },
    {
     "name": "stderr",
     "output_type": "stream",
     "text": [
      "C:\\ProgramData\\Anaconda3\\lib\\site-packages\\sklearn\\metrics\\classification.py:1437: UndefinedMetricWarning: F-score is ill-defined and being set to 0.0 in labels with no predicted samples.\n",
      "  'precision', 'predicted', average, warn_for)\n"
     ]
    },
    {
     "name": "stdout",
     "output_type": "stream",
     "text": [
      "[[9826   40    0  449]\n",
      " [1133   76    0  570]\n",
      " [ 695   33    0  332]\n",
      " [2224   72    0 1017]]\n",
      "0.6630837432440639\n",
      "0.31158415898616965\n",
      "0.5890727776045146\n",
      "\n",
      "Trying classifier  MLP F2\n",
      "[[8717  478   35 1085]\n",
      " [ 713  698    8  360]\n",
      " [ 458   72   53  477]\n",
      " [1436  415   38 1424]]\n",
      "0.6614441003218559\n",
      "0.4319305390144971\n",
      "0.6402567233475954\n",
      "\n",
      "Speaker on focus: F4\n",
      "Training data size: (181137, 28)\n",
      "Testing data size: (16923, 28)\n",
      "\n",
      "Trying classifier  MF F4\n"
     ]
    },
    {
     "name": "stderr",
     "output_type": "stream",
     "text": [
      "C:\\ProgramData\\Anaconda3\\lib\\site-packages\\sklearn\\metrics\\classification.py:1437: UndefinedMetricWarning: F-score is ill-defined and being set to 0.0 in labels with no predicted samples.\n",
      "  'precision', 'predicted', average, warn_for)\n"
     ]
    },
    {
     "name": "stdout",
     "output_type": "stream",
     "text": [
      "[[10008     0     0     0]\n",
      " [ 3183     0     0     0]\n",
      " [ 1039     0     0     0]\n",
      " [ 2693     0     0     0]]\n",
      "0.5913845062932104\n",
      "0.18580817645093015\n",
      "0.43953630678270017\n",
      "\n",
      "Trying classifier  LR F4\n"
     ]
    },
    {
     "name": "stderr",
     "output_type": "stream",
     "text": [
      "C:\\ProgramData\\Anaconda3\\lib\\site-packages\\sklearn\\linear_model\\logistic.py:469: FutureWarning: Default multi_class will be changed to 'auto' in 0.22. Specify the multi_class option to silence this warning.\n",
      "  \"this warning.\", FutureWarning)\n"
     ]
    },
    {
     "name": "stdout",
     "output_type": "stream",
     "text": [
      "[[9462    7    0  539]\n",
      " [2274   91    0  818]\n",
      " [ 547   17    1  474]\n",
      " [1405   14    2 1272]]\n",
      "0.6397210896413166\n",
      "0.3236025680494949\n",
      "0.5525895589087003\n",
      "\n",
      "Trying classifier  LINEARSVC F4\n"
     ]
    },
    {
     "name": "stderr",
     "output_type": "stream",
     "text": [
      "C:\\ProgramData\\Anaconda3\\lib\\site-packages\\sklearn\\metrics\\classification.py:1437: UndefinedMetricWarning: F-score is ill-defined and being set to 0.0 in labels with no predicted samples.\n",
      "  'precision', 'predicted', average, warn_for)\n"
     ]
    },
    {
     "name": "stdout",
     "output_type": "stream",
     "text": [
      "[[9547    5    0  456]\n",
      " [2381   44    0  758]\n",
      " [ 574    9    0  456]\n",
      " [1525   12    0 1156]]\n",
      "0.63505288660403\n",
      "0.3100983048975318\n",
      "0.5415618854908852\n",
      "\n",
      "Trying classifier  MLP F4\n",
      "[[8721  102   12 1173]\n",
      " [1631  703    3  846]\n",
      " [ 423    3   57  556]\n",
      " [ 853  146   26 1668]]\n",
      "0.6588075400342729\n",
      "0.4318122295382461\n",
      "0.6233652625225989\n",
      "\n",
      "Speaker on focus: M6\n",
      "Training data size: (181528, 28)\n",
      "Testing data size: (16532, 28)\n",
      "\n",
      "Trying classifier  MF M6\n"
     ]
    },
    {
     "name": "stderr",
     "output_type": "stream",
     "text": [
      "C:\\ProgramData\\Anaconda3\\lib\\site-packages\\sklearn\\metrics\\classification.py:1437: UndefinedMetricWarning: F-score is ill-defined and being set to 0.0 in labels with no predicted samples.\n",
      "  'precision', 'predicted', average, warn_for)\n"
     ]
    },
    {
     "name": "stdout",
     "output_type": "stream",
     "text": [
      "[[9316    0    0    0]\n",
      " [1800    0    0    0]\n",
      " [1671    0    0    0]\n",
      " [3745    0    0    0]]\n",
      "0.5635131865473022\n",
      "0.18020736614051377\n",
      "0.4061969085325493\n",
      "\n",
      "Trying classifier  LR M6\n"
     ]
    },
    {
     "name": "stderr",
     "output_type": "stream",
     "text": [
      "C:\\ProgramData\\Anaconda3\\lib\\site-packages\\sklearn\\linear_model\\logistic.py:469: FutureWarning: Default multi_class will be changed to 'auto' in 0.22. Specify the multi_class option to silence this warning.\n",
      "  \"this warning.\", FutureWarning)\n"
     ]
    },
    {
     "name": "stdout",
     "output_type": "stream",
     "text": [
      "[[8727   27    0  562]\n",
      " [1606   26    0  168]\n",
      " [1519   31    0  121]\n",
      " [2892   63    1  789]]\n",
      "0.5771836438422453\n",
      "0.26129509404950885\n",
      "0.47808251625856824\n",
      "\n",
      "Trying classifier  LINEARSVC M6\n"
     ]
    },
    {
     "name": "stderr",
     "output_type": "stream",
     "text": [
      "C:\\ProgramData\\Anaconda3\\lib\\site-packages\\sklearn\\metrics\\classification.py:1437: UndefinedMetricWarning: F-score is ill-defined and being set to 0.0 in labels with no predicted samples.\n",
      "  'precision', 'predicted', average, warn_for)\n"
     ]
    },
    {
     "name": "stdout",
     "output_type": "stream",
     "text": [
      "[[8812   20    0  484]\n",
      " [1642   12    0  146]\n",
      " [1538   24    0  109]\n",
      " [3002   43    0  700]]\n",
      "0.5760948463585773\n",
      "0.2519172768853328\n",
      "0.47108290439257006\n",
      "\n",
      "Trying classifier  MLP M6\n",
      "[[8403   87   23  803]\n",
      " [1435  148    2  215]\n",
      " [1276   29   60  306]\n",
      " [2116   55   32 1542]]\n",
      "0.614142269537866\n",
      "0.35467681168928655\n",
      "0.5477162774088756\n",
      "\n"
     ]
    },
    {
     "data": {
      "text/html": [
       "<div>\n",
       "<style scoped>\n",
       "    .dataframe tbody tr th:only-of-type {\n",
       "        vertical-align: middle;\n",
       "    }\n",
       "\n",
       "    .dataframe tbody tr th {\n",
       "        vertical-align: top;\n",
       "    }\n",
       "\n",
       "    .dataframe thead th {\n",
       "        text-align: right;\n",
       "    }\n",
       "</style>\n",
       "<table border=\"1\" class=\"dataframe\">\n",
       "  <thead>\n",
       "    <tr style=\"text-align: right;\">\n",
       "      <th></th>\n",
       "      <th>F5</th>\n",
       "      <th>F6</th>\n",
       "      <th>M2</th>\n",
       "      <th>M4</th>\n",
       "      <th>F1</th>\n",
       "      <th>F3</th>\n",
       "      <th>M3</th>\n",
       "      <th>M5</th>\n",
       "      <th>M1</th>\n",
       "      <th>F2</th>\n",
       "      <th>F4</th>\n",
       "      <th>M6</th>\n",
       "    </tr>\n",
       "  </thead>\n",
       "  <tbody>\n",
       "    <tr>\n",
       "      <td>MF</td>\n",
       "      <td>0.740511</td>\n",
       "      <td>0.506497</td>\n",
       "      <td>0.714565</td>\n",
       "      <td>0.648316</td>\n",
       "      <td>0.671644</td>\n",
       "      <td>0.588701</td>\n",
       "      <td>0.719731</td>\n",
       "      <td>0.551088</td>\n",
       "      <td>0.692986</td>\n",
       "      <td>0.626404</td>\n",
       "      <td>0.591385</td>\n",
       "      <td>0.563513</td>\n",
       "    </tr>\n",
       "    <tr>\n",
       "      <td>LR</td>\n",
       "      <td>0.741181</td>\n",
       "      <td>0.569825</td>\n",
       "      <td>0.730661</td>\n",
       "      <td>0.661398</td>\n",
       "      <td>0.708135</td>\n",
       "      <td>0.599549</td>\n",
       "      <td>0.729891</td>\n",
       "      <td>0.589398</td>\n",
       "      <td>0.720211</td>\n",
       "      <td>0.665209</td>\n",
       "      <td>0.639721</td>\n",
       "      <td>0.577184</td>\n",
       "    </tr>\n",
       "    <tr>\n",
       "      <td>LINEARSVC</td>\n",
       "      <td>0.741485</td>\n",
       "      <td>0.557225</td>\n",
       "      <td>0.727859</td>\n",
       "      <td>0.657522</td>\n",
       "      <td>0.702373</td>\n",
       "      <td>0.597294</td>\n",
       "      <td>0.729770</td>\n",
       "      <td>0.584516</td>\n",
       "      <td>0.721320</td>\n",
       "      <td>0.663084</td>\n",
       "      <td>0.635053</td>\n",
       "      <td>0.576095</td>\n",
       "    </tr>\n",
       "    <tr>\n",
       "      <td>MLP</td>\n",
       "      <td>0.739597</td>\n",
       "      <td>0.594829</td>\n",
       "      <td>0.742001</td>\n",
       "      <td>0.670119</td>\n",
       "      <td>0.732668</td>\n",
       "      <td>0.620087</td>\n",
       "      <td>0.722196</td>\n",
       "      <td>0.622250</td>\n",
       "      <td>0.734572</td>\n",
       "      <td>0.661444</td>\n",
       "      <td>0.658808</td>\n",
       "      <td>0.614142</td>\n",
       "    </tr>\n",
       "  </tbody>\n",
       "</table>\n",
       "</div>"
      ],
      "text/plain": [
       "                 F5        F6        M2        M4        F1        F3  \\\n",
       "MF         0.740511  0.506497  0.714565  0.648316  0.671644  0.588701   \n",
       "LR         0.741181  0.569825  0.730661  0.661398  0.708135  0.599549   \n",
       "LINEARSVC  0.741485  0.557225  0.727859  0.657522  0.702373  0.597294   \n",
       "MLP        0.739597  0.594829  0.742001  0.670119  0.732668  0.620087   \n",
       "\n",
       "                 M3        M5        M1        F2        F4        M6  \n",
       "MF         0.719731  0.551088  0.692986  0.626404  0.591385  0.563513  \n",
       "LR         0.729891  0.589398  0.720211  0.665209  0.639721  0.577184  \n",
       "LINEARSVC  0.729770  0.584516  0.721320  0.663084  0.635053  0.576095  \n",
       "MLP        0.722196  0.622250  0.734572  0.661444  0.658808  0.614142  "
      ]
     },
     "execution_count": 11,
     "metadata": {},
     "output_type": "execute_result"
    }
   ],
   "source": [
    "accuracy_results = pd.DataFrame(0,columns=speaker_set,index=[\"MF\"])\n",
    "f1score_results = pd.DataFrame(0,columns=speaker_set,index=[\"MF\"])\n",
    "f1score_resultsw = pd.DataFrame(0,columns=speaker_set,index=[\"MF\"])\n",
    "#f1score_resultsb = pd.DataFrame(0,columns=speaker_set,index=[\"MF\"])\n",
    "#f1_score(y_true, y_pred, average='micro')\n",
    "\n",
    "for speaker_on_focus in speaker_set:\n",
    "    train_files = []\n",
    "    test_files  = []\n",
    "    \n",
    "    for each_file in glob.glob(PATH+\"*.tab\"):\n",
    "        filename=each_file.split(\"\\\\\")[-1]\n",
    "        fileinfo=filename.split(\"-\")\n",
    "\n",
    "        primary_speaker = fileinfo[2].split(\"_\")[-1][:-2] #fileinfo[2] = final2_primary_M1.T\n",
    "        speakers = fileinfo[0]\n",
    "        l_speaker,r_speaker = speakers.split(\"_\")\n",
    "        if primary_speaker == l_speaker:\n",
    "            secondary_speaker = r_speaker\n",
    "        else:\n",
    "            secondary_speaker = l_speaker\n",
    "\n",
    "        #print (primary_speaker,l_speaker,r_speaker,speaker_on_focus)\n",
    "\n",
    "        file_df = pd.read_csv(each_file,sep=\"\\t\")\n",
    "        file_df.columns = [el.replace(primary_speaker, \"PRIMA\").replace(secondary_speaker, \"SECON\") for el in file_df.columns]\n",
    "\n",
    "        if primary_speaker != speaker_on_focus:\n",
    "            #FILES TO TRAIN!\n",
    "            train_files.append(file_df)\n",
    "        else:\n",
    "            #FILES TO TEST!\n",
    "            test_files.append(file_df)\n",
    "            \n",
    "        \n",
    "        \n",
    "    training_data = pd.concat(train_files, ignore_index=True)\n",
    "    testing_data = pd.concat(test_files, ignore_index=True)\n",
    "    print (\"Speaker on focus:\",speaker_on_focus)\n",
    "    print (\"Training data size:\",training_data.shape)\n",
    "    print (\"Testing data size:\",testing_data.shape)\n",
    "    print ()\n",
    "    \n",
    "    \n",
    "    \n",
    "    \n",
    "    \n",
    "    \n",
    "    \n",
    "    #Train data\n",
    "    features=['PRIMA:velocity-r', 'PRIMA:velocity-clock', 'PRIMA:velocity-x', 'PRIMA:velocity-y',\n",
    "              'PRIMA:acceleration-r', 'PRIMA:acceleration-clock', 'PRIMA:acceleration-x',\n",
    "              'PRIMA:acceleration-y', 'PRIMA:jerk-r', 'PRIMA:jerk-clock', 'PRIMA:jerk-x', 'PRIMA:jerk-y',\n",
    "              'PRIMA:pitch', 'PRIMA:intensity'\n",
    "             ]\n",
    "\n",
    "    feats_learning = training_data[features]\n",
    "    X = feats_learning.dropna() #REMEMBER THIS!!!! We're ignoring any row that has a NaN value.\n",
    "    scaler = MinMaxScaler((0,1))\n",
    "    scaler.fit(X)\n",
    "    X_norm = scaler.transform(X)\n",
    "    #X_norm = X\n",
    "    #We're ignoring anyrow that has a NaN value.\n",
    "    #Y = (training_data[(feats_learning.isnull().sum(axis=1)==0)]['PRIMA:HeadMovement'].equals('nod')*1).values #0: no movement; 1: movement\n",
    "    Y = training_data[(feats_learning.isnull().sum(axis=1)==0)]['PRIMA:HeadMovement'].map(map_movements)\n",
    "    \n",
    "    #Test data\n",
    "    feats_testing = testing_data[features]\n",
    "\n",
    "    X_test = feats_testing.dropna() #REMEMBER THIS!!!! We're ignoring any row that has a NaN value.\n",
    "    X_test_norm = scaler.transform(X_test)\n",
    "    #X_test_norm = X_test\n",
    "#    Y_test = (testing_data[(feats_testing.isnull().sum(axis=1)==0)]['PRIMA:HeadMovement'].equals('nod')*1).values #0: no movement; 1: movement\n",
    "    Y_test =  testing_data[(feats_testing.isnull().sum(axis=1)==0)]['PRIMA:HeadMovement'].map(map_movements)\n",
    "    \n",
    "    classifiers_to_test = [(DummyClassifier(strategy=\"most_frequent\"),\"MF\"),\n",
    "                           (LogisticRegression(solver=\"liblinear\"),\"LR\"),\n",
    "                          (LinearSVC(),\"LINEARSVC\"),\n",
    "                          (MLPClassifier(hidden_layer_sizes=(30,30,30,30), random_state=442), \"MLP\")\n",
    "                          ]\n",
    "                        #I think that now we have to fine-tune the n_hidden_layers and their sizes (MLP)\n",
    "    \n",
    "    \n",
    "    for clf, clfname in classifiers_to_test:\n",
    "        print (\"Trying classifier \",clfname,speaker_on_focus)\n",
    "        clf.fit(X_norm, Y)\n",
    "        y_pred = clf.predict(X_test_norm)\n",
    "        accuracy_results.loc[clfname,speaker_on_focus] = accuracy_score(Y_test,y_pred)\n",
    "        #f1score_resultsb.loc[clfname,speaker_on_focus] = f1_score(Y_test,y_pred)\n",
    "        f1score_results.loc[clfname,speaker_on_focus] = f1_score(Y_test,y_pred, average='macro')\n",
    "        f1score_resultsw.loc[clfname,speaker_on_focus] = f1_score(Y_test,y_pred, average='weighted')\n",
    "    \n",
    "        print (confusion_matrix(Y_test,y_pred))\n",
    "        print (accuracy_score(Y_test,y_pred)) #same as f1-score (micro-averagaed)\n",
    "        print (f1_score(Y_test,y_pred, average='macro'))\n",
    "        print (f1_score(Y_test,y_pred, average='weighted'))\n",
    "        y_pred=None\n",
    "        print ()\n",
    "\n",
    "        \n",
    "accuracy_results"
   ]
  },
  {
   "cell_type": "code",
   "execution_count": 12,
   "metadata": {
    "scrolled": true
   },
   "outputs": [
    {
     "data": {
      "text/html": [
       "<div>\n",
       "<style scoped>\n",
       "    .dataframe tbody tr th:only-of-type {\n",
       "        vertical-align: middle;\n",
       "    }\n",
       "\n",
       "    .dataframe tbody tr th {\n",
       "        vertical-align: top;\n",
       "    }\n",
       "\n",
       "    .dataframe thead th {\n",
       "        text-align: right;\n",
       "    }\n",
       "</style>\n",
       "<table border=\"1\" class=\"dataframe\">\n",
       "  <thead>\n",
       "    <tr style=\"text-align: right;\">\n",
       "      <th></th>\n",
       "      <th>F5</th>\n",
       "      <th>F6</th>\n",
       "      <th>M2</th>\n",
       "      <th>M4</th>\n",
       "      <th>F1</th>\n",
       "      <th>F3</th>\n",
       "      <th>M3</th>\n",
       "      <th>M5</th>\n",
       "      <th>M1</th>\n",
       "      <th>F2</th>\n",
       "      <th>F4</th>\n",
       "      <th>M6</th>\n",
       "    </tr>\n",
       "  </thead>\n",
       "  <tbody>\n",
       "    <tr>\n",
       "      <td>MF</td>\n",
       "      <td>0.740511</td>\n",
       "      <td>0.506497</td>\n",
       "      <td>0.714565</td>\n",
       "      <td>0.648316</td>\n",
       "      <td>0.671644</td>\n",
       "      <td>0.588701</td>\n",
       "      <td>0.719731</td>\n",
       "      <td>0.551088</td>\n",
       "      <td>0.692986</td>\n",
       "      <td>0.626404</td>\n",
       "      <td>0.591385</td>\n",
       "      <td>0.563513</td>\n",
       "    </tr>\n",
       "    <tr>\n",
       "      <td>LR</td>\n",
       "      <td>0.741181</td>\n",
       "      <td>0.569825</td>\n",
       "      <td>0.730661</td>\n",
       "      <td>0.661398</td>\n",
       "      <td>0.708135</td>\n",
       "      <td>0.599549</td>\n",
       "      <td>0.729891</td>\n",
       "      <td>0.589398</td>\n",
       "      <td>0.720211</td>\n",
       "      <td>0.665209</td>\n",
       "      <td>0.639721</td>\n",
       "      <td>0.577184</td>\n",
       "    </tr>\n",
       "    <tr>\n",
       "      <td>LINEARSVC</td>\n",
       "      <td>0.741485</td>\n",
       "      <td>0.557225</td>\n",
       "      <td>0.727859</td>\n",
       "      <td>0.657522</td>\n",
       "      <td>0.702373</td>\n",
       "      <td>0.597294</td>\n",
       "      <td>0.729770</td>\n",
       "      <td>0.584516</td>\n",
       "      <td>0.721320</td>\n",
       "      <td>0.663084</td>\n",
       "      <td>0.635053</td>\n",
       "      <td>0.576095</td>\n",
       "    </tr>\n",
       "    <tr>\n",
       "      <td>MLP</td>\n",
       "      <td>0.739597</td>\n",
       "      <td>0.594829</td>\n",
       "      <td>0.742001</td>\n",
       "      <td>0.670119</td>\n",
       "      <td>0.732668</td>\n",
       "      <td>0.620087</td>\n",
       "      <td>0.722196</td>\n",
       "      <td>0.622250</td>\n",
       "      <td>0.734572</td>\n",
       "      <td>0.661444</td>\n",
       "      <td>0.658808</td>\n",
       "      <td>0.614142</td>\n",
       "    </tr>\n",
       "  </tbody>\n",
       "</table>\n",
       "</div>"
      ],
      "text/plain": [
       "                 F5        F6        M2        M4        F1        F3  \\\n",
       "MF         0.740511  0.506497  0.714565  0.648316  0.671644  0.588701   \n",
       "LR         0.741181  0.569825  0.730661  0.661398  0.708135  0.599549   \n",
       "LINEARSVC  0.741485  0.557225  0.727859  0.657522  0.702373  0.597294   \n",
       "MLP        0.739597  0.594829  0.742001  0.670119  0.732668  0.620087   \n",
       "\n",
       "                 M3        M5        M1        F2        F4        M6  \n",
       "MF         0.719731  0.551088  0.692986  0.626404  0.591385  0.563513  \n",
       "LR         0.729891  0.589398  0.720211  0.665209  0.639721  0.577184  \n",
       "LINEARSVC  0.729770  0.584516  0.721320  0.663084  0.635053  0.576095  \n",
       "MLP        0.722196  0.622250  0.734572  0.661444  0.658808  0.614142  "
      ]
     },
     "execution_count": 12,
     "metadata": {},
     "output_type": "execute_result"
    }
   ],
   "source": [
    "accuracy_results"
   ]
  },
  {
   "cell_type": "code",
   "execution_count": 13,
   "metadata": {},
   "outputs": [
    {
     "data": {
      "text/html": [
       "<div>\n",
       "<style scoped>\n",
       "    .dataframe tbody tr th:only-of-type {\n",
       "        vertical-align: middle;\n",
       "    }\n",
       "\n",
       "    .dataframe tbody tr th {\n",
       "        vertical-align: top;\n",
       "    }\n",
       "\n",
       "    .dataframe thead th {\n",
       "        text-align: right;\n",
       "    }\n",
       "</style>\n",
       "<table border=\"1\" class=\"dataframe\">\n",
       "  <thead>\n",
       "    <tr style=\"text-align: right;\">\n",
       "      <th></th>\n",
       "      <th>F5</th>\n",
       "      <th>F6</th>\n",
       "      <th>M2</th>\n",
       "      <th>M4</th>\n",
       "      <th>F1</th>\n",
       "      <th>F3</th>\n",
       "      <th>M3</th>\n",
       "      <th>M5</th>\n",
       "      <th>M1</th>\n",
       "      <th>F2</th>\n",
       "      <th>F4</th>\n",
       "      <th>M6</th>\n",
       "    </tr>\n",
       "  </thead>\n",
       "  <tbody>\n",
       "    <tr>\n",
       "      <td>MF</td>\n",
       "      <td>0.630109</td>\n",
       "      <td>0.340577</td>\n",
       "      <td>0.595607</td>\n",
       "      <td>0.509992</td>\n",
       "      <td>0.539715</td>\n",
       "      <td>0.436293</td>\n",
       "      <td>0.602434</td>\n",
       "      <td>0.391594</td>\n",
       "      <td>0.567316</td>\n",
       "      <td>0.482515</td>\n",
       "      <td>0.439536</td>\n",
       "      <td>0.406197</td>\n",
       "    </tr>\n",
       "    <tr>\n",
       "      <td>LR</td>\n",
       "      <td>0.662847</td>\n",
       "      <td>0.506740</td>\n",
       "      <td>0.644397</td>\n",
       "      <td>0.577947</td>\n",
       "      <td>0.637934</td>\n",
       "      <td>0.481344</td>\n",
       "      <td>0.662291</td>\n",
       "      <td>0.479427</td>\n",
       "      <td>0.675441</td>\n",
       "      <td>0.599671</td>\n",
       "      <td>0.552590</td>\n",
       "      <td>0.478083</td>\n",
       "    </tr>\n",
       "    <tr>\n",
       "      <td>LINEARSVC</td>\n",
       "      <td>0.659634</td>\n",
       "      <td>0.477964</td>\n",
       "      <td>0.636986</td>\n",
       "      <td>0.566710</td>\n",
       "      <td>0.624950</td>\n",
       "      <td>0.474163</td>\n",
       "      <td>0.656161</td>\n",
       "      <td>0.469130</td>\n",
       "      <td>0.671115</td>\n",
       "      <td>0.589073</td>\n",
       "      <td>0.541562</td>\n",
       "      <td>0.471083</td>\n",
       "    </tr>\n",
       "    <tr>\n",
       "      <td>MLP</td>\n",
       "      <td>0.686939</td>\n",
       "      <td>0.582868</td>\n",
       "      <td>0.696237</td>\n",
       "      <td>0.633019</td>\n",
       "      <td>0.703633</td>\n",
       "      <td>0.545318</td>\n",
       "      <td>0.695707</td>\n",
       "      <td>0.550575</td>\n",
       "      <td>0.705572</td>\n",
       "      <td>0.640257</td>\n",
       "      <td>0.623365</td>\n",
       "      <td>0.547716</td>\n",
       "    </tr>\n",
       "  </tbody>\n",
       "</table>\n",
       "</div>"
      ],
      "text/plain": [
       "                 F5        F6        M2        M4        F1        F3  \\\n",
       "MF         0.630109  0.340577  0.595607  0.509992  0.539715  0.436293   \n",
       "LR         0.662847  0.506740  0.644397  0.577947  0.637934  0.481344   \n",
       "LINEARSVC  0.659634  0.477964  0.636986  0.566710  0.624950  0.474163   \n",
       "MLP        0.686939  0.582868  0.696237  0.633019  0.703633  0.545318   \n",
       "\n",
       "                 M3        M5        M1        F2        F4        M6  \n",
       "MF         0.602434  0.391594  0.567316  0.482515  0.439536  0.406197  \n",
       "LR         0.662291  0.479427  0.675441  0.599671  0.552590  0.478083  \n",
       "LINEARSVC  0.656161  0.469130  0.671115  0.589073  0.541562  0.471083  \n",
       "MLP        0.695707  0.550575  0.705572  0.640257  0.623365  0.547716  "
      ]
     },
     "execution_count": 13,
     "metadata": {},
     "output_type": "execute_result"
    }
   ],
   "source": [
    "f1score_resultsw"
   ]
  },
  {
   "cell_type": "code",
   "execution_count": 14,
   "metadata": {
    "scrolled": true
   },
   "outputs": [
    {
     "data": {
      "text/html": [
       "<div>\n",
       "<style scoped>\n",
       "    .dataframe tbody tr th:only-of-type {\n",
       "        vertical-align: middle;\n",
       "    }\n",
       "\n",
       "    .dataframe tbody tr th {\n",
       "        vertical-align: top;\n",
       "    }\n",
       "\n",
       "    .dataframe thead th {\n",
       "        text-align: right;\n",
       "    }\n",
       "</style>\n",
       "<table border=\"1\" class=\"dataframe\">\n",
       "  <thead>\n",
       "    <tr style=\"text-align: right;\">\n",
       "      <th></th>\n",
       "      <th>F5</th>\n",
       "      <th>F6</th>\n",
       "      <th>M2</th>\n",
       "      <th>M4</th>\n",
       "      <th>F1</th>\n",
       "      <th>F3</th>\n",
       "      <th>M3</th>\n",
       "      <th>M5</th>\n",
       "      <th>M1</th>\n",
       "      <th>F2</th>\n",
       "      <th>F4</th>\n",
       "      <th>M6</th>\n",
       "    </tr>\n",
       "  </thead>\n",
       "  <tbody>\n",
       "    <tr>\n",
       "      <td>MF</td>\n",
       "      <td>0.212728</td>\n",
       "      <td>0.168104</td>\n",
       "      <td>0.208381</td>\n",
       "      <td>0.196660</td>\n",
       "      <td>0.200893</td>\n",
       "      <td>0.185278</td>\n",
       "      <td>0.209257</td>\n",
       "      <td>0.177646</td>\n",
       "      <td>0.204664</td>\n",
       "      <td>0.192573</td>\n",
       "      <td>0.185808</td>\n",
       "      <td>0.180207</td>\n",
       "    </tr>\n",
       "    <tr>\n",
       "      <td>LR</td>\n",
       "      <td>0.274594</td>\n",
       "      <td>0.330965</td>\n",
       "      <td>0.275679</td>\n",
       "      <td>0.282302</td>\n",
       "      <td>0.310548</td>\n",
       "      <td>0.235435</td>\n",
       "      <td>0.308059</td>\n",
       "      <td>0.262253</td>\n",
       "      <td>0.327662</td>\n",
       "      <td>0.330127</td>\n",
       "      <td>0.323603</td>\n",
       "      <td>0.261295</td>\n",
       "    </tr>\n",
       "    <tr>\n",
       "      <td>LINEARSVC</td>\n",
       "      <td>0.267091</td>\n",
       "      <td>0.297039</td>\n",
       "      <td>0.264008</td>\n",
       "      <td>0.264858</td>\n",
       "      <td>0.291613</td>\n",
       "      <td>0.226925</td>\n",
       "      <td>0.295587</td>\n",
       "      <td>0.251040</td>\n",
       "      <td>0.317672</td>\n",
       "      <td>0.311584</td>\n",
       "      <td>0.310098</td>\n",
       "      <td>0.251917</td>\n",
       "    </tr>\n",
       "    <tr>\n",
       "      <td>MLP</td>\n",
       "      <td>0.348091</td>\n",
       "      <td>0.466830</td>\n",
       "      <td>0.375948</td>\n",
       "      <td>0.384007</td>\n",
       "      <td>0.453286</td>\n",
       "      <td>0.335712</td>\n",
       "      <td>0.396603</td>\n",
       "      <td>0.375990</td>\n",
       "      <td>0.404759</td>\n",
       "      <td>0.431931</td>\n",
       "      <td>0.431812</td>\n",
       "      <td>0.354677</td>\n",
       "    </tr>\n",
       "  </tbody>\n",
       "</table>\n",
       "</div>"
      ],
      "text/plain": [
       "                 F5        F6        M2        M4        F1        F3  \\\n",
       "MF         0.212728  0.168104  0.208381  0.196660  0.200893  0.185278   \n",
       "LR         0.274594  0.330965  0.275679  0.282302  0.310548  0.235435   \n",
       "LINEARSVC  0.267091  0.297039  0.264008  0.264858  0.291613  0.226925   \n",
       "MLP        0.348091  0.466830  0.375948  0.384007  0.453286  0.335712   \n",
       "\n",
       "                 M3        M5        M1        F2        F4        M6  \n",
       "MF         0.209257  0.177646  0.204664  0.192573  0.185808  0.180207  \n",
       "LR         0.308059  0.262253  0.327662  0.330127  0.323603  0.261295  \n",
       "LINEARSVC  0.295587  0.251040  0.317672  0.311584  0.310098  0.251917  \n",
       "MLP        0.396603  0.375990  0.404759  0.431931  0.431812  0.354677  "
      ]
     },
     "execution_count": 14,
     "metadata": {},
     "output_type": "execute_result"
    }
   ],
   "source": [
    "f1score_results"
   ]
  },
  {
   "cell_type": "code",
   "execution_count": 15,
   "metadata": {},
   "outputs": [
    {
     "data": {
      "text/html": [
       "<div>\n",
       "<style scoped>\n",
       "    .dataframe tbody tr th:only-of-type {\n",
       "        vertical-align: middle;\n",
       "    }\n",
       "\n",
       "    .dataframe tbody tr th {\n",
       "        vertical-align: top;\n",
       "    }\n",
       "\n",
       "    .dataframe thead th {\n",
       "        text-align: right;\n",
       "    }\n",
       "</style>\n",
       "<table border=\"1\" class=\"dataframe\">\n",
       "  <thead>\n",
       "    <tr style=\"text-align: right;\">\n",
       "      <th></th>\n",
       "      <th>MF</th>\n",
       "      <th>LR</th>\n",
       "      <th>LINEARSVC</th>\n",
       "      <th>MLP</th>\n",
       "    </tr>\n",
       "  </thead>\n",
       "  <tbody>\n",
       "    <tr>\n",
       "      <td>count</td>\n",
       "      <td>12.000000</td>\n",
       "      <td>12.000000</td>\n",
       "      <td>12.000000</td>\n",
       "      <td>12.000000</td>\n",
       "    </tr>\n",
       "    <tr>\n",
       "      <td>mean</td>\n",
       "      <td>0.634612</td>\n",
       "      <td>0.661030</td>\n",
       "      <td>0.657800</td>\n",
       "      <td>0.676059</td>\n",
       "    </tr>\n",
       "    <tr>\n",
       "      <td>std</td>\n",
       "      <td>0.075262</td>\n",
       "      <td>0.064994</td>\n",
       "      <td>0.067069</td>\n",
       "      <td>0.055718</td>\n",
       "    </tr>\n",
       "    <tr>\n",
       "      <td>min</td>\n",
       "      <td>0.506497</td>\n",
       "      <td>0.569825</td>\n",
       "      <td>0.557225</td>\n",
       "      <td>0.594829</td>\n",
       "    </tr>\n",
       "    <tr>\n",
       "      <td>25%</td>\n",
       "      <td>0.582404</td>\n",
       "      <td>0.597011</td>\n",
       "      <td>0.594100</td>\n",
       "      <td>0.621709</td>\n",
       "    </tr>\n",
       "    <tr>\n",
       "      <td>50%</td>\n",
       "      <td>0.637360</td>\n",
       "      <td>0.663303</td>\n",
       "      <td>0.660303</td>\n",
       "      <td>0.665781</td>\n",
       "    </tr>\n",
       "    <tr>\n",
       "      <td>75%</td>\n",
       "      <td>0.698381</td>\n",
       "      <td>0.722631</td>\n",
       "      <td>0.722955</td>\n",
       "      <td>0.733144</td>\n",
       "    </tr>\n",
       "    <tr>\n",
       "      <td>max</td>\n",
       "      <td>0.740511</td>\n",
       "      <td>0.741181</td>\n",
       "      <td>0.741485</td>\n",
       "      <td>0.742001</td>\n",
       "    </tr>\n",
       "  </tbody>\n",
       "</table>\n",
       "</div>"
      ],
      "text/plain": [
       "              MF         LR  LINEARSVC        MLP\n",
       "count  12.000000  12.000000  12.000000  12.000000\n",
       "mean    0.634612   0.661030   0.657800   0.676059\n",
       "std     0.075262   0.064994   0.067069   0.055718\n",
       "min     0.506497   0.569825   0.557225   0.594829\n",
       "25%     0.582404   0.597011   0.594100   0.621709\n",
       "50%     0.637360   0.663303   0.660303   0.665781\n",
       "75%     0.698381   0.722631   0.722955   0.733144\n",
       "max     0.740511   0.741181   0.741485   0.742001"
      ]
     },
     "execution_count": 15,
     "metadata": {},
     "output_type": "execute_result"
    }
   ],
   "source": [
    "accuracy_results.T.describe()"
   ]
  },
  {
   "cell_type": "code",
   "execution_count": 16,
   "metadata": {},
   "outputs": [
    {
     "data": {
      "text/html": [
       "<div>\n",
       "<style scoped>\n",
       "    .dataframe tbody tr th:only-of-type {\n",
       "        vertical-align: middle;\n",
       "    }\n",
       "\n",
       "    .dataframe tbody tr th {\n",
       "        vertical-align: top;\n",
       "    }\n",
       "\n",
       "    .dataframe thead th {\n",
       "        text-align: right;\n",
       "    }\n",
       "</style>\n",
       "<table border=\"1\" class=\"dataframe\">\n",
       "  <thead>\n",
       "    <tr style=\"text-align: right;\">\n",
       "      <th></th>\n",
       "      <th>MF</th>\n",
       "      <th>LR</th>\n",
       "      <th>LINEARSVC</th>\n",
       "      <th>MLP</th>\n",
       "    </tr>\n",
       "  </thead>\n",
       "  <tbody>\n",
       "    <tr>\n",
       "      <td>count</td>\n",
       "      <td>12.000000</td>\n",
       "      <td>12.000000</td>\n",
       "      <td>12.000000</td>\n",
       "      <td>12.000000</td>\n",
       "    </tr>\n",
       "    <tr>\n",
       "      <td>mean</td>\n",
       "      <td>0.193517</td>\n",
       "      <td>0.293543</td>\n",
       "      <td>0.279119</td>\n",
       "      <td>0.396637</td>\n",
       "    </tr>\n",
       "    <tr>\n",
       "      <td>std</td>\n",
       "      <td>0.014236</td>\n",
       "      <td>0.032342</td>\n",
       "      <td>0.028727</td>\n",
       "      <td>0.042134</td>\n",
       "    </tr>\n",
       "    <tr>\n",
       "      <td>min</td>\n",
       "      <td>0.168104</td>\n",
       "      <td>0.235435</td>\n",
       "      <td>0.226925</td>\n",
       "      <td>0.335712</td>\n",
       "    </tr>\n",
       "    <tr>\n",
       "      <td>25%</td>\n",
       "      <td>0.184010</td>\n",
       "      <td>0.271508</td>\n",
       "      <td>0.260985</td>\n",
       "      <td>0.370630</td>\n",
       "    </tr>\n",
       "    <tr>\n",
       "      <td>50%</td>\n",
       "      <td>0.194617</td>\n",
       "      <td>0.295180</td>\n",
       "      <td>0.279352</td>\n",
       "      <td>0.390305</td>\n",
       "    </tr>\n",
       "    <tr>\n",
       "      <td>75%</td>\n",
       "      <td>0.205593</td>\n",
       "      <td>0.324617</td>\n",
       "      <td>0.300304</td>\n",
       "      <td>0.431842</td>\n",
       "    </tr>\n",
       "    <tr>\n",
       "      <td>max</td>\n",
       "      <td>0.212728</td>\n",
       "      <td>0.330965</td>\n",
       "      <td>0.317672</td>\n",
       "      <td>0.466830</td>\n",
       "    </tr>\n",
       "  </tbody>\n",
       "</table>\n",
       "</div>"
      ],
      "text/plain": [
       "              MF         LR  LINEARSVC        MLP\n",
       "count  12.000000  12.000000  12.000000  12.000000\n",
       "mean    0.193517   0.293543   0.279119   0.396637\n",
       "std     0.014236   0.032342   0.028727   0.042134\n",
       "min     0.168104   0.235435   0.226925   0.335712\n",
       "25%     0.184010   0.271508   0.260985   0.370630\n",
       "50%     0.194617   0.295180   0.279352   0.390305\n",
       "75%     0.205593   0.324617   0.300304   0.431842\n",
       "max     0.212728   0.330965   0.317672   0.466830"
      ]
     },
     "execution_count": 16,
     "metadata": {},
     "output_type": "execute_result"
    }
   ],
   "source": [
    "f1score_results.T.describe()"
   ]
  },
  {
   "cell_type": "code",
   "execution_count": null,
   "metadata": {},
   "outputs": [],
   "source": []
  },
  {
   "cell_type": "code",
   "execution_count": null,
   "metadata": {},
   "outputs": [],
   "source": []
  }
 ],
 "metadata": {
  "kernelspec": {
   "display_name": "Python 3",
   "language": "python",
   "name": "python3"
  },
  "language_info": {
   "codemirror_mode": {
    "name": "ipython",
    "version": 3
   },
   "file_extension": ".py",
   "mimetype": "text/x-python",
   "name": "python",
   "nbconvert_exporter": "python",
   "pygments_lexer": "ipython3",
   "version": "3.7.4"
  }
 },
 "nbformat": 4,
 "nbformat_minor": 4
}
